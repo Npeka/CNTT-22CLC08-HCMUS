{
 "cells": [
  {
   "cell_type": "markdown",
   "id": "3b9ca58e",
   "metadata": {},
   "source": [
    "## Lab 2: Logic\n",
    "\n",
    "- Full Name: Nguyễn Phúc Khang\n",
    "- Student ID: 22127180"
   ]
  },
  {
   "cell_type": "markdown",
   "id": "e0e36d4a",
   "metadata": {
    "deletable": false,
    "nbgrader": {
     "cell_type": "markdown",
     "checksum": "9dd2b527e284e0073aa14ca0c4f9cc74",
     "grade": false,
     "grade_id": "Instruction_general",
     "locked": true,
     "schema_version": 3,
     "solution": false,
     "task": false
    }
   },
   "source": [
    "<font color='red'>**Attention:**</font>\n",
    "\n",
    "You can discuss ideas with classmates as well as finding information from the internet, books, etc.; but *this homework must be yours*.\n",
    "\n",
    "**How to submit your homework**\n",
    "\n",
    "Before submitting, re-run the notebook (`Kernel` ->` Restart & Run All`).\n",
    "\n",
    "Create folder named `Student_ID` (for example, if your Student ID is 1234567, you will name the folder as `1234567`) with the following structure:\n",
    "\n",
    "    - File `Lab2.ipynb` that you have completed. \n",
    "    - Folder `models` and file `logic.py`to run the notebook above.\n",
    "    - Folder `Exercise_4` that include your works on exercise 4:\n",
    "        - `Source`: Source code.\n",
    "        - `Report.pdf`: Report file.\n",
    "\n",
    "Compress `Student_ID` folder with <font color='red'>**.zip**</font> format.\n",
    "\n",
    "<font color=red>Please, follow exactly all the requirements and instructions above. </font>\n",
    "\n"
   ]
  },
  {
   "cell_type": "markdown",
   "id": "9fcb7960",
   "metadata": {
    "deletable": false,
    "nbgrader": {
     "cell_type": "markdown",
     "checksum": "bf4308c8d3d546106532b4941e4e5c37",
     "grade": false,
     "grade_id": "Instruction_notation",
     "locked": true,
     "schema_version": 3,
     "solution": false,
     "task": false
    }
   },
   "source": [
    "## 0. How to do your homework\n",
    "\n",
    "For exercises 1-3, you will work directly on this notebook. The sentence ```# YOUR CODE HERE``` will indicate the parts you need to do. Mathematical symbols must be presented with code as in the following symbol list: \n",
    "\n",
    "<center>\n",
    "    \n",
    "|  | Math symbols | Code | \n",
    "|:---|:----:|---|\n",
    "| Constant symbol | hcmus | ```Constant('hcmus')``` (lowercase) | \n",
    "| Variable symbol | $x$ | ```Variable('$x')``` (lowercase) | \n",
    "| Atomic formula | Rain, LocatedIn(hcmus, $x$) | ```Atom('Rain')```, ```Atom('LocatedIn', 'hcmus', '$x')``` <br> (predicate in uppercase, argument in lowercase) |\n",
    "| Negation | $\\neg$ Rain | ```Not(Atom('Rain'))```|\n",
    "| Conjunction | Rain $\\land$ Snow | ```And(Atom('Rain'), Atom('Snow'))```|\n",
    "| Disjunction | Rain $\\lor$ Snow | ```Or(Atom('Rain'), Atom('Snow'))```|\n",
    "| Implication | Rain $\\Rightarrow$ Wet | ```Implies(Atom('Rain'), Atom('Wet'))```|\n",
    "| Equivalence | Rain $\\Leftrightarrow$ Wet | ```Equiv(Atom('Rain'), Atom('Wet'))```|\n",
    "| Existential quantification | $\\exists x$ LocatedIn(hcmus,$x$) | ```Exists('$x', Atom('LocatedIn', 'hcmus', '$x'))```|\n",
    "| Universal quantification | $\\forall x$ MadeOfAtoms($x$) | ```Forall('$x', Atom('MadeOfAtoms', '$x'))```|    \n",
    "| Conjunction with multiple arguments | A $\\land$ B $\\land$ C | ```AndList([Atom('A'), Atom('B'), Atom('C')]) ```|\n",
    "| Disjunction with multiple arguments | A $\\lor$ B $\\lor$ C | ```OrList([Atom('A'), Atom('B'), Atom('C')]) ```|  \n",
    "    \n",
    "</center>"
   ]
  },
  {
   "cell_type": "code",
   "execution_count": 1,
   "id": "ed6794ff",
   "metadata": {
    "deletable": false,
    "nbgrader": {
     "cell_type": "code",
     "checksum": "b72cb3b8c5968fe9194c40a837baad81",
     "grade": false,
     "grade_id": "Grading",
     "locked": true,
     "schema_version": 3,
     "solution": false,
     "task": false
    }
   },
   "outputs": [],
   "source": [
    "import os\n",
    "import gzip\n",
    "import pickle\n",
    "import random\n",
    "\n",
    "from logic import *\n",
    "from typing import Tuple, List\n",
    "\n",
    "def checkFormula(name, predForm, preconditionForm=None):\n",
    "    filename = os.path.join('models', name + '.pklz')\n",
    "    objects, targetModels = pickle.load(gzip.open(filename)) \n",
    "    \n",
    "    # If preconditionion exists, change the formula to\n",
    "    preconditionPredForm = And(preconditionForm, predForm) if preconditionForm else predForm\n",
    "    predModels = performModelChecking([preconditionPredForm], findAll=True, objects=objects)\n",
    "    \n",
    "    def hashkey(model): return tuple(sorted(str(atom) for atom in model))\n",
    "    targetModelSet = set(hashkey(model) for model in targetModels)\n",
    "    predModelSet = set(hashkey(model) for model in predModels)\n",
    "    for model in targetModels:\n",
    "        if hashkey(model) not in predModelSet:\n",
    "            print(\"Your formula (%s) says the following model is FALSE, but it should be TRUE:\" % predForm)\n",
    "            printModel(model)\n",
    "            return\n",
    "    for model in predModels:\n",
    "        if hashkey(model) not in targetModelSet:\n",
    "            print(\"Your formula (%s) says the following model is TRUE, but it should be FALSE:\" % predForm)\n",
    "            printModel(model)\n",
    "            return\n",
    "        \n",
    "    print(f\"You matched the {len(targetModels)} models\")\n",
    "    print(f\"Example model: {rstr(random.choice(targetModels))}\")\n",
    "    return True"
   ]
  },
  {
   "cell_type": "markdown",
   "id": "695285e7",
   "metadata": {
    "deletable": false,
    "nbgrader": {
     "cell_type": "markdown",
     "checksum": "804aa58ae3ce0045ab0bfe895a51a09d",
     "grade": false,
     "grade_id": "PS1",
     "locked": true,
     "schema_version": 3,
     "solution": false,
     "task": false
    }
   },
   "source": [
    "## 1. Prepositional logic (0.75 pts)\n",
    "\n",
    "For example: \"If it 's rain, the road will be wet\":\n",
    "\n",
    "```\n",
    "def rainWet():\n",
    "    Rain = Atom('Rain') \n",
    "    Wet = Atom('Wet')\n",
    "    return Implies(Rain, Wet)\n",
    "```"
   ]
  },
  {
   "cell_type": "markdown",
   "id": "2d14aefd",
   "metadata": {
    "deletable": false,
    "nbgrader": {
     "cell_type": "markdown",
     "checksum": "fff775d48d26d048a0046d299e80327d",
     "grade": false,
     "grade_id": "1a",
     "locked": true,
     "schema_version": 3,
     "solution": false,
     "task": false
    }
   },
   "source": [
    "\n",
    "**1a) If it's summer in California, it will not rain**"
   ]
  },
  {
   "cell_type": "code",
   "execution_count": 2,
   "id": "572df90e",
   "metadata": {
    "deletable": false,
    "nbgrader": {
     "cell_type": "code",
     "checksum": "341f0fcc7089dfa4be5c2ac28f177e05",
     "grade": false,
     "grade_id": "TODO_1a",
     "locked": false,
     "schema_version": 3,
     "solution": true,
     "task": false
    }
   },
   "outputs": [],
   "source": [
    "def formula1a() -> Formula:\n",
    "    # Predicates to use:\n",
    "    Summer = Atom('Summer')               # whether it's summer\n",
    "    California = Atom('California')       # whether we're in California\n",
    "    Rain = Atom('Rain')                   # whether it's raining\n",
    "    \n",
    "    # YOUR CODE HERE\n",
    "    return Implies(And(Summer, California), Not(Rain))\n",
    "    "
   ]
  },
  {
   "cell_type": "code",
   "execution_count": 3,
   "id": "d485db83",
   "metadata": {
    "deletable": false,
    "nbgrader": {
     "cell_type": "code",
     "checksum": "4311711d7df425b84cf069751f5a53b3",
     "grade": true,
     "grade_id": "GRADE_1a",
     "locked": true,
     "points": 0.25,
     "schema_version": 3,
     "solution": false,
     "task": false
    }
   },
   "outputs": [
    {
     "name": "stdout",
     "output_type": "stream",
     "text": [
      "You matched the 7 models\n",
      "Example model: {'Summer'}\n"
     ]
    }
   ],
   "source": [
    "assert checkFormula('1a', formula1a()) == True"
   ]
  },
  {
   "cell_type": "markdown",
   "id": "f56e0a60",
   "metadata": {
    "deletable": false,
    "nbgrader": {
     "cell_type": "markdown",
     "checksum": "6bdc62f0741bf7a4d8adeefb31ac633a",
     "grade": false,
     "grade_id": "1b",
     "locked": true,
     "schema_version": 3,
     "solution": false,
     "task": false
    }
   },
   "source": [
    "**1b) The road is wet if and only if the weather is rainy or the sprinkler is opened**"
   ]
  },
  {
   "cell_type": "code",
   "execution_count": 4,
   "id": "904bb456",
   "metadata": {
    "deletable": false,
    "nbgrader": {
     "cell_type": "code",
     "checksum": "ca647913af511b7c358f04f498f9e40e",
     "grade": false,
     "grade_id": "TODO_1b",
     "locked": false,
     "schema_version": 3,
     "solution": true,
     "task": false
    }
   },
   "outputs": [],
   "source": [
    "def formula1b() -> Formula:\n",
    "    # Predicates to use:\n",
    "    Rain = Atom('Rain')              # whether it is raining\n",
    "    Wet = Atom('Wet')                # whether it it wet\n",
    "    Sprinklers = Atom('Sprinklers')  # whether the sprinklers are on\n",
    "    \n",
    "    # YOUR CODE HERE\n",
    "    return Equiv(Wet, Or(Rain, Sprinklers))\n",
    "    "
   ]
  },
  {
   "cell_type": "code",
   "execution_count": 5,
   "id": "61b4c97f",
   "metadata": {
    "deletable": false,
    "nbgrader": {
     "cell_type": "code",
     "checksum": "b1cffbb8239b90dbdce5a7f3552016ea",
     "grade": true,
     "grade_id": "GRADE_1b",
     "locked": true,
     "points": 0.25,
     "schema_version": 3,
     "solution": false,
     "task": false
    }
   },
   "outputs": [
    {
     "name": "stdout",
     "output_type": "stream",
     "text": [
      "You matched the 4 models\n",
      "Example model: {'Rain', 'Wet'}\n"
     ]
    }
   ],
   "source": [
    "assert checkFormula('1b', formula1b()) == True"
   ]
  },
  {
   "cell_type": "markdown",
   "id": "a14d3185",
   "metadata": {
    "deletable": false,
    "nbgrader": {
     "cell_type": "markdown",
     "checksum": "452e5862978da9157cb2c728b3eea70b",
     "grade": false,
     "grade_id": "1c",
     "locked": true,
     "schema_version": 3,
     "solution": false,
     "task": false
    }
   },
   "source": [
    "**1c) Day or night**"
   ]
  },
  {
   "cell_type": "code",
   "execution_count": 6,
   "id": "a9c81336",
   "metadata": {
    "deletable": false,
    "nbgrader": {
     "cell_type": "code",
     "checksum": "f583d7154c33bcf32eb914f84a5cc6e1",
     "grade": false,
     "grade_id": "TODO_1c",
     "locked": false,
     "schema_version": 3,
     "solution": true,
     "task": false
    }
   },
   "outputs": [],
   "source": [
    "def formula1c() -> Formula:\n",
    "    # Predicates to use:\n",
    "    Day = Atom('Day')     # whether it's day\n",
    "    Night = Atom('Night') # whether it's night\n",
    "    \n",
    "    # YOUR CODE HERE\n",
    "    return And(Or(Day, Night), Not(And(Day, Night)))\n",
    "    "
   ]
  },
  {
   "cell_type": "code",
   "execution_count": 7,
   "id": "798ba31f",
   "metadata": {
    "deletable": false,
    "nbgrader": {
     "cell_type": "code",
     "checksum": "3bf6adfb29c3b72dde0144f53ba6f9cb",
     "grade": true,
     "grade_id": "GRADE_1c",
     "locked": true,
     "points": 0.25,
     "schema_version": 3,
     "solution": false,
     "task": false
    }
   },
   "outputs": [
    {
     "name": "stdout",
     "output_type": "stream",
     "text": [
      "You matched the 2 models\n",
      "Example model: {'Night'}\n"
     ]
    }
   ],
   "source": [
    "assert checkFormula('1c', formula1c()) == True"
   ]
  },
  {
   "cell_type": "markdown",
   "id": "4ecae94c",
   "metadata": {
    "deletable": false,
    "nbgrader": {
     "cell_type": "markdown",
     "checksum": "1fe5d01ed5b03b7e72688737e515bdd4",
     "grade": false,
     "grade_id": "PS2",
     "locked": true,
     "schema_version": 3,
     "solution": false,
     "task": false
    }
   },
   "source": [
    "## 2. First order logic (2 pts)\n",
    "\n",
    "Formulate statement from natural languages to prepositional logic.\n",
    "\n",
    "For example: \"There is a lighting source that shines.\"\n",
    "\n",
    "```\n",
    "def lightShines():\n",
    "    def Light(x): return Atom('Light', x)\n",
    "    def Shines(x): return Atom('Shines', x)\n",
    "    return Exists('$x', And(Light('$x'), Shines('$x')))\n",
    "```"
   ]
  },
  {
   "cell_type": "markdown",
   "id": "08f15068",
   "metadata": {
    "deletable": false,
    "nbgrader": {
     "cell_type": "markdown",
     "checksum": "18642dd2629e33d648457278aa30d33d",
     "grade": false,
     "grade_id": "2a",
     "locked": true,
     "schema_version": 3,
     "solution": false,
     "task": false
    }
   },
   "source": [
    "**2a) Everybody has mother**"
   ]
  },
  {
   "cell_type": "code",
   "execution_count": 8,
   "id": "bea4b475",
   "metadata": {
    "deletable": false,
    "nbgrader": {
     "cell_type": "code",
     "checksum": "7451f6d57e671ca4c4293f2e3d1e194c",
     "grade": false,
     "grade_id": "TODO_2a",
     "locked": false,
     "schema_version": 3,
     "solution": true,
     "task": false
    }
   },
   "outputs": [],
   "source": [
    "def formula2a() -> Formula:\n",
    "    # Predicates to use:\n",
    "    def Person(x): return Atom('Person', x)        # whether x is a person\n",
    "    def Mother(x, y): return Atom('Mother', x, y)  # whether x's mother is y\n",
    "\n",
    "    # Note: You do NOT have to enforce that the mother is a \"person\"\n",
    "    # YOUR CODE HERE\n",
    "    return Forall('$x', Implies(Person('$x'), Exists('$y', Mother('$x', '$y'))))"
   ]
  },
  {
   "cell_type": "code",
   "execution_count": 9,
   "id": "83e76dce",
   "metadata": {
    "deletable": false,
    "nbgrader": {
     "cell_type": "code",
     "checksum": "adc7e86e7be8436cf8c4066098a41ce8",
     "grade": true,
     "grade_id": "GRADE_2a",
     "locked": true,
     "points": 0.5,
     "schema_version": 3,
     "solution": false,
     "task": false
    }
   },
   "outputs": [
    {
     "name": "stdout",
     "output_type": "stream",
     "text": [
      "You matched the 343 models\n",
      "Example model: {'Person(o1)', 'Mother(o3,o2)', 'Person(o3)', 'Mother(o1,o2)', 'Mother(o2,o3)'}\n"
     ]
    }
   ],
   "source": [
    "formula2a_precondition = AntiReflexive('Mother')\n",
    "assert checkFormula('2a', formula2a(), formula2a_precondition) == True"
   ]
  },
  {
   "cell_type": "markdown",
   "id": "0fe90e14",
   "metadata": {
    "deletable": false,
    "nbgrader": {
     "cell_type": "markdown",
     "checksum": "57f5a4b14426c5cdaf1d7d24822add74",
     "grade": false,
     "grade_id": "2b",
     "locked": true,
     "schema_version": 3,
     "solution": false,
     "task": false
    }
   },
   "source": [
    "**2b) At least one person does not have any child**"
   ]
  },
  {
   "cell_type": "code",
   "execution_count": 10,
   "id": "b31c9859",
   "metadata": {
    "deletable": false,
    "nbgrader": {
     "cell_type": "code",
     "checksum": "3dc7608b1d6412a46021be2e4f394289",
     "grade": false,
     "grade_id": "TODO_2b",
     "locked": false,
     "schema_version": 3,
     "solution": true,
     "task": false
    }
   },
   "outputs": [],
   "source": [
    "def formula2b() -> Formula:\n",
    "    # Predicates to use:\n",
    "    def Person(x): return Atom('Person', x)        # whether x is a person\n",
    "    def Child(x, y): return Atom('Child', x, y)    # whether x has a child y\n",
    "\n",
    "    # Note: You do NOT have to enforce that the child is a \"person\"\n",
    "    # YOUR CODE HERE\n",
    "    return Exists('$x', And(Person('$x'), Not(Exists('$y', Child('$x', '$y')))))\n",
    "    "
   ]
  },
  {
   "cell_type": "code",
   "execution_count": 11,
   "id": "3ddbfdd8",
   "metadata": {
    "deletable": false,
    "nbgrader": {
     "cell_type": "code",
     "checksum": "9e849710524293f2620ea5c21102fb00",
     "grade": true,
     "grade_id": "GRADE_2b",
     "locked": true,
     "points": 0.5,
     "schema_version": 3,
     "solution": false,
     "task": false
    }
   },
   "outputs": [
    {
     "name": "stdout",
     "output_type": "stream",
     "text": [
      "You matched the 169 models\n",
      "Example model: {'Person(o1)', 'Child(o1,o2)', 'Child(o2,o3)', 'Person(o3)'}\n"
     ]
    }
   ],
   "source": [
    "formula2b_precondition = AntiReflexive('Child')\n",
    "assert checkFormula('2b', formula2b(), formula2b_precondition) == True"
   ]
  },
  {
   "cell_type": "markdown",
   "id": "87d6d0b5",
   "metadata": {
    "deletable": false,
    "nbgrader": {
     "cell_type": "markdown",
     "checksum": "b28327140fa723d5ca78c16e65defa4a",
     "grade": false,
     "grade_id": "2c",
     "locked": true,
     "schema_version": 3,
     "solution": false,
     "task": false
    }
   },
   "source": [
    "**2c) Create definition for Daughter by Female and Child**"
   ]
  },
  {
   "cell_type": "markdown",
   "id": "2cdfc2f9",
   "metadata": {
    "deletable": false,
    "nbgrader": {
     "cell_type": "markdown",
     "checksum": "4e2fa63ec9cfa6e436de42adefcfce17",
     "grade": false,
     "grade_id": "example2c2d",
     "locked": true,
     "schema_version": 3,
     "solution": false,
     "task": false
    }
   },
   "source": [
    "Examples:\n",
    "\n",
    "```\n",
    "# Defnition of Parent by Child\n",
    "def parentChild():\n",
    "    def Parent(x, y): return Atom('Parent', x, y)  # whether x has a parent y\n",
    "    def Child(x, y): return Atom('Child', x, y)    # whether x has a child y\n",
    "    return Forall('$x', Forall('$y', Equiv(Parent('$x', '$y'), Child('$y', '$x'))))\n",
    "```"
   ]
  },
  {
   "cell_type": "code",
   "execution_count": 12,
   "id": "fa48d896",
   "metadata": {
    "deletable": false,
    "nbgrader": {
     "cell_type": "code",
     "checksum": "c859bfe231a29b4f6883679e7fad9678",
     "grade": false,
     "grade_id": "TODO_2c",
     "locked": false,
     "schema_version": 3,
     "solution": true,
     "task": false
    }
   },
   "outputs": [],
   "source": [
    "def formula2c() -> Formula:\n",
    "    # Predicates to use:\n",
    "    def Female(x): return Atom('Female', x)            # whether x is female\n",
    "    def Child(x, y): return Atom('Child', x, y)        # whether x has a child y\n",
    "    def Daughter(x, y): return Atom('Daughter', x, y)  # whether x has a daughter y\n",
    "    \n",
    "    # YOUR CODE HERE\n",
    "    return Forall('$x', Forall('$y', Equiv(Daughter('$x', '$y'), And(Female('$y'), Child('$x', '$y')))))"
   ]
  },
  {
   "cell_type": "code",
   "execution_count": 13,
   "id": "58f56810",
   "metadata": {
    "deletable": false,
    "nbgrader": {
     "cell_type": "code",
     "checksum": "2d4c21dd318cf78ac21a08ca7a9a4eec",
     "grade": true,
     "grade_id": "GRADE_2c",
     "locked": true,
     "points": 0.5,
     "schema_version": 3,
     "solution": false,
     "task": false
    }
   },
   "outputs": [
    {
     "name": "stdout",
     "output_type": "stream",
     "text": [
      "You matched the 512 models\n",
      "Example model: {'Daughter(o3,o1)', 'Child(o3,o1)', 'Child(o2,o3)', 'Female(o1)', 'Child(o1,o3)', 'Child(o3,o2)'}\n"
     ]
    }
   ],
   "source": [
    "formula2c_precondition = AntiReflexive('Child')\n",
    "assert checkFormula('2c', formula2c(), formula2c_precondition) == True"
   ]
  },
  {
   "cell_type": "markdown",
   "id": "bdc51a69",
   "metadata": {},
   "source": [
    "**2d) Create definition for Grandmother by Female and Parent**"
   ]
  },
  {
   "cell_type": "code",
   "execution_count": 14,
   "id": "8190f985",
   "metadata": {
    "deletable": false,
    "nbgrader": {
     "cell_type": "code",
     "checksum": "916d494d505771f7b7b067ad71b9db24",
     "grade": false,
     "grade_id": "TODO_2d",
     "locked": false,
     "schema_version": 3,
     "solution": true,
     "task": false
    }
   },
   "outputs": [],
   "source": [
    "# Note: It is ok for a person to be her own parent\n",
    "def formula2d() -> Formula:\n",
    "    # Predicates to use:\n",
    "    def Female(x): return Atom('Female', x)                  # whether x is female\n",
    "    def Parent(x, y): return Atom('Parent', x, y)            # whether x has a parent y\n",
    "    def Grandmother(x, y): return Atom('Grandmother', x, y)  # whether x has a grandmother y\n",
    "\n",
    "    # YOUR CODE HERE\n",
    "    return Forall('$x', Forall('$y', Equiv(\n",
    "        Grandmother('$x', '$y'), \n",
    "        And(Female('$y'), Exists('$z', And(Parent('$x', '$z'), Parent('$z', '$y'))))\n",
    "    )))"
   ]
  },
  {
   "cell_type": "code",
   "execution_count": 15,
   "id": "5fcafa94",
   "metadata": {
    "deletable": false,
    "nbgrader": {
     "cell_type": "code",
     "checksum": "b2887dc2da0c2e45d722694fea3103e9",
     "grade": true,
     "grade_id": "GRADE_2d",
     "locked": true,
     "points": 0.5,
     "schema_version": 3,
     "solution": false,
     "task": false
    }
   },
   "outputs": [
    {
     "name": "stdout",
     "output_type": "stream",
     "text": [
      "You matched the 512 models\n",
      "Example model: {'Grandmother(o2,o1)', 'Parent(o1,o3)', 'Female(o2)', 'Female(o1)', 'Grandmother(o3,o3)', 'Parent(o3,o2)', 'Grandmother(o2,o2)', 'Female(o3)', 'Parent(o3,o1)', 'Grandmother(o1,o2)', 'Grandmother(o1,o1)', 'Parent(o2,o3)'}\n"
     ]
    }
   ],
   "source": [
    "formula2d_precondition = AntiReflexive('Parent')\n",
    "assert checkFormula('2d', formula2d(), formula2d_precondition) == True"
   ]
  },
  {
   "cell_type": "markdown",
   "id": "12241ead",
   "metadata": {
    "deletable": false,
    "nbgrader": {
     "cell_type": "markdown",
     "checksum": "6185bff8ac01a36d9143c31c75ef158b",
     "grade": false,
     "grade_id": "PS3",
     "locked": true,
     "schema_version": 3,
     "solution": false,
     "task": false
    }
   },
   "source": [
    "## 3. Who is the liar? (2.25đ)\n",
    "\n",
    "Using prepositional method for the following problem:\n",
    "\n",
    "A Facebook employee make a serious mistake that crashed the server, people are discussing to find out the one that caused this problem. After a while, four suspects are identified.\n",
    "\n",
    "We have the following information:\n",
    "- John: \"I am not the guy that make the server down!\"\n",
    "- Susan: \"It should be Nicole.\"\n",
    "- Mark: \"No, it was Susan!\"\n",
    "- Nicole: \"Susan is lying, you should not trust her.\"\n",
    "- There is **only 1 person** told the truth.\n",
    "- There is **only 1 person** crashed the server.\n",
    "\n",
    "Finish the ```liar()``` function with 6 formulas for finding the liar!"
   ]
  },
  {
   "cell_type": "code",
   "execution_count": 16,
   "id": "efeb66c0",
   "metadata": {
    "deletable": false,
    "nbgrader": {
     "cell_type": "code",
     "checksum": "b3561f704eab2e11ffbe7591bcbff241",
     "grade": false,
     "grade_id": "TODO_3",
     "locked": false,
     "schema_version": 3,
     "solution": true,
     "task": false
    }
   },
   "outputs": [],
   "source": [
    "# Exercise 3: Liar puzzle\n",
    "\n",
    "# Facts:\n",
    "# 0. John: \"It wasn't me!\"\n",
    "# 1. Susan: \"It was Nicole!\"\n",
    "# 2. Mark: \"No, it was Susan!\"\n",
    "# 3. Nicole: \"Susan's a liar.\"\n",
    "# 4. Exactly one person is telling the truth.\n",
    "# 5. Exactly one person crashed the server.\n",
    "# Query: Who did it?\n",
    "\n",
    "# This function returns a list of 6 formulas corresponding to each of the\n",
    "# above facts. Be sure your formulas are exactly in the order specified. \n",
    "\n",
    "\n",
    "# Hint: For fact 4 & 5, you might want to use the Equals predicate, defined as:\n",
    "# def Equals(x, y): return Atom('Equals', x, y)\n",
    "# This predicate is used to assert that two objects are the same.\n",
    "# In particular, Equals(x,x) = True and Equals(x,y) = False iff x is not equal to y. \n",
    "# It can also be solved in other ways, without the Equals predicate!\n",
    "\n",
    "def liar() -> Tuple[List[Formula], Formula]:\n",
    "    def TellTruth(x): return Atom('TellTruth', x)\n",
    "    def CrashedServer(x): return Atom('CrashedServer', x)\n",
    "    john = Constant('john')\n",
    "    susan = Constant('susan')\n",
    "    nicole = Constant('nicole')\n",
    "    mark = Constant('mark')\n",
    "    formulas = []\n",
    "\n",
    "    # We provide the formula for fact 0 here.\n",
    "    formulas.append(Equiv(TellTruth(john), Not(CrashedServer(john))))\n",
    "    \n",
    "    # You should add 5 formulas, one for each of facts 1-5.\n",
    "    # YOUR CODE HERE\n",
    "    # Fact 1\n",
    "    formulas.append(Equiv(TellTruth(susan), CrashedServer(nicole)))\n",
    "    \n",
    "    # Fact 2\n",
    "    formulas.append(Equiv(TellTruth(mark), CrashedServer(susan)))\n",
    "    \n",
    "    # Fact 3\n",
    "    formulas.append(Equiv(TellTruth(nicole), Not(TellTruth(susan))))\n",
    "    \n",
    "    # Fact 4\n",
    "    formulas.append(Exists('$x', And(TellTruth('$x'), Forall('$y', Or(Equals('$x', '$y'), Not(TellTruth('$y')))))))\n",
    "    \n",
    "    # Fact 5\n",
    "    formulas.append(Exists('$x', And(CrashedServer('$x'), Forall('$y', Or(Equals('$x', '$y'), Not(CrashedServer('$y')))))))\n",
    "    \n",
    "    # Query: Who crashed the server?\n",
    "    query = CrashedServer('$x')\n",
    "    return (formulas, query)"
   ]
  },
  {
   "cell_type": "code",
   "execution_count": 17,
   "id": "5cee3755",
   "metadata": {
    "deletable": false,
    "nbgrader": {
     "cell_type": "code",
     "checksum": "3811a6d65e6c5c3272c9fe2e5fb24697",
     "grade": true,
     "grade_id": "GRADE_3_len",
     "locked": true,
     "points": 0.25,
     "schema_version": 3,
     "solution": false,
     "task": false
    }
   },
   "outputs": [],
   "source": [
    "predForms, predQuery = liar()\n",
    "assert len(predForms) == 6"
   ]
  },
  {
   "cell_type": "code",
   "execution_count": 18,
   "id": "605f217c",
   "metadata": {
    "deletable": false,
    "nbgrader": {
     "cell_type": "code",
     "checksum": "7cbe2ead650d26113b7b7c3ea50979b9",
     "grade": false,
     "grade_id": "GRADE_3_0",
     "locked": true,
     "schema_version": 3,
     "solution": false,
     "task": false
    }
   },
   "outputs": [
    {
     "name": "stdout",
     "output_type": "stream",
     "text": [
      "You matched the 2 models\n",
      "Example model: {'CrashedServer(john)'}\n"
     ]
    }
   ],
   "source": [
    "predForms, predQuery = liar()\n",
    "formula_id = 0\n",
    "assert checkFormula('3a-' + str(formula_id), predForms[formula_id]) == True"
   ]
  },
  {
   "cell_type": "code",
   "execution_count": 19,
   "id": "3a32ff58",
   "metadata": {
    "deletable": false,
    "nbgrader": {
     "cell_type": "code",
     "checksum": "eb9e97fa5e25e41fb4bffa106906b75a",
     "grade": true,
     "grade_id": "GRADE_3_1",
     "locked": true,
     "points": 0.25,
     "schema_version": 3,
     "solution": false,
     "task": false
    }
   },
   "outputs": [
    {
     "name": "stdout",
     "output_type": "stream",
     "text": [
      "You matched the 2 models\n",
      "Example model: set()\n"
     ]
    }
   ],
   "source": [
    "predForms, predQuery = liar()\n",
    "formula_id = 1\n",
    "assert checkFormula('3a-' + str(formula_id), predForms[formula_id]) == True"
   ]
  },
  {
   "cell_type": "code",
   "execution_count": 20,
   "id": "93187958",
   "metadata": {
    "deletable": false,
    "nbgrader": {
     "cell_type": "code",
     "checksum": "98a1be0fbb3c4644f3f30b742821ff98",
     "grade": true,
     "grade_id": "GRADE_3_2",
     "locked": true,
     "points": 0.25,
     "schema_version": 3,
     "solution": false,
     "task": false
    }
   },
   "outputs": [
    {
     "name": "stdout",
     "output_type": "stream",
     "text": [
      "You matched the 2 models\n",
      "Example model: set()\n"
     ]
    }
   ],
   "source": [
    "predForms, predQuery = liar()\n",
    "formula_id = 2\n",
    "assert checkFormula('3a-' + str(formula_id), predForms[formula_id]) == True"
   ]
  },
  {
   "cell_type": "code",
   "execution_count": 21,
   "id": "a6f241b0",
   "metadata": {
    "deletable": false,
    "nbgrader": {
     "cell_type": "code",
     "checksum": "29b09f6d403db778fbcafded3dbb3acf",
     "grade": true,
     "grade_id": "GRADE_3_3",
     "locked": true,
     "points": 0.25,
     "schema_version": 3,
     "solution": false,
     "task": false
    }
   },
   "outputs": [
    {
     "name": "stdout",
     "output_type": "stream",
     "text": [
      "You matched the 2 models\n",
      "Example model: {'TellTruth(nicole)'}\n"
     ]
    }
   ],
   "source": [
    "predForms, predQuery = liar()\n",
    "formula_id = 3\n",
    "assert checkFormula('3a-' + str(formula_id), predForms[formula_id]) == True"
   ]
  },
  {
   "cell_type": "code",
   "execution_count": 22,
   "id": "92d3c2f3",
   "metadata": {
    "deletable": false,
    "nbgrader": {
     "cell_type": "code",
     "checksum": "0b44305b84a084be8ee24ebc5f4b876c",
     "grade": true,
     "grade_id": "GRADE_3_4",
     "locked": true,
     "points": 0.5,
     "schema_version": 3,
     "solution": false,
     "task": false
    }
   },
   "outputs": [
    {
     "name": "stdout",
     "output_type": "stream",
     "text": [
      "You matched the 4 models\n",
      "Example model: {'TellTruth(mark)'}\n"
     ]
    }
   ],
   "source": [
    "predForms, predQuery = liar()\n",
    "formula_id = 4\n",
    "assert checkFormula('3a-' + str(formula_id), predForms[formula_id]) == True"
   ]
  },
  {
   "cell_type": "code",
   "execution_count": 23,
   "id": "55dac95e",
   "metadata": {
    "deletable": false,
    "nbgrader": {
     "cell_type": "code",
     "checksum": "ab6ee458313f22621b481b6b1f44712b",
     "grade": true,
     "grade_id": "GRADE_3_5",
     "locked": true,
     "points": 0.5,
     "schema_version": 3,
     "solution": false,
     "task": false
    }
   },
   "outputs": [
    {
     "name": "stdout",
     "output_type": "stream",
     "text": [
      "You matched the 4 models\n",
      "Example model: {'CrashedServer(john)'}\n"
     ]
    }
   ],
   "source": [
    "predForms, predQuery = liar()\n",
    "formula_id = 5\n",
    "assert checkFormula('3a-' + str(formula_id), predForms[formula_id]) == True"
   ]
  },
  {
   "cell_type": "code",
   "execution_count": 24,
   "id": "30592891",
   "metadata": {
    "deletable": false,
    "nbgrader": {
     "cell_type": "code",
     "checksum": "acf14d8849298036d2d1f325565a7264",
     "grade": true,
     "grade_id": "GRADE_3_ALL",
     "locked": true,
     "points": 0.25,
     "schema_version": 3,
     "solution": false,
     "task": false
    }
   },
   "outputs": [
    {
     "name": "stdout",
     "output_type": "stream",
     "text": [
      "You matched the 1 models\n",
      "Example model: {'TellTruth(nicole)', 'CrashedServer(john)'}\n"
     ]
    }
   ],
   "source": [
    "predForms, predQuery = liar()\n",
    "assert checkFormula('3a-all', AndList(predForms)) == True"
   ]
  },
  {
   "cell_type": "markdown",
   "id": "551f645f",
   "metadata": {},
   "source": [
    "Please run the cell below to see if you have solved the problem :)"
   ]
  },
  {
   "cell_type": "code",
   "execution_count": 25,
   "id": "943efc78",
   "metadata": {
    "deletable": false,
    "nbgrader": {
     "cell_type": "code",
     "checksum": "a84621f1fdd9eea373219a34e7bc9c74",
     "grade": false,
     "grade_id": "3_RUN_SOLUTION",
     "locked": true,
     "schema_version": 3,
     "solution": false,
     "task": false
    }
   },
   "outputs": [
    {
     "name": "stdout",
     "output_type": "stream",
     "text": [
      "Yes: ['john']\n",
      "Maybe: []\n",
      "No: ['nicole', 'susan', 'mark']\n"
     ]
    }
   ],
   "source": [
    "# Run this cell to solve the puzzle and find out who was the liar!\n",
    "predForms, predQuery = liar()\n",
    "kb = createModelCheckingKB()\n",
    "\n",
    "filename = os.path.join('models', '3a-all.pklz')\n",
    "objects, targetModels = pickle.load(gzip.open(filename))\n",
    "for obj in objects:\n",
    "    kb.tell(Atom('Object', obj))\n",
    "\n",
    "for predForm in predForms:\n",
    "    response = kb.tell(predForm)\n",
    "\n",
    "response = kb.ask(predQuery)\n",
    "showKBResponse(response)"
   ]
  },
  {
   "cell_type": "markdown",
   "id": "840e42a2",
   "metadata": {},
   "source": [
    "## 4. Inference (5 pts)\n",
    "\n",
    "**You will designed this part by your own python scripts. Please do not write to this notebook.**"
   ]
  },
  {
   "cell_type": "markdown",
   "id": "8ad107f6",
   "metadata": {
    "deletable": false,
    "nbgrader": {
     "cell_type": "markdown",
     "checksum": "af883b616fb8ec45e0004d3ae9d6f2f5",
     "grade": false,
     "grade_id": "PS4",
     "locked": true,
     "schema_version": 3,
     "solution": false,
     "task": false
    }
   },
   "source": [
    "Given a Knowledge Base **(KB)** and a statement $\\alpha$, both represented by prepositional logic and change to CNF. Determine if KB entails $\\alpha$ (KB ⊨ $\\alpha$) by resolution.\n",
    "\n",
    "- Your report have at least 5 test cases for demo (test cases should not be too simple). \n",
    "- Write short evaluations about the advantages and disadvantages of resolution method for prepositional logic, propose your own solution for specific problem.\n",
    "\n",
    "**a. Desribe the experiment data.**\n",
    "- **Input data**: **KB** and $\\alpha$ with CNF stored in **input.txt**. This file have the following structure:\n",
    "    - The first line contains $\\alpha$ statement.\n",
    "    - The second line has N – the number of clauses in the KB.\n",
    "    - N following lines are clauses in KB, one line for each clause.\n",
    "    \n",
    "Positive literal is represented by an uppercase character (A-Z). Negative literal is positive literal with minus (‘-‘) before the character.\n",
    "\n",
    "Literals are linked by OR. Between literals and keywords there can be more than one space.\n",
    "\n",
    "- **Output data**: The set of statements that are generated during the whole resolution process and the conclusion clause is stored in **output.txt**. This file must have the following structure:\n",
    "    - The first line contains M1 – the number of generated clauses in first loop. M1 following lines describe those clauses (including empty clause), each line represents a clause. The empty clause is represented by “{}”\n",
    "    - Next loops are also represented as ($M_2$, $M_3$,…, $M_n$ clauses) the first loop. \n",
    "    - The last line is the conclusion clause, which mean if “KB entails $\\alpha$?”. Print YES if KB entails $\\alpha$. NO for the opposite.\n",
    "    - Remove redundant clause (same clauses in same loop, or the loops before).\n",
    "    \n",
    "    \n",
    "- main function must:\n",
    "    - Read the input data and store it in a suitable data structure.\n",
    "    - Call PL-Resolution function for execute resolution algorithm.\n",
    "    - Export the output data with the required format.\n",
    "\n",
    "\n",
    "- Store the semantic information of true and false value in PL-RESOLUTION. Do not forget that we need to negate $\\alpha$.\n",
    "\n",
    "- <font color='red'>Literals in a clause is sorted by alphabetical ordering. </font>\n",
    "- <font color='red'>Infered condition is checked in each loop as when all the new clauses are generated from the current KB.</font>\n",
    "- <font color='red'>Clauses that have A ∨ B ∨ -B format and True value are similar to A ∨ True can be removed. </font>\n"
   ]
  },
  {
   "cell_type": "markdown",
   "id": "2439aa27",
   "metadata": {
    "deletable": false,
    "nbgrader": {
     "cell_type": "markdown",
     "checksum": "2a1433bd71adb92c6f85ce19651d52b8",
     "grade": false,
     "grade_id": "PS4_input",
     "locked": true,
     "schema_version": 3,
     "solution": false,
     "task": false
    }
   },
   "source": [
    "Example: A KB and $\\alpha$ clause in **input.txt**\n",
    "\n",
    "| Input.txt | Output.txt | Notes |\n",
    "| --- | --- | --- |\n",
    "| -A | 3 |  |\n",
    "| 4 | -A | (-A OR B) resolved with (-B)|\n",
    "| -A OR B | B | (-A OR B) resolved with (negative of -A) |\n",
    "| B OR -C | -C | (-C OR B) resolved with (-B) |\n",
    "| A OR -B OR C | 4 |  |\n",
    "| -B | -B OR C | (A OR C OR -B) resolved with (-A) |\n",
    "|  | A OR C | (A OR C OR -B) resolved with (B) |\n",
    "|  | A OR -B| (A OR C OR -B) resolved with (-C) |\n",
    "|  | {}| (-B) resolved with (B) |\n",
    "|  | **YES** | KB entails $\\alpha$ because an empty clause exists in KB. |\n",
    "\n",
    "\n",
    "Another example KB with a different $\\alpha$\n",
    "\n",
    "| Input.txt | Output.txt | Notes |\n",
    "| --- | --- | --- |\n",
    "| A | 2 | KB does NOT entail $\\alpha$ because no new clause is generated and no empty clause is found.|\n",
    "| 4 | -C |  |\n",
    "| -A OR B | -B OR C |  |\n",
    "| -C OR B | 2 |  |\n",
    "| A OR C OR -B | A OR -B |  |\n",
    "| -B | -A OR C |  |\n",
    "|  | 1 |  |\n",
    "|  | A OR -C |  |\n",
    "|  | **0** |  |\n",
    "|  | NO |  |\n",
    "\n",
    "\n",
    "\n",
    "\n",
    "\n"
   ]
  },
  {
   "cell_type": "markdown",
   "id": "4d252686",
   "metadata": {
    "deletable": false,
    "nbgrader": {
     "cell_type": "markdown",
     "checksum": "5c1df22dc7f3822ece65c86fca30af9b",
     "grade": false,
     "grade_id": "GRADE_PS4",
     "locked": true,
     "schema_version": 3,
     "solution": false,
     "task": false
    }
   },
   "source": [
    "**b. Evaluations**\n",
    "\n",
    "| **No.** | **Description** | **Ratio** |\n",
    "| --- | --- | --- |\n",
    "| 1 | Read input data and store in suitable data structure | 0.5 |\n",
    "| 2 | Implementation of resolution method  | 1.0 |\n",
    "| 3 | Inference process and results | 2.5 |\n",
    "| 5 | Testcases, report, evaluations,  | 1.0 |"
   ]
  },
  {
   "cell_type": "markdown",
   "id": "254811c5",
   "metadata": {},
   "source": [
    "The end."
   ]
  }
 ],
 "metadata": {
  "kernelspec": {
   "display_name": "Python 3 (ipykernel)",
   "language": "python",
   "name": "python3"
  },
  "language_info": {
   "codemirror_mode": {
    "name": "ipython",
    "version": 3
   },
   "file_extension": ".py",
   "mimetype": "text/x-python",
   "name": "python",
   "nbconvert_exporter": "python",
   "pygments_lexer": "ipython3",
   "version": "3.12.3"
  }
 },
 "nbformat": 4,
 "nbformat_minor": 5
}
