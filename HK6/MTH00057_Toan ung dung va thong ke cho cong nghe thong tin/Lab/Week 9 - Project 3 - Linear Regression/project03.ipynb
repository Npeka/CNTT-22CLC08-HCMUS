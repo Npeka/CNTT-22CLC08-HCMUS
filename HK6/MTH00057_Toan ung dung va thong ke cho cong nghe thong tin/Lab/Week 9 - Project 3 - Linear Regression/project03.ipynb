{
 "cells": [
  {
   "cell_type": "markdown",
   "metadata": {},
   "source": [
    "# <center>Đồ án 3: Linear Regression</center>"
   ]
  },
  {
   "cell_type": "markdown",
   "metadata": {},
   "source": [
    "## Mục lục\n",
    "\n",
    "1. [Nội dung đồ án](#c1)\n",
    "    - [Mô tả dữ liệu](#c11)\n",
    "    - [Yêu cầu](#c12)\n",
    "2. [Quy định nộp bài](#c2)\n",
    "3. [Quy định chấm bài](#c3)"
   ]
  },
  {
   "cell_type": "markdown",
   "metadata": {},
   "source": [
    "## Nội dung đồ án <a class=\"anchor\" id=\"c1\"></a>"
   ]
  },
  {
   "cell_type": "markdown",
   "metadata": {},
   "source": [
    "Mục tiêu của đồ án là tìm hiểu các yếu tố ảnh hưởng đến thành tích học tập của sinh viên (Academic Student Performance Index). Các yếu tố ảnh hưởng có thể là số giờ học tập/nghiên cứu, hoạt động ngoại khóa, số giờ ngủ, số bài kiểm tra mẫu đã luyện tập..."
   ]
  },
  {
   "cell_type": "markdown",
   "metadata": {},
   "source": [
    "### Mô tả dữ liệu <a class=\"anchor\" id=\"c11\"></a>"
   ]
  },
  {
   "cell_type": "markdown",
   "metadata": {},
   "source": [
    "#### Dữ liệu Thành tích sinh viên (Student Performance)"
   ]
  },
  {
   "cell_type": "markdown",
   "metadata": {},
   "source": [
    "Bộ dữ liệu có 10000 dòng và 6 cột. Ý nghĩa và kiểu dữ liệu của từng cột được thể hiện ở bảng sau:\n",
    "\n",
    "| **STT** |          **Thuộc tính**          |                                                                       **Mô tả**                                                                      | **Kiểu dữ liệu** |\n",
    "|---------|----------------------------------|------------------------------------------------------------------------------------------------------------------------------------------------------|------------------|\n",
    "|    1    | Hours Studied                    | Tổng số giờ học của mỗi sinh viên                                                                                                                    |      Integer     |\n",
    "|    2    | Previous Scores                  | Điểm số học sinh đạt được trong các bài kiểm tra trước đó                                                                                            |      Integer     |\n",
    "|    3    | Extracurricular Activities       | Sinh viên có tham gia hoạt động ngoại khóa không (Có hoặc Không)                                                                                     |      Boolean     |\n",
    "|    4    | Sleep Hours                      | Số giờ ngủ trung bình mỗi ngày của sinh viên                                                                                                         |      Integer     |\n",
    "|    5    | Sample Question Papers Practiced | Số bài kiểm tra mẫu mà học sinh đã luyện tập                                                                                                         |      Integer     |\n",
    "|    6    | Performance Index                | Thước đó thành tích tổng thể cho mỗi sinh viên. Chỉ số thể hiện thành tích học tập, nằm trong đoạn [10, 100]. Chỉ số này tỉ lệ thuận với thành tích. |       Float      |\n",
    "\n",
    "Reference: [Student Performance](https://www.kaggle.com/datasets/nikhil7280/student-performance-multiple-linear-regression).\n",
    "\n"
   ]
  },
  {
   "cell_type": "markdown",
   "metadata": {},
   "source": [
    "#### Dữ liệu sử dụng cho đồ án"
   ]
  },
  {
   "cell_type": "markdown",
   "metadata": {},
   "source": [
    "Trong đồ án này, dữ liệu trên đã được thực hiện tiền xử lý chuyển đổi kiểu dữ liệu cho thuộc tính `Extracurricular Activities`.\n",
    "\n",
    "Sau khi tiền xử lý, bộ dữ liệu được chia ngẫu nhiên thành 2 tập với tỉ lệ 9:1. Trong đó, 9 phần cho tập huấn luyện, 1 phần cho tập kiểm tra.\n",
    "\n",
    "Sinh viên được cung cấp 2 tập tin:\n",
    "- `train.csv`: Chứa 9000 mẫu dùng để huấn luyện mô hình.\n",
    "- `test.csv`: Chứa 1000 mẫu dùng để kiểm tra mô hình.\n",
    "\n",
    "Đoạn mã nguồn sau để thể hiện 5 mẫu dữ liệu đầu tiên trong tập `train.csv`."
   ]
  },
  {
   "cell_type": "code",
   "execution_count": 1,
   "metadata": {},
   "outputs": [
    {
     "data": {
      "text/html": [
       "<div>\n",
       "<style scoped>\n",
       "    .dataframe tbody tr th:only-of-type {\n",
       "        vertical-align: middle;\n",
       "    }\n",
       "\n",
       "    .dataframe tbody tr th {\n",
       "        vertical-align: top;\n",
       "    }\n",
       "\n",
       "    .dataframe thead th {\n",
       "        text-align: right;\n",
       "    }\n",
       "</style>\n",
       "<table border=\"1\" class=\"dataframe\">\n",
       "  <thead>\n",
       "    <tr style=\"text-align: right;\">\n",
       "      <th></th>\n",
       "      <th>Hours Studied</th>\n",
       "      <th>Previous Scores</th>\n",
       "      <th>Extracurricular Activities</th>\n",
       "      <th>Sleep Hours</th>\n",
       "      <th>Sample Question Papers Practiced</th>\n",
       "      <th>Performance Index</th>\n",
       "    </tr>\n",
       "  </thead>\n",
       "  <tbody>\n",
       "    <tr>\n",
       "      <th>0</th>\n",
       "      <td>7</td>\n",
       "      <td>77</td>\n",
       "      <td>0</td>\n",
       "      <td>5</td>\n",
       "      <td>2</td>\n",
       "      <td>69.0</td>\n",
       "    </tr>\n",
       "    <tr>\n",
       "      <th>1</th>\n",
       "      <td>8</td>\n",
       "      <td>90</td>\n",
       "      <td>1</td>\n",
       "      <td>4</td>\n",
       "      <td>1</td>\n",
       "      <td>84.0</td>\n",
       "    </tr>\n",
       "    <tr>\n",
       "      <th>2</th>\n",
       "      <td>9</td>\n",
       "      <td>83</td>\n",
       "      <td>1</td>\n",
       "      <td>6</td>\n",
       "      <td>3</td>\n",
       "      <td>82.0</td>\n",
       "    </tr>\n",
       "    <tr>\n",
       "      <th>3</th>\n",
       "      <td>4</td>\n",
       "      <td>52</td>\n",
       "      <td>0</td>\n",
       "      <td>9</td>\n",
       "      <td>5</td>\n",
       "      <td>38.0</td>\n",
       "    </tr>\n",
       "    <tr>\n",
       "      <th>4</th>\n",
       "      <td>4</td>\n",
       "      <td>82</td>\n",
       "      <td>1</td>\n",
       "      <td>8</td>\n",
       "      <td>6</td>\n",
       "      <td>68.0</td>\n",
       "    </tr>\n",
       "  </tbody>\n",
       "</table>\n",
       "</div>"
      ],
      "text/plain": [
       "   Hours Studied  Previous Scores  Extracurricular Activities  Sleep Hours  \\\n",
       "0              7               77                           0            5   \n",
       "1              8               90                           1            4   \n",
       "2              9               83                           1            6   \n",
       "3              4               52                           0            9   \n",
       "4              4               82                           1            8   \n",
       "\n",
       "   Sample Question Papers Practiced  Performance Index  \n",
       "0                                 2               69.0  \n",
       "1                                 1               84.0  \n",
       "2                                 3               82.0  \n",
       "3                                 5               38.0  \n",
       "4                                 6               68.0  "
      ]
     },
     "execution_count": 1,
     "metadata": {},
     "output_type": "execute_result"
    }
   ],
   "source": [
    "import pandas as pd\n",
    "train = pd.read_csv('train.csv')\n",
    "train.head()"
   ]
  },
  {
   "cell_type": "markdown",
   "metadata": {},
   "source": [
    "### Yêu cầu <a class=\"anchor\" id=\"c12\"></a>"
   ]
  },
  {
   "cell_type": "markdown",
   "metadata": {},
   "source": [
    "Trong đồ án này, sinh viên được yêu cầu thực hiện:\n",
    "\n",
    "1. Thực hiện phân tích khám phá dữ liệu (1 điểm)\n",
    "- Sử dụng thống kê để phân tích dữ các đặc trưng.\n",
    "- Sử dụng biểu đồ (bar, box, heatmap, scatter, line...) để phân tích/quan sát các đặc trưng.\n",
    "- ...\n",
    "\n",
    "2. Xây dựng mô hình *dự đoán chỉ số thành tích* **sử dụng mô hình hồi quy tuyến tính** (6 điểm)\n",
    "- Yêu cầu 2a: Sử dụng toàn bộ 5 đặc trưng (2 điểm)\n",
    "\t- Huấn luyện 1 lần duy nhất cho 5 đặc trưng trên cho toàn bộ tập huấn luyện (`train.csv`).\n",
    "\t- Thể hiện công thức cho mô hình hồi quy (tính $y\\ (\\text{Student Performance})$ theo 5 đặc trưng).\n",
    "\t- Báo cáo **1 kết quả trên tập kiểm tra (`test.csv`)** cho mô hình vừa huấn luyện được.\n",
    "\n",
    "- Yêu cầu 2b: Xây dựng mô hình sử dụng duy nhất 1 đặc trưng, tìm mô hình cho kết quả tốt nhất (2 điểm)\n",
    "\t- Thử nghiệm trên toàn bộ (5) đặc trưng đề bài cung cấp.\n",
    "\t- Yêu cầu sử dụng **k-fold Cross Validation** (**k** tối thiểu là 5) để tìm ra đặc trưng tốt nhất.\n",
    "\t- Báo cáo **5 kết quả tương ứng cho 5 mô hình** từ k-fold Cross Validation (lấy trung bình).\n",
    "\t\n",
    "\t<center>\n",
    "\n",
    "\t| STT | Mô hình với 1 đặc trưng \t\t| MAE  |\n",
    "\t|:---:|:-------------------------------:|:----:|\n",
    "\t|  1  | Hours Studied\t\t\t        |      |\n",
    "\t|  2  | Previous Scores\t\t\t        |      |\n",
    "\t|  3  | Extracurricular Activities\t\t|\t   |\n",
    "\t|  4  | Sleep Hours\t\t\t\t\t\t|\t   |\n",
    "\t|  5  | Sample Question Papers Practiced|      |\n",
    "\n",
    "\t</center>\n",
    "\n",
    "\t- Thể hiện công thức cho mô hình hồi quy theo đặc trưng tốt nhất (tính $y$ theo đặc trưng tốt nhất tìm được).\n",
    "    - Báo cáo **1 kết quả trên tập kiểm tra (`test.csv`)** cho mô hình tốt nhất tìm được.\n",
    "\n",
    "- Yêu cầu 2c: Sinh viên tự xây dựng/thiết kế mô hình, tìm mô hình cho kết quả tốt nhất (2 điểm)\n",
    "\t- Xây dựng `m` mô hình khác nhau (tối thiểu 3), đồng thời khác mô hình ở 2a và 2b.\n",
    "\t\t- Mô hình có thể là sự kết hợp của 2 hoặc nhiều đặc trưng.\n",
    "\t\t- Mô hình có thể sử dụng đặc trưng đã được chuẩn hóa hoặc biến đổi (bình phương, lập phương...).\n",
    "\t\t- Mô hình có thể sử dụng đặc trưng được tạo ra từ 2 hoặc nhiều đặc trưng khác nhau (cộng 2 đặc trưng, nhân 2 đặc trưng...).\n",
    "\t\t- ...\n",
    "\t- Gợi ý: Dựa vào phần phân tích khám phá dữ liệu đã thực hiện bên trên.\n",
    "\n",
    "\t- Yêu cầu **sử dụng phương pháp k-fold Cross Validation** (**k** tối thiểu là 5) để tìm ra mô hình tốt nhất trong `m` mô hình mà sinh viên xây dựng/thiết kế.\n",
    "\n",
    "\t- Báo cáo **`m` kết quả tương ứng cho `m` mô hình** từ k-fold Cross Validation (lấy trung bình).\n",
    "\n",
    "\t<center>\n",
    "\n",
    "\t| STT |           Mô hình          | MAE  |\n",
    "\t|:---:|:--------------------------:|:----:|\n",
    "\t|  1  | Sử dụng 2 đặc trưng (a, b) |      |\n",
    "\t| ... | ...                        |      |\n",
    "\t|  m  | ...                        |      |\n",
    "\n",
    "\t</center>\n",
    "\n",
    "\t- Thể hiện công thức cho mô hình hồi quy tốt nhất mà sinh viên tìm được.\n",
    "\t- Báo cáo **1 kết quả trên tập kiểm tra (`test.csv`)** cho mô hình tốt nhất tìm được.\n",
    "\n",
    "\n",
    "- <ins>Lưu ý:</ins>\n",
    "    - Kết quả báo cáo là độ đo MAE.\n",
    "\t- Ở câu 2c, mô hình sử dụng 2 đặc trưng trên đặc trưng (a, b) và (b, c) cũng **chỉ được tính là một mô hình** sử dụng 2 đặc trưng. Tương tự cho các số lượng đặc trưng khác.\n",
    "    \n",
    "\n",
    "3. Báo cáo về kết quả, đánh giá và nhận xét các mô hình đã xây dựng (3 điểm)\n",
    "    - Báo cáo cần có thông tin cá nhân (họ và tên, MSSV), số trang và tài liệu tham khảo (cần chỉ định cụ thể tài liệu được sử dụng cho phần nào trong bài làm).\n",
    "    - Liệt kê TẤT CẢ thư viện đã sử dụng và lý do sử dụng chúng.\n",
    "\t- Liệt kê TẤT CẢ hàm đã sử dụng/đã cài đặt và mô tả các hàm đó (kể cả các hàm từ thư viện). Các hàm tính toán từ NumPy có thể được lược bỏ.\n",
    "    - Báo cáo và nhận xét kết quả từ TOÀN BỘ các mô hình xây dựng được (có $1 + (5 + 1) + (m + 1)$ kết quả)\n",
    "    - Với yêu cầu 2b và 2c: Giải thích hoặc nêu giả thuyết (có logic) cho mô hình đạt kết quả tốt nhất ở mỗi yêu cầu.\n",
    "\t- Với yêu cầu 2c: Trình bày toàn bộ quá trình và lý do trích chọn/thiết kế các đặc trưng cho `m` mô hình mà sinh viên xây dựng. Sinh viên có thể sử dụng các thuật toán/phương pháp có sẵn nhưng phải trình bày lại phương pháp đó trong báo cáo."
   ]
  },
  {
   "cell_type": "markdown",
   "metadata": {},
   "source": [
    "## Quy định nộp bài <a class=\"anchor\" id=\"c2\"></a>"
   ]
  },
  {
   "cell_type": "markdown",
   "metadata": {},
   "source": [
    "- Thực hiện toàn bộ bài làm trên 1 tập tin Jupyter Notebook `MSSV.ipynb` đính kèm.\n",
    "    - Tập tin Jupyter Notebook cần cung cấp các thông tin cá nhân: họ và tên, MSSV, lớp.\n",
    "    - Giữ nguyên tổ chức bài làm (thứ tự các phần, câu) trong tập tin `MSSV.ipynb` đính kèm. Tự ý xóa hoặc thay đổi tổ chức sẽ bị trừ điểm.\n",
    "    - Bổ sung bài làm vào các phần để trống chỉ định (sinh viên có thể tạo thêm code cell hoặc Markdown cell nếu cần)\n",
    "\n",
    "- Sinh viên nộp tập tin `MSSV.zip` được nén từ thư mục MSSV chứa các tập tin sau:\n",
    "    1. Báo cáo toàn bộ bài làm: `MSSV.pdf`\n",
    "    2. Mã nguồn: `MSSV.ipynb`\n",
    "    \n",
    "- Ví dụ minh họa cây thư mục bài nộp sau khi giải nén tập tin `MSSV.zip` như sau:\n",
    "    ```\n",
    "    MSSV\n",
    "    ├── MSSV.pdf\n",
    "    └── MSSV.ipynb\n",
    "    ```"
   ]
  },
  {
   "cell_type": "markdown",
   "metadata": {},
   "source": [
    "## Quy định chấm bài <a class=\"anchor\" id=\"c3\"></a>"
   ]
  },
  {
   "cell_type": "markdown",
   "metadata": {},
   "source": [
    "Đây là đồ án chiếm 10%.\n",
    "\n",
    "Những trường hợp sau đây sẽ bị 0 điểm toàn bộ đồ án:\n",
    "- Nộp sai quy định.\n",
    "- Không có tập tin mã nguồn (`MSSV.ipynb`).\n",
    "- Không có tập tin báo cáo (`MSSV.pdf`).\n",
    "- Thực thi mã nguồn báo lỗi.\n",
    "\n",
    "<font style=\"color:red\">**LƯU Ý: SAO CHÉP BÀI LÀM CỦA NHAU VÀ BÀI LÀM TRÊN INTERNET SẼ BỊ 0 ĐIỂM TOÀN BỘ PHẦN THỰC HÀNH**</font>"
   ]
  }
 ],
 "metadata": {
  "kernelspec": {
   "display_name": "Python 3.8.5 ('base')",
   "language": "python",
   "name": "python3"
  },
  "language_info": {
   "codemirror_mode": {
    "name": "ipython",
    "version": 3
   },
   "file_extension": ".py",
   "mimetype": "text/x-python",
   "name": "python",
   "nbconvert_exporter": "python",
   "pygments_lexer": "ipython3",
   "version": "3.12.3"
  },
  "vscode": {
   "interpreter": {
    "hash": "15af99fd1a1a3f0a3416ea421564e792a8676a13670c2eed127d89ab0518a27b"
   }
  }
 },
 "nbformat": 4,
 "nbformat_minor": 2
}
