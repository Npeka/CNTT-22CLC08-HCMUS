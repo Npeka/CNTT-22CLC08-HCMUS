{
 "cells": [
  {
   "cell_type": "code",
   "execution_count": 6,
   "metadata": {},
   "outputs": [],
   "source": [
    "import math\n",
    "from fractions import Fraction\n",
    "import numpy as np\n",
    "import scipy.linalg\n",
    "import sympy as sp\n",
    "\n",
    "sp.init_printing()\n",
    "\n",
    "x = [\"1/2\", \"2/3\"]\n",
    "def to_fraction(x):\n",
    "    if isinstance(x, list):\n",
    "        return [to_fraction(e) for e in x] \n",
    "    else:\n",
    "        return Fraction(x) \n",
    "    \n",
    "def myprint(x, sep=\" \"):\n",
    "    if isinstance(x, list) and x:\n",
    "        if isinstance(x[0], list): # list of list\n",
    "            m, n = len(x), len(x[0])\n",
    "            widths = [max(len(str(ai[j])) for ai in x) for j in range(n)]\n",
    "            rows = [sep.join(format(str(ai[j]), f\">{widths[j]}\") for j in range(n)) for ai in x]\n",
    "            print(\"[\" + \"\\n\".join((\" [\" if i > 0 else \"[\") + rows[i] + \"]\" for i in range(m)) + \"]\")\n",
    "        else: # list\n",
    "            print(\"[\" + sep.join(str(e) for e in x) + \"]\")\n",
    "    else:\n",
    "        print(x)"
   ]
  },
  {
   "cell_type": "code",
   "execution_count": 7,
   "metadata": {},
   "outputs": [
    {
     "name": "stdout",
     "output_type": "stream",
     "text": [
      "Use list:  [1, 2, 3, 4, 5]\n",
      "Use numpy:  [1 2 3 4 5]\n",
      "The fisrt element in vector (list):  1\n",
      "The last element in vector (numpy):  5\n",
      "Subvector (3 first elements) in vector (list):  [1, 2, 3]\n",
      "Subvector (3 last elements) in vector (NumPy):  [3 4 5]\n"
     ]
    }
   ],
   "source": [
    "v_list = [1, 2, 3, 4, 5]\n",
    "v_numpy = np.array([1, 2, 3, 4, 5])\n",
    "\n",
    "print('Use list: ', v_list)\n",
    "print('Use numpy: ', v_numpy)\n",
    "\n",
    "print('The fisrt element in vector (list): ', v_list[0])\n",
    "print('The last element in vector (numpy): ', v_numpy[-1])\n",
    "\n",
    "print('Subvector (3 first elements) in vector (list): ', v_list[:3])  \n",
    "print('Subvector (3 last elements) in vector (NumPy): ', v_numpy[-3:])"
   ]
  },
  {
   "cell_type": "code",
   "execution_count": 8,
   "metadata": {},
   "outputs": [
    {
     "data": {
      "image/png": "[encoded data removed]",
      "text/latex": [
       "$\\displaystyle \\left( 5,\\right)$"
      ],
      "text/plain": [
       "(5,)"
      ]
     },
     "execution_count": 8,
     "metadata": {},
     "output_type": "execute_result"
    }
   ],
   "source": [
    "v_numpy.shape"
   ]
  },
  {
   "cell_type": "code",
   "execution_count": 9,
   "metadata": {},
   "outputs": [
    {
     "name": "stdout",
     "output_type": "stream",
     "text": [
      "Row vector: \n",
      " [[1 2 3 4 5]] \n",
      "Shape:  (1, 5)\n",
      "\n",
      "Column vector: \n",
      " [[1]\n",
      " [2]\n",
      " [3]\n",
      " [4]\n",
      " [5]] \n",
      "Shape:  (5, 1)\n"
     ]
    }
   ],
   "source": [
    "v_row = v_numpy.reshape(1, len(v_numpy))\n",
    "v_col = v_numpy.reshape(len(v_numpy), 1)\n",
    "\n",
    "print('Row vector: \\n', v_row, '\\nShape: ', v_row.shape)\n",
    "print('\\nColumn vector: \\n', v_col, '\\nShape: ', v_col.shape)"
   ]
  },
  {
   "cell_type": "code",
   "execution_count": 17,
   "metadata": {},
   "outputs": [
    {
     "data": {
      "text/latex": [
       "$\\displaystyle \\left[\\begin{matrix}1\\\\2\\\\3\\\\4\\\\5\\end{matrix}\\right]$"
      ],
      "text/plain": [
       "⎡1⎤\n",
       "⎢ ⎥\n",
       "⎢2⎥\n",
       "⎢ ⎥\n",
       "⎢3⎥\n",
       "⎢ ⎥\n",
       "⎢4⎥\n",
       "⎢ ⎥\n",
       "⎣5⎦"
      ]
     },
     "execution_count": 17,
     "metadata": {},
     "output_type": "execute_result"
    }
   ],
   "source": [
    "from sympy.matrices import Matrix\n",
    "Matrix([1, 2, 3, 4, 5])"
   ]
  },
  {
   "cell_type": "code",
   "execution_count": 14,
   "metadata": {},
   "outputs": [],
   "source": [
    "def is_zero(x):\n",
    "    # Check if a real number x is equal to 0 (or is very close to 0)\n",
    "    return math.isclose(x, 0, abs_tol=1e-09)\n",
    "    # |a - b| <= 0.00000000001 --> a ~ b\n",
    "\n",
    "def create_zero_vector(n):\n",
    "    return [0] * n\n",
    "    # return [0 for _ in range(n)]\n",
    "\n",
    "def is_zero_vector(v):\n",
    "    return all(is_zero(vi) for vi in v)\n",
    "    # If we ignore is_zero function, we can use this code:\n",
    "    # return v == [0]*len(v)"
   ]
  },
  {
   "cell_type": "code",
   "execution_count": 15,
   "metadata": {},
   "outputs": [
    {
     "name": "stdout",
     "output_type": "stream",
     "text": [
      "[0, 0, 0, 0, 0]\n",
      "Is zero vector:  True\n"
     ]
    }
   ],
   "source": [
    "v = create_zero_vector(5)\n",
    "\n",
    "print(v)\n",
    "\n",
    "print('Is zero vector: ', is_zero_vector(v))"
   ]
  },
  {
   "cell_type": "code",
   "execution_count": 17,
   "metadata": {},
   "outputs": [
    {
     "name": "stdout",
     "output_type": "stream",
     "text": [
      "v == 0 False\n",
      "v == create_zero_vector(5) True\n"
     ]
    }
   ],
   "source": [
    "print('v == 0', v == 0)\n",
    "print('v == create_zero_vector(5)', v == create_zero_vector(5))"
   ]
  },
  {
   "cell_type": "code",
   "execution_count": 18,
   "metadata": {},
   "outputs": [
    {
     "name": "stdout",
     "output_type": "stream",
     "text": [
      "[0. 0. 0.]\n",
      "Is zero vector (using built-in function),  True\n",
      "Is zero vector (using our implemented function):  True\n"
     ]
    }
   ],
   "source": [
    "v = np.zeros(3)\n",
    "\n",
    "print(v)\n",
    "\n",
    "print('Is zero vector (using built-in function), ', all(v == 0))        \n",
    "print('Is zero vector (using our implemented function): ', is_zero_vector(v))"
   ]
  },
  {
   "cell_type": "code",
   "execution_count": 10,
   "metadata": {},
   "outputs": [
    {
     "name": "stdout",
     "output_type": "stream",
     "text": [
      "Matrix([[0], [0], [0]])\n",
      "Is zero vector True\n"
     ]
    }
   ],
   "source": [
    "v = sp.zeros(3, 1)\n",
    "\n",
    "print(v)\n",
    "print('Is zero vector', v.is_zero_matrix)"
   ]
  },
  {
   "cell_type": "code",
   "execution_count": 23,
   "metadata": {},
   "outputs": [],
   "source": [
    "def add_vector(v, w):\n",
    "    return [vi + wi for vi, wi in zip(v, w)]\n",
    "\n",
    "def sub_vector(v, w):\n",
    "    return [vi - wi for vi, wi in zip(v, w)]\n",
    "\n",
    "def mul_scalar_vector(alpha, v):\n",
    "    return [alpha*vi for vi in v]\n",
    "\n",
    "def equal_vector(v, w):\n",
    "    return is_zero_vector(sub_vector(v, w))"
   ]
  },
  {
   "cell_type": "code",
   "execution_count": 24,
   "metadata": {},
   "outputs": [
    {
     "name": "stdout",
     "output_type": "stream",
     "text": [
      "Sum of 2 vectors:  [5, -1, 3]\n",
      "Subtraction of 2 vectors:  [-3, -5, 1]\n",
      "Multiplication of vector with scalar (alpha = 2):  [2, -6, 4]\n",
      "Is (v - w) == (v + (-1w))?:  True\n"
     ]
    }
   ],
   "source": [
    "v = [1, -3, 2]\n",
    "w = [4, 2, 1]\n",
    "\n",
    "print('Sum of 2 vectors: ', add_vector(v, w))\n",
    "print('Subtraction of 2 vectors: ', sub_vector(v, w))\n",
    "print('Multiplication of vector with scalar (alpha = 2): ', mul_scalar_vector(2, v))\n",
    "print('Is (v - w) == (v + (-1w))?: ', equal_vector(sub_vector(v, w), add_vector(v, mul_scalar_vector(-1, w))))"
   ]
  },
  {
   "cell_type": "code",
   "execution_count": 14,
   "metadata": {},
   "outputs": [
    {
     "name": "stdout",
     "output_type": "stream",
     "text": [
      "Sum of 2 vectors:  [5 7 5]\n",
      "Subtraction of 2 vectors:  [-3 -3  1]\n",
      "Multiplication of vector with scalar (alpha = 2):  [2 4 6]\n",
      "Is (v - w) == (v + (-1w))?:  True\n"
     ]
    }
   ],
   "source": [
    "v = np.array(v)\n",
    "w = np.array(w)\n",
    "\n",
    "print('Sum of 2 vectors: ', v + w)\n",
    "print('Subtraction of 2 vectors: ', v - w)\n",
    "print('Multiplication of vector with scalar (alpha = 2): ', 2*v)\n",
    "print('Is (v - w) == (v + (-1w))?: ', all((v - w) == (v + (-1*w))))"
   ]
  },
  {
   "cell_type": "code",
   "execution_count": 18,
   "metadata": {},
   "outputs": [
    {
     "name": "stdout",
     "output_type": "stream",
     "text": [
      "Sum of 2 vectors:  Matrix([[5], [7], [5]])\n",
      "Subtraction of 2 vectors:  Matrix([[-3], [-3], [1]])\n",
      "Multiplication of vector with scalar (alpha = 2):  Matrix([[2], [4], [6]])\n",
      "Is (v - w) == (v + (-1w))?:  True\n"
     ]
    }
   ],
   "source": [
    "v = Matrix(v)\n",
    "w = Matrix(w)\n",
    "\n",
    "print('Sum of 2 vectors: ', v + w)\n",
    "print('Subtraction of 2 vectors: ', v - w)\n",
    "print('Multiplication of vector with scalar (alpha = 2): ', 2*v)\n",
    "print('Is (v - w) == (v + (-1w))?: ', v - w == v + (-1*w)) "
   ]
  },
  {
   "cell_type": "code",
   "execution_count": 5,
   "metadata": {},
   "outputs": [
    {
     "name": "stdout",
     "output_type": "stream",
     "text": [
      "Linear combination:\n"
     ]
    },
    {
     "ename": "NameError",
     "evalue": "name 'w' is not defined",
     "output_type": "error",
     "traceback": [
      "\u001b[1;31m---------------------------------------------------------------------------\u001b[0m",
      "\u001b[1;31mNameError\u001b[0m                                 Traceback (most recent call last)",
      "Cell \u001b[1;32mIn[5], line 2\u001b[0m\n\u001b[0;32m      1\u001b[0m \u001b[38;5;28mprint\u001b[39m(\u001b[38;5;124m'\u001b[39m\u001b[38;5;124mLinear combination:\u001b[39m\u001b[38;5;124m'\u001b[39m)\n\u001b[1;32m----> 2\u001b[0m sp\u001b[38;5;241m.\u001b[39msymbols(\u001b[38;5;124m'\u001b[39m\u001b[38;5;124malpha\u001b[39m\u001b[38;5;124m'\u001b[39m)\u001b[38;5;241m*\u001b[39mv \u001b[38;5;241m+\u001b[39m sp\u001b[38;5;241m.\u001b[39msymbols(\u001b[38;5;124m'\u001b[39m\u001b[38;5;124mbeta\u001b[39m\u001b[38;5;124m'\u001b[39m)\u001b[38;5;241m*\u001b[39m\u001b[43mw\u001b[49m\n",
      "\u001b[1;31mNameError\u001b[0m: name 'w' is not defined"
     ]
    }
   ],
   "source": [
    "print('Linear combination:')\n",
    "sp.symbols('alpha')*v + sp.symbols('beta')*w"
   ]
  },
  {
   "cell_type": "code",
   "execution_count": 12,
   "metadata": {},
   "outputs": [],
   "source": [
    "def calc_inner_product(v, w):\n",
    "    return sum(vi*wi for vi, wi in zip(v, w))"
   ]
  },
  {
   "cell_type": "code",
   "execution_count": 11,
   "metadata": {},
   "outputs": [
    {
     "ename": "NameError",
     "evalue": "name 'calc_inner_product' is not defined",
     "output_type": "error",
     "traceback": [
      "\u001b[1;31m---------------------------------------------------------------------------\u001b[0m",
      "\u001b[1;31mNameError\u001b[0m                                 Traceback (most recent call last)",
      "Cell \u001b[1;32mIn[11], line 4\u001b[0m\n\u001b[0;32m      1\u001b[0m v \u001b[38;5;241m=\u001b[39m [\u001b[38;5;241m1\u001b[39m, \u001b[38;5;241m2\u001b[39m, \u001b[38;5;241m3\u001b[39m]\n\u001b[0;32m      2\u001b[0m w \u001b[38;5;241m=\u001b[39m [\u001b[38;5;241m4\u001b[39m, \u001b[38;5;241m5\u001b[39m, \u001b[38;5;241m2\u001b[39m]\n\u001b[1;32m----> 4\u001b[0m \u001b[38;5;28mprint\u001b[39m(\u001b[38;5;124m'\u001b[39m\u001b[38;5;124mInner product of 2 vectors: \u001b[39m\u001b[38;5;124m'\u001b[39m, \u001b[43mcalc_inner_product\u001b[49m(v, w))\n",
      "\u001b[1;31mNameError\u001b[0m: name 'calc_inner_product' is not defined"
     ]
    }
   ],
   "source": [
    "v = [1, 2, 3]\n",
    "w = [4, 5, 2]\n",
    "\n",
    "print('Inner product of 2 vectors: ', calc_inner_product(v, w))"
   ]
  },
  {
   "cell_type": "code",
   "execution_count": 31,
   "metadata": {},
   "outputs": [],
   "source": [
    "def is_orthogonal(v, w):\n",
    "    return is_zero(calc_inner_product(v, w))"
   ]
  },
  {
   "cell_type": "code",
   "execution_count": 32,
   "metadata": {},
   "outputs": [
    {
     "name": "stdout",
     "output_type": "stream",
     "text": [
      "Are [1, -2, 3] and [4, 5, 2] orthogonal:  True\n"
     ]
    }
   ],
   "source": [
    "v = [1, -2, 3]\n",
    "w = [4, 5, 2]\n",
    "\n",
    "print(f'Are {v} and {w} orthogonal: ', is_orthogonal(v, w))"
   ]
  },
  {
   "cell_type": "code",
   "execution_count": 34,
   "metadata": {},
   "outputs": [],
   "source": [
    "def norm_square(v):\n",
    "    return calc_inner_product(v, v)\n",
    "\n",
    "def norm(v):\n",
    "    return sp.sqrt(norm_square(v))"
   ]
  },
  {
   "cell_type": "code",
   "execution_count": 35,
   "metadata": {},
   "outputs": [
    {
     "name": "stdout",
     "output_type": "stream",
     "text": [
      "Norm of [1, 2, 3]: \n"
     ]
    },
    {
     "data": {
      "image/png": "[encoded data removed]",
      "text/latex": [
       "$\\displaystyle \\sqrt{14}$"
      ],
      "text/plain": [
       "√14"
      ]
     },
     "execution_count": 35,
     "metadata": {},
     "output_type": "execute_result"
    }
   ],
   "source": [
    "v = [1, 2, 3]\n",
    "\n",
    "print(f'Norm of {v}: ')\n",
    "norm(v)"
   ]
  },
  {
   "cell_type": "code",
   "execution_count": 36,
   "metadata": {},
   "outputs": [],
   "source": [
    "def is_one(v):\n",
    "    return math.isclose(v, 1)\n",
    "\n",
    "def is_unit_vector(v):\n",
    "    return is_one(norm(v))"
   ]
  },
  {
   "cell_type": "code",
   "execution_count": 37,
   "metadata": {},
   "outputs": [
    {
     "name": "stdout",
     "output_type": "stream",
     "text": [
      "Is [1, 0, 0] a unit vector:  True\n"
     ]
    }
   ],
   "source": [
    "one = [1, 0, 0]\n",
    "\n",
    "print(f'Is {one} a unit vector: ', is_unit_vector(one))"
   ]
  },
  {
   "cell_type": "code",
   "execution_count": 38,
   "metadata": {},
   "outputs": [],
   "source": [
    "def distance(v, w):\n",
    "    return norm(sub_vector(v, w))"
   ]
  },
  {
   "cell_type": "code",
   "execution_count": 39,
   "metadata": {},
   "outputs": [
    {
     "name": "stdout",
     "output_type": "stream",
     "text": [
      "Distance between [1, -2, 3] and [4, 5, 2]:\n"
     ]
    },
    {
     "data": {
      "image/png": "[encoded data removed]",
      "text/latex": [
       "$\\displaystyle \\sqrt{59}$"
      ],
      "text/plain": [
       "√59"
      ]
     },
     "execution_count": 39,
     "metadata": {},
     "output_type": "execute_result"
    }
   ],
   "source": [
    "v = [1, -2, 3]\n",
    "w = [4, 5, 2]\n",
    "\n",
    "print(f'Distance between {v} and {w}:')\n",
    "distance(v, w)"
   ]
  },
  {
   "cell_type": "code",
   "execution_count": 40,
   "metadata": {},
   "outputs": [
    {
     "name": "stdout",
     "output_type": "stream",
     "text": [
      "Before transposing:\n",
      "[[1 2 3]\n",
      " [4 5 6]]\n",
      "\n",
      "After transposing:\n",
      "[[1 4]\n",
      " [2 5]\n",
      " [3 6]]\n"
     ]
    }
   ],
   "source": [
    "def transpose(A):\n",
    "    m, n = len(A), len(A[0]) # The size of matrix\n",
    "    return [[A[i][j] for i in range(m)] for j in range(n)]\n",
    "\n",
    "A = [[1, 2, 3], \n",
    "     [4, 5, 6]]\n",
    "\n",
    "print('Before transposing:')\n",
    "myprint(A)\n",
    "\n",
    "print('\\nAfter transposing:')\n",
    "myprint(transpose(A))"
   ]
  },
  {
   "cell_type": "code",
   "execution_count": 41,
   "metadata": {},
   "outputs": [
    {
     "name": "stdout",
     "output_type": "stream",
     "text": [
      "Before transposing:\n",
      "[[1 2 3]\n",
      " [4 5 6]]\n",
      "\n",
      "After transposing:\n",
      "[[1 4]\n",
      " [2 5]\n",
      " [3 6]]\n"
     ]
    }
   ],
   "source": [
    "A = np.array(A)\n",
    "\n",
    "print('Before transposing:')\n",
    "print(A)\n",
    "\n",
    "print('\\nAfter transposing:')\n",
    "print(A.T)"
   ]
  },
  {
   "cell_type": "code",
   "execution_count": 43,
   "metadata": {},
   "outputs": [
    {
     "data": {
      "image/png": "[encoded data removed]",
      "text/latex": [
       "$\\displaystyle \\left[\\begin{matrix}a_{11} & a_{12} & a_{13}\\\\a_{21} & a_{22} & a_{23}\\end{matrix}\\right]$"
      ],
      "text/plain": [
       "⎡a₁₁  a₁₂  a₁₃⎤\n",
       "⎢             ⎥\n",
       "⎣a₂₁  a₂₂  a₂₃⎦"
      ]
     },
     "execution_count": 43,
     "metadata": {},
     "output_type": "execute_result"
    }
   ],
   "source": [
    "A = Matrix([[sp.symbols(f\"a_{i}{j}\") for j in range(1, 4)] for i in range(1, 3)])\n",
    "A"
   ]
  },
  {
   "cell_type": "code",
   "execution_count": 44,
   "metadata": {},
   "outputs": [
    {
     "data": {
      "image/png": "[encoded data removed]",
      "text/latex": [
       "$\\displaystyle \\left[\\begin{matrix}a_{11} & a_{21}\\\\a_{12} & a_{22}\\\\a_{13} & a_{23}\\end{matrix}\\right]$"
      ],
      "text/plain": [
       "⎡a₁₁  a₂₁⎤\n",
       "⎢        ⎥\n",
       "⎢a₁₂  a₂₂⎥\n",
       "⎢        ⎥\n",
       "⎣a₁₃  a₂₃⎦"
      ]
     },
     "execution_count": 44,
     "metadata": {},
     "output_type": "execute_result"
    }
   ],
   "source": [
    "A.T"
   ]
  },
  {
   "cell_type": "code",
   "execution_count": 45,
   "metadata": {},
   "outputs": [],
   "source": [
    "# The inner product of a row vector and a vector v\n",
    "def mul_matrix_vector(A, v):\n",
    "    return [calc_inner_product(ai, v) for ai in A]\n",
    "\n",
    "# The linear combination of a column vector and a vector v\n",
    "def mul_matrix_vector2(A, v):\n",
    "    w = [0 for _ in range(len(v))]\n",
    "    for j in range(len(v)):\n",
    "        w = add_vector(w, mul_scalar_vector(v[j], [ai[j] for ai in A]))\n",
    "    return w"
   ]
  },
  {
   "cell_type": "code",
   "execution_count": 46,
   "metadata": {},
   "outputs": [
    {
     "name": "stdout",
     "output_type": "stream",
     "text": [
      "Matrix A: \n",
      "[[1 2 3]\n",
      " [4 5 6]]\n",
      "Vector v: \n",
      "[1 1 1]\n",
      "Matrix-vector product Av, where A's rows are dot-producted with vector v\n",
      "[6, 15]\n",
      "Matrix-vector product Av, where A's columns are linearly combined with the corresponding coefficients from vector v\n",
      "[6, 15]\n"
     ]
    }
   ],
   "source": [
    "A = [[1, 2, 3], [4, 5, 6]]\n",
    "v = [1, 1, 1]\n",
    "\n",
    "print('Matrix A: ')\n",
    "myprint(A)\n",
    "print('Vector v: ')\n",
    "myprint(v)\n",
    "\n",
    "print('Matrix-vector product Av, where A\\'s rows are dot-producted with vector v') \n",
    "print(mul_matrix_vector(A, v))\n",
    "\n",
    "print('Matrix-vector product Av, where A\\'s columns are linearly combined with the corresponding coefficients from vector v')\n",
    "print(mul_matrix_vector2(A, v))"
   ]
  },
  {
   "cell_type": "code",
   "execution_count": 47,
   "metadata": {},
   "outputs": [
    {
     "name": "stdout",
     "output_type": "stream",
     "text": [
      "Matrix A: \n",
      "[[1 2 3]\n",
      " [4 5 6]]\n",
      "Vector v: \n",
      "[1 1 1]\n",
      "Av:  [ 6 15]\n"
     ]
    }
   ],
   "source": [
    "A = np.array(A)\n",
    "v = np.array(v)\n",
    "\n",
    "print('Matrix A: ')\n",
    "print(A)\n",
    "print('Vector v: ')\n",
    "print(v)\n",
    "\n",
    "print('Av: ', np.matmul(A, v))"
   ]
  },
  {
   "cell_type": "code",
   "execution_count": 48,
   "metadata": {},
   "outputs": [
    {
     "data": {
      "image/png": "[encoded data removed]",
      "text/latex": [
       "$\\displaystyle \\left[\\begin{matrix}\\alpha_{1} + 2 \\alpha_{2} + 3 \\alpha_{3}\\\\4 \\alpha_{1} + 5 \\alpha_{2} + 6 \\alpha_{3}\\end{matrix}\\right]$"
      ],
      "text/plain": [
       "⎡ α₁ + 2⋅α₂ + 3⋅α₃ ⎤\n",
       "⎢                  ⎥\n",
       "⎣4⋅α₁ + 5⋅α₂ + 6⋅α₃⎦"
      ]
     },
     "execution_count": 48,
     "metadata": {},
     "output_type": "execute_result"
    }
   ],
   "source": [
    "A = Matrix(A)\n",
    "v = Matrix(sp.symbols(\"alpha_1 alpha_2 alpha_3\"))\n",
    "\n",
    "A * v"
   ]
  },
  {
   "cell_type": "code",
   "execution_count": 62,
   "metadata": {},
   "outputs": [],
   "source": [
    "def row_switch(A, i, k):\n",
    "    'di <-> dk'\n",
    "    A[i], A[k] = A[k], A[i]\n",
    "    \n",
    "def row_mul(A, i, alpha):\n",
    "    'di = anpha*di'\n",
    "    A[i] = mul_scalar_vector(alpha, A[i])\n",
    "\n",
    "def row_add(A, i, k, alpha):\n",
    "    'di = di + anpha*dk'\n",
    "    A[i] = add_vector(A[i], mul_scalar_vector(alpha, A[k]))\n",
    "    \n",
    "def is_echelon(A): # Check if a matrix is echelon\n",
    "    m, n = len(A), len(A[0])\n",
    "    row, col = 0, 0\n",
    "\n",
    "    while row < m:\n",
    "        while col < n and all(is_zero(A[i][col]) for i in range(row, m)):\n",
    "            col += 1\n",
    "\n",
    "        if col == n:\n",
    "            return True # it's a echolon\n",
    "        \n",
    "        if row > 0 and A[row][col] == 0:\n",
    "            return False\n",
    "        \n",
    "        row += 1\n",
    "    \n",
    "    return True"
   ]
  },
  {
   "cell_type": "code",
   "execution_count": 56,
   "metadata": {},
   "outputs": [
    {
     "name": "stdout",
     "output_type": "stream",
     "text": [
      "Original matrix:\n",
      "[[1 2 3]\n",
      " [4 5 6]]\n",
      "\n",
      "Update 0th row: d0 = 4d0\n",
      "[[4 8 12]\n",
      " [4 5  6]]\n",
      "\n",
      "Switch 0th and 1st rows: d0 <-> d1\n",
      "[[4 5  6]\n",
      " [4 8 12]]\n",
      "\n",
      "Update 1st row: d1 = d1 - d0\n",
      "[[4 5 6]\n",
      " [0 3 6]]\n"
     ]
    }
   ],
   "source": [
    "A = [[1, 2, 3],\n",
    "     [4, 5, 6]]\n",
    "\n",
    "print('Original matrix:')\n",
    "myprint(A)\n",
    "\n",
    "print('\\nUpdate 0th row: d0 = 4d0')\n",
    "row_mul(A, 0, 4)     # d0 = 4d0\n",
    "myprint(A)\n",
    "\n",
    "print('\\nSwitch 0th and 1st rows: d0 <-> d1')\n",
    "row_switch(A, 0, 1)  # d0 <-> d1\n",
    "myprint(A)\n",
    "\n",
    "print('\\nUpdate 1st row: d1 = d1 - d0')\n",
    "row_add(A, 1, 0, -1) # d1 = d1 - d0\n",
    "myprint(A)"
   ]
  },
  {
   "cell_type": "code",
   "execution_count": 65,
   "metadata": {},
   "outputs": [
    {
     "name": "stdout",
     "output_type": "stream",
     "text": [
      "Is B an echelon matrix:  True\n"
     ]
    }
   ],
   "source": [
    "B = [[1, 2, 3],\n",
    "     [0, 2, 6],\n",
    "     [0, 0, 0]]\n",
    "\n",
    "print('Is B an echelon matrix: ', is_echelon(B))"
   ]
  },
  {
   "cell_type": "code",
   "execution_count": 66,
   "metadata": {},
   "outputs": [
    {
     "name": "stdout",
     "output_type": "stream",
     "text": [
      "True\n"
     ]
    }
   ],
   "source": [
    "A = Matrix(A)\n",
    "\n",
    "print(A.is_echelon)"
   ]
  },
  {
   "cell_type": "code",
   "execution_count": 67,
   "metadata": {},
   "outputs": [
    {
     "data": {
      "image/png": "[encoded data removed]",
      "text/latex": [
       "$\\displaystyle \\left[\\begin{matrix}1 & 2 & 3\\\\4 & 5 & 6\\end{matrix}\\right]$"
      ],
      "text/plain": [
       "⎡1  2  3⎤\n",
       "⎢       ⎥\n",
       "⎣4  5  6⎦"
      ]
     },
     "execution_count": 67,
     "metadata": {},
     "output_type": "execute_result"
    }
   ],
   "source": [
    "A = A.elementary_row_op('n->n+km', row=1, row2=0, k=1)     # d1 = d1 + d0\n",
    "A = A.elementary_row_op('n<->m', row1=1, row2=0)           # d1 <-> d0\n",
    "A = A.elementary_row_op('n->kn', row=0, k=Fraction('1/4')) # d0 = d0/4\n",
    "\n",
    "A"
   ]
  },
  {
   "cell_type": "code",
   "execution_count": 68,
   "metadata": {},
   "outputs": [
    {
     "name": "stdout",
     "output_type": "stream",
     "text": [
      "[1 6]\n",
      "Is Ax == b?:  True\n"
     ]
    }
   ],
   "source": [
    "A = [[1, -1],\n",
    "     [2, 1]]\n",
    "b = [1, 6]\n",
    "\n",
    "x = to_fraction(['7/3', '4/3'])\n",
    "\n",
    "Ax = mul_matrix_vector(A, x)\n",
    "myprint(Ax)\n",
    "\n",
    "print('Is Ax == b?: ', equal_vector(Ax, b))"
   ]
  },
  {
   "cell_type": "code",
   "execution_count": 69,
   "metadata": {},
   "outputs": [
    {
     "name": "stdout",
     "output_type": "stream",
     "text": [
      "[[1 -1 1]\n",
      " [2  1 6]]\n"
     ]
    }
   ],
   "source": [
    "def augmented_matrix(A, b):\n",
    "    'Create the augmented matrix [A|b]'\n",
    "    return [ai + [bi] for ai, bi in zip(A, b)] # Quick question: What does this code mean: ai + [bi]?\n",
    "\n",
    "A_bar = augmented_matrix(A, b)\n",
    "\n",
    "myprint(A_bar)"
   ]
  },
  {
   "cell_type": "code",
   "execution_count": 70,
   "metadata": {},
   "outputs": [],
   "source": [
    "def Gauss_elimination(A, leading1=True):\n",
    "    R = A.copy()\n",
    "    m, n = len(R), len(R[0]) # The size of matrix\n",
    "    \n",
    "    row = col = 0\n",
    "    \n",
    "    while row < m:\n",
    "        # Step 1\n",
    "        while col < n and all(is_zero(R[i][col]) for i in range(row, m)):\n",
    "            col += 1\n",
    "        if col == n: # it's echelon\n",
    "            break\n",
    "        \n",
    "        # Step 2 (select the first row that contains non-zero coefficient)\n",
    "        pivot_row = row + [not is_zero(R[i][col]) for i in range(row, m)].index(True)\n",
    "        row_switch(R, row, pivot_row)\n",
    "        \n",
    "        # Step 3 (leading 1 option)\n",
    "        if leading1:\n",
    "            row_mul(R, row, 1/R[row][col])\n",
    "            \n",
    "        # Step 4\n",
    "        for i in range(row + 1, m):\n",
    "            multiplier = R[i][col]/R[row][col]\n",
    "            row_add(R, i, row, -multiplier) # di = di - drow * multiplier\n",
    "    \n",
    "        # Step 5\n",
    "        row += 1\n",
    "        \n",
    "    return R"
   ]
  },
  {
   "cell_type": "code",
   "execution_count": 71,
   "metadata": {},
   "outputs": [
    {
     "name": "stdout",
     "output_type": "stream",
     "text": [
      "Matrix before transforming into row echelon form (REF):\n",
      "[[1 3 -2  0 2  0 0]\n",
      " [2 6 -5 -2 4 -3 0]\n",
      " [0 0  5 10 0 15 0]\n",
      " [2 6  0  8 4 18 0]]\n",
      "\n",
      "Matrix after transforming into REF (without leading 1):\n",
      "[[1 3 -2  0 2  0 0]\n",
      " [0 0 -1 -2 0 -3 0]\n",
      " [0 0  0  0 0  6 0]\n",
      " [0 0  0  0 0  0 0]]\n",
      "\n",
      "Matrix after transforming into REF (with leading 1):\n",
      "[[1 3 -2 0 2 0 0]\n",
      " [0 0  1 2 0 3 0]\n",
      " [0 0  0 0 0 1 0]\n",
      " [0 0  0 0 0 0 0]]\n"
     ]
    }
   ],
   "source": [
    "A = [[1, 3, -2,  0, 2,  0, 0],\n",
    "     [2, 6, -5, -2, 4, -3, 0],\n",
    "     [0, 0,  5, 10, 0, 15, 0],\n",
    "     [2, 6,  0,  8, 4, 18, 0]]\n",
    "\n",
    "print('Matrix before transforming into row echelon form (REF):')\n",
    "myprint(A)\n",
    "\n",
    "print('\\nMatrix after transforming into REF (without leading 1):')\n",
    "myprint(Gauss_elimination(to_fraction(A), leading1=False))\n",
    "\n",
    "print('\\nMatrix after transforming into REF (with leading 1):')\n",
    "myprint(Gauss_elimination(to_fraction(A)))"
   ]
  },
  {
   "cell_type": "code",
   "execution_count": 75,
   "metadata": {},
   "outputs": [],
   "source": [
    "def back_substitution(R):\n",
    "    'R is the row echelon form (REF) of the augmented matrix [A|b] of Ax = b'\n",
    "    m, n = len(R), len(R[0]) # The size of matrix R\n",
    "    \n",
    "    # Solution vector\n",
    "    sol = [None for _ in range(n - 1)]\n",
    "    \n",
    "    # Find the first row that contains non-zero values FROM THE BOTTOM\n",
    "    row = m - 1\n",
    "    while row >= 0 and all(is_zero(R[row][j]) for j in range(n)):\n",
    "        row -= 1\n",
    "    \n",
    "    if row >= 0 and [not is_zero(R[row][j]) for j in range(n)].index(True) == n - 1:\n",
    "        return None # Have no solution\n",
    "    \n",
    "    last_pcol = n - 1\n",
    "    while row >= 0:\n",
    "        pcol = [not is_zero(R[row][j]) for j in range(n)].index(True)\n",
    "        for i in range(pcol, last_pcol): # Free variables\n",
    "            sol[i] = sp.symbols(f\"x{i + 1}\")\n",
    "        sol[pcol] = (R[row][n - 1] - sum(R[row][j]*sol[j] for j in range(pcol + 1, n - 1)))/R[row][pcol]\n",
    "        last_pcol = pcol\n",
    "        row -= 1\n",
    "    \n",
    "    # Add free variables from 0 to last_pcol - 1\n",
    "    for i in range(0, last_pcol):\n",
    "        sol[i] = sp.symbols(f\"x{i + 1}\")\n",
    "        \n",
    "    return sol"
   ]
  },
  {
   "cell_type": "code",
   "execution_count": 77,
   "metadata": {},
   "outputs": [
    {
     "name": "stdout",
     "output_type": "stream",
     "text": [
      "[-3*x2 - 4*x4 - 2*x5, x2, -2*x4, x4, x5, 0]\n"
     ]
    }
   ],
   "source": [
    "myprint(back_substitution(Gauss_elimination(to_fraction(A))), sep=\", \")"
   ]
  },
  {
   "cell_type": "code",
   "execution_count": 78,
   "metadata": {},
   "outputs": [
    {
     "name": "stdout",
     "output_type": "stream",
     "text": [
      "[[1 1    2     9]\n",
      " [0 1 -7/2 -17/2]\n",
      " [0 0    1     3]]\n"
     ]
    }
   ],
   "source": [
    "A_bar = [[1, 1,  2, 9],\n",
    "         [2, 4, -3, 1],\n",
    "         [3, 6, -5, 0]]\n",
    "\n",
    "R = Gauss_elimination(to_fraction(A_bar))\n",
    "\n",
    "myprint(R)"
   ]
  },
  {
   "cell_type": "code",
   "execution_count": 79,
   "metadata": {},
   "outputs": [
    {
     "name": "stdout",
     "output_type": "stream",
     "text": [
      "[1, 2, 3]\n"
     ]
    }
   ],
   "source": [
    "sol = back_substitution(R)\n",
    "\n",
    "if not sol:\n",
    "    print('Have no solution')\n",
    "else:\n",
    "    myprint(sol, sep=', ')"
   ]
  },
  {
   "cell_type": "code",
   "execution_count": 80,
   "metadata": {},
   "outputs": [
    {
     "name": "stdout",
     "output_type": "stream",
     "text": [
      "[1. 2. 3.]\n"
     ]
    }
   ],
   "source": [
    "A_bar = np.array(A_bar)\n",
    "\n",
    "print(np.linalg.solve(A_bar[:, :-1], A_bar[:, -1]))"
   ]
  },
  {
   "cell_type": "code",
   "execution_count": 81,
   "metadata": {},
   "outputs": [
    {
     "name": "stdout",
     "output_type": "stream",
     "text": [
      "[[2 4 -10 6  12 28]\n",
      " [0 0  -2 0   7 12]\n",
      " [0 0   0 0 1/2  1]]\n",
      "[[1 2 -5 3    6 14]\n",
      " [0 0  1 0 -7/2 -6]\n",
      " [0 0  0 0    1  2]]\n"
     ]
    }
   ],
   "source": [
    "A_bar = [[0, 0,  -2, 0,  7, 12],\n",
    "         [2, 4, -10, 6, 12, 28],\n",
    "         [2, 4,  -5, 6, -5, -1]]\n",
    "\n",
    "R = Gauss_elimination(to_fraction(A_bar), leading1=False)\n",
    "myprint(R)\n",
    "\n",
    "myprint(Gauss_elimination(to_fraction(A_bar)))"
   ]
  },
  {
   "cell_type": "code",
   "execution_count": 82,
   "metadata": {},
   "outputs": [
    {
     "data": {
      "image/png": "[encoded data removed]",
      "text/latex": [
       "$\\displaystyle \\left[\\begin{matrix}2 & 4 & -10 & 6 & 12 & 28\\\\0 & 0 & -2 & 0 & 7 & 12\\\\0 & 0 & 0 & 0 & -2 & -4\\end{matrix}\\right]$"
      ],
      "text/plain": [
       "⎡2  4  -10  6  12  28⎤\n",
       "⎢                    ⎥\n",
       "⎢0  0  -2   0  7   12⎥\n",
       "⎢                    ⎥\n",
       "⎣0  0   0   0  -2  -4⎦"
      ]
     },
     "execution_count": 82,
     "metadata": {},
     "output_type": "execute_result"
    }
   ],
   "source": [
    "Matrix(A_bar).echelon_form()"
   ]
  },
  {
   "cell_type": "code",
   "execution_count": 83,
   "metadata": {},
   "outputs": [
    {
     "name": "stdout",
     "output_type": "stream",
     "text": [
      "[-2*x2 - 3*x4 + 7, x2, 1, x4, 2]\n"
     ]
    }
   ],
   "source": [
    "sol = back_substitution(R)\n",
    "\n",
    "if not sol:\n",
    "    print('Have no solution')\n",
    "else:\n",
    "    myprint(sol, sep=', ')"
   ]
  },
  {
   "cell_type": "code",
   "execution_count": 85,
   "metadata": {},
   "outputs": [
    {
     "data": {
      "image/png": "[encoded data removed]",
      "text/latex": [
       "$\\displaystyle \\left\\{\\left( - 2 x_{2} - 3 x_{4} + 7, \\  x_{2}, \\  1, \\  x_{4}, \\  2\\right)\\right\\}$"
      ],
      "text/plain": [
       "{(-2⋅x₂ - 3⋅x₄ + 7, x₂, 1, x₄, 2)}"
      ]
     },
     "execution_count": 85,
     "metadata": {},
     "output_type": "execute_result"
    }
   ],
   "source": [
    "sp.linsolve(Matrix(A_bar), [sp.symbols(f\"x_{i}\") for i in range(1, 6)])"
   ]
  },
  {
   "cell_type": "code",
   "execution_count": 86,
   "metadata": {},
   "outputs": [
    {
     "name": "stdout",
     "output_type": "stream",
     "text": [
      "[[1 2  1]\n",
      " [0 1 -1]\n",
      " [0 0  0]]\n"
     ]
    }
   ],
   "source": [
    "v1, v2, v3 = [1, 2, -3], [2, 5, -1], [1, 1, -8]\n",
    "\n",
    "A = transpose([v1, v2, v3])\n",
    "\n",
    "myprint(Gauss_elimination(to_fraction(A)))"
   ]
  },
  {
   "cell_type": "code",
   "execution_count": 87,
   "metadata": {},
   "outputs": [
    {
     "name": "stdout",
     "output_type": "stream",
     "text": [
      "[[ 0.90453403]\n",
      " [-0.30151134]\n",
      " [-0.30151134]]\n"
     ]
    },
    {
     "data": {
      "image/png": "[encoded data removed]",
      "text/latex": [
       "$\\displaystyle \\left[ \\left[\\begin{matrix}-3\\\\1\\\\1\\end{matrix}\\right]\\right]$"
      ],
      "text/plain": [
       "⎡⎡-3⎤⎤\n",
       "⎢⎢  ⎥⎥\n",
       "⎢⎢1 ⎥⎥\n",
       "⎢⎢  ⎥⎥\n",
       "⎣⎣1 ⎦⎦"
      ]
     },
     "execution_count": 87,
     "metadata": {},
     "output_type": "execute_result"
    }
   ],
   "source": [
    "print(scipy.linalg.null_space(A))\n",
    "\n",
    "Matrix(A).nullspace()"
   ]
  },
  {
   "cell_type": "code",
   "execution_count": 88,
   "metadata": {},
   "outputs": [
    {
     "name": "stdout",
     "output_type": "stream",
     "text": [
      "2\n",
      "2\n"
     ]
    }
   ],
   "source": [
    "print(np.linalg.matrix_rank(A))\n",
    "\n",
    "print(Matrix(A).rank())"
   ]
  },
  {
   "cell_type": "code",
   "execution_count": 89,
   "metadata": {},
   "outputs": [
    {
     "name": "stdout",
     "output_type": "stream",
     "text": [
      "[[1 2 1 1]\n",
      " [0 0 1 2]\n",
      " [0 0 0 1]\n",
      " [0 0 0 0]]\n"
     ]
    }
   ],
   "source": [
    "v1, v2, v3, v4 = [1, 2, 1, 1], [3, 6, 5, 7], [4, 8, 6, 8], [8, 16, 12, 20]\n",
    "A = [v1, v2, v3, v4]\n",
    "\n",
    "myprint(Gauss_elimination(to_fraction(A)))"
   ]
  },
  {
   "cell_type": "code",
   "execution_count": 92,
   "metadata": {},
   "outputs": [
    {
     "data": {
      "image/png": "[encoded data removed]",
      "text/latex": [
       "$\\displaystyle \\left[ \\left[\\begin{matrix}1 & 2 & 1 & 1\\end{matrix}\\right], \\  \\left[\\begin{matrix}0 & 0 & 2 & 4\\end{matrix}\\right], \\  \\left[\\begin{matrix}0 & 0 & 0 & 8\\end{matrix}\\right]\\right]$"
      ],
      "text/plain": [
       "[[1  2  1  1], [0  0  2  4], [0  0  0  8]]"
      ]
     },
     "execution_count": 92,
     "metadata": {},
     "output_type": "execute_result"
    }
   ],
   "source": [
    "Matrix(A).rowspace()"
   ]
  },
  {
   "cell_type": "code",
   "execution_count": 93,
   "metadata": {},
   "outputs": [
    {
     "name": "stdout",
     "output_type": "stream",
     "text": [
      "[-17*x3 + 29*x4, 10*x3 - 17*x4, x3, x4]\n"
     ]
    }
   ],
   "source": [
    "A = [[1, 2,  -3,  5],\n",
    "     [1, 3, -13, 22],\n",
    "     [3, 5,   1, -2],\n",
    "     [2, 3,   4, -7]]\n",
    "\n",
    "A_bar = augmented_matrix(A, create_zero_vector(4))\n",
    "myprint(back_substitution(Gauss_elimination(to_fraction(A_bar))), \", \")"
   ]
  },
  {
   "cell_type": "code",
   "execution_count": 94,
   "metadata": {},
   "outputs": [
    {
     "data": {
      "image/png": "[encoded data removed]",
      "text/latex": [
       "$\\displaystyle \\left[ \\left[\\begin{matrix}-17\\\\10\\\\1\\\\0\\end{matrix}\\right], \\  \\left[\\begin{matrix}29\\\\-17\\\\0\\\\1\\end{matrix}\\right]\\right]$"
      ],
      "text/plain": [
       "⎡⎡-17⎤  ⎡29 ⎤⎤\n",
       "⎢⎢   ⎥  ⎢   ⎥⎥\n",
       "⎢⎢10 ⎥  ⎢-17⎥⎥\n",
       "⎢⎢   ⎥, ⎢   ⎥⎥\n",
       "⎢⎢ 1 ⎥  ⎢ 0 ⎥⎥\n",
       "⎢⎢   ⎥  ⎢   ⎥⎥\n",
       "⎣⎣ 0 ⎦  ⎣ 1 ⎦⎦"
      ]
     },
     "execution_count": 94,
     "metadata": {},
     "output_type": "execute_result"
    }
   ],
   "source": [
    "Matrix(A).nullspace()"
   ]
  },
  {
   "cell_type": "code",
   "execution_count": 95,
   "metadata": {},
   "outputs": [],
   "source": [
    "def orthogonal_set(vs):\n",
    "    return all(is_orthogonal(vs[i], vs[j]) for i in range(len(vs)) for j in range(len(vs)) if i != j)"
   ]
  },
  {
   "cell_type": "code",
   "execution_count": 96,
   "metadata": {},
   "outputs": [],
   "source": [
    "def orthonormal_set(vs):\n",
    "    return orthogonal_set(vs) and all(is_unit_vector(vi) for vi in vs)"
   ]
  },
  {
   "cell_type": "code",
   "execution_count": 97,
   "metadata": {},
   "outputs": [],
   "source": [
    "def Gram_Schmidt(vs, normalizing=False):\n",
    "    # Step 1\n",
    "    Q = []\n",
    "    \n",
    "    # Step 2\n",
    "    for vi in vs:\n",
    "        # Step 3\n",
    "        qi = vi\n",
    "        for qj in Q:\n",
    "            qi = sub_vector(qi, mul_scalar_vector(Fraction(calc_inner_product(vi, qj), calc_inner_product(qj, qj)), qj))\n",
    "        \n",
    "        # Step 4\n",
    "        if not is_zero_vector(qi):\n",
    "            Q.append(qi)\n",
    "    \n",
    "    # Step 5\n",
    "    if normalizing:\n",
    "        Q = [mul_scalar_vector(1/norm(qi), qi) for qi in Q]\n",
    "    \n",
    "    return Q"
   ]
  },
  {
   "cell_type": "code",
   "execution_count": 98,
   "metadata": {},
   "outputs": [
    {
     "name": "stdout",
     "output_type": "stream",
     "text": [
      "[[-1 1 -1 1]\n",
      " [ 1 1  1 1]]\n",
      "Not linearly independent!\n"
     ]
    }
   ],
   "source": [
    "v1 = [-1, 1, -1, 1]\n",
    "v2 = [-1, 3, -1, 3]\n",
    "v3 = [0, 2, 0, 2]\n",
    "vs = [v1, v2, v3]\n",
    "\n",
    "Q = Gram_Schmidt(vs)\n",
    "myprint(Q)\n",
    "\n",
    "if len(Q) < len(vs):\n",
    "    print('Not linearly independent!')"
   ]
  },
  {
   "cell_type": "code",
   "execution_count": 99,
   "metadata": {},
   "outputs": [
    {
     "name": "stdout",
     "output_type": "stream",
     "text": [
      "Orthogonal using Gram_Schmidt\n",
      "[[-1/2 1/2 -1/2 1/2]\n",
      " [ 1/2 1/2  1/2 1/2]]\n",
      "\n",
      "Orthogonal using scipy.linalg.orth\n",
      "[[-0.20490834  0.67676626 -0.20490834  0.67676626]\n",
      " [ 0.67676626  0.20490834  0.67676626  0.20490834]]\n",
      "\n",
      "Check orthogonality\n",
      "True True\n"
     ]
    }
   ],
   "source": [
    "Q1 = Gram_Schmidt(vs, normalizing=True)\n",
    "Q2 = scipy.linalg.orth(np.array(vs).T).T\n",
    "\n",
    "print('Orthogonal using Gram_Schmidt')\n",
    "myprint(Q1)\n",
    "\n",
    "print('\\nOrthogonal using scipy.linalg.orth')\n",
    "print(Q2)\n",
    "\n",
    "print('\\nCheck orthogonality')\n",
    "print(orthonormal_set(Q1), orthonormal_set(Q2))"
   ]
  },
  {
   "cell_type": "code",
   "execution_count": 100,
   "metadata": {},
   "outputs": [
    {
     "data": {
      "image/png": "[encoded data removed]",
      "text/latex": [
       "$\\displaystyle \\left[ \\left[\\begin{matrix}- \\frac{1}{2}\\\\\\frac{1}{2}\\\\- \\frac{1}{2}\\\\\\frac{1}{2}\\end{matrix}\\right], \\  \\left[\\begin{matrix}\\frac{1}{2}\\\\\\frac{1}{2}\\\\\\frac{1}{2}\\\\\\frac{1}{2}\\end{matrix}\\right]\\right]$"
      ],
      "text/plain": [
       "⎡⎡-1/2⎤  ⎡1/2⎤⎤\n",
       "⎢⎢    ⎥  ⎢   ⎥⎥\n",
       "⎢⎢1/2 ⎥  ⎢1/2⎥⎥\n",
       "⎢⎢    ⎥, ⎢   ⎥⎥\n",
       "⎢⎢-1/2⎥  ⎢1/2⎥⎥\n",
       "⎢⎢    ⎥  ⎢   ⎥⎥\n",
       "⎣⎣1/2 ⎦  ⎣1/2⎦⎦"
      ]
     },
     "execution_count": 100,
     "metadata": {},
     "output_type": "execute_result"
    }
   ],
   "source": [
    "Matrix.orthogonalize(Matrix(v1), Matrix(v2), Matrix(v3), normalize=True)"
   ]
  },
  {
   "cell_type": "code",
   "execution_count": 101,
   "metadata": {},
   "outputs": [
    {
     "name": "stdout",
     "output_type": "stream",
     "text": [
      "[[   1    1   1]\n",
      " [-2/3  1/3 1/3]\n",
      " [   0 -1/2 1/2]]\n",
      "[[ sqrt(3)/3  sqrt(3)/3 sqrt(3)/3]\n",
      " [-sqrt(6)/3  sqrt(6)/6 sqrt(6)/6]\n",
      " [         0 -sqrt(2)/2 sqrt(2)/2]]\n"
     ]
    }
   ],
   "source": [
    "v1 = [1, 1, 1]\n",
    "v2 = [0, 1, 1]\n",
    "v3 = [0, 0, 1]\n",
    "\n",
    "myprint(Gram_Schmidt([v1, v2, v3]))\n",
    "myprint(Gram_Schmidt([v1, v2, v3], normalizing=True))"
   ]
  },
  {
   "cell_type": "code",
   "execution_count": 102,
   "metadata": {},
   "outputs": [
    {
     "data": {
      "image/png": "[encoded data removed]",
      "text/latex": [
       "$\\displaystyle \\left[ \\left[\\begin{matrix}\\frac{\\sqrt{3}}{3}\\\\\\frac{\\sqrt{3}}{3}\\\\\\frac{\\sqrt{3}}{3}\\end{matrix}\\right], \\  \\left[\\begin{matrix}- \\frac{\\sqrt{6}}{3}\\\\\\frac{\\sqrt{6}}{6}\\\\\\frac{\\sqrt{6}}{6}\\end{matrix}\\right], \\  \\left[\\begin{matrix}0\\\\- \\frac{\\sqrt{2}}{2}\\\\\\frac{\\sqrt{2}}{2}\\end{matrix}\\right]\\right]$"
      ],
      "text/plain": [
       "⎡⎡√3⎤  ⎡-√6 ⎤        ⎤\n",
       "⎢⎢──⎥  ⎢────⎥  ⎡ 0  ⎤⎥\n",
       "⎢⎢3 ⎥  ⎢ 3  ⎥  ⎢    ⎥⎥\n",
       "⎢⎢  ⎥  ⎢    ⎥  ⎢-√2 ⎥⎥\n",
       "⎢⎢√3⎥  ⎢ √6 ⎥  ⎢────⎥⎥\n",
       "⎢⎢──⎥, ⎢ ── ⎥, ⎢ 2  ⎥⎥\n",
       "⎢⎢3 ⎥  ⎢ 6  ⎥  ⎢    ⎥⎥\n",
       "⎢⎢  ⎥  ⎢    ⎥  ⎢ √2 ⎥⎥\n",
       "⎢⎢√3⎥  ⎢ √6 ⎥  ⎢ ── ⎥⎥\n",
       "⎢⎢──⎥  ⎢ ── ⎥  ⎣ 2  ⎦⎥\n",
       "⎣⎣3 ⎦  ⎣ 6  ⎦        ⎦"
      ]
     },
     "execution_count": 102,
     "metadata": {},
     "output_type": "execute_result"
    }
   ],
   "source": [
    "Matrix.orthogonalize(Matrix(v1), Matrix(v2), Matrix(v3), normalize=True)"
   ]
  },
  {
   "cell_type": "code",
   "execution_count": 103,
   "metadata": {},
   "outputs": [],
   "source": [
    "def angle(v, w):\n",
    "    return math.degrees(math.acos(calc_inner_product(v, w)/(norm(v)*norm(w))))"
   ]
  },
  {
   "cell_type": "code",
   "execution_count": 104,
   "metadata": {},
   "outputs": [
    {
     "data": {
      "image/png": "[encoded data removed]",
      "text/latex": [
       "$\\displaystyle 90.0$"
      ],
      "text/plain": [
       "90.0"
      ]
     },
     "execution_count": 104,
     "metadata": {},
     "output_type": "execute_result"
    }
   ],
   "source": [
    "v = [1, 2, 3]\n",
    "w = [0, -3, 2]\n",
    "\n",
    "angle(v, w)"
   ]
  },
  {
   "cell_type": "code",
   "execution_count": 119,
   "metadata": {},
   "outputs": [],
   "source": [
    "def linear_combination(vs, alphas):\n",
    "    if len(vs) != len(alphas):\n",
    "        raise ValueError(\"Length of vectors and scalars must be equal.\")\n",
    "\n",
    "    result = [0] * len(vs[0])\n",
    "\n",
    "    for v, alpha in zip(vs, alphas):\n",
    "        scaled_v = mul_scalar_vector(alpha, v)\n",
    "\n",
    "        result = add_vector(result, scaled_v)\n",
    "\n",
    "    return result"
   ]
  },
  {
   "cell_type": "code",
   "execution_count": 120,
   "metadata": {},
   "outputs": [
    {
     "name": "stdout",
     "output_type": "stream",
     "text": [
      "[14, 19, 24]\n"
     ]
    }
   ],
   "source": [
    "v1 = [1, 2, 3]\n",
    "v2 = [4, 5, 6]\n",
    "a1 = 2\n",
    "a2 = 3\n",
    "combo = linear_combination([v1, v2], [a1, a2])\n",
    "print(combo)"
   ]
  },
  {
   "cell_type": "code",
   "execution_count": 124,
   "metadata": {},
   "outputs": [],
   "source": [
    "def mean(vs):\n",
    "    return mul_scalar_vector(1/len(vs), [sum(vi[j] for vi in vs) for j in range(len(vs[0]))])"
   ]
  },
  {
   "cell_type": "code",
   "execution_count": 125,
   "metadata": {},
   "outputs": [
    {
     "name": "stdout",
     "output_type": "stream",
     "text": [
      "[2.5, 3.5, 4.5]\n"
     ]
    }
   ],
   "source": [
    "print(mean([v1, v2]))"
   ]
  },
  {
   "cell_type": "code",
   "execution_count": 143,
   "metadata": {},
   "outputs": [],
   "source": [
    "def acc(v):\n",
    "    w = [0] * len(v)\n",
    "\n",
    "    for i in range(len(v)):\n",
    "        w[i] = sum(v[j] for j in range(0, i + 1))\n",
    "\n",
    "    return w\n",
    "\n",
    "def diff(v):\n",
    "    w = [0] * len(v)\n",
    "\n",
    "    w[0] = v[0]\n",
    "    for i in range(1, len(v)):\n",
    "        w[i] = v[i] - v[i - 1]\n",
    "\n",
    "    return w"
   ]
  },
  {
   "cell_type": "code",
   "execution_count": 144,
   "metadata": {},
   "outputs": [
    {
     "name": "stdout",
     "output_type": "stream",
     "text": [
      "[1, 3, 6, 10, 15]\n",
      "[1, 1, 1, 1, 1]\n"
     ]
    }
   ],
   "source": [
    "print(acc([1, 2, 3, 4, 5]))\n",
    "print(diff([1, 2, 3, 4, 5]))"
   ]
  },
  {
   "cell_type": "code",
   "execution_count": 145,
   "metadata": {},
   "outputs": [],
   "source": [
    "def nearest_neighbor(v, S):\n",
    "    return min(S, key=lambda s: distance(v, s))"
   ]
  },
  {
   "cell_type": "code",
   "execution_count": 146,
   "metadata": {},
   "outputs": [
    {
     "name": "stdout",
     "output_type": "stream",
     "text": [
      "[2, 2, 2]\n"
     ]
    }
   ],
   "source": [
    "print(nearest_neighbor([1, 2, 3], [[1, 1, 1], [2, 2, 2], [3, 3, 3], [4, 4, 4]]))"
   ]
  },
  {
   "cell_type": "code",
   "execution_count": 147,
   "metadata": {},
   "outputs": [],
   "source": [
    "def kNN(v, S, k=1):\n",
    "    return sorted(S, key=lambda s: distance(v, s))[:k]"
   ]
  },
  {
   "cell_type": "code",
   "execution_count": 148,
   "metadata": {},
   "outputs": [
    {
     "name": "stdout",
     "output_type": "stream",
     "text": [
      "[[2, 2, 2], [1, 1, 1]]\n"
     ]
    }
   ],
   "source": [
    "print(kNN([1, 2, 3], [[1, 1, 1], [2, 2, 2], [3, 3, 3], [4, 4, 4]], 2))"
   ]
  },
  {
   "cell_type": "code",
   "execution_count": 159,
   "metadata": {},
   "outputs": [],
   "source": [
    "def chemical_formula(mol):\n",
    "    formula_str = \"\"\n",
    "    for element, count in mol.items():  # Iterate over the dictionary\n",
    "        if count > 1:\n",
    "            formula_str += f\"{element}{count}\"\n",
    "        else:\n",
    "            formula_str += element\n",
    "    return formula_str"
   ]
  },
  {
   "cell_type": "code",
   "execution_count": 161,
   "metadata": {},
   "outputs": [
    {
     "name": "stdout",
     "output_type": "stream",
     "text": [
      "H2O\n"
     ]
    }
   ],
   "source": [
    "formula = [('H', 2), ('O', 1)]\n",
    "mol_dict = dict(formula)  # Convert list of tuples to dictionary\n",
    "mol = chemical_formula(mol_dict)\n",
    "print(mol)  # Output: H2O"
   ]
  },
  {
   "cell_type": "code",
   "execution_count": 162,
   "metadata": {},
   "outputs": [
    {
     "name": "stdout",
     "output_type": "stream",
     "text": [
      "\\text{H}_2\\text{O}\n"
     ]
    },
    {
     "data": {
      "text/latex": [
       "$\\text{H}_2\\text{O}$"
      ],
      "text/plain": [
       "<IPython.core.display.Latex object>"
      ]
     },
     "execution_count": 162,
     "metadata": {},
     "output_type": "execute_result"
    }
   ],
   "source": [
    "from IPython.display import Latex\n",
    "\n",
    "mol = chemical_formula(dict([('H', 2), ('O', 1)]))\n",
    "# will be similar to the following\n",
    "mol = r'\\text{H}_2\\text{O}'\n",
    "\n",
    "print(mol)\n",
    "Latex('$' + mol + '$')"
   ]
  },
  {
   "cell_type": "code",
   "execution_count": 164,
   "metadata": {},
   "outputs": [
    {
     "ename": "TypeError",
     "evalue": "unhashable type: 'list'",
     "output_type": "error",
     "traceback": [
      "\u001b[1;31m---------------------------------------------------------------------------\u001b[0m",
      "\u001b[1;31mTypeError\u001b[0m                                 Traceback (most recent call last)",
      "Cell \u001b[1;32mIn[164], line 1\u001b[0m\n\u001b[1;32m----> 1\u001b[0m mol \u001b[38;5;241m=\u001b[39m chemical_formula(\u001b[38;5;28mdict\u001b[39m([(\u001b[38;5;124m'\u001b[39m\u001b[38;5;124mAl\u001b[39m\u001b[38;5;124m'\u001b[39m, \u001b[38;5;241m2\u001b[39m), ([(\u001b[38;5;124m'\u001b[39m\u001b[38;5;124mS\u001b[39m\u001b[38;5;124m'\u001b[39m, \u001b[38;5;241m1\u001b[39m), (\u001b[38;5;124m'\u001b[39m\u001b[38;5;124mO\u001b[39m\u001b[38;5;124m'\u001b[39m, \u001b[38;5;241m4\u001b[39m)], \u001b[38;5;241m3\u001b[39m)]))\n\u001b[0;32m      2\u001b[0m \u001b[38;5;66;03m# will be similar to the following\u001b[39;00m\n\u001b[0;32m      3\u001b[0m mol \u001b[38;5;241m=\u001b[39m \u001b[38;5;124mr\u001b[39m\u001b[38;5;124m'\u001b[39m\u001b[38;5;124m\\\u001b[39m\u001b[38;5;124mtext\u001b[39m\u001b[38;5;132;01m{Al}\u001b[39;00m\u001b[38;5;124m_2(\u001b[39m\u001b[38;5;124m\\\u001b[39m\u001b[38;5;124mtext\u001b[39m\u001b[38;5;132;01m{S}\u001b[39;00m\u001b[38;5;124m\\\u001b[39m\u001b[38;5;124mtext\u001b[39m\u001b[38;5;132;01m{O}\u001b[39;00m\u001b[38;5;124m_4)_3\u001b[39m\u001b[38;5;124m'\u001b[39m\n",
      "\u001b[1;31mTypeError\u001b[0m: unhashable type: 'list'"
     ]
    }
   ],
   "source": [
    "mol = chemical_formula(dict([('Al', 2), ([('S', 1), ('O', 4)], 3)]))\n",
    "# will be similar to the following\n",
    "mol = r'\\text{Al}_2(\\text{S}\\text{O}_4)_3'\n",
    "\n",
    "print(mol)\n",
    "Latex('$' + mol + '$')"
   ]
  }
 ],
 "metadata": {
  "kernelspec": {
   "display_name": "base",
   "language": "python",
   "name": "python3"
  },
  "language_info": {
   "codemirror_mode": {
    "name": "ipython",
    "version": 3
   },
   "file_extension": ".py",
   "mimetype": "text/x-python",
   "name": "python",
   "nbconvert_exporter": "python",
   "pygments_lexer": "ipython3",
   "version": "3.12.3"
  }
 },
 "nbformat": 4,
 "nbformat_minor": 2
}
