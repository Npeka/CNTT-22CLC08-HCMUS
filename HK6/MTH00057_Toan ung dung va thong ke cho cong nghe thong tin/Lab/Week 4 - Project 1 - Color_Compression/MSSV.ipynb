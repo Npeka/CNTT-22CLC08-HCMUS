{
 "cells": [
  {
   "cell_type": "markdown",
   "metadata": {},
   "source": [
    "# Project 01 - Color Compression"
   ]
  },
  {
   "cell_type": "markdown",
   "metadata": {},
   "source": [
    "## Thông tin sinh viên"
   ]
  },
  {
   "cell_type": "markdown",
   "metadata": {},
   "source": [
    "- Họ và tên:\n",
    "- MSSV:\n",
    "- Lớp:"
   ]
  },
  {
   "cell_type": "markdown",
   "metadata": {},
   "source": [
    "## Import các thư viện liên quan"
   ]
  },
  {
   "cell_type": "code",
   "execution_count": 1,
   "metadata": {},
   "outputs": [],
   "source": []
  },
  {
   "cell_type": "markdown",
   "metadata": {},
   "source": [
    "## Helper functions"
   ]
  },
  {
   "cell_type": "code",
   "execution_count": 2,
   "metadata": {},
   "outputs": [],
   "source": [
    "def read_img(img_path):\n",
    "    '''\n",
    "    Read image from img_path\n",
    "\n",
    "    Parameters\n",
    "    ----------\n",
    "    img_path : str\n",
    "        Path of image\n",
    "\n",
    "    Returns\n",
    "    -------\n",
    "        Image (2D)\n",
    "    '''\n",
    "\n",
    "    # YOUR CODE HERE\n",
    "\n",
    "\n",
    "def show_img(img_2d):\n",
    "    '''\n",
    "    Show image\n",
    "\n",
    "    Parameters\n",
    "    ----------\n",
    "    img_2d : <your type>\n",
    "        Image (2D)\n",
    "    '''\n",
    "\n",
    "    # YOUR CODE HERE\n",
    "\n",
    "\n",
    "def save_img(img_2d, img_path):\n",
    "    '''\n",
    "    Save image to img_path\n",
    "\n",
    "    Parameters\n",
    "    ----------\n",
    "    img_2d : <your type>\n",
    "        Image (2D)\n",
    "    img_path : str\n",
    "        Path of image\n",
    "    '''\n",
    "\n",
    "    # YOUR CODE HERE\n",
    "\n",
    "\n",
    "def convert_img_to_1d(img_2d):\n",
    "    '''\n",
    "    Convert 2D image to 1D image\n",
    "\n",
    "    Parameters\n",
    "    ----------\n",
    "    img_2d : <your type>\n",
    "        Image (2D)\n",
    "\n",
    "    Returns\n",
    "    -------\n",
    "        Image (1D)\n",
    "    '''\n",
    "\n",
    "    # YOUR CODE HERE\n",
    "\n",
    "\n",
    "def kmeans(img_1d, k_clusters, max_iter, init_centroids='random'):\n",
    "    '''\n",
    "    K-Means algorithm\n",
    "\n",
    "    Parameters\n",
    "    ----------\n",
    "    img_1d : np.ndarray with shape=(height * width, num_channels)\n",
    "        Original (1D) image\n",
    "    k_clusters : int\n",
    "        Number of clusters\n",
    "    max_iter : int\n",
    "        Max iterator\n",
    "    init_centroids : str, default='random'\n",
    "        The method used to initialize the centroids for K-means clustering\n",
    "        'random' --> Centroids are initialized with random values between 0 and 255 for each channel\n",
    "        'in_pixels' --> A random pixel from the original image is selected as a centroid for each cluster\n",
    "\n",
    "    Returns\n",
    "    -------\n",
    "    centroids : np.ndarray with shape=(k_clusters, num_channels)\n",
    "        Stores the color centroids for each cluster\n",
    "    labels : np.ndarray with shape=(height * width, )\n",
    "        Stores the cluster label for each pixel in the image\n",
    "    '''\n",
    "    \n",
    "    # YOUR CODE HERE\n",
    "\n",
    "\n",
    "def generate_2d_img(img_2d_shape, centroids, labels):\n",
    "    '''\n",
    "    Generate a 2D image based on K-means cluster centroids\n",
    "\n",
    "    Parameters\n",
    "    ----------\n",
    "    img_2d_shape : tuple (height, width, 3)\n",
    "        Shape of image\n",
    "    centroids : np.ndarray with shape=(k_clusters, num_channels)\n",
    "        Store color centroids\n",
    "    labels : np.ndarray with shape=(height * width, )\n",
    "        Store label for pixels (cluster's index on which the pixel belongs)\n",
    "\n",
    "    Returns\n",
    "    -------\n",
    "        New image (2D)\n",
    "    '''\n",
    "\n",
    "    # YOUR CODE HERE\n",
    "\n",
    "\n",
    "# Your additional functions here\n"
   ]
  },
  {
   "attachments": {},
   "cell_type": "markdown",
   "metadata": {},
   "source": [
    "## Your tests"
   ]
  },
  {
   "cell_type": "code",
   "execution_count": null,
   "metadata": {},
   "outputs": [],
   "source": [
    "# YOUR CODE HERE"
   ]
  },
  {
   "cell_type": "markdown",
   "metadata": {},
   "source": [
    "## Main FUNCTION"
   ]
  },
  {
   "cell_type": "code",
   "execution_count": 7,
   "metadata": {},
   "outputs": [],
   "source": [
    "# YOUR CODE HERE"
   ]
  },
  {
   "cell_type": "code",
   "execution_count": 8,
   "metadata": {},
   "outputs": [],
   "source": [
    "# Call main function"
   ]
  }
 ],
 "metadata": {
  "kernelspec": {
   "display_name": "Python 3",
   "language": "python",
   "name": "python3"
  },
  "language_info": {
   "codemirror_mode": {
    "name": "ipython",
    "version": 3
   },
   "file_extension": ".py",
   "mimetype": "text/x-python",
   "name": "python",
   "nbconvert_exporter": "python",
   "pygments_lexer": "ipython3",
   "version": "3.10.13"
  }
 },
 "nbformat": 4,
 "nbformat_minor": 4
}
