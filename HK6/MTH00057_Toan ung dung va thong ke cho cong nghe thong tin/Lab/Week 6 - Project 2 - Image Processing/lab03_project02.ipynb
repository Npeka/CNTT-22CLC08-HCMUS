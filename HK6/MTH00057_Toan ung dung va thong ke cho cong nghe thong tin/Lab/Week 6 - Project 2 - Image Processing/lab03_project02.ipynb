{
 "cells": [
  {
   "cell_type": "markdown",
   "metadata": {},
   "source": [
    "# <center>Phân tích ma trận trong Python - Đồ án 2</center>"
   ]
  },
  {
   "cell_type": "markdown",
   "metadata": {},
   "source": [
    "## Mục lục\n",
    "* [Thực hành](#c1)\n",
    "    * [Trị riêng - Vector riêng](#c11)\n",
    "    * [Chéo hóa](#c12)\n",
    "    * [Chéo hóa trực giao](#c13)\n",
    "* [Đồ án 2: Image Processing](#c2)\n",
    "    * [Nội dung đồ án](#c21)\n",
    "    * [Quy định nộp bài](#c22)\n",
    "    * [Quy định chấm bài](#c23)"
   ]
  },
  {
   "cell_type": "markdown",
   "metadata": {},
   "source": [
    "## Thực hành <a class=\"anchor\" id=\"c1\"></a>"
   ]
  },
  {
   "cell_type": "markdown",
   "metadata": {},
   "source": [
    "Trong lab này, chúng ta sẽ tìm hiểu về phân tích ma trận sử dụng `NumPy`.\n",
    "\n",
    "Cho ma trận:\n",
    "$$A = \\begin{bmatrix}\n",
    "    3 & -2 & 0\\\\ \n",
    "    -2 & 3 & 0\\\\ \n",
    "    0 & 0 & 5\n",
    "    \\end{bmatrix}$$"
   ]
  },
  {
   "cell_type": "code",
   "execution_count": 91,
   "metadata": {},
   "outputs": [],
   "source": [
    "import numpy as np"
   ]
  },
  {
   "cell_type": "code",
   "execution_count": 92,
   "metadata": {},
   "outputs": [],
   "source": [
    "A = np.array([[3, -2, 0],\n",
    "              [-2, 3, 0],\n",
    "              [0, 0, 5]])"
   ]
  },
  {
   "cell_type": "code",
   "execution_count": 93,
   "metadata": {},
   "outputs": [],
   "source": [
    "def is_close(A, B, eps=10e-3):\n",
    "    return np.all(np.abs(A - B) < eps)"
   ]
  },
  {
   "cell_type": "markdown",
   "metadata": {},
   "source": [
    "Các phân tích được giới thiệu trong lab này là:\n",
    "1. Tìm trị riêng và vector riêng\n",
    "2. Chéo hóa\n",
    "3. Chéo hóa trực giao"
   ]
  },
  {
   "cell_type": "markdown",
   "metadata": {},
   "source": [
    "### Trị riêng - Vector riêng <a class=\"anchor\" id=\"c11\"></a>"
   ]
  },
  {
   "cell_type": "markdown",
   "metadata": {},
   "source": [
    "#### Sử dụng thuật toán [Power iteration](https://en.wikipedia.org/wiki/Power_iteration) và Hotelling's Deflation [[1](https://web.stanford.edu/~lmackey/papers/deflation-nips08.pdf), [2](https://www.robots.ox.ac.uk/~sjrob/Teaching/EngComp/ecl4.pdf)]"
   ]
  },
  {
   "cell_type": "code",
   "execution_count": 94,
   "metadata": {},
   "outputs": [],
   "source": [
    "def eigen_power_iteration(A, n_iter=1000, eps=10e-5):\n",
    "    ''' \n",
    "    Estimate the dominant eigenvalue and eigenvector of a square matrix using the power iteration method\n",
    "\n",
    "    Parameters\n",
    "    ----------\n",
    "    A : numpy.ndarray\n",
    "        The square matrix for which to find the dominant eigenvalue and eigenvector\n",
    "    n_iter : int, default=1000\n",
    "        The maximum number of iterations to perform\n",
    "    eps : float, default=10e-5\n",
    "        The tolerance for convergence. The iteration stops when the change in the eigenvector falls below this value\n",
    "\n",
    "    Returns\n",
    "    -------\n",
    "    tuple (float, numpy.ndarray)\n",
    "        A tuple containing the estimated dominant eigenvalue (lamb) and the corresponding eigenvector (b_k).\n",
    "    '''\n",
    "\n",
    "    # Generate a random vector b_k and init a zero vector b_k_pre\n",
    "    b_k = np.random.rand(A.shape[1])\n",
    "    b_k_pre = np.zeros(A.shape[1])\n",
    "\n",
    "    # Iterate for a maximum of n_iter steps to find the dominant eigenvector\n",
    "    for _ in range(int(n_iter)):\n",
    "        # Calculate the dot product of the matrix A and the current eigenvector estimate b_k\n",
    "        numerator = np.dot(A, b_k)\n",
    "        denominator = np.linalg.norm(numerator)\n",
    "        \n",
    "        b_k = numerator / denominator\n",
    "        \n",
    "        # Break the loop when the change in the eigenvector falls below the tolerance (eps)\n",
    "        if np.all(np.abs(b_k - b_k_pre) < eps):\n",
    "            break\n",
    "        \n",
    "        b_k_pre = b_k\n",
    "        \n",
    "    # Estimate the dominant eigenvalue using the Rayleigh quotient\n",
    "    lamb = ((b_k @ A) @ b_k) / (b_k @ b_k)\n",
    "\n",
    "    return lamb, b_k\n",
    "\n",
    "\n",
    "def my_eigens(A, n_iter=1000, eps=10e-5):\n",
    "    ''' \n",
    "    Find all eigenvalues and eigenvectors of a square matrix using the power iteration method with Hotelling's deflation\n",
    "\n",
    "    Parameters\n",
    "    ----------\n",
    "    A : numpy.ndarray\n",
    "        The square matrix for which to find all eigenvalues and eigenvectors\n",
    "    n_iter : int, default=1000\n",
    "        The maximum number of iterations to perform for each eigenvalue estimation using the power iteration method\n",
    "    eps : float, default=10e-5\n",
    "        The tolerance for convergence in the power iteration method\n",
    "\n",
    "    Returns\n",
    "    -------\n",
    "    tuple (numpy.ndarray, numpy.ndarray)\n",
    "        A tuple containing two NumPy arrays:\n",
    "        - eigenvalues (shape (n,)): An array containing all the computed eigenvalues of the matrix A\n",
    "        - eigenvectors (shape (n, n)): A 2D array where each column represents an eigenvector, corresponding to the eigenvalue in the same position in the eigenvalues array\n",
    "    '''\n",
    "\n",
    "    eigenvalues = []\n",
    "    eigenvectors = []\n",
    "    \n",
    "    n_rows = A.shape[0]\n",
    "    \n",
    "    # Find all possible eigenvalues and eigenvectors\n",
    "    for _ in range(n_rows):\n",
    "        lamb, b_k = eigen_power_iteration(A, n_iter, eps)\n",
    "        \n",
    "        eigenvalues.append(lamb)\n",
    "        eigenvectors.append(b_k)\n",
    "        \n",
    "        # Apply Hotelling's deflation to remove the influence of the already computed eigenvalue-eigenvector pair from A\n",
    "        b_k = b_k.reshape(-1, 1) # Reshape as a column vector\n",
    "        A = A - lamb * (b_k @ b_k.T)\n",
    "        \n",
    "    return np.array(eigenvalues), np.array(eigenvectors).T"
   ]
  },
  {
   "cell_type": "code",
   "execution_count": 95,
   "metadata": {
    "scrolled": false
   },
   "outputs": [
    {
     "data": {
      "text/plain": [
       "(array([5.        , 5.        , 1.00000002]),\n",
       " array([[ 3.26340890e-01, -6.27280908e-01,  7.07178499e-01],\n",
       "        [-3.26324288e-01,  6.27321885e-01,  7.07035046e-01],\n",
       "        [ 8.87138142e-01,  4.61503972e-01, -1.18932930e-04]]))"
      ]
     },
     "execution_count": 95,
     "metadata": {},
     "output_type": "execute_result"
    }
   ],
   "source": [
    "my_eigenvalues, my_eigenvectors = my_eigens(A)\n",
    "\n",
    "my_eigenvalues, my_eigenvectors"
   ]
  },
  {
   "cell_type": "code",
   "execution_count": 96,
   "metadata": {},
   "outputs": [
    {
     "data": {
      "text/plain": [
       "(array([[ 1.63167125],\n",
       "        [-1.63165464],\n",
       "        [ 4.43569071]]),\n",
       " array([[ 1.63170445],\n",
       "        [-1.63162144],\n",
       "        [ 4.43569071]]))"
      ]
     },
     "execution_count": 96,
     "metadata": {},
     "output_type": "execute_result"
    }
   ],
   "source": [
    "# Evaluate the first pair of eigenvalue and eigenvector\n",
    "my_lamb = my_eigenvalues[0]\n",
    "my_X = my_eigenvectors[:, 0].reshape(-1, 1)\n",
    "\n",
    "A @ my_X, my_lamb * my_X"
   ]
  },
  {
   "cell_type": "code",
   "execution_count": 97,
   "metadata": {},
   "outputs": [
    {
     "data": {
      "text/plain": [
       "True"
      ]
     },
     "execution_count": 97,
     "metadata": {},
     "output_type": "execute_result"
    }
   ],
   "source": [
    "is_close(A @ my_X, my_lamb * my_X)"
   ]
  },
  {
   "cell_type": "markdown",
   "metadata": {},
   "source": [
    "#### Thư viện `np.linalg`"
   ]
  },
  {
   "cell_type": "code",
   "execution_count": 98,
   "metadata": {
    "scrolled": true
   },
   "outputs": [
    {
     "data": {
      "text/plain": [
       "(array([5., 1., 5.]),\n",
       " array([[ 0.70710678,  0.70710678,  0.        ],\n",
       "        [-0.70710678,  0.70710678,  0.        ],\n",
       "        [ 0.        ,  0.        ,  1.        ]]))"
      ]
     },
     "execution_count": 98,
     "metadata": {},
     "output_type": "execute_result"
    }
   ],
   "source": [
    "np_eigenvalues, np_eigenvectors = np.linalg.eig(A)\n",
    "\n",
    "np_eigenvalues, np_eigenvectors"
   ]
  },
  {
   "cell_type": "code",
   "execution_count": 99,
   "metadata": {},
   "outputs": [
    {
     "data": {
      "text/plain": [
       "(array([[ 3.53553391],\n",
       "        [-3.53553391],\n",
       "        [ 0.        ]]),\n",
       " array([[ 3.53553391],\n",
       "        [-3.53553391],\n",
       "        [ 0.        ]]))"
      ]
     },
     "execution_count": 99,
     "metadata": {},
     "output_type": "execute_result"
    }
   ],
   "source": [
    "# Evaluate the first pari of eigenvalue and eigenvector\n",
    "np_lamb = np_eigenvalues[0]\n",
    "np_X = np_eigenvectors[:, 0].reshape(-1, 1)\n",
    "\n",
    "A @ np_X, np_lamb * np_X"
   ]
  },
  {
   "cell_type": "code",
   "execution_count": 100,
   "metadata": {},
   "outputs": [
    {
     "data": {
      "text/plain": [
       "True"
      ]
     },
     "execution_count": 100,
     "metadata": {},
     "output_type": "execute_result"
    }
   ],
   "source": [
    "is_close(A @ np_X, np_lamb * np_X)"
   ]
  },
  {
   "cell_type": "markdown",
   "metadata": {},
   "source": [
    "### Chéo hóa <a class=\"anchor\" id=\"c12\"></a>"
   ]
  },
  {
   "cell_type": "code",
   "execution_count": 101,
   "metadata": {},
   "outputs": [],
   "source": [
    "def my_diag(A):\n",
    "    ''' \n",
    "    Computes the diagonal matrix (D), the eigenvector matrix (P), and its inverse (P_inv) from a square matrix using its eigenvalues and eigenvectors\n",
    "\n",
    "    Parameters\n",
    "    ----------\n",
    "    A : numpy.ndarray\n",
    "        The square matrix for which to compute the diagonal matrix, eigenvector matrix, and its inverse\n",
    "\n",
    "    Returns\n",
    "    -------\n",
    "    tuple (numpy.ndarray, numpy.ndarray, numpy.ndarray)\n",
    "        A tuple containing three NumPy arrays:\n",
    "        - P_matrix (shape (n, n)): The eigenvector matrix, where each column represents an eigenvector of the input matrix A\n",
    "        - D_matrix (shape (n, n)): The diagonal matrix containing the eigenvalues of A on the diagonal\n",
    "        - P_inv_matrix (shape (n, n)): The inverse of the eigenvector matrix\n",
    "\n",
    "    '''\n",
    "\n",
    "    # Find eigenvalues and eigenvectors\n",
    "    eigenvalues, eigenvectors = np.linalg.eig(A)\n",
    "    \n",
    "    # Rearrange the eigenvectors so they correspond to the sorted eigenvalues in descending order\n",
    "    sorted_idx = np.argsort(eigenvalues)[::-1]  # Quick question: What does this code mean?\n",
    "    eigenvalues = eigenvalues[sorted_idx]\n",
    "    eigenvectors = eigenvectors[:, sorted_idx]\n",
    "    \n",
    "    # Form the result matrices\n",
    "    P_matrix = eigenvectors\n",
    "    P_inv_matrix = np.linalg.inv(P_matrix)\n",
    "    D_matrix = np.diag(eigenvalues)\n",
    "    \n",
    "    return P_matrix, D_matrix, P_inv_matrix"
   ]
  },
  {
   "cell_type": "code",
   "execution_count": 102,
   "metadata": {
    "scrolled": true
   },
   "outputs": [
    {
     "data": {
      "text/plain": [
       "(array([[ 0.        ,  0.70710678,  0.70710678],\n",
       "        [ 0.        , -0.70710678,  0.70710678],\n",
       "        [ 1.        ,  0.        ,  0.        ]]),\n",
       " array([[5., 0., 0.],\n",
       "        [0., 5., 0.],\n",
       "        [0., 0., 1.]]),\n",
       " array([[ 0.        ,  0.        ,  1.        ],\n",
       "        [ 0.70710678, -0.70710678,  0.        ],\n",
       "        [ 0.70710678,  0.70710678,  0.        ]]))"
      ]
     },
     "execution_count": 102,
     "metadata": {},
     "output_type": "execute_result"
    }
   ],
   "source": [
    "P, D, P_inv = my_diag(A)\n",
    "(P, D, P_inv)"
   ]
  },
  {
   "cell_type": "code",
   "execution_count": 103,
   "metadata": {},
   "outputs": [
    {
     "data": {
      "text/plain": [
       "(array([[5., 0., 0.],\n",
       "        [0., 5., 0.],\n",
       "        [0., 0., 1.]]),\n",
       " array([[ 5.00000000e+00,  0.00000000e+00,  0.00000000e+00],\n",
       "        [ 0.00000000e+00,  5.00000000e+00, -2.63285810e-16],\n",
       "        [ 0.00000000e+00, -6.36938863e-16,  1.00000000e+00]]))"
      ]
     },
     "execution_count": 103,
     "metadata": {},
     "output_type": "execute_result"
    }
   ],
   "source": [
    "D, P_inv @ A @ P"
   ]
  },
  {
   "cell_type": "code",
   "execution_count": 104,
   "metadata": {},
   "outputs": [
    {
     "data": {
      "text/plain": [
       "True"
      ]
     },
     "execution_count": 104,
     "metadata": {},
     "output_type": "execute_result"
    }
   ],
   "source": [
    "is_close(D, P_inv @ A @ P)"
   ]
  },
  {
   "cell_type": "markdown",
   "metadata": {},
   "source": [
    "### Chéo hóa trực giao <a class=\"anchor\" id=\"c13\"></a>"
   ]
  },
  {
   "cell_type": "code",
   "execution_count": 105,
   "metadata": {},
   "outputs": [],
   "source": [
    "def my_orth_diag(A):\n",
    "    ''' \n",
    "    Computes the diagonal matrix (D), orthogonal matrix (Q), and its transpose (Q.T) from a square matrix using its eigenvalues and eigenvectors\n",
    "\n",
    "    Parameters\n",
    "    ----------\n",
    "    A : numpy.ndarray\n",
    "        The square matrix for which to compute the diagonal matrix, orthogonal matrix, and its transpose\n",
    "\n",
    "    Returns\n",
    "    -------\n",
    "    tuple (numpy.ndarray, numpy.ndarray, numpy.ndarray)\n",
    "        A tuple containing three NumPy arrays:\n",
    "        - Q_matrix (shape (n, n)): The orthogonal matrix obtained from the eigenvectors of A using QR decomposition\n",
    "        - D_matrix (shape (n, n)): The diagonal matrix containing the eigenvalues of A on the diagonal\n",
    "        - Q_transpose (shape (n, n)): The transpose of the orthogonal matrix Q_matrix\n",
    "    '''\n",
    "\n",
    "    # Find eigenvalues and eigenvectors\n",
    "    eigenvalues, eigenvectors = np.linalg.eig(A)\n",
    "    \n",
    "    # Rearrange the eigenvectors so they correspond to the sorted eigenvalues in descending order\n",
    "    sorted_idx = np.argsort(eigenvalues)[::-1]\n",
    "    eigenvalues = eigenvalues[sorted_idx]\n",
    "    eigenvectors = eigenvectors[:, sorted_idx]\n",
    "    \n",
    "    # Obtain the orthogonal matrix from eigenvectors using QR decomposition\n",
    "    Q_matrix, _ = np.linalg.qr(eigenvectors)\n",
    "    \n",
    "    # Form other result matrices\n",
    "    D_matrix = np.diag(eigenvalues)\n",
    "    Q_transpose = Q_matrix.T\n",
    "    \n",
    "    return Q_matrix, D_matrix, Q_transpose"
   ]
  },
  {
   "cell_type": "code",
   "execution_count": 106,
   "metadata": {
    "scrolled": true
   },
   "outputs": [
    {
     "data": {
      "text/plain": [
       "(array([[ 0.        ,  0.70710678, -0.70710678],\n",
       "        [-0.        , -0.70710678, -0.70710678],\n",
       "        [-1.        ,  0.        ,  0.        ]]),\n",
       " array([[5., 0., 0.],\n",
       "        [0., 5., 0.],\n",
       "        [0., 0., 1.]]),\n",
       " array([[ 0.        , -0.        , -1.        ],\n",
       "        [ 0.70710678, -0.70710678,  0.        ],\n",
       "        [-0.70710678, -0.70710678,  0.        ]]))"
      ]
     },
     "execution_count": 106,
     "metadata": {},
     "output_type": "execute_result"
    }
   ],
   "source": [
    "(Q, D, Q_T) = my_orth_diag(A)\n",
    "(Q, D, Q_T)"
   ]
  },
  {
   "cell_type": "code",
   "execution_count": 107,
   "metadata": {},
   "outputs": [
    {
     "data": {
      "text/plain": [
       "(array([[5., 0., 0.],\n",
       "        [0., 5., 0.],\n",
       "        [0., 0., 1.]]),\n",
       " array([[5.00000000e+00, 0.00000000e+00, 0.00000000e+00],\n",
       "        [0.00000000e+00, 5.00000000e+00, 2.63285810e-16],\n",
       "        [0.00000000e+00, 3.13396163e-16, 1.00000000e+00]]))"
      ]
     },
     "execution_count": 107,
     "metadata": {},
     "output_type": "execute_result"
    }
   ],
   "source": [
    "D, Q_T @ A @ Q"
   ]
  },
  {
   "cell_type": "code",
   "execution_count": 108,
   "metadata": {},
   "outputs": [
    {
     "data": {
      "text/plain": [
       "True"
      ]
     },
     "execution_count": 108,
     "metadata": {},
     "output_type": "execute_result"
    }
   ],
   "source": [
    "is_close(D, Q_T @ A @ Q)"
   ]
  },
  {
   "cell_type": "markdown",
   "metadata": {},
   "source": [
    "---"
   ]
  },
  {
   "cell_type": "markdown",
   "metadata": {},
   "source": [
    "## Đồ án 2: Image Processing <a class=\"anchor\" id=\"c2\"></a>"
   ]
  },
  {
   "cell_type": "markdown",
   "metadata": {},
   "source": [
    "### Nội dung đồ án <a class=\"anchor\" id=\"c21\"></a>"
   ]
  },
  {
   "cell_type": "markdown",
   "metadata": {},
   "source": [
    "<ins>Nhắc lại</ins>: Trong đồ án 1, sinh viên đã được giới thiệu về khái niệm lưu trữ ảnh dưới dạng ma trận các điểm ảnh. Mỗi điểm ảnh có thể được biểu diễn bằng một giá trị nguyên (ảnh xám) hoặc một vector (ảnh màu).\n",
    "\n",
    "Trong đồ án này, sinh viên được yêu cầu thực hiện các chức năng xử lý ảnh cơ bản sau:\n",
    "    \n",
    "1. Thay đổi độ sáng cho ảnh (1 điểm)\n",
    "\n",
    "![img](https://imgur.com/oJ8bTv7.jpg)\n",
    "\n",
    "2. Thay đổi độ tương phản (1 điểm)\n",
    "\n",
    "![img](https://imgur.com/wl8MSu3.jpg)\n",
    "\n",
    "3. Lật ảnh (ngang - dọc) (1 điểm)\n",
    "\n",
    "![img](https://imgur.com/MOOvIhN.jpg)\n",
    "\n",
    "4. Chuyển đổi ảnh RGB thành ảnh xám/sepia (2 điểm)\n",
    "\n",
    "- Ảnh xám\n",
    "\n",
    "![img](https://imgur.com/XEfRXWE.jpg)\n",
    "\n",
    "- Ảnh sepia\n",
    "\n",
    "![img](https://imgur.com/YXUPjHY.jpg)\n",
    "\n",
    "Keywords: convert RGB to grayscale/sepia\n",
    "\n",
    "5. Làm mờ/sắc nét ảnh (2 điểm)\n",
    "\n",
    "- Làm mờ\n",
    "\n",
    "![img](https://imgur.com/wZT4vUa.jpg)\n",
    "\n",
    "- Làm sắc nét\n",
    "\n",
    "![img](https://imgur.com/H2Fq4Ne.jpg)\n",
    "\n",
    "Tham khảo tại [đây](https://en.wikipedia.org/wiki/Kernel_(image_processing))\n",
    "\n",
    "6. Cắt ảnh theo kích thước (cắt ở trung tâm) (1 điểm)\n",
    "\n",
    "![img](https://imgur.com/fXebjfO.jpg)\n",
    "\n",
    "7. Cắt ảnh theo khung (1 điểm)\n",
    "\n",
    "- Khung tròn\n",
    "\n",
    "![img](https://imgur.com/DEpimhC.jpg)\n",
    "\n",
    "- Khung là 2 hình elip chéo nhau\n",
    "\n",
    "![img](https://i.imgur.com/fPlYioC.png)\n",
    "\n",
    "8. Viết hàm main xử lý (1 điểm) với các yêu cầu sau:\n",
    "\n",
    "- Cho phép người dùng nhập vào tên tập tin ảnh mỗi khi hàm main được thực thi.\n",
    "- Cho phép người dùng lựa chọn chức năng xử lý ảnh (từ 1 đến 7, đối với chức năng 4 cho phép lựa chọn giữa lật ngang hoặc lật dọc). Lựa chọn 0 cho phép thực hiện tất cả chức năng với tên file đầu ra tương ứng với từng chức năng. Ví dụ:\n",
    "    - Đầu vào: `cat.png`\n",
    "    - Chức năng: Làm mờ\n",
    "    - Đầu ra: `cat_blur.png`"
   ]
  },
  {
   "cell_type": "markdown",
   "metadata": {},
   "source": [
    "Trong đồ án này, sinh viên <font style='color:red'>**CHỈ ĐƯỢC PHÉP**</font> sử dụng các thư viện sau: `PIL`, `numpy`, `matplotlib`.\n",
    "\n",
    "Cụ thể, nếu đề yêu cầu sinh viên cài đặt chức năng nào đó, thì sinh viên phải **thực sự cài đặt chức năng** đó mà không phải gọi hàm có sẵn.\n",
    "\n",
    "- Đối với thư viện PIL và Matplotlib, sinh viên chỉ được sử dụng các hàm sau:\n",
    "    - `PIL` (`open(), save()` từ `Image`) để đọc và ghi\n",
    "    - `Matplotlib` (`imshow()` từ `pyplot`) để hiển thị ảnh\n",
    "    - <ins>Lưu ý:</ins> <font style='color:red'>sử dụng các hàm khác (ngoài các hàm liệt kê trên)</font> $\\to$ <font style='color:red'> NHẬN ĐIỂM 0 CHO TOÀN BỘ ĐỒ ÁN</font>\n",
    "\n",
    "- Được phép sử dụng thư viện `NumPy` tùy ý\n",
    "\n",
    "<ins>Lưu ý:</ins> Để được **điểm tối đa** cho từng chức năng, thời gian thực thi của mỗi chức năng phải nằm trong khoảng thời gian chấp nhận được. Ví dụ với chức năng làm mờ (phức tạp nhất) có thời gian thực thi trên ảnh với kích thước $512 \\times 512$ là dưới 15 giây."
   ]
  },
  {
   "cell_type": "markdown",
   "metadata": {},
   "source": [
    "#### Nâng cao - Không bắt buộc (Cộng 0.5 điểm vào điểm đồ án 2)\n",
    "\n",
    "Sinh viên tìm hiểu và cài đặt chức năng thu nhỏ, phóng to ảnh (zoom out/zoom in)\n",
    "\n",
    "![img](https://i.imgur.com/DEzRSfe.png)\n"
   ]
  },
  {
   "cell_type": "markdown",
   "metadata": {},
   "source": [
    "### Quy định bài nộp <a class=\"anchor\" id=\"c22\"></a>"
   ]
  },
  {
   "cell_type": "markdown",
   "metadata": {},
   "source": [
    "* Thực hiện toàn bộ bài làm trên 1 tập tin Jupyter Notebook có mẫu theo đúng tập tin `MSSV.ipynb` đính kèm. Mỗi hàm cần có docstrings tương tự như đồ án 1.\n",
    "\n",
    "\n",
    "* Nộp tập tin `MSSV.zip` được nén từ thư mục MSSV chứa các tập tin sau:\n",
    "    1. Báo cáo toàn bộ bài làm: `MSSV.pdf`\n",
    "    2. Mã nguồn: `MSSV.ipynb`\n",
    "\n",
    "\n",
    "* Trong đó, nội dung tập tin báo cáo gồm có:\n",
    "    - Thông tin cá nhân: Họ và tên, MSSV\n",
    "    - Ý tưởng thực hiện, mô tả các hàm chức năng\n",
    "    - Bảng đánh giá mức độ hoàn thành và hình ảnh kết quả cho từng chức năng (cho một ảnh đầu vào nhất định)\n",
    "\n",
    "        | **STT** |    **Chức năng/Hàm**    | **Mức độ hoàn thành** | **Ảnh kết quả** |\n",
    "        |:-------:|:-----------------------:|:---------------------:|:---------------:|\n",
    "        |    1    | Thay đổi độ sáng        |       [0, 100]%       |                 |\n",
    "        |    2    | Thay đổi độ tương phản  |       [0, 100]%       |                 |\n",
    "        |   3.1   | Lật ảnh ngang           |       [0, 100]%       |                 |\n",
    "        |   3.2   | Lật ảnh dọc             |       [0, 100]%       |                 |\n",
    "        |   4.1   | RGB thành ảnh xám       |       [0, 100]%       |                 |\n",
    "        |   4.2   | RGB thành ảnh sepia     |       [0, 100]%       |                 |\n",
    "        |   5.1   | Làm mờ ảnh              |       [0, 100]%       |                 |\n",
    "        |   5.2   | Làm sắc nét ảnh         |       [0, 100]%       |                 |\n",
    "        |    6    | Cắt ảnh theo kích thước |       [0, 100]%       |                 |\n",
    "        |   7.1   | Cắt ảnh theo khung tròn |       [0, 100]%       |                 |\n",
    "        |   7.2   | Cắt ảnh theo khung elip |       [0, 100]%       |                 |\n",
    "        |    8    | Hàm main                |       [0, 100]%       |                 |\n",
    "        |    9    | Phóng to/Thu nhỏ 2x     |       [0, 100]%       |                 |\n",
    "\n",
    "    - Báo cáo cần phải căn lề, có số trang, và tài liệu tham khảo\n",
    "    \n",
    "    <ins>Lưu ý:</ins> Viết báo cáo sơ sài/thiếu các yêu cầu trên sẽ nhận điểm trừ tương ứng.\n",
    "\n",
    "* Ví dụ minh họa cây thư mục bài nộp sau khi giải nén tập tin `MSSV.zip` như sau:\n",
    "    ```\n",
    "    MSSV\n",
    "    ├── MSSV.pdf\n",
    "    └── MSSV.ipynb\n",
    "    ```"
   ]
  },
  {
   "cell_type": "markdown",
   "metadata": {},
   "source": [
    "### Quy định chấm bài <a class=\"anchor\" id=\"c23\"></a>"
   ]
  },
  {
   "cell_type": "markdown",
   "metadata": {},
   "source": [
    "Đây là đồ án chiếm 10%.\n",
    "\n",
    "Những trường hợp sau đây sẽ bị 0 điểm toàn bộ đồ án:\n",
    "\n",
    "- Sử dụng các thư viện và các hàm xử lý ảnh có sẵn mà không được cho phép\n",
    "- Nộp sai quy định\n",
    "- Không có báo cáo\n",
    "- Thực thi mã nguồn báo lỗi\n",
    "\n",
    "<font style=\"color:red\">**LƯU Ý: SAO CHÉP BÀI LÀM CỦA NHAU SẼ BỊ 0 ĐIỂM TOÀN BỘ PHẦN THỰC HÀNH**</font>"
   ]
  }
 ],
 "metadata": {
  "kernelspec": {
   "display_name": "Python 3",
   "language": "python",
   "name": "python3"
  },
  "language_info": {
   "codemirror_mode": {
    "name": "ipython",
    "version": 3
   },
   "file_extension": ".py",
   "mimetype": "text/x-python",
   "name": "python",
   "nbconvert_exporter": "python",
   "pygments_lexer": "ipython3",
   "version": "3.12.3"
  },
  "toc": {
   "base_numbering": 1,
   "nav_menu": {},
   "number_sections": true,
   "sideBar": true,
   "skip_h1_title": false,
   "title_cell": "Table of Contents",
   "title_sidebar": "Contents",
   "toc_cell": false,
   "toc_position": {},
   "toc_section_display": true,
   "toc_window_display": false
  },
  "toc-autonumbering": false,
  "vscode": {
   "interpreter": {
    "hash": "15af99fd1a1a3f0a3416ea421564e792a8676a13670c2eed127d89ab0518a27b"
   }
  }
 },
 "nbformat": 4,
 "nbformat_minor": 4
}
