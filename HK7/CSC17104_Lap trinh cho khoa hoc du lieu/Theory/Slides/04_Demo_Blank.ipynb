{
  "cells": [
    {
      "cell_type": "markdown",
      "metadata": {
        "id": "N0FgqvZtkV55"
      },
      "source": [
        "## Import các thư viện cần thiết"
      ]
    },
    {
      "cell_type": "code",
      "execution_count": null,
      "metadata": {
        "id": "5TzQFWFpkV55"
      },
      "outputs": [],
      "source": [
        "import datetime as dt # Để làm việc với dữ liệu datetime\n",
        "import math"
      ]
    },
    {
      "cell_type": "markdown",
      "metadata": {
        "id": "3t7gX_qokV56"
      },
      "source": [
        "## Đưa ra câu hỏi cần trả lời"
      ]
    },
    {
      "cell_type": "markdown",
      "metadata": {
        "id": "wgQzMoZWkV57"
      },
      "source": [
        "*Tình* trạng hiểu về Python các bạn trong lớp?"
      ]
    },
    {
      "cell_type": "markdown",
      "metadata": {
        "id": "zvsrUqf-kV57"
      },
      "source": [
        "## Thu thập dữ liệu"
      ]
    },
    {
      "cell_type": "markdown",
      "metadata": {
        "id": "DOfEvPkpkV57"
      },
      "source": [
        "Cho làm quiz về Python trên moodle.\n",
        "\n",
        "Kết quả có thể được download về dưới dạng file .csv."
      ]
    },
    {
      "cell_type": "markdown",
      "metadata": {
        "id": "8_pYrZemkV58"
      },
      "source": [
        "## Khám phá dữ liệu"
      ]
    },
    {
      "cell_type": "code",
      "execution_count": null,
      "metadata": {
        "id": "6etQeipt2iQ-"
      },
      "outputs": [],
      "source": []
    },
    {
      "cell_type": "markdown",
      "metadata": {
        "id": "bb27g3pvkV59"
      },
      "source": [
        "### Dữ liệu có bao nhiêu dòng và bao nhiêu cột?"
      ]
    },
    {
      "cell_type": "code",
      "execution_count": null,
      "metadata": {
        "id": "QLXTAUh7kV59",
        "scrolled": false
      },
      "outputs": [],
      "source": []
    },
    {
      "cell_type": "code",
      "execution_count": null,
      "metadata": {
        "id": "kO-9lKEWkV5-"
      },
      "outputs": [],
      "source": [
        "# Số dòng\n"
      ]
    },
    {
      "cell_type": "code",
      "execution_count": null,
      "metadata": {
        "id": "9mQo0Zy2kV5-"
      },
      "outputs": [],
      "source": [
        "# Số cột\n"
      ]
    },
    {
      "cell_type": "markdown",
      "metadata": {
        "id": "1eKZDoBjkV5-"
      },
      "source": [
        "### Mỗi dòng có ý nghĩa gì? Có vấn đề các dòng có ý nghĩa khác nhau không?"
      ]
    },
    {
      "cell_type": "markdown",
      "metadata": {
        "id": "GLvN17SLkV5_"
      },
      "source": [
        "Mỗi dòng ứng với kết quả làm quiz của một sinh viên.\n",
        "\n",
        "Xem qua bảng dữ liệu của file csv thì có vẻ không thấy có dòng nào \"lạc loài\" (thật ra dữ liệu ban đầu là có dòng cuối là dòng tính điểm trung bình của các cột, nhưng mình đã bỏ đi rồi)."
      ]
    },
    {
      "cell_type": "markdown",
      "metadata": {
        "id": "TzmMHr_fkV5_"
      },
      "source": [
        "### Dữ liệu có các dòng bị lặp không?"
      ]
    },
    {
      "cell_type": "markdown",
      "metadata": {
        "id": "U1l4pwt6kV5_"
      },
      "source": [
        "Xem qua bảng dữ liệu của file csv thì có vẻ không thấy có vấn đề một sinh viên xuất hiện nhiều hơn một lần."
      ]
    },
    {
      "cell_type": "markdown",
      "metadata": {
        "id": "9TaqEcgLkV5_"
      },
      "source": [
        "### Mỗi cột có ý nghĩa gì?"
      ]
    },
    {
      "cell_type": "markdown",
      "metadata": {
        "id": "IAcYMQwckV5_"
      },
      "source": [
        "- Cột \"State\": cho biết trạng thái làm bài, chẳng hạn \"Finished\" là đã nộp bài (đã ấn nút \"submit all and finish\")\n",
        "- 3 cột \"Started on\", \"Completed\", \"Time taken\": lần lượt cho biết thời điểm bắt đầu làm, thời điểm làm xong, và thời gian từ khi bắt đầu làm cho tới khi làm xong\n",
        "- Cột \"Grade/16.00\": cho biết điểm tổng (tối đa là 16, vì có 16 câu và mỗi câu 1 điểm)\n",
        "- 16 cột còn lại \"Q. 1 /1.00\", \"Q. 2 /1.00\", ...: cho biết điểm của mỗi câu quiz (mỗi câu làm đúng hoàn toàn thì sẽ được 1 điểm)"
      ]
    },
    {
      "cell_type": "markdown",
      "metadata": {
        "id": "mGJ_54SVkV6A"
      },
      "source": [
        "### Mỗi cột hiện đang có kiểu dữ liệu gì? Có cột nào có kiểu dữ liệu chưa phù hợp để có thể xử lý tiếp không?"
      ]
    },
    {
      "cell_type": "code",
      "execution_count": null,
      "metadata": {
        "id": "oYCz3wz-kV6A"
      },
      "outputs": [],
      "source": []
    },
    {
      "cell_type": "markdown",
      "metadata": {
        "id": "pOgxVGgfkV6A"
      },
      "source": [
        "Đúng như dự đoán, tất cả các cột đều đang có kiểu dữ liệu là str. Để có thể tiếp tục khám phá tiếp thì ta cần tiền xử lý để các cột có kiểu dữ liệu phù hợp.\n",
        "\n",
        "- Cột \"State\": string là đúng rồi, không cần chuyển\n",
        "- Cột \"Started on\" và \"Completed on\": chuyển sang kiểu dữ liệu datetime\n",
        "- Cột \"Time taken\": chuyển sang một con số thể hiện cho số phút\n",
        "- Các cột \"Grade/16.00\", \"Q. 1 /1.00\", ...: chuyển sang kiểu dữ liệu số"
      ]
    },
    {
      "cell_type": "markdown",
      "metadata": {
        "id": "yvM8WM2kkV6B"
      },
      "source": [
        "## Tiền xử lý"
      ]
    },
    {
      "cell_type": "code",
      "execution_count": null,
      "metadata": {
        "id": "NelQBynPkV6B"
      },
      "outputs": [],
      "source": [
        "new_cols = {}\n"
      ]
    },
    {
      "cell_type": "code",
      "execution_count": null,
      "metadata": {
        "id": "W439OLTRkV6C"
      },
      "outputs": [],
      "source": [
        "cols = new_cols"
      ]
    },
    {
      "cell_type": "code",
      "execution_count": null,
      "metadata": {
        "id": "qfdFI8jEkV6C"
      },
      "outputs": [],
      "source": []
    },
    {
      "cell_type": "markdown",
      "metadata": {
        "id": "l_trPZuekV6C"
      },
      "source": [
        "## Khám phá dữ liệu"
      ]
    },
    {
      "cell_type": "markdown",
      "metadata": {
        "id": "x8PuFXT5kV6D"
      },
      "source": [
        "### Với mỗi cột có kiểu dữ liệu dạng số (numerical), các giá trị được phân bố như thế nào?\n",
        "\n",
        "- Số-lượng/tỉ-lệ các giá trị thiếu?\n",
        "- Min? max? $\\to$ Có gì bất thường không?"
      ]
    },
    {
      "cell_type": "markdown",
      "metadata": {
        "id": "sZC1PMd1kV6D"
      },
      "source": [
        "Ta thấy: cột \"Started on\" và \"Completed\" có kiểu dữ liệu datetime nhưng cũng có thể cho gia nhập hội numeric và tính min & max luôn.\n",
        "\n",
        "Số-lượng/tỉ-lệ các giá trị thiếu? Không có giá trị thiếu.\n",
        "\n",
        "Min? Max?"
      ]
    },
    {
      "cell_type": "code",
      "execution_count": null,
      "metadata": {
        "id": "8cBWbEj2kV6D"
      },
      "outputs": [],
      "source": [
        "for col_name, col_vals in cols.items():\n",
        "    if type(col_vals[0]) != str:\n",
        "        print(f'{col_name}\\t{min(col_vals)}\\t{max(col_vals)}')\n",
        ""
      ]
    },
    {
      "cell_type": "markdown",
      "metadata": {
        "id": "ZsE1aeILkV6D"
      },
      "source": [
        "Có vẻ không có gì bất thường."
      ]
    },
    {
      "cell_type": "markdown",
      "metadata": {
        "id": "2E5gJdR7kV6D"
      },
      "source": [
        "### Với mỗi cột có kiểu dữ liệu dạng phân loại (categorical), các giá trị được phân bố như thế nào?\n",
        "\n",
        "- Số-lượng/tỉ-lệ các giá trị thiếu?\n",
        "- Số lượng các giá trị khác nhau? Show một vài giá trị \\\n",
        "$\\to$ Có gì bất thường không?"
      ]
    },
    {
      "cell_type": "markdown",
      "metadata": {
        "id": "bbHwmB8kkV6D"
      },
      "source": [
        "Hội này chỉ có một thành viên là cột \"State\"!\n",
        "\n",
        "Số-lượng/tỉ-lệ các giá trị thiếu? Không có giá trị thiếu.\n",
        "\n",
        "Số lượng các giá trị khác nhau? Show một vài giá trị"
      ]
    },
    {
      "cell_type": "code",
      "execution_count": null,
      "metadata": {
        "id": "dH2Sn7XhkV6E"
      },
      "outputs": [],
      "source": []
    },
    {
      "cell_type": "markdown",
      "metadata": {
        "id": "wAfkCdU_kV6E"
      },
      "source": [
        "Có vẻ không có gì bất thường."
      ]
    },
    {
      "cell_type": "markdown",
      "metadata": {
        "id": "QxSo6PxRkV6E"
      },
      "source": [
        "## Đưa ra câu hỏi cần trả lời"
      ]
    },
    {
      "cell_type": "markdown",
      "metadata": {
        "id": "D0wlqIcGkV6E"
      },
      "source": [
        "Sau khi đã hiểu hơn về dữ liệu, ta sẽ quay lại bước đưa ra câu hỏi cần trả lời: tinh chỉnh câu hỏi, hoặc có thể đưa ra thêm các câu hỏi mới.\n",
        "\n",
        "Câu hỏi “tình trạng hiểu về Python của các bạn trong lớp?” có thể được cụ thể hóa ra thành 2 câu hỏi:\n",
        "\n",
        "1. Cột điểm tổng “Grade/10.00” có phân bố các giá trị như thế nào?\n",
        "2. Câu quiz nào có nhiều bạn làm sai nhất, câu nào có nhiều bạn làm sai nhì, ...?"
      ]
    },
    {
      "cell_type": "markdown",
      "metadata": {
        "id": "DEyqOSx-kV6F"
      },
      "source": [
        "## Tiền xử lý + phân tích dữ liệu để trả lời cho câu hỏi 1"
      ]
    },
    {
      "cell_type": "markdown",
      "metadata": {
        "id": "lBbwMiimkV6F"
      },
      "source": [
        "*Câu hỏi 1: Cột điểm tổng “Grade/10.00” có phân bố các giá trị như thế nào?*\n",
        "\n",
        "Ở đây không cần tiền xử lý mà sẽ đi luôn vào phân tích dữ liệu.\n",
        "\n",
        "Đầu tiên, ta sẽ xem thử median của cột \"Grade/16.00\"."
      ]
    },
    {
      "cell_type": "code",
      "execution_count": null,
      "metadata": {
        "id": "-JoJDopUkV6F"
      },
      "outputs": [],
      "source": []
    },
    {
      "cell_type": "markdown",
      "metadata": {
        "id": "9cspw7_RkV6F"
      },
      "source": [
        "Để cảm thụ rõ hơn về phân bố các giá trị của cột \"Grade/16.00\", ta sẽ chia miền giá trị của cột này thành các khoảng (bin) và xem thử mỗi khoảng có bao nhiêu sinh viên.\n",
        "\n",
        "Giả sử ta sẽ chia đoạn [0, 16] thành 4 bin như sau: [0, 4], (4, 8], (8, 12], (12, 16]. Ta có thể lưu kết quả vào một dictionary, trong đó: key là một tuple cho biết 2 đầu của một bin (thay tuple bằng list thì có được không?), value là số lượng sinh viên rơi vào bin này.\n",
        "\n"
      ]
    },
    {
      "cell_type": "markdown",
      "metadata": {
        "id": "bVbfDPDOkV6G"
      },
      "source": [
        "## Tiền xử lý + phân tích dữ liệu để trả lời cho câu hỏi 2"
      ]
    },
    {
      "cell_type": "markdown",
      "metadata": {
        "id": "V4tittfFkV6G"
      },
      "source": [
        "*Câu hỏi 2: Câu quiz nào có nhiều bạn làm sai nhất, câu nào có nhiều bạn làm sai nhì, ...?*\n",
        "\n",
        "Ta có thể lưu kết quả vào một dictionary, trong đó: key là tên của cột ứng với câu quiz, value là điểm trung bình của cột. Dictionary này được sort tăng dần theo value.\n",
        "\n"
      ]
    }
  ],
  "metadata": {
    "colab": {
      "provenance": []
    },
    "kernelspec": {
      "display_name": "Python 3 (ipykernel)",
      "language": "python",
      "name": "python3"
    },
    "language_info": {
      "codemirror_mode": {
        "name": "ipython",
        "version": 3
      },
      "file_extension": ".py",
      "mimetype": "text/x-python",
      "name": "python",
      "nbconvert_exporter": "python",
      "pygments_lexer": "ipython3",
      "version": "3.8.8"
    },
    "toc": {
      "base_numbering": 1,
      "nav_menu": {},
      "number_sections": true,
      "sideBar": true,
      "skip_h1_title": false,
      "title_cell": "Table of Contents",
      "title_sidebar": "Contents",
      "toc_cell": false,
      "toc_position": {
        "height": "calc(100% - 180px)",
        "left": "10px",
        "top": "150px",
        "width": "211.352px"
      },
      "toc_section_display": true,
      "toc_window_display": false
    },
    "toc-autonumbering": false
  },
  "nbformat": 4,
  "nbformat_minor": 0
}