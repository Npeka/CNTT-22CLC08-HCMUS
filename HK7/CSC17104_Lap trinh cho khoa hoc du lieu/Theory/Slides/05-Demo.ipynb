{
 "cells": [
  {
   "cell_type": "markdown",
   "metadata": {},
   "source": [
    "# Basic String Manipulation with Python"
   ]
  },
  {
   "cell_type": "markdown",
   "metadata": {},
   "source": [
    "## Converting Text to a Standard Format"
   ]
  },
  {
   "cell_type": "code",
   "execution_count": null,
   "metadata": {},
   "outputs": [],
   "source": [
    "county_table1 = [\"De Witt County\",\n",
    "                    \"Lac qui Parle County\",\n",
    "                    \"Lewis and Clark County\",\n",
    "                    \"St John the Baptist Parish\"]\n",
    "county_table2 = [\"DeWitt\",\n",
    "                    \"Lac Qui Parle\",\n",
    "                    \"Lewis & Clark\",\n",
    "                    \"St. John the Baptist\"]"
   ]
  },
  {
   "cell_type": "code",
   "execution_count": null,
   "metadata": {},
   "outputs": [],
   "source": [
    "def clean_county(name):\n",
    " return (name\n",
    "            .lower()               # lowercase\n",
    "   \t\t\t.replace(' ', '')      # remove space\n",
    "   \t\t\t.replace('&', 'and')   # replace &\n",
    "   \t\t\t.replace('.', '')      # remove dot\n",
    "   \t\t\t.replace('county', '') \n",
    "   \t\t\t.replace('parish', '') \n",
    " \t\t)"
   ]
  },
  {
   "cell_type": "code",
   "execution_count": null,
   "metadata": {},
   "outputs": [],
   "source": [
    "for name in county_table1:\n",
    "    print(clean_county(name))\n",
    "print()\n",
    "for name in county_table2:\n",
    "    print(clean_county(name))"
   ]
  },
  {
   "cell_type": "markdown",
   "metadata": {},
   "source": [
    "## Splitting Strings to Extract Pieces of Text"
   ]
  },
  {
   "cell_type": "code",
   "execution_count": null,
   "metadata": {},
   "outputs": [],
   "source": [
    "text_log = \"\"\"169.237.46.168 - - [26/Jan/2004:10:47:58 -0800]\"GET /stat141/Winter04 HTTP/1.1\"\n",
    "301 328 \"http://anson.ucdavis.edu/courses\"\"Mozilla/4.0 (compatible; MSIE 6.0;\n",
    "Windows NT 5.0; .NET CLR 1.1.4322)\"\"\"\n",
    "print(text_log)"
   ]
  },
  {
   "cell_type": "markdown",
   "metadata": {},
   "source": [
    "**Extract:** \\\n",
    "`day`, `month`, `year`\\\n",
    "`hour`,`minute`,`secs`"
   ]
  },
  {
   "cell_type": "code",
   "execution_count": null,
   "metadata": {},
   "outputs": [],
   "source": [
    "dt1 = text_log.split('[')[1].split(']')[0]\n",
    "day, month, rest = dt1.split('/')\n",
    "rest = rest.split(' ')[0]\n",
    "year, hour, minute, secs = rest.split(':')"
   ]
  },
  {
   "cell_type": "code",
   "execution_count": null,
   "metadata": {},
   "outputs": [],
   "source": [
    "print(f'{day}/{month}/{year} {hour}:{minute}:{secs}')"
   ]
  },
  {
   "cell_type": "markdown",
   "metadata": {},
   "source": [
    "**It will be easy with RE**"
   ]
  },
  {
   "cell_type": "code",
   "execution_count": null,
   "metadata": {},
   "outputs": [],
   "source": [
    "# This is just demo showing RE strength, we will explain the formular shortly after\n",
    "import re\n",
    "regex = r'\\[(\\d+)\\/(\\w+)\\/(\\d+):(\\d+):(\\d+):(\\d+).*\\]'\n",
    "day, month, year, hour, minute, second = re.findall(regex, text_log)[0]"
   ]
  },
  {
   "cell_type": "code",
   "execution_count": null,
   "metadata": {},
   "outputs": [],
   "source": [
    "print(f'{day}/{month}/{year} {hour}:{minute}:{secs}')"
   ]
  },
  {
   "cell_type": "markdown",
   "metadata": {},
   "source": [
    "# Regular Expression"
   ]
  },
  {
   "cell_type": "code",
   "execution_count": null,
   "metadata": {},
   "outputs": [],
   "source": [
    "import re\n",
    "\n",
    "def show_regex_match(text, regex):\n",
    "    '''\n",
    "    Prints the string with the regex match highlighted.\n",
    "    \n",
    "    This function is modified from this source:\n",
    "    https://www.textbook.ds100.org/ch/12/text_regex.html\n",
    "    '''\n",
    "    result = re.sub(f'({regex})', r'\\033[1;30;43m\\1\\033[m', text)\n",
    "    result = result.replace('\\n', '\\\\n') # Make \\n visible\n",
    "    print(result)"
   ]
  },
  {
   "cell_type": "markdown",
   "metadata": {},
   "source": [
    "**FREE TO IGNORE SECTION** \n",
    "\n",
    "***This is not related to our lesson. It is just for those who currious about the magic in the above cell***\n"
   ]
  },
  {
   "cell_type": "markdown",
   "metadata": {},
   "source": [
    "**a.  How to create a string with <span style=\"color:red\">color </span>.**"
   ]
  },
  {
   "cell_type": "code",
   "execution_count": null,
   "metadata": {},
   "outputs": [],
   "source": [
    "RED='\\033[1;31m' #ANSI Color code for red\n",
    "NC='\\033[0m' # No Color\n",
    "red_str = f'{RED}love{NC}'\n",
    "print(f'I {red_str} Pizza\\n')\n",
    "red_str"
   ]
  },
  {
   "cell_type": "code",
   "execution_count": null,
   "metadata": {},
   "outputs": [],
   "source": [
    "RED='\\033[0;31;43m'#ANSI Color code for: red text (31), yellow background (43)\n",
    "NC='\\033[0m' # No Color\n",
    "red_str = f'{RED}love{NC}'\n",
    "print(f'I {red_str} Pizza\\n')\n",
    "red_str"
   ]
  },
  {
   "cell_type": "markdown",
   "metadata": {},
   "source": [
    "So the whole string for <span style=\"color:red\">red</span> text <span style=\"color:yello\">yellow</span> background is:</br>\n",
    "        `\\033[0;31;43mlove\\033[0m`\n",
    "- `\\033[0;31;43m`: mark that you start a section with **red** text (31), **yellow** background (43)\n",
    "- love: the text you want to format\n",
    "- `\\033[0m`: signal that you back to normal color"
   ]
  },
  {
   "cell_type": "markdown",
   "metadata": {},
   "source": [
    "**b.  Now let back and see the `show_regex_match` function</br>**\n",
    "This line from the function:\n",
    "\n",
    "    result = re.sub(f'({regex})', r'\\033[1;30;43m\\1\\033[0m', text)\n",
    "\n",
    "The matching text get highlight in the same way we see above.  \n",
    "- `\\033[1;30;43m`: `light (1)` `black (30)` text color with `yellow (43)` background\n",
    "- `\\1`: the matching text found by regex. To use this, we must put regex in ground: `({regex})`\n",
    "- `\\033[0m`: back to normal color"
   ]
  },
  {
   "cell_type": "markdown",
   "metadata": {},
   "source": [
    "***The above methods work for (bash shell) Linux, it may not work for other platform***\n",
    "\n",
    "Reference:\n",
    "\n",
    "https://gist.github.com/JBlond/2fea43a3049b38287e5e9cefc87b2124\n",
    "\n",
    "https://copyprogramming.com/howto/how-to-do-color-text-in-bash-script"
   ]
  },
  {
   "cell_type": "markdown",
   "metadata": {},
   "source": [
    "## Literal"
   ]
  },
  {
   "cell_type": "code",
   "execution_count": null,
   "metadata": {},
   "outputs": [],
   "source": [
    "text = '''\n",
    "Nam có email là nam123@gmail.com và có phone là 382-384-3840.\n",
    "Hoa có email là hoa456@yahoo.com và có phone là 382-384-4000.\n",
    "'''.strip()\n",
    "regex = r'email'\n",
    "show_regex_match(text, regex)"
   ]
  },
  {
   "cell_type": "code",
   "execution_count": null,
   "metadata": {},
   "outputs": [],
   "source": [
    "s = '\\t123'\n",
    "print(s)"
   ]
  },
  {
   "cell_type": "code",
   "execution_count": null,
   "metadata": {},
   "outputs": [],
   "source": [
    "# Raw string\n",
    "s = r'\\t123'\n",
    "print(s)"
   ]
  },
  {
   "cell_type": "code",
   "execution_count": null,
   "metadata": {},
   "outputs": [],
   "source": [
    "# Regex phân biệt viết hoa và viết thường\n",
    "text = '''\n",
    "Nam có email là nam123@gmail.com và có phone là 382-384-3840.\n",
    "Hoa có email là hoa456@yahoo.com và có phone là 382-384-4000.\n",
    "'''.strip()\n",
    "regex = r'n'\n",
    "show_regex_match(text, regex)"
   ]
  },
  {
   "cell_type": "markdown",
   "metadata": {},
   "source": [
    "## Character set"
   ]
  },
  {
   "cell_type": "code",
   "execution_count": null,
   "metadata": {},
   "outputs": [],
   "source": [
    "text = '''\n",
    "Nam có email là nam123@gmail.com và có phone là 382-384-3840.\n",
    "Hoa có email là hoa456@yahoo.com và có phone là 382-384-4000.\n",
    "'''.strip()\n",
    "# Viết regex ứng với chuỗi gồm 1 ký tự trong tập gồm 7 ký tự: \n",
    "# 1, 2, 3, a, b, c, .\n",
    "regex = r'[123abc.]'\n",
    "show_regex_match(text, regex)"
   ]
  },
  {
   "cell_type": "code",
   "execution_count": null,
   "metadata": {},
   "outputs": [],
   "source": [
    "text = '''\n",
    "Nam có email là nam123@gmail.com và có phone là 382-384-3840.\n",
    "Hoa có email là hoa456@yahoo.com và có phone là 382-384-4000.\n",
    "'''.strip()\n",
    "# Dùng cú pháp [] để viết regex ứng với các US phone\n",
    "regex = r'[0123456789][0123456789][0123456789]-[0123456789][0123456789][0123456789]-[0123456789][0123456789][0123456789][0123456789]'\n",
    "show_regex_match(text, regex)"
   ]
  },
  {
   "cell_type": "code",
   "execution_count": null,
   "metadata": {},
   "outputs": [],
   "source": [
    "text = '''\n",
    "Nam có email là nam123@gmail.com và có phone là 382-384-3840.\n",
    "Hoa có email là hoa456@yahoo.com và có phone là 382-384-4000.\n",
    "'''.strip()\n",
    "# Dùng cú pháp [start-end] để viết regex ứng với các US phone\n",
    "regex = r'[0-9][0-9][0-9]-[0-9][0-9][0-9]-[0-9][0-9][0-9][0-9]'\n",
    "show_regex_match(text, regex)"
   ]
  },
  {
   "cell_type": "code",
   "execution_count": null,
   "metadata": {},
   "outputs": [],
   "source": [
    "text = '''\n",
    "Nam có email là nam123@gmail.com và có phone là 382-384-3840.\n",
    "Hoa có email là hoa456@yahoo.com và có phone là 382-384-4000.\n",
    "'''.strip()\n",
    "# Viết regex ứng với chuỗi gồm 1 ký tự mà không phải là số\n",
    "regex = r'[^0-9]'\n",
    "show_regex_match(text, regex)"
   ]
  },
  {
   "cell_type": "code",
   "execution_count": null,
   "metadata": {},
   "outputs": [],
   "source": [
    "text = '''\n",
    "Nam có email là nam123@gmail.com và có phone là 382-384-3840.\n",
    "Hoa có email là hoa456@yahoo.com và có phone là 382-384-4000.\n",
    "'''.strip()\n",
    "# Viết regex ứng với chuỗi gồm 1 ký tự trong tập gồm 4 ký tự: \n",
    "# ^, 0, -, 9\n",
    "# regex = r'[\\^0\\-9]'\n",
    "regex = r'[09^-]'\n",
    "show_regex_match(text, regex)"
   ]
  },
  {
   "cell_type": "code",
   "execution_count": null,
   "metadata": {},
   "outputs": [],
   "source": [
    "text = '''\n",
    "Nam có email là nam123@gmail.com và có phone là 382-384-3840.\n",
    "Hoa có email là hoa456@yahoo.com và có phone là 382-384-4000.\n",
    "'''.strip()\n",
    "# Viết regex ứng với chuỗi gồm 3 ký tự không phải là newline \n",
    "# và ký tự đầu là e\n",
    "regex = r'e..' \n",
    "show_regex_match(text, regex)"
   ]
  },
  {
   "cell_type": "code",
   "execution_count": null,
   "metadata": {},
   "outputs": [],
   "source": [
    "text = '''\n",
    "Nam có email là nam123@gmail.com và có phone là 382-384-3840.\n",
    "Hoa có email là hoa456@yahoo.com và có phone là 382-384-4000.\n",
    "'''.strip()\n",
    "# Viết regex ứng với chuỗi gồm 1 ký tự trong tập gồm:\n",
    "# các ký tự chữ cái từ a đến z (cả viết thường lẫn viết hoa),\n",
    "# các ký tự số từ 0 đến 9\n",
    "# và ký tự _\n",
    "regex = r'[a-zA-Z0-9_]'\n",
    "# regex = r'\\w'\n",
    "show_regex_match(text, regex)"
   ]
  },
  {
   "cell_type": "code",
   "execution_count": null,
   "metadata": {},
   "outputs": [],
   "source": [
    "text = '''\n",
    "Nam có email là nam123@gmail.com và có phone là 382-384-3840.\n",
    "Hoa có email là hoa456@yahoo.com và có phone là 382-384-4000.\n",
    "'''.strip()\n",
    "# Dùng cú pháp \\d để viết regex ứng với các US phone\n",
    "regex = r'\\d\\d\\d-\\d\\d\\d-\\d\\d\\d\\d'\n",
    "show_regex_match(text, regex)"
   ]
  },
  {
   "cell_type": "code",
   "execution_count": null,
   "metadata": {},
   "outputs": [],
   "source": [
    "text = '''\n",
    "Nam có email là nam123@gmail.com và có phone là 382-384-3840.\n",
    "Hoa có email là hoa456@yahoo.com và có phone là 382-384-4000.\n",
    "'''.strip()\n",
    "# Đố: viết regex ứng với chuỗi gồm một ký tự bất kỳ\n",
    "regex = r'[\\d\\D]'\n",
    "show_regex_match(text, regex)"
   ]
  },
  {
   "cell_type": "markdown",
   "metadata": {},
   "source": [
    "## Quantifier\n"
   ]
  },
  {
   "cell_type": "code",
   "execution_count": null,
   "metadata": {},
   "outputs": [],
   "source": [
    "text = '''\n",
    "Nam có email là nam123@gmail.com và có phone là 382-384-3840.\n",
    "Hoa có email là hoa456@yahoo.com và có phone là 382-384-4000.\n",
    "'''.strip()\n",
    "# Dùng cú pháp \\d & quantifier để viết regex ứng với các US phone\n",
    "regex = r'\\d{3}-\\d{3}-\\d{4}'\n",
    "show_regex_match(text, regex)"
   ]
  },
  {
   "cell_type": "code",
   "execution_count": null,
   "metadata": {},
   "outputs": [],
   "source": [
    "# Tính greedy của quantifier\n",
    "text = '''\n",
    "Nam có email là nam123@gmail.com và có phone là 382-384-3840.\n",
    "Hoa có email là hoa456@yahoo.com và có phone là 382-384-4000. \n",
    "'''.strip()\n",
    "regex = r'1.+3'\n",
    "show_regex_match(text, regex)"
   ]
  },
  {
   "cell_type": "markdown",
   "metadata": {},
   "source": [
    "## Group "
   ]
  },
  {
   "cell_type": "code",
   "execution_count": null,
   "metadata": {},
   "outputs": [],
   "source": [
    "text = '''\n",
    "Nam có email là nam123@gmail.com và có phone là 382-384-3840.\n",
    "Hoa có email là hoa456@yahoo.com và có phone là 382-384-4000.\n",
    "'''.strip()\n",
    "# Dùng cú pháp \\d & quantifier & group để viết regex \n",
    "# ứng với các US phone\n",
    "regex = r'(\\d{3}-){2}\\d{4}'\n",
    "show_regex_match(text, regex)"
   ]
  },
  {
   "cell_type": "markdown",
   "metadata": {},
   "source": [
    "## Anchor"
   ]
  },
  {
   "cell_type": "code",
   "execution_count": null,
   "metadata": {},
   "outputs": [],
   "source": [
    "text = '''\n",
    "Nam có email là nam123@gmail.com và có phone là 382-384-3840.\n",
    "Hoa có email là hoa456@yahoo.com và có phone là 382-384-4000.\n",
    "'''.strip()\n",
    "# Viết regex ứng với chuỗi con \"email\" ở đầu chuỗi\n",
    "regex = r'^email'\n",
    "show_regex_match(text, regex)"
   ]
  },
  {
   "cell_type": "code",
   "execution_count": null,
   "metadata": {},
   "outputs": [],
   "source": [
    "text = '''\n",
    "Nam có email là nam123@gmail.com và có phone là 382-384-3840.\n",
    "Hoa có email là hoa456@yahoo.com và có phone là 382-384-4000.\n",
    "'''.strip()\n",
    "# Viết regex ứng với chuỗi con \".\" ở cuối chuỗi\n",
    "regex = r'\\.$'\n",
    "show_regex_match(text, regex)"
   ]
  },
  {
   "cell_type": "code",
   "execution_count": null,
   "metadata": {},
   "outputs": [],
   "source": [
    "text = '''\n",
    "Nam có email là nam123@gmail.com và có phone là 382-384-3840.\n",
    "Hoa có email là hoa456@yahoo.com và có phone là 382-384-4000.\n",
    "'''.strip()\n",
    "# Viết regex ứng với chuỗi con \"e\" ở đầu từ\n",
    "# \\b thể hiện boundary, Nó có chiều dài = 0, match với khoảng trắng hoặc dấu câu\n",
    "regex = r'\\be'\n",
    "show_regex_match(text, regex)"
   ]
  },
  {
   "cell_type": "code",
   "execution_count": null,
   "metadata": {},
   "outputs": [],
   "source": [
    "text = '''\n",
    "Nam có mail là nam123@gmail.com và có phone là 382-384-3840.\n",
    "Hoa có email là hoa456@yahoo.com và có phone là 382-384-4000.\n",
    "'''.strip()\n",
    "# Viết regex ứng với chuỗi con \"e\" ở đầu từ\n",
    "# \\B pattern không bắt đầu\n",
    "\n",
    "regex = r'\\Bmail'\n",
    "show_regex_match(text, regex)"
   ]
  },
  {
   "cell_type": "markdown",
   "metadata": {},
   "source": [
    "## Or "
   ]
  },
  {
   "cell_type": "code",
   "execution_count": null,
   "metadata": {
    "scrolled": true
   },
   "outputs": [],
   "source": [
    "text = '''\n",
    "Nam có email là nam123@gmail.com và có phone là 382-384-3840.\n",
    "Hoa có email là hoa456@yahoo.com và có phone là 382-384-4000.\n",
    "'''.strip()\n",
    "# Viết regex ứng với các email đuôi gmail hoặc yahoo\n",
    "regex = r'\\w+@(gmail|yahoo)\\.com'\n",
    "show_regex_match(text, regex)"
   ]
  },
  {
   "cell_type": "markdown",
   "metadata": {},
   "source": [
    "# Regex trong Python"
   ]
  },
  {
   "cell_type": "code",
   "execution_count": null,
   "metadata": {
    "scrolled": true
   },
   "outputs": [],
   "source": [
    "text = '''\n",
    "Nam có email là nam123@gmail.com và có phone là 382-384-3840.\n",
    "Hoa có email là hoa456@yahoo.com và có phone là 382-384-4000.\n",
    "'''.strip()\n",
    "regex = r'(\\w+)@(gmail|yahoo)\\.com'\n",
    "match = re.search(regex, text)\n",
    "match"
   ]
  },
  {
   "cell_type": "code",
   "execution_count": null,
   "metadata": {},
   "outputs": [],
   "source": [
    "text[16:32]"
   ]
  },
  {
   "cell_type": "code",
   "execution_count": null,
   "metadata": {},
   "outputs": [],
   "source": [
    "match.group(0)"
   ]
  },
  {
   "cell_type": "code",
   "execution_count": null,
   "metadata": {},
   "outputs": [],
   "source": [
    "match.group(1)"
   ]
  },
  {
   "cell_type": "code",
   "execution_count": null,
   "metadata": {},
   "outputs": [],
   "source": [
    "match.group(2)"
   ]
  },
  {
   "cell_type": "code",
   "execution_count": null,
   "metadata": {
    "scrolled": true
   },
   "outputs": [],
   "source": [
    "text = '''\n",
    "Nam có email là nam123@gmail.com và có phone là 382-384-3840.\n",
    "Hoa có email là hoa456@yahoo.com và có phone là 382-384-4000.\n",
    "'''.strip()\n",
    "regex = r'(\\w+)@(gmail|yahoo)\\.com'\n",
    "matches = re.finditer(regex, text)\n",
    "for match in matches:\n",
    "    print(match)"
   ]
  },
  {
   "cell_type": "code",
   "execution_count": null,
   "metadata": {},
   "outputs": [],
   "source": []
  },
  {
   "cell_type": "code",
   "execution_count": null,
   "metadata": {
    "scrolled": true
   },
   "outputs": [],
   "source": [
    "text = '''\n",
    "Nam có email là nam123@gmail.com và có phone là 382-384-3840.\n",
    "Hoa có email là hoa456@yahoo.com và có phone là 382-384-4000.\n",
    "'''.strip()\n",
    "regex = r'(\\w+)@(gmail|yahoo)\\.com'\n",
    "matches = re.findall(regex, text)\n",
    "matches"
   ]
  },
  {
   "cell_type": "code",
   "execution_count": null,
   "metadata": {
    "scrolled": true
   },
   "outputs": [],
   "source": [
    "text = '''\n",
    "Nam có email là nam123@gmail.com và có phone là 382-384-3840.\n",
    "Hoa có email là hoa456@yahoo.com và có phone là 382-384-4000.\n",
    "'''.strip()\n",
    "regex = r'\\w+@' # Không có group\n",
    "matches = re.findall(regex, text)\n",
    "matches"
   ]
  },
  {
   "cell_type": "code",
   "execution_count": null,
   "metadata": {},
   "outputs": [],
   "source": [
    "# With group\n",
    "text = '''\n",
    "Nam có email là nam123@gmail.com và có phone là 382-384-3840.\n",
    "Hoa có email là hoa456@yahoo.com và có phone là 382-384-4000.\n",
    "'''.strip()\n",
    "regex = r'\\w+@(gmail.com)' # Có group\n",
    "matches = re.findall(regex, text)\n",
    "matches"
   ]
  },
  {
   "cell_type": "code",
   "execution_count": null,
   "metadata": {},
   "outputs": [],
   "source": [
    "# Without group\n",
    "text = '''\n",
    "Nam có email là nam123@gmail.com và có phone là 382-384-3840.\n",
    "Hoa có email là hoa456@yahoo.com và có phone là 382-384-4000.\n",
    "'''.strip()\n",
    "regex = r'\\w+@gmail.com' # Không có group\n",
    "matches = re.findall(regex, text)\n",
    "matches"
   ]
  },
  {
   "cell_type": "code",
   "execution_count": null,
   "metadata": {},
   "outputs": [],
   "source": [
    "text = '1/1/2021, 5-1-2021, 3.1.2021, 4*1*2021'\n",
    "# text.replace('-', '/').replace('.', '/').replace('*', '/')\n",
    "re.sub(r'[-.*]', '/', text)"
   ]
  },
  {
   "cell_type": "code",
   "execution_count": null,
   "metadata": {},
   "outputs": [],
   "source": []
  },
  {
   "cell_type": "code",
   "execution_count": null,
   "metadata": {},
   "outputs": [],
   "source": [
    "text = '''\n",
    "Chương 1: C..............01\n",
    "Chương 2: C++............05\n",
    "Chương 3: Python.........10\n",
    "'''.strip()\n",
    "\n",
    "lines = text.split('\\n')\n",
    "for line in lines:\n",
    "    print(re.split(r'\\.+', line))"
   ]
  },
  {
   "cell_type": "code",
   "execution_count": null,
   "metadata": {
    "scrolled": true
   },
   "outputs": [],
   "source": [
    "text = '''\n",
    "Nam có email là nam123@gmail.com và có phone là 382-384-3840.\n",
    "Hoa có email là hoa456@yahoo.com và có phone là 382-384-4000.\n",
    "'''.strip()\n",
    "regex = r'nam'\n",
    "matches = re.findall(regex, text, re.IGNORECASE)\n",
    "matches"
   ]
  },
  {
   "cell_type": "markdown",
   "metadata": {},
   "source": [
    "**Some more example**"
   ]
  },
  {
   "cell_type": "code",
   "execution_count": null,
   "metadata": {},
   "outputs": [],
   "source": [
    "text = '''\n",
    "I will meet you at 08:30:00 pm tomorrow\n",
    "'''.strip()\n",
    "# Find hour, minutes and seconds\n",
    "regex = r'(\\d\\d):(\\d\\d):(\\d\\d)'\n",
    "matches = re.findall(regex, text)\n",
    "matches"
   ]
  },
  {
   "cell_type": "code",
   "execution_count": null,
   "metadata": {},
   "outputs": [],
   "source": [
    "text = '''\n",
    "<div><td valign=\"top\">Body text</td></div>\n",
    "'''.strip()\n",
    "# Remove all HTML tags\n",
    "regex = r'<[^>]+>'\n",
    "matches = re.sub(regex, '', text)\n",
    "matches"
   ]
  },
  {
   "cell_type": "markdown",
   "metadata": {},
   "source": [
    "# Text Analysis Project"
   ]
  },
  {
   "cell_type": "code",
   "execution_count": null,
   "metadata": {},
   "outputs": [],
   "source": [
    "file = open('Data/stateoftheunion1790-2022.txt', 'r')\n",
    "text = file.read()\n",
    "print(text[0:1000])"
   ]
  },
  {
   "cell_type": "markdown",
   "metadata": {},
   "source": [
    "**The number of speeches**"
   ]
  },
  {
   "cell_type": "code",
   "execution_count": null,
   "metadata": {},
   "outputs": [],
   "source": [
    "import re\n",
    "num_speeches = len(re.findall(r\"\\*\\*\\*\", text))\n",
    "print(f'There are {num_speeches} speeches total')"
   ]
  },
  {
   "cell_type": "code",
   "execution_count": null,
   "metadata": {},
   "outputs": [],
   "source": [
    "records = text.split(\"***\")"
   ]
  },
  {
   "cell_type": "code",
   "execution_count": null,
   "metadata": {},
   "outputs": [],
   "source": [
    "records = records[1:]"
   ]
  },
  {
   "cell_type": "markdown",
   "metadata": {},
   "source": [
    "**Exttract name, date, and\ttext of the speech**"
   ]
  },
  {
   "cell_type": "code",
   "execution_count": null,
   "metadata": {},
   "outputs": [],
   "source": [
    "def extract_parts(speech):\n",
    "    speech = speech.strip().split('\\n')[1:]\n",
    "    [name, date, *lines] = speech\n",
    "    body = '\\n'.join(lines).strip()\n",
    "    return [name, date, body]"
   ]
  },
  {
   "cell_type": "code",
   "execution_count": null,
   "metadata": {},
   "outputs": [],
   "source": [
    "speeches = {}\n",
    "column_name = ['name','date','body']\n",
    "for name in column_name:\n",
    "    speeches[name] = []\n",
    "for s in records:\n",
    "    info = extract_parts(s)\n",
    "    for i in range(len(column_name)):\n",
    "        speeches[column_name[i]].append(info[i])\n",
    "speeches"
   ]
  },
  {
   "cell_type": "code",
   "execution_count": null,
   "metadata": {},
   "outputs": [],
   "source": [
    "print(speeches['body'][0][0:500])"
   ]
  },
  {
   "cell_type": "markdown",
   "metadata": {},
   "source": [
    "**Clean text**"
   ]
  },
  {
   "cell_type": "markdown",
   "metadata": {},
   "source": [
    "- Capitalization shouldn’t matter: \"Citizens\" and \"citizens\" should be considered the same word. We can address this by lowercasing the text.\n",
    "\n",
    "- There are unspoken remarks in the text: [laughter] points out where the audience laughed, but these shouldn’t count as part of the speech. We can address this by using a regex to remove text within brackets: `\\[[^\\]+]\\]`. \n",
    "\n",
    "- We should take out characters that aren’t letters or whitespace: some speeches talk about finances, but a dollar amount shouldn’t count as a word. We can use the regex `[^a-z\\s]` to remove these characters. This regex matches any character that isn’t a lowercase letter (a-z) or a whitespace character (\\s)."
   ]
  },
  {
   "cell_type": "code",
   "execution_count": null,
   "metadata": {},
   "outputs": [],
   "source": [
    "def clean_text(text):\n",
    "    text = text.lower()\n",
    "    text = re.sub(r'\\[[^\\]+]\\]','',text)\n",
    "    text = re.sub(r'[^a-z\\s]',' ',text)\n",
    "    return text"
   ]
  },
  {
   "cell_type": "code",
   "execution_count": null,
   "metadata": {},
   "outputs": [],
   "source": [
    "cleaned_speeches = [clean_text(s) for s in speeches['body']]\n",
    "cleaned_speeches"
   ]
  },
  {
   "cell_type": "code",
   "execution_count": null,
   "metadata": {},
   "outputs": [],
   "source": [
    "print(cleaned_speeches[0])"
   ]
  }
 ],
 "metadata": {
  "kernelspec": {
   "display_name": "Python 3 (ipykernel)",
   "language": "python",
   "name": "python3"
  },
  "language_info": {
   "codemirror_mode": {
    "name": "ipython",
    "version": 3
   },
   "file_extension": ".py",
   "mimetype": "text/x-python",
   "name": "python",
   "nbconvert_exporter": "python",
   "pygments_lexer": "ipython3",
   "version": "3.11.6"
  },
  "toc": {
   "base_numbering": 1,
   "nav_menu": {},
   "number_sections": true,
   "sideBar": true,
   "skip_h1_title": false,
   "title_cell": "Table of Contents",
   "title_sidebar": "Contents",
   "toc_cell": false,
   "toc_position": {},
   "toc_section_display": true,
   "toc_window_display": false
  }
 },
 "nbformat": 4,
 "nbformat_minor": 4
}
