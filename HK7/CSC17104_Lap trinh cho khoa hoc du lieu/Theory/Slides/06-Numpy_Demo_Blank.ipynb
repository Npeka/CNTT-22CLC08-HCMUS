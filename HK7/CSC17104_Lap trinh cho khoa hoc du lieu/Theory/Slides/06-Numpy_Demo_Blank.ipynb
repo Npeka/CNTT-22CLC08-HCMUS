{
 "cells": [
  {
   "cell_type": "markdown",
   "metadata": {
    "tags": []
   },
   "source": [
    "# Numpy"
   ]
  },
  {
   "cell_type": "markdown",
   "metadata": {},
   "source": [
    "**Reference for numpy**\n",
    "1. [Official Document](https://numpy.org/doc/stable/reference/arrays.html)\n",
    "2. [Python Data Science Handbook\n",
    "](https://jakevdp.github.io/PythonDataScienceHandbook/02.00-introduction-to-numpy.html)\n",
    "3. [Numpy cheat sheet](https://www.datacamp.com/cheat-sheet/numpy-cheat-sheet-data-analysis-in-python)"
   ]
  },
  {
   "cell_type": "code",
   "execution_count": null,
   "metadata": {
    "hide_input": false
   },
   "outputs": [],
   "source": [
    "import numpy as np\n",
    "\n",
    "import matplotlib.pyplot as plt\n",
    "import random # Thư viện built-in của Python "
   ]
  },
  {
   "cell_type": "markdown",
   "metadata": {},
   "source": [
    "Kiểm tra cài đặt numpy"
   ]
  },
  {
   "cell_type": "code",
   "execution_count": null,
   "metadata": {},
   "outputs": [],
   "source": [
    "np.__version__"
   ]
  },
  {
   "cell_type": "markdown",
   "metadata": {
    "tags": []
   },
   "source": [
    "## Tại sao lại cần Numpy"
   ]
  },
  {
   "cell_type": "markdown",
   "metadata": {},
   "source": [
    "Nhân 2 ma trận bằng Python list + vòng lặp:"
   ]
  },
  {
   "cell_type": "code",
   "execution_count": null,
   "metadata": {
    "tags": []
   },
   "outputs": [],
   "source": [
    "# Tạo 2 ma trận có kích thước 1000x500 và 500x1000\n",
    "nrows1 = 1000; ncols1 = nrows2 = 500; ncols2 = 1000\n",
    "m1_list = []\n",
    "for r in range(nrows1):\n",
    "    row_vals = []\n",
    "    for c in range(ncols1):\n",
    "        row_vals.append(random.randint(-100, 100))\n",
    "    m1_list.append(row_vals)\n",
    "    \n",
    "m2_list = []\n",
    "for r in range(nrows2):\n",
    "    row_vals = []\n",
    "    for c in range(ncols2):\n",
    "        row_vals.append(random.randint(-100, 100))\n",
    "    m2_list.append(row_vals)\n",
    "    \n",
    "print(len(m1_list), len(m1_list[0]))\n",
    "print(len(m2_list), len(m2_list[0]))"
   ]
  },
  {
   "cell_type": "code",
   "execution_count": null,
   "metadata": {
    "tags": []
   },
   "outputs": [],
   "source": [
    "%%time\n",
    "# Nhân 2 ma trận\n",
    "m3_list = []\n",
    "for r in range(nrows1):\n",
    "    row_vals = []\n",
    "    for c in range(ncols2):\n",
    "        temp = 0\n",
    "        for i in range(ncols1):\n",
    "            temp += m1_list[r][i] * m2_list[i][c]\n",
    "        row_vals.append(temp)\n",
    "    m3_list.append(row_vals)"
   ]
  },
  {
   "cell_type": "markdown",
   "metadata": {},
   "source": [
    "Nhân 2 ma trận bằng Numpy array + toán tử nhân ma trận của Numpy:"
   ]
  },
  {
   "cell_type": "code",
   "execution_count": null,
   "metadata": {},
   "outputs": [],
   "source": []
  },
  {
   "cell_type": "code",
   "execution_count": null,
   "metadata": {},
   "outputs": [],
   "source": []
  },
  {
   "cell_type": "markdown",
   "metadata": {},
   "source": [
    "So sánh 2 cách làm:\n",
    "\n",
    "- Thời gian viết code: ...\n",
    "- Thời gian chạy: ...\n",
    "- Kết quả: ..."
   ]
  },
  {
   "cell_type": "code",
   "execution_count": null,
   "metadata": {},
   "outputs": [],
   "source": [
    "# m3_list có bằng m3_array không?\n",
    "np.all(np.array(m3_list) == m3_array)"
   ]
  },
  {
   "cell_type": "markdown",
   "metadata": {
    "tags": []
   },
   "source": [
    "## Tạo Numpy array & xem thông tin của Numpy array "
   ]
  },
  {
   "cell_type": "code",
   "execution_count": null,
   "metadata": {},
   "outputs": [],
   "source": [
    "# Tạo 1D array từ list\n"
   ]
  },
  {
   "cell_type": "code",
   "execution_count": null,
   "metadata": {},
   "outputs": [],
   "source": [
    "# Tạo 2D array từ list\n"
   ]
  },
  {
   "cell_type": "code",
   "execution_count": null,
   "metadata": {},
   "outputs": [],
   "source": [
    "# Xem các thông tin của array\n",
    "print('Số chiều:', )\n",
    "print('Số lượng phần tử của mỗi chiều:', )\n",
    "print('Tổng số lượng phần tử:', )\n",
    "print('Kiểu dữ liệu của mỗi phần tử:', )\n",
    "print('Kích thước (byte) của mỗi phần tử:', )\n",
    "print('Tổng kích thước (byte):', )"
   ]
  },
  {
   "cell_type": "code",
   "execution_count": null,
   "metadata": {},
   "outputs": [],
   "source": [
    "# Tạo ra array toàn với cùng một giá trị, chẳng hạn 0\n",
    " # Shortcut: np.zeros((2,3)) (cũng có np.ones)\n"
   ]
  },
  {
   "cell_type": "code",
   "execution_count": null,
   "metadata": {},
   "outputs": [],
   "source": [
    "# Tạo ra array gồm các số được phát sinh ngẫu nghiên\n",
    "# Ví dụ, số nguyên được phát sinh theo phân bố đều trong [0, 10)   \n"
   ]
  },
  {
   "cell_type": "code",
   "execution_count": null,
   "metadata": {},
   "outputs": [],
   "source": [
    "# Tạo ra array rỗng (không khởi tạo giá trị)\n"
   ]
  },
  {
   "cell_type": "code",
   "execution_count": null,
   "metadata": {},
   "outputs": [],
   "source": [
    "# Tạo ra ma trận đơn vị (identity matrix)\n"
   ]
  },
  {
   "cell_type": "code",
   "execution_count": null,
   "metadata": {},
   "outputs": [],
   "source": [
    "# Tạo ra array gồm các số cách đều nhau\n",
    "# Ví dụ, array gồm: 1, 1.5, 2, 2.5, ..., 5\n",
    "# Cách 1: chỉ định đầu, cuối, và bước nhảy\n"
   ]
  },
  {
   "cell_type": "code",
   "execution_count": null,
   "metadata": {},
   "outputs": [],
   "source": [
    "# Tạo ra array gồm các số cách đều nhau\n",
    "# Ví dụ, array gồm: 1, 1.5, 2, 2.5, ..., 5\n",
    "# Cách 2: chỉ định đầu, cuối, và số lượng phần tử\n"
   ]
  },
  {
   "cell_type": "code",
   "execution_count": null,
   "metadata": {},
   "outputs": [],
   "source": [
    "# Tạo ra array từ một array khác bằng cách thay đổi shape\n"
   ]
  },
  {
   "cell_type": "markdown",
   "metadata": {},
   "source": [
    "`b` trỏ tới một array object khác với `a`:"
   ]
  },
  {
   "cell_type": "code",
   "execution_count": null,
   "metadata": {},
   "outputs": [],
   "source": [
    "b is a"
   ]
  },
  {
   "cell_type": "markdown",
   "metadata": {},
   "source": [
    "Nếu object mà `b` trỏ tới hoàn toàn độc lập với object mà `a` trỏ tới thì `b` được gọi là một copy (deep copy) của `a` $\\to$ khi thay đổi dữ liệu ở `b` (ví dụ, cho `b[0, 0] = 99`) thì không làm ảnh hưởng đến dữ liệu ở `a`.\n",
    "\n",
    "Còn nếu object mà `b` trỏ tới dùng chung dữ liệu (một object có khá nhiều thành phần, trong đó có dữ liệu) với object mà `a` trỏ tới thì `b` được gọi là view (shallow copy) của `a` $\\to$ khi thay đổi dữ liệu ở `b` thì sẽ làm thay đổi dữ liệu ở `a`.\n",
    "\n",
    "Ở đây, `b` là có được bằng cách reshape `a`. Vậy `b` là copy hay là view của `a`?\n",
    "\n",
    "Một cách là kiểm tra `b.flags.owndata`. Nếu kết quả là True thì có nghĩa là `b` có dữ liệu độc lập của `b`, tức `b` là copy của `a`; ngược lại `b` là view của `a`."
   ]
  },
  {
   "cell_type": "code",
   "execution_count": null,
   "metadata": {},
   "outputs": [],
   "source": []
  },
  {
   "cell_type": "code",
   "execution_count": null,
   "metadata": {},
   "outputs": [],
   "source": []
  },
  {
   "cell_type": "markdown",
   "metadata": {},
   "source": [
    "**Các kiểu dữ liệu của numpy**"
   ]
  },
  {
   "cell_type": "markdown",
   "metadata": {},
   "source": [
    "| Data type\t    | Description |\n",
    "|---------------|-------------|\n",
    "| ``bool_``     | Boolean (True or False) stored as a byte |\n",
    "| ``int_``      | Default integer type (same as C ``long``; normally either ``int64`` or ``int32``)| \n",
    "| ``intc``      | Identical to C ``int`` (normally ``int32`` or ``int64``)| \n",
    "| ``intp``      | Integer used for indexing (same as C ``ssize_t``; normally either ``int32`` or ``int64``)| \n",
    "| ``int8``      | Byte (-128 to 127)| \n",
    "| ``int16``     | Integer (-32768 to 32767)|\n",
    "| ``int32``     | Integer (-2147483648 to 2147483647)|\n",
    "| ``int64``     | Integer (-9223372036854775808 to 9223372036854775807)| \n",
    "| ``uint8``     | Unsigned integer (0 to 255)| \n",
    "| ``uint16``    | Unsigned integer (0 to 65535)| \n",
    "| ``uint32``    | Unsigned integer (0 to 4294967295)| \n",
    "| ``uint64``    | Unsigned integer (0 to 18446744073709551615)| \n",
    "| ``float_``    | Shorthand for ``float64``.| \n",
    "| ``float16``   | Half precision float: sign bit, 5 bits exponent, 10 bits mantissa| \n",
    "| ``float32``   | Single precision float: sign bit, 8 bits exponent, 23 bits mantissa| \n",
    "| ``float64``   | Double precision float: sign bit, 11 bits exponent, 52 bits mantissa| \n",
    "| ``complex_``  | Shorthand for ``complex128``.| \n",
    "| ``complex64`` | Complex number, represented by two 32-bit floats| \n",
    "| ``complex128``| Complex number, represented by two 64-bit floats| "
   ]
  },
  {
   "cell_type": "code",
   "execution_count": null,
   "metadata": {
    "scrolled": true
   },
   "outputs": [],
   "source": [
    "# Tạo array từ file\n",
    "# File 'P4DS-Grades.csv' chứa điểm môn này của khóa trước ;-)\n",
    "# 3 cột đầu ứng với điểm 3 HW (mỗi HW chiếm 50%/3 tổng điểm)\n",
    "# cột cuối ứng điểm đồ án cuối kỳ (chiếm 50% tổng điểm)\n"
   ]
  },
  {
   "cell_type": "markdown",
   "metadata": {
    "tags": []
   },
   "source": [
    "## Truy xuất (và thay đổi) các phần tử trong Numpy array"
   ]
  },
  {
   "cell_type": "markdown",
   "metadata": {
    "heading_collapsed": true
   },
   "source": [
    "### Integer indexing"
   ]
  },
  {
   "cell_type": "code",
   "execution_count": null,
   "metadata": {
    "hidden": true
   },
   "outputs": [],
   "source": [
    "# Sinh viên đầu tiên có điểm đồ án cuối kỳ là bao nhiêu?\n"
   ]
  },
  {
   "cell_type": "code",
   "execution_count": null,
   "metadata": {
    "hidden": true,
    "scrolled": true
   },
   "outputs": [],
   "source": [
    "# Sinh viên cuối cùng có điểm đồ án cuối kỳ là bao nhiêu?\n"
   ]
  },
  {
   "cell_type": "code",
   "execution_count": null,
   "metadata": {
    "hidden": true,
    "scrolled": true
   },
   "outputs": [],
   "source": [
    "# Sửa điểm đồ án cho sinh viên đầu tiên thành 0.5\n"
   ]
  },
  {
   "cell_type": "markdown",
   "metadata": {
    "heading_collapsed": true
   },
   "source": [
    "### Slicing"
   ]
  },
  {
   "cell_type": "markdown",
   "metadata": {},
   "source": [
    "Tương tự slicing trong List \\\n",
    "**`x[start:stop:step]`**"
   ]
  },
  {
   "cell_type": "code",
   "execution_count": null,
   "metadata": {},
   "outputs": [],
   "source": []
  },
  {
   "cell_type": "code",
   "execution_count": null,
   "metadata": {},
   "outputs": [],
   "source": [
    "# Lấy các phần tử ở vị trí chẵn\n"
   ]
  },
  {
   "cell_type": "code",
   "execution_count": null,
   "metadata": {},
   "outputs": [],
   "source": [
    "# Lấy các phần tử ở vị trí lẻ\n"
   ]
  },
  {
   "cell_type": "code",
   "execution_count": null,
   "metadata": {},
   "outputs": [],
   "source": [
    "# Đảo ngược dãy số\n"
   ]
  },
  {
   "cell_type": "code",
   "execution_count": null,
   "metadata": {
    "hidden": true
   },
   "outputs": [],
   "source": [
    "# 5 sinh viên đầu có điểm 3 HW là bao nhiêu?\n"
   ]
  },
  {
   "cell_type": "code",
   "execution_count": null,
   "metadata": {
    "hidden": true,
    "scrolled": true
   },
   "outputs": [],
   "source": [
    "# Lấy ra cột điểm đồ án cuối kỳ\n"
   ]
  },
  {
   "cell_type": "code",
   "execution_count": null,
   "metadata": {
    "hidden": true
   },
   "outputs": [],
   "source": [
    "# Lấy ra cột điểm đồ án cuối kỳ\n",
    "# bằng cách kết hợp slicing với integer indexing \n",
    " # Array kết quả bị giảm chiều"
   ]
  },
  {
   "cell_type": "code",
   "execution_count": null,
   "metadata": {
    "hidden": true,
    "scrolled": true
   },
   "outputs": [],
   "source": [
    "# Sinh viên cuối cùng có các điểm là bao nhiêu?\n",
    "# (lấy ra mảng một chiều)\n",
    " # Hoặc: p4ds_grades[-1]"
   ]
  },
  {
   "cell_type": "code",
   "execution_count": null,
   "metadata": {
    "hidden": true,
    "scrolled": true
   },
   "outputs": [],
   "source": [
    "# Array có được khi thực hiện slicing \n",
    "# là view hay copy của array ban đầu?\n"
   ]
  },
  {
   "cell_type": "code",
   "execution_count": null,
   "metadata": {
    "hidden": true
   },
   "outputs": [],
   "source": [
    "# Để ý sự kết biệt giữa slicing ở Numpy array và slicing ở list\n"
   ]
  },
  {
   "cell_type": "code",
   "execution_count": null,
   "metadata": {},
   "outputs": [],
   "source": [
    "# Tạo ra mảng copy của mảng gốc\n"
   ]
  },
  {
   "cell_type": "markdown",
   "metadata": {},
   "source": [
    "**Convert mảng 1D thành 2D**"
   ]
  },
  {
   "cell_type": "code",
   "execution_count": null,
   "metadata": {},
   "outputs": [],
   "source": [
    "x = np.arange(3)\n",
    "x"
   ]
  },
  {
   "cell_type": "code",
   "execution_count": null,
   "metadata": {},
   "outputs": [],
   "source": [
    "# Dùng reshape\n"
   ]
  },
  {
   "cell_type": "code",
   "execution_count": null,
   "metadata": {},
   "outputs": [],
   "source": [
    "# Dùng newaxis\n"
   ]
  },
  {
   "cell_type": "code",
   "execution_count": null,
   "metadata": {},
   "outputs": [],
   "source": [
    "# Dùng newaxis\n"
   ]
  },
  {
   "cell_type": "markdown",
   "metadata": {},
   "source": [
    "**Nối hai mảng**"
   ]
  },
  {
   "cell_type": "code",
   "execution_count": null,
   "metadata": {},
   "outputs": [],
   "source": [
    "# Nối hai mảng x và y\n",
    "x = np.array([1, 2, 3])\n",
    "y = np.array([3, 2, 1])\n"
   ]
  },
  {
   "cell_type": "code",
   "execution_count": null,
   "metadata": {},
   "outputs": [],
   "source": [
    "# Nối mảng 2D\n",
    "grid = np.array([[1, 2, 3],\n",
    "                 [4, 5, 6]])"
   ]
  },
  {
   "cell_type": "code",
   "execution_count": null,
   "metadata": {},
   "outputs": [],
   "source": [
    "# Nối theo chiều ngang\n"
   ]
  },
  {
   "cell_type": "code",
   "execution_count": null,
   "metadata": {},
   "outputs": [],
   "source": [
    "# Nối theo chiều dọc\n"
   ]
  },
  {
   "cell_type": "markdown",
   "metadata": {
    "heading_collapsed": true
   },
   "source": [
    "### Bool array indexing"
   ]
  },
  {
   "cell_type": "code",
   "execution_count": null,
   "metadata": {
    "hidden": true
   },
   "outputs": [],
   "source": [
    "# Lấy ra các điểm đồ án cuối kỳ < 5\n"
   ]
  },
  {
   "cell_type": "code",
   "execution_count": null,
   "metadata": {
    "hidden": true
   },
   "outputs": [],
   "source": [
    "# Lấy ra các điểm đồ án cuối kỳ >= 8 và <= 9\n"
   ]
  },
  {
   "cell_type": "markdown",
   "metadata": {},
   "source": [
    "**Sự khác biệt giữa `and` và `&`** \\\n",
    "`and` : boolean AND \\\n",
    "`&`: bitwise AND"
   ]
  },
  {
   "cell_type": "code",
   "execution_count": null,
   "metadata": {},
   "outputs": [],
   "source": [
    "0 < 1 and 0 < 2"
   ]
  },
  {
   "cell_type": "code",
   "execution_count": null,
   "metadata": {},
   "outputs": [],
   "source": [
    "5&6"
   ]
  },
  {
   "cell_type": "code",
   "execution_count": null,
   "metadata": {},
   "outputs": [],
   "source": [
    "a = np.random.choice(a=[False, True],size=5)\n",
    "b = np.random.choice(a=[False, True],size=5)\n",
    "print(a)\n",
    "print(b)\n",
    "print(a&b)\n",
    "print(a|b)"
   ]
  },
  {
   "cell_type": "code",
   "execution_count": null,
   "metadata": {
    "hidden": true
   },
   "outputs": [],
   "source": [
    "# Lấy ra điểm HW1 của các sinh viên có điểm đồ án cuối kỳ = 10\n",
    "# bằng cách kết hợp bool array indexing với integer indexing\n"
   ]
  },
  {
   "cell_type": "code",
   "execution_count": null,
   "metadata": {
    "hidden": true
   },
   "outputs": [],
   "source": [
    "# Lấy ra các điểm ứng với các sinh viên có điểm đồ án cuối kỳ = 10\n",
    "# bằng cách kết hợp bool array indexing với slicing\n"
   ]
  },
  {
   "cell_type": "markdown",
   "metadata": {
    "heading_collapsed": true
   },
   "source": [
    "### Integer array indexing"
   ]
  },
  {
   "cell_type": "code",
   "execution_count": null,
   "metadata": {
    "hidden": true
   },
   "outputs": [],
   "source": [
    "# Lấy ra điểm HW1 của sinh viên thứ nhất\n",
    "#        điểm HW2 của sinh viên thứ năm\n",
    "#        điểm đồ án cuối kỳ của sinh viên thứ mười\n"
   ]
  },
  {
   "cell_type": "code",
   "execution_count": null,
   "metadata": {
    "hidden": true
   },
   "outputs": [],
   "source": [
    "# Lấy ra ngẫu nhiên 5 sinh viên để xem điểm\n"
   ]
  },
  {
   "cell_type": "markdown",
   "metadata": {
    "tags": []
   },
   "source": [
    "## Fun example: vẽ hình"
   ]
  },
  {
   "cell_type": "markdown",
   "metadata": {},
   "source": [
    "Vẽ bàn cờ 8x8 như hình. Bạn có thể tùy ý chọn màu cho ô (xem giá trị rgb của các màu [ở đây](https://flaviocopes.com/rgb-color-codes/)). Nếu bạn có array 3 chiều với `shape` là height x with x 3 và `dtype` là `np.uint8` thì bạn có thể trực quan hóa array này dưới dạng ảnh bằng hàm `plt.imshow`.\n",
    "![image.png](data:image/png;base64,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)"
   ]
  },
  {
   "cell_type": "code",
   "execution_count": null,
   "metadata": {},
   "outputs": [],
   "source": [
    "a = np.zeros((8, 8, 3), dtype=np.uint8)\n",
    "yellow_green = [154, 205, 50]\n",
    "\n",
    "plt.imshow(a)\n",
    "plt.xticks(range(8))\n",
    "plt.yticks(range(8));"
   ]
  },
  {
   "cell_type": "markdown",
   "metadata": {
    "tags": []
   },
   "source": [
    "## Tính toán trên Numpy array "
   ]
  },
  {
   "cell_type": "markdown",
   "metadata": {},
   "source": [
    "Để sử dụng Numpy hiệu quả thì thay đổi cách tư duy: cần suy nghĩ về <font color=blue>các thao tác tính toán trên nguyên mảng</font> mà Numpy đã cung cấp, chứ không phải là các thao tác tính toán trên từng con số"
   ]
  },
  {
   "cell_type": "markdown",
   "metadata": {},
   "source": [
    "Hầu hết mọi thao tác tính toán trên mảng mà ta có thể nghĩ tới thì đều đã được Numpy cung cấp:\n",
    "\n",
    "`+`, `np.add`\\\n",
    "`-`, `np.subtract`\\\n",
    "`-`, `np.negative`\\\n",
    "`*`, `np.multiply`\\\n",
    "`@`, `np.dot`\\\n",
    "`/`, `np.divide`\\\n",
    "`//`, `np.floor_divide`\\\n",
    "`**`, `np.power`\\\n",
    "`%`, `np.mod`\\\n",
    "`np.abs`\\\n",
    "`np.exp`\\\n",
    "`np.log`\\\n",
    "...\n",
    "\n",
    "`==`, `np.equal`\\\n",
    "`<`, `np.less`\\\n",
    "`>`, `np.greater`\\\n",
    "`!=`, `np.not_equal`\\\n",
    "`<=`, `np.less_equal`\\\n",
    "`>=`, `np.greater_equal`\\\n",
    "`&`, `np.bitwise_and`\\\n",
    "`|`, `np.bitwise_or`\\\n",
    "`~`, `np.bitwise_not`\\\n",
    "`np.nonzero`\\\n",
    "`np.any`\\\n",
    "`np.all`\\\n",
    "...\n",
    "\n",
    "`np.sum`\\\n",
    "`np.prod`\\\n",
    "`np.min`\\\n",
    "`np.max`\\\n",
    "`np.argmin`\\\n",
    "`np.argmax`\\\n",
    "...\n",
    "\n",
    "`np.mean`\\\n",
    "`np.std`\\\n",
    "`np.percentile`\\\n",
    "`np.histogram`\\\n",
    "`np.unique`\\\n",
    "`np.sort`\\\n",
    "`np.argsort`\\\n",
    "...\n",
    "\n",
    "Với một tính toán nào đó trên Numpy array, ngoài dạng hàm (hoặc toán tử) thì thường ta cũng có thể gọi phương thức tương đương từ Numpy array \\\n",
    "$\\to$ Giúp đáp ứng các \"khẩu vị code\" khác nhau của người dùng"
   ]
  },
  {
   "cell_type": "code",
   "execution_count": null,
   "metadata": {},
   "outputs": [],
   "source": [
    "# Tính min, max của mỗi cột điểm\n",
    "# để xem có gì bất thường không\n"
   ]
  },
  {
   "cell_type": "code",
   "execution_count": null,
   "metadata": {},
   "outputs": [],
   "source": [
    "# Tính cột điểm tổng kết\n"
   ]
  },
  {
   "cell_type": "code",
   "execution_count": null,
   "metadata": {},
   "outputs": [],
   "source": [
    "# Tỉ lệ SV rớt môn là bao nhiêu?\n"
   ]
  },
  {
   "cell_type": "markdown",
   "metadata": {},
   "source": [
    "## Example: Iris dataset extraction"
   ]
  },
  {
   "cell_type": "markdown",
   "metadata": {},
   "source": [
    "Trong bài này, chúng ta sẽ áp dụng numpy để tiền xử lý dữ liệu trong tập dữ liệu [Iris](https://www.kaggle.com/datasets/arshid/iris-flower-dataset/data)."
   ]
  },
  {
   "cell_type": "code",
   "execution_count": null,
   "metadata": {},
   "outputs": [],
   "source": [
    "# Q. Rút trích cột text về loại hoa từ tập dữ liệu\n",
    "\n"
   ]
  },
  {
   "cell_type": "code",
   "execution_count": null,
   "metadata": {},
   "outputs": [],
   "source": [
    "# Q. Convert mảng 1 chiều iris thành mảng 2 chiều bằng cách bỏ cột text\n",
    "\n"
   ]
  },
  {
   "cell_type": "code",
   "execution_count": null,
   "metadata": {},
   "outputs": [],
   "source": [
    "# Q. Tìm mean, median, standard deviation của sepallength (1st column)\n",
    "\n"
   ]
  },
  {
   "cell_type": "code",
   "execution_count": null,
   "metadata": {},
   "outputs": [],
   "source": [
    "# Q. Chuẩn hóa cột sepallength để giá trị trong khoảng [0,1]\n",
    "\n"
   ]
  },
  {
   "cell_type": "code",
   "execution_count": null,
   "metadata": {},
   "outputs": [],
   "source": [
    "# Q. Tính softmax score của sepallength.\n",
    "\n",
    "# The Softmax regression is a form of logistic regression that normalizes an input \n",
    "# value into a vector of values that follows a probability distribution whose total sums up to 1. \n"
   ]
  }
 ],
 "metadata": {
  "kernelspec": {
   "display_name": "Python 3 (ipykernel)",
   "language": "python",
   "name": "python3"
  },
  "language_info": {
   "codemirror_mode": {
    "name": "ipython",
    "version": 3
   },
   "file_extension": ".py",
   "mimetype": "text/x-python",
   "name": "python",
   "nbconvert_exporter": "python",
   "pygments_lexer": "ipython3",
   "version": "3.11.6"
  },
  "toc": {
   "base_numbering": 1,
   "nav_menu": {},
   "number_sections": false,
   "sideBar": true,
   "skip_h1_title": false,
   "title_cell": "Table of Contents",
   "title_sidebar": "Contents",
   "toc_cell": false,
   "toc_position": {
    "height": "338.4px",
    "left": "140px",
    "top": "32.133px",
    "width": "165px"
   },
   "toc_section_display": true,
   "toc_window_display": true
  }
 },
 "nbformat": 4,
 "nbformat_minor": 4
}
