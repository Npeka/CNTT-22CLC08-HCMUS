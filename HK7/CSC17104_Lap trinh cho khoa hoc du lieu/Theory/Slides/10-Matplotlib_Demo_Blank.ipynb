{
 "cells": [
  {
   "cell_type": "markdown",
   "metadata": {},
   "source": [
    "# Trực quan hóa dữ liệu với Matplotlib"
   ]
  },
  {
   "cell_type": "code",
   "execution_count": null,
   "metadata": {
    "hide_input": false
   },
   "outputs": [],
   "source": [
    "import matplotlib.pyplot as plt\n",
    "import numpy as np\n",
    "import seaborn as sns\n",
    "import pandas as pd\n",
    "\n",
    "import datetime as dt\n",
    "import math"
   ]
  },
  {
   "cell_type": "markdown",
   "metadata": {},
   "source": [
    "## Mục tiêu của trực quan hóa dữ liệu"
   ]
  },
  {
   "cell_type": "markdown",
   "metadata": {},
   "source": [
    "**Mục tiêu 1: Để giúp bạn hiểu rõ hơn về dữ liệu/kết quả của mình.**\r",
    "- Phần quan trọng trong khám phá dữ liệu (exploratory data)\n",
    "- Tóm tắc các xu hướng một cách trực quan trước khi phân tích sâu hơn\n",
    "\n",
    "**Mục tiêu 2: Truyền đạt kết quả/kết luận cho người khác.**\n",
    "- Tính chỉnh sửa và chọn lọc cao\n",
    "- Cần tinh chỉnh để đạt được mục tiêu truyền đạt.\n",
    "\n",
    "**Lưu ý**:\n",
    "- Visualizations aren't a matter of making \"pretty\" pictures.\r",
    "- We need to do a lot of thinking about what stylistic choices communicate ideas most effective"
   ]
  },
  {
   "cell_type": "markdown",
   "metadata": {},
   "source": [
    "Trực quan hóa gồm hai giai đoạn:\n",
    "- Chọn đúng plot\n",
    "- Tình chỉnh plot phù hợp"
   ]
  },
  {
   "cell_type": "markdown",
   "metadata": {},
   "source": [
    "## Histogram\n",
    "\n",
    "Dùng để trực quan hóa phân bố các giá trị của biến dạng \"numerical\"\n",
    "- **Numerical**\n",
    "- Categorical\n",
    "\n",
    "Histogram gồm:\n",
    "- Phân chia các điểm dữ liệu có giá trị tương tự vào một \"bin\" chung.\r",
    "- Scale các bin sao cho diện tích của mỗi bin bằng tỷ lệ phần trăm của các điểm dữ liệu trong đó\n"
   ]
  },
  {
   "cell_type": "markdown",
   "metadata": {},
   "source": [
    "### Đọc dữ liệu điểm quiz từ file và tiền xử lý"
   ]
  },
  {
   "cell_type": "code",
   "execution_count": null,
   "metadata": {},
   "outputs": [],
   "source": [
    "# Đọc dữ liệu về kết quả làm quiz của lớp\n",
    "# (Code lấy từ file 05-Demo.ipynb)\n",
    "file = open('Data/PythonQuiz2023.csv', 'r',encoding='utf-8-sig')\n",
    "\n",
    "cols = {}\n",
    "first_line_vals = file.readline().rstrip().split(',')\n",
    "for first_line_val in first_line_vals:\n",
    "    cols[first_line_val] = []\n",
    "for line in file:\n",
    "    line_vals = line.rstrip().split(',')\n",
    "    if (line_vals[0] == 'Never submitted'):\n",
    "        continue\n",
    "    for i in range(len(line_vals)):\n",
    "        cols[first_line_vals[i]].append(line_vals[i])\n",
    "\n",
    "file.close()\n",
    "\n",
    "for col_name, col_vals in cols.items():\n",
    "    print(f'{col_name}: [{col_vals[0]}, ...]')"
   ]
  },
  {
   "cell_type": "code",
   "execution_count": null,
   "metadata": {},
   "outputs": [],
   "source": [
    "# Chuyển kiểu dữ liệu của các cột từ str sang kiểu dữ liệu phù hợp\n",
    "# (Code lấy từ file 04-Demo.ipynb)\n",
    "new_cols = {}\n",
    "for col_name, col_vals in cols.items():\n",
    "    if '/' in col_name:\n",
    "        new_col_vals = []\n",
    "        for col_val in col_vals:\n",
    "            try:\n",
    "                col_val = float(col_val)\n",
    "            except:\n",
    "                col_val = 0\n",
    "            new_col_vals.append(float(col_val))\n",
    "        new_cols[col_name] = new_col_vals\n",
    "    elif col_name in ['Started on', 'Completed']:\n",
    "        new_col_vals = []\n",
    "        for col_val in col_vals:\n",
    "            new_col_val = dt.datetime.strptime(col_val,\n",
    "                                               '%d/%m/%Y %H:%M')\n",
    "            new_col_vals.append(new_col_val)\n",
    "        new_cols[col_name] = new_col_vals\n",
    "    elif col_name == 'Time taken':\n",
    "        new_col_vals = []\n",
    "        for col_val in col_vals:\n",
    "            hour = 0; minute = 0; second = 0\n",
    "            temp_list = col_val.split(' ')\n",
    "            for temp_i in range(len(temp_list)):\n",
    "                if 'hour' in temp_list[temp_i]:\n",
    "                    hour = int(temp_list[temp_i - 1])\n",
    "                elif 'min' in temp_list[temp_i]:\n",
    "                    minute = int(temp_list[temp_i - 1])\n",
    "                elif 'sec' in temp_list[temp_i]:\n",
    "                    second = int(temp_list[temp_i - 1])\n",
    "            new_col_val = hour * 60 + minute + second / 60\n",
    "            new_col_vals.append(new_col_val)\n",
    "        new_cols[col_name] = new_col_vals\n",
    "    else:\n",
    "        new_cols[col_name] = col_vals"
   ]
  },
  {
   "cell_type": "code",
   "execution_count": null,
   "metadata": {},
   "outputs": [],
   "source": [
    "cols = new_cols\n",
    "for col_name, col_vals in cols.items():\n",
    "    print(f'{col_name} {type(col_vals[0])}')"
   ]
  },
  {
   "cell_type": "markdown",
   "metadata": {},
   "source": [
    "### Vẽ histogram của cột điểm \"Grade/10.00\" với 4 bin có độ rộng bằng nhau"
   ]
  },
  {
   "cell_type": "code",
   "execution_count": null,
   "metadata": {},
   "outputs": [],
   "source": []
  },
  {
   "cell_type": "markdown",
   "metadata": {},
   "source": [
    "Kết quả đã tính ở file \"04-Demo.ipynb\": \\\n",
    "`{(0, 2): 0, (2, 4): 0, (4, 6): 10, (6, 8): 18, (8, 10): 26}`\\\n",
    "    *Bộ dữ liệu hơn khác với bài 04-Demo.ipynb để minh họa thêm ý trong bài này*\\\n",
    "    *Trong Dataset dùng trong bài 04-Demo.ipynb, (0, 2): 1*"
   ]
  },
  {
   "cell_type": "code",
   "execution_count": null,
   "metadata": {},
   "outputs": [],
   "source": [
    "# Chia ra 4 bin có độ rộng bằng nhau\n",
    "# bằng cách truyền một con số vào tham số bin của plt.hist\n"
   ]
  },
  {
   "cell_type": "markdown",
   "metadata": {},
   "source": [
    "### Vẽ histogram của cột điểm \"Grade/10.00\" với 2 bin có độ rộng không bằng nhau là [0, 7.5) và [7.5, 10]"
   ]
  },
  {
   "cell_type": "code",
   "execution_count": null,
   "metadata": {},
   "outputs": [],
   "source": []
  },
  {
   "cell_type": "markdown",
   "metadata": {},
   "source": [
    "Khi nhìn hình, bạn cảm nhận số lượng sinh viên ở bin thứ 1 như thế nào với bin thứ 2? \\\n",
    "Có vẻ nhiều hơn!\n",
    "\n",
    "Nhưng cảm nhận này không đúng: bin thứ 1 có 19 sinh viên, còn bin thứ 2 có 35 sinh viên.\n",
    "\n",
    "Tại sao ta lại có cảm nhận không đúng này? \\\n",
    "Vì mắt của ta tập trung vào diện tích của cột hơn là chiều cao của cột.\n",
    "\n",
    "Hình vẽ ở trên thật ra không phải là histogram!"
   ]
  },
  {
   "cell_type": "code",
   "execution_count": null,
   "metadata": {},
   "outputs": [],
   "source": [
    "# Đây mới là histogram!\n",
    "# Diện tích của cột ứng với số lượng sinh viên đã được chuẩn hóa \n",
    "# về tỉ lệ tương đối (tổng diện tích của các cột sẽ bằng 1) \n"
   ]
  },
  {
   "cell_type": "code",
   "execution_count": null,
   "metadata": {},
   "outputs": [],
   "source": []
  },
  {
   "cell_type": "code",
   "execution_count": null,
   "metadata": {},
   "outputs": [],
   "source": []
  },
  {
   "cell_type": "markdown",
   "metadata": {},
   "source": [
    "### Tiếp tục với histogram gồm 2 bin [0, 7.5) và [7.5, 10]: phân bố của các giá trị trong bin [7.5, 10]?"
   ]
  },
  {
   "cell_type": "markdown",
   "metadata": {},
   "source": [
    "Histogram giả định các giá trị được phân bố đều trong mỗi bin. Điều này được thể hiện bởi đường nằm ngang ở trên đầu cột của mỗi bin."
   ]
  },
  {
   "cell_type": "code",
   "execution_count": null,
   "metadata": {},
   "outputs": [],
   "source": [
    "# Thử chi tiết hóa ra bin [12, 16]\n"
   ]
  },
  {
   "cell_type": "markdown",
   "metadata": {},
   "source": [
    "Tùy ngữ cảnh cụ thể mà bạn có thể muốn chi tiết hóa ra, có thể không muốn chi tiết hóa ra, nhưng khi nhìn hình của histogram thì bạn nên hiểu về giả định phân bố đều trong mỗi bin của histogram."
   ]
  },
  {
   "cell_type": "markdown",
   "metadata": {},
   "source": [
    "### Vẽ histogram của cột điểm \"Grade/10.00\" với 4 bin [0, 2), [2, 4), [4, 6),  [6, 8), [8, 10] + 3 đường đứng ứng với lower quartile, median, upper quartile"
   ]
  },
  {
   "cell_type": "code",
   "execution_count": null,
   "metadata": {
    "scrolled": true
   },
   "outputs": [],
   "source": [
    "def compute_percentile(data, p):\n",
    "    sorted_grades = sorted(data)\n",
    "    i = int(p/100 * (len(sorted_grades)-1))\n",
    "    return sorted_grades[i]\n",
    "lower_quartile = compute_percentile(cols['Grade/10.00'], 25)\n",
    "median = compute_percentile(cols['Grade/10.00'], 50)\n",
    "upper_quartile = compute_percentile(cols['Grade/10.00'], 75)\n",
    "lower_quartile, median, upper_quartile"
   ]
  },
  {
   "cell_type": "code",
   "execution_count": null,
   "metadata": {},
   "outputs": [],
   "source": []
  },
  {
   "cell_type": "markdown",
   "metadata": {},
   "source": [
    "Tại sao diện tích của cột từ upper quartile đến max lại không tương đương với từ median đến upper quartile?\n",
    "\n",
    "Do giả định phân bố đều của histogram trong bin [5, 10] là không chính xác. Thật ra là có nhiều giá trị tập trung vào vùng từ upper quartile đến max hơn là từ median đến upper quartile."
   ]
  },
  {
   "cell_type": "code",
   "execution_count": null,
   "metadata": {},
   "outputs": [],
   "source": [
    "# So sánh histogram của các distribution\n"
   ]
  },
  {
   "cell_type": "code",
   "execution_count": null,
   "metadata": {},
   "outputs": [],
   "source": []
  },
  {
   "cell_type": "code",
   "execution_count": null,
   "metadata": {},
   "outputs": [],
   "source": [
    "## Two-Dimensional Histograms and Binnings\n"
   ]
  },
  {
   "cell_type": "code",
   "execution_count": null,
   "metadata": {},
   "outputs": [],
   "source": [
    "# Dùng plt.hist2d để vẽ 2D histogram\n"
   ]
  },
  {
   "cell_type": "markdown",
   "metadata": {},
   "source": [
    "## Bar plot\n",
    "\n",
    "Dùng để trực quan hóa phân bố các giá trị của biến dạng \"categorical\"\n",
    "- Numerical\n",
    "- **Categorical**"
   ]
  },
  {
   "cell_type": "markdown",
   "metadata": {},
   "source": [
    "### Đọc dữ liệu đăng ký chuyên ngành K2021 (CQ) từ file và lấy ra cột các chuyên ngành"
   ]
  },
  {
   "cell_type": "code",
   "execution_count": null,
   "metadata": {
    "scrolled": true
   },
   "outputs": [],
   "source": []
  },
  {
   "cell_type": "code",
   "execution_count": null,
   "metadata": {},
   "outputs": [],
   "source": []
  },
  {
   "cell_type": "code",
   "execution_count": null,
   "metadata": {},
   "outputs": [],
   "source": []
  },
  {
   "cell_type": "markdown",
   "metadata": {},
   "source": [
    "### Vẽ bar plot của cột các chuyên ngành"
   ]
  },
  {
   "cell_type": "markdown",
   "metadata": {},
   "source": [
    "Bước 1: đếm số lần xuất hiện của mỗi chuyên ngành"
   ]
  },
  {
   "cell_type": "code",
   "execution_count": null,
   "metadata": {},
   "outputs": [],
   "source": []
  },
  {
   "cell_type": "code",
   "execution_count": null,
   "metadata": {},
   "outputs": [],
   "source": []
  },
  {
   "cell_type": "markdown",
   "metadata": {},
   "source": [
    "Bước 2: vẽ bar plot từ kết quả của bước 1"
   ]
  },
  {
   "cell_type": "code",
   "execution_count": null,
   "metadata": {},
   "outputs": [],
   "source": []
  },
  {
   "cell_type": "code",
   "execution_count": null,
   "metadata": {
    "scrolled": true
   },
   "outputs": [],
   "source": []
  },
  {
   "cell_type": "code",
   "execution_count": null,
   "metadata": {},
   "outputs": [],
   "source": [
    "# Trong bar plot, ta thường sẽ chuẩn hóa các giá trị đếm \n",
    "# về tỉ lệ tương đối\n"
   ]
  },
  {
   "cell_type": "markdown",
   "metadata": {},
   "source": [
    "`pandas` native plotting:"
   ]
  },
  {
   "cell_type": "code",
   "execution_count": null,
   "metadata": {},
   "outputs": [],
   "source": []
  },
  {
   "cell_type": "code",
   "execution_count": null,
   "metadata": {},
   "outputs": [],
   "source": []
  },
  {
   "cell_type": "markdown",
   "metadata": {},
   "source": [
    "Bar plot vs histogram?"
   ]
  },
  {
   "cell_type": "markdown",
   "metadata": {},
   "source": [
    "Bar plot | Histogram\n",
    ":--- | :---\n",
    "Trục hoành (hay trục tung đối với bar plot nằm ngang) là biến \"categorical\" | Trục hoành là biến \"numerical\"\n",
    "Với biến \"categorical\" không có tính thứ tự (ví dụ, chuyên ngành) thì các bar không có thứ tự với nhau và ta có thể sắp xếp lại thứ tự của các bar cho dễ nhìn bằng cách sort các bar theo chiều cao; với biến \"categorical\" có tính thứ tự (ví dụ, mức độ hài lòng với các giá trị: rất hài lòng, hài lòng, không hài lòng, ...) thì các bar có thứ tự với nhau | Các bar có thứ tự với nhau\n",
    "Các bar có độ rộng bằng nhau, giữa các bar có thể có các khoảng không và các khoảng không này bằng nhau | Các bar có thể có độ rộng không bằng nhau, các bar nằm nối tiếp nhau tạo thành một đoạn liên tục trên trục hoành\n",
    "Tỉ lệ các phần tử tương ứng với chiều cao của bar | Tỉ lệ các phần tử tương ứng với diện tích của bar"
   ]
  },
  {
   "cell_type": "markdown",
   "metadata": {},
   "source": [
    "## Ôn lại các câu lệnh đã học"
   ]
  },
  {
   "cell_type": "markdown",
   "metadata": {},
   "source": [
    "Câu lệnh | Ý nghĩa\n",
    ":--- | :---\n",
    "`plt.hist` | Vẽ histogram của biến dạng \"numeric\"\n",
    "`plt.bar`, `plt.barh` | Vẽ bar chart của biến dạng \"categorical\" (cần phải tính số lần hoặc tỉ lệ của các giá trị trước khi vẽ)\n",
    "`plt.title` | Thêm tựa đề cho hình vẽ\n",
    "`plt.xlabel` & `plt.ylabel` | Thêm nhãn cho trục x & y\n",
    "`plt.xlim` & `plt.ylim` | Giới hạn miền giá trị cho trục x & y\n",
    "`plt.xticks` & `plt.yticks` | Chỉ định các tick cho trục x & y\n",
    "`plt.axvline` & `plt.axhline` | Vẽ đường thẳng nằm đứng & nằm ngang\n",
    "`plt.legend` | Thêm chú thích cho ký hiệu, màu, ... trên hình vẽ\n",
    "`plt.savefig` | Lưu hình vẽ xuống file"
   ]
  },
  {
   "cell_type": "markdown",
   "metadata": {},
   "source": [
    "## Một số cách plot phổ biến khác"
   ]
  },
  {
   "cell_type": "code",
   "execution_count": null,
   "metadata": {},
   "outputs": [],
   "source": []
  },
  {
   "cell_type": "code",
   "execution_count": null,
   "metadata": {},
   "outputs": [],
   "source": []
  },
  {
   "cell_type": "code",
   "execution_count": null,
   "metadata": {},
   "outputs": [],
   "source": []
  },
  {
   "cell_type": "code",
   "execution_count": null,
   "metadata": {},
   "outputs": [],
   "source": []
  },
  {
   "cell_type": "code",
   "execution_count": null,
   "metadata": {},
   "outputs": [],
   "source": [
    "# Scatter Plots dùng để trực quan hóa mối quan hệ giữa hai biến liên tục\n"
   ]
  },
  {
   "cell_type": "code",
   "execution_count": null,
   "metadata": {},
   "outputs": [],
   "source": []
  },
  {
   "cell_type": "code",
   "execution_count": null,
   "metadata": {},
   "outputs": [],
   "source": []
  },
  {
   "cell_type": "code",
   "execution_count": null,
   "metadata": {},
   "outputs": [],
   "source": []
  },
  {
   "cell_type": "markdown",
   "metadata": {},
   "source": [
    "**Dùng scatter plot**"
   ]
  },
  {
   "cell_type": "code",
   "execution_count": null,
   "metadata": {},
   "outputs": [],
   "source": []
  },
  {
   "cell_type": "code",
   "execution_count": null,
   "metadata": {},
   "outputs": [],
   "source": [
    "# Format của từng point (size, face color, edge color) có thể được xử lý riêng lẻ\n"
   ]
  },
  {
   "cell_type": "markdown",
   "metadata": {},
   "source": [
    "- `plot` sẽ nhanh hơn scatter (trên dữ liệu lớn)\n",
    "- `scatter` sẽ hiển thị được các điểm khác nhau."
   ]
  },
  {
   "cell_type": "markdown",
   "metadata": {},
   "source": [
    "## Nói thêm về matplotlib  "
   ]
  },
  {
   "cell_type": "markdown",
   "metadata": {},
   "source": [
    "### Ba cách dùng matplotlib"
   ]
  },
  {
   "cell_type": "markdown",
   "metadata": {},
   "source": [
    "<font color=blue>Cách 1: Dùng các câu lệnh của `plt`</font> (trước giờ là làm theo cách này)"
   ]
  },
  {
   "cell_type": "code",
   "execution_count": null,
   "metadata": {},
   "outputs": [],
   "source": [
    "values = ['a', 'b', 'c']\n",
    "counts = [1, 2, 3]\n",
    "\n"
   ]
  },
  {
   "cell_type": "code",
   "execution_count": null,
   "metadata": {},
   "outputs": [],
   "source": []
  },
  {
   "cell_type": "markdown",
   "metadata": {},
   "source": [
    "<font color=blue>Cách 2: Dùng trực tiếp các phương thức của đối tượng figure ở bên dưới</font>"
   ]
  },
  {
   "cell_type": "code",
   "execution_count": null,
   "metadata": {},
   "outputs": [],
   "source": []
  },
  {
   "cell_type": "code",
   "execution_count": null,
   "metadata": {},
   "outputs": [],
   "source": []
  },
  {
   "cell_type": "code",
   "execution_count": null,
   "metadata": {
    "scrolled": true
   },
   "outputs": [],
   "source": []
  },
  {
   "cell_type": "code",
   "execution_count": null,
   "metadata": {},
   "outputs": [],
   "source": []
  },
  {
   "cell_type": "code",
   "execution_count": null,
   "metadata": {},
   "outputs": [],
   "source": []
  },
  {
   "cell_type": "markdown",
   "metadata": {},
   "source": [
    "<font color=blue>Cách 3: Trộn lẫn giữa cách 1 và cách 2</font>"
   ]
  },
  {
   "cell_type": "code",
   "execution_count": null,
   "metadata": {},
   "outputs": [],
   "source": []
  },
  {
   "cell_type": "code",
   "execution_count": null,
   "metadata": {},
   "outputs": [],
   "source": []
  },
  {
   "cell_type": "markdown",
   "metadata": {},
   "source": [
    "### Thay đổi style cho các hình vẽ "
   ]
  },
  {
   "cell_type": "code",
   "execution_count": null,
   "metadata": {},
   "outputs": [],
   "source": []
  },
  {
   "cell_type": "code",
   "execution_count": null,
   "metadata": {},
   "outputs": [],
   "source": []
  },
  {
   "cell_type": "markdown",
   "metadata": {},
   "source": [
    "Xem thêm về các style ở [document](https://matplotlib.org/stable/gallery/style_sheets/style_sheets_reference.html)."
   ]
  },
  {
   "cell_type": "markdown",
   "metadata": {},
   "source": [
    "# Vẽ nhiều subplot"
   ]
  },
  {
   "cell_type": "code",
   "execution_count": null,
   "metadata": {},
   "outputs": [],
   "source": [
    "plt.style.use('seaborn-v0_8-white')"
   ]
  },
  {
   "cell_type": "markdown",
   "metadata": {},
   "source": [
    "**Tự tạo ra các trục tọa độ (axis)**"
   ]
  },
  {
   "cell_type": "code",
   "execution_count": null,
   "metadata": {},
   "outputs": [],
   "source": []
  },
  {
   "cell_type": "code",
   "execution_count": null,
   "metadata": {},
   "outputs": [],
   "source": []
  },
  {
   "cell_type": "code",
   "execution_count": null,
   "metadata": {},
   "outputs": [],
   "source": []
  },
  {
   "cell_type": "markdown",
   "metadata": {},
   "source": [
    "**Dùng subplot (lưu ý không `s`)**"
   ]
  },
  {
   "cell_type": "code",
   "execution_count": null,
   "metadata": {},
   "outputs": [],
   "source": []
  },
  {
   "cell_type": "code",
   "execution_count": null,
   "metadata": {},
   "outputs": [],
   "source": []
  },
  {
   "cell_type": "code",
   "execution_count": null,
   "metadata": {},
   "outputs": [],
   "source": []
  },
  {
   "cell_type": "code",
   "execution_count": null,
   "metadata": {},
   "outputs": [],
   "source": [
    "# Thay đổi khoảng cách giữa các subplot\n"
   ]
  },
  {
   "cell_type": "markdown",
   "metadata": {},
   "source": [
    "### ``plt.subplots``: Vẽ toàn bộ gird\n",
    "**Lưu ý có `s`**"
   ]
  },
  {
   "cell_type": "code",
   "execution_count": null,
   "metadata": {},
   "outputs": [],
   "source": []
  },
  {
   "cell_type": "code",
   "execution_count": null,
   "metadata": {},
   "outputs": [],
   "source": []
  },
  {
   "cell_type": "code",
   "execution_count": null,
   "metadata": {},
   "outputs": [],
   "source": []
  },
  {
   "cell_type": "code",
   "execution_count": null,
   "metadata": {},
   "outputs": [],
   "source": []
  },
  {
   "cell_type": "code",
   "execution_count": null,
   "metadata": {},
   "outputs": [],
   "source": [
    "# Create some normally distributed data\n",
    "mean = [0, 0]\n",
    "cov = [[1, 1], [1, 2]]\n",
    "x, y = np.random.multivariate_normal(mean, cov, 3000).T\n",
    "\n",
    "# Set up the axes with gridspec\n",
    "fig = plt.figure(figsize=(6, 6))\n",
    "grid = plt.GridSpec(4, 4, hspace=0.2, wspace=0.2)\n",
    "main_ax = fig.add_subplot(grid[:-1, 1:])\n",
    "y_hist = fig.add_subplot(grid[:-1, 0], xticklabels=[], sharey=main_ax)\n",
    "x_hist = fig.add_subplot(grid[-1, 1:], yticklabels=[], sharex=main_ax)\n",
    "\n",
    "# scatter points on the main axes\n",
    "main_ax.plot(x, y, 'go', markersize=3, alpha=0.2)\n",
    "\n",
    "# histogram on the attached axes\n",
    "x_hist.hist(x, 40, histtype='stepfilled',\n",
    "            orientation='vertical', color='blue')\n",
    "x_hist.invert_yaxis()\n",
    "\n",
    "y_hist.hist(y, 40, histtype='stepfilled',\n",
    "            orientation='horizontal', color='red')\n",
    "y_hist.invert_xaxis()"
   ]
  }
 ],
 "metadata": {
  "kernelspec": {
   "display_name": "Python 3 (ipykernel)",
   "language": "python",
   "name": "python3"
  },
  "language_info": {
   "codemirror_mode": {
    "name": "ipython",
    "version": 3
   },
   "file_extension": ".py",
   "mimetype": "text/x-python",
   "name": "python",
   "nbconvert_exporter": "python",
   "pygments_lexer": "ipython3",
   "version": "3.11.6"
  },
  "toc": {
   "base_numbering": 1,
   "nav_menu": {},
   "number_sections": false,
   "sideBar": true,
   "skip_h1_title": false,
   "title_cell": "Table of Contents",
   "title_sidebar": "Contents",
   "toc_cell": false,
   "toc_position": {
    "height": "calc(100% - 180px)",
    "left": "10px",
    "top": "150px",
    "width": "234px"
   },
   "toc_section_display": true,
   "toc_window_display": false
  }
 },
 "nbformat": 4,
 "nbformat_minor": 4
}
