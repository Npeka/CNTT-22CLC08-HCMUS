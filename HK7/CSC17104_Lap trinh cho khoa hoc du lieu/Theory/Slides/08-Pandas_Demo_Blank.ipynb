{
 "cells": [
  {
   "cell_type": "markdown",
   "metadata": {},
   "source": [
    "# Pandas\n"
   ]
  },
  {
   "cell_type": "markdown",
   "metadata": {},
   "source": [
    "**Reference for pandas**\n",
    "1. [Pandas official Document](https://pandas.pydata.org/docs/reference/index.html)\n",
    "1. [Python Data Science Handbook\n",
    "](https://jakevdp.github.io/PythonDataScienceHandbook/03.00-introduction-to-pandas.html)\n"
   ]
  },
  {
   "cell_type": "markdown",
   "metadata": {},
   "source": [
    "Pandas là gì\n",
    "- Pandas is a newer package *built on top of NumPy*, and provides an efficient implementation of a `DataFrame`.\n",
    "- `DataFrames` are essentially *multidimensional arrays* with attached *row and column labels*, and often with heterogeneous types and/or missing data.\n",
    "- Offering a convenient storage interface for labeled data, Pandas implements a number of powerful *data operations* familiar to users of both `database` frameworks and `spreadsheet` programs."
   ]
  },
  {
   "cell_type": "markdown",
   "metadata": {},
   "source": [
    "**Pandas** (Panel data) là một công cụ quan trọng trong nghiên cứu và ứng dụng để xử lý `dữ liệu dạng bảng` (tabular data)"
   ]
  },
  {
   "cell_type": "code",
   "execution_count": null,
   "metadata": {},
   "outputs": [],
   "source": [
    "import pandas as pd\n",
    "import numpy as np"
   ]
  },
  {
   "cell_type": "markdown",
   "metadata": {},
   "source": [
    "## Pandas series"
   ]
  },
  {
   "cell_type": "markdown",
   "metadata": {},
   "source": [
    "`Series` là mảng một chiều gồm các dữ liệu được index. Có thể xem nó như một *cột dữ liệu*\\\n",
    "Series gồm:\n",
    "- Một mảng các **values** cùng kiểu\n",
    "- Một mảng các nhãn dữ liệu, gọi là **index**"
   ]
  },
  {
   "cell_type": "code",
   "execution_count": null,
   "metadata": {},
   "outputs": [],
   "source": [
    "# Tạo ra Series từ List\n"
   ]
  },
  {
   "cell_type": "code",
   "execution_count": null,
   "metadata": {},
   "outputs": [],
   "source": [
    "# Truy cập values\n"
   ]
  },
  {
   "cell_type": "code",
   "execution_count": null,
   "metadata": {},
   "outputs": [],
   "source": [
    "# Truy cập index\n"
   ]
  },
  {
   "cell_type": "code",
   "execution_count": null,
   "metadata": {},
   "outputs": [],
   "source": [
    "# Index trong Series có thể là mảng bất kỳ, không nhất thiết phải là 0,1,2...\n"
   ]
  },
  {
   "cell_type": "code",
   "execution_count": null,
   "metadata": {
    "Collapsed": "false"
   },
   "outputs": [],
   "source": [
    "# Tên SV và điểm tương ứng của một môn học nào đó ;-)\n",
    "names_list = [ \n",
    "    \"PT\", \"BV\", \"HH\", \"ĐĐ\", \"HH\", \"AN\", \"CN\", \"DĐ\", \"DP\", \"HĐ\", \n",
    "    \"MN\", \"MT\", \"PT\", \"SH\", \"TN\", \"TN\", \"AN\", \"BN\", \"BV\", \"BN\", \n",
    "    \"CN\", \"CV\", \"DL\", \"DT\", \"ĐN\", \"ĐN\", \"HN\", \"HL\", \"HV\", \"HV\", \n",
    "    \"HT\", \"KĐ\", \"KV\", \"LP\", \"MB\", \"PH\", \"PN\", \"PN\", \"QV\", \"QL\", \n",
    "    \"ST\", \"ST\", \"ST\", \"SH\", \"TN\", \"TN\", \"TN\", \"TB\", \"TN\", \"TL\", \n",
    "    \"TL\", \"TN\", \"TL\", \"VH\", \"VH\", \"VP\", \"GT\", \"KN\", \"LĐ\", \"SN\" \n",
    "]\n",
    "grades_list = [\n",
    "    7.0, 0.0, 0.0, 6.5, 0.5, 6.0, 0.0, 0.5, 9.0, 9.0, \n",
    "    0.5, 7.5, 0.5, 0.5, 7.5, 0.0, 8.5, 0.5, 9.5,  10, \n",
    "    0.5, 9.0, 0.0, 0.5, 5.5, 8.5, 7.0, 9.5, 8.5, 9.0, \n",
    "    9.0, 5.0, 9.5, 0.5, 9.5, 0.5, 8.5, 7.5, 9.0, 9.0, \n",
    "    9.5, 6.0, 0.0, 9.5, 7.5, 9.5, 6.0, 7.0, 9.0, 9.0, \n",
    "    9.0, 0.5, 9.0, 9.5, 9.0, 9.5, 9.0, 0.5, 9.5, 5.5\n",
    "]"
   ]
  },
  {
   "cell_type": "code",
   "execution_count": null,
   "metadata": {
    "Collapsed": "false"
   },
   "outputs": [],
   "source": [
    "# Tạo names_series từ names_list\n"
   ]
  },
  {
   "cell_type": "code",
   "execution_count": null,
   "metadata": {
    "Collapsed": "false"
   },
   "outputs": [],
   "source": [
    "# Tạo grades_series từ grades_list\n"
   ]
  },
  {
   "cell_type": "markdown",
   "metadata": {},
   "source": [
    "Pandas series khác gì với 1D Numpy array?"
   ]
  },
  {
   "cell_type": "code",
   "execution_count": null,
   "metadata": {},
   "outputs": [],
   "source": [
    "# Pandas series có nhiều hơn các hàm/toán-tử/phương-thức \n",
    "# Ví dụ, để tính các đại lượng thống kê mô tả của grades_series:\n",
    "grades_series.describe()"
   ]
  },
  {
   "cell_type": "code",
   "execution_count": null,
   "metadata": {},
   "outputs": [],
   "source": [
    "# Pandas series ngoài truy xuất các phần tử thông qua \n",
    "# chỉ số vị trí giống như 1D Numpy array thì còn có thể truy xuất\n",
    "# thông qua tên của phần tử (Pandas gọi tên là index)\n"
   ]
  },
  {
   "cell_type": "code",
   "execution_count": null,
   "metadata": {},
   "outputs": [],
   "source": []
  },
  {
   "cell_type": "code",
   "execution_count": null,
   "metadata": {},
   "outputs": [],
   "source": []
  },
  {
   "cell_type": "code",
   "execution_count": null,
   "metadata": {},
   "outputs": [],
   "source": [
    "# Tìm SV có điểm cao nhất\n",
    "# In ra tên của SV và điểm tương ứng\n"
   ]
  },
  {
   "cell_type": "code",
   "execution_count": null,
   "metadata": {},
   "outputs": [],
   "source": [
    "# Tìm SV có điểm cao nhất\n",
    "# In ra tên của SV và điểm tương ứng\n"
   ]
  },
  {
   "cell_type": "code",
   "execution_count": null,
   "metadata": {},
   "outputs": [],
   "source": [
    "# Cộng 2 series khác với cộng 2 array\n",
    "s1 = pd.Series([1, 2, 3], index=['a', 'b', 'c'])\n",
    "s2 = pd.Series([30, 20, 10], index=['c', 'b', 'a'])\n"
   ]
  },
  {
   "cell_type": "code",
   "execution_count": null,
   "metadata": {},
   "outputs": [],
   "source": [
    "# Cộng 2 series khác với cộng 2 array\n",
    "s1 = pd.Series([1, 2, 3], index=['a', 'b', 'c'])\n",
    "s2 = pd.Series([4, 5, 6, 7], index=['b', 'c', 'd', 'e'])\n"
   ]
  },
  {
   "cell_type": "code",
   "execution_count": null,
   "metadata": {},
   "outputs": [],
   "source": [
    "# Series còn có thể tạo ra từ dictionary\n",
    "population_dict = {'California': 38332521,\n",
    "                   'Texas': 26448193,\n",
    "                   'New York': 19651127,\n",
    "                   'Florida': 19552860,\n",
    "                   'Illinois': 12882135}\n"
   ]
  },
  {
   "cell_type": "code",
   "execution_count": null,
   "metadata": {},
   "outputs": [],
   "source": [
    "# Dân số của California\n"
   ]
  },
  {
   "cell_type": "code",
   "execution_count": null,
   "metadata": {},
   "outputs": [],
   "source": [
    "# Khác với dictionary, Series hỗ trợ slicing\n"
   ]
  },
  {
   "cell_type": "markdown",
   "metadata": {},
   "source": [
    "## Pandas dataframe"
   ]
  },
  {
   "cell_type": "markdown",
   "metadata": {},
   "source": [
    "Pandas **dataframe** dùng để lưu dữ liệu 2 chiều (dữ liệu `dạng bảng`). Đây là cấu trúc dữ liệu thường được dùng trong Khoa Học Dữ Liệu.\n",
    "\n",
    "So với 2D Numpy array thì Pandas dataframe:\n",
    "- Cho phép các cột có kiểu dữ liệu khác nhau\n",
    "- Cho phép truy xuất thông qua tên dòng & cột (bên cạnh chỉ số vị trí dòng & cột như ở Numpy)\n",
    "- Cung cấp nhiều hơn các toán-tử/hàm/phương-thức để xử lý dữ liệu."
   ]
  },
  {
   "cell_type": "markdown",
   "metadata": {},
   "source": [
    "### Cách tạo dataframe\n",
    "- Dùng list và column name(s).\r",
    "- Từ dictionary.\r",
    "- Từ Series \r",
    "- Từ CSV file."
   ]
  },
  {
   "cell_type": "code",
   "execution_count": null,
   "metadata": {},
   "outputs": [],
   "source": [
    "# Từ list và column names\n",
    "pd.DataFrame([1, 2, 3],\n",
    "             columns=[\"Numbers\"])"
   ]
  },
  {
   "cell_type": "code",
   "execution_count": null,
   "metadata": {},
   "outputs": [],
   "source": [
    "pd.DataFrame([[1, \"one\"], [2, \"two\"]],\n",
    "            columns = [\"Number\", \"Description\"])"
   ]
  },
  {
   "cell_type": "code",
   "execution_count": null,
   "metadata": {},
   "outputs": [],
   "source": [
    "# Từ dictionary\n",
    "pd.DataFrame({\"Fruit\":[\"Strawberry\", \"Orange\"], \n",
    "              \"Price\": [5.49, 3.99]})"
   ]
  },
  {
   "cell_type": "code",
   "execution_count": null,
   "metadata": {},
   "outputs": [],
   "source": [
    "pd.DataFrame([{\"Fruit\":\"Strawberry\", \"Price\":5.49},\n",
    "             {\"Fruit\":\"Orange\", \"Price\":3.99}])"
   ]
  },
  {
   "cell_type": "code",
   "execution_count": null,
   "metadata": {},
   "outputs": [],
   "source": [
    "# Từ Series\n",
    "population_dict = {'California': 38332521,\n",
    "                   'Texas': 26448193,\n",
    "                   'New York': 19651127,\n",
    "                   'Florida': 19552860,\n",
    "                   'Illinois': 12882135}\n"
   ]
  },
  {
   "cell_type": "code",
   "execution_count": null,
   "metadata": {},
   "outputs": [],
   "source": [
    "area_dict = {'California': 423967, \n",
    "             'Texas': 695662, \n",
    "             'New York': 141297,\n",
    "             'Florida': 170312, \n",
    "             'Illinois': 149995}\n"
   ]
  },
  {
   "cell_type": "code",
   "execution_count": null,
   "metadata": {},
   "outputs": [],
   "source": []
  },
  {
   "cell_type": "markdown",
   "metadata": {
    "Collapsed": "false"
   },
   "source": [
    "### Đọc dữ liệu từ file vào dataframe"
   ]
  },
  {
   "cell_type": "markdown",
   "metadata": {
    "Collapsed": "false"
   },
   "source": [
    "Dữ liệu: [MovieLens 100K Dataset](https://files.grouplens.org/datasets/movielens/ml-latest-small.zip). Có tất cả 4 file csv, trong phần demo bên dưới chỉ dùng 2 file.\n",
    "\n",
    "Theo [file mô tả dữ liệu](https://files.grouplens.org/datasets/movielens/ml-latest-small-README.html):\n",
    ">This dataset (ml-latest-small) describes 5-star rating and free-text tagging activity from MovieLens, a movie recommendation service. It contains 100836 ratings and 3683 tag applications across 9742 movies. These data were created by 610 users between March 29, 1996 and September 24, 2018. This dataset was generated on September 26, 2018.\n",
    ">\n",
    ">Users were selected at random for inclusion. All selected users had rated at least 20 movies. No demographic information is included. Each user is represented by an id, and no other information is provided."
   ]
  },
  {
   "cell_type": "code",
   "execution_count": null,
   "metadata": {
    "Collapsed": "false",
    "scrolled": true
   },
   "outputs": [],
   "source": [
    "# Đọc dữ liệu từ file movies.csv vào dataframe movies_df\n",
    "# Đọc dữ liệu từ file ratings.csv vào dataframe ratings_df\n",
    "# Ở đây, mình đặt các file csv trong thư mục Data/ml-latest-small\n"
   ]
  },
  {
   "cell_type": "markdown",
   "metadata": {
    "Collapsed": "false",
    "toc-hr-collapsed": false
   },
   "source": [
    "### Xem nhanh một vài dòng của dataframe"
   ]
  },
  {
   "cell_type": "code",
   "execution_count": null,
   "metadata": {},
   "outputs": [],
   "source": [
    "# Xem vài dòng đầu\n"
   ]
  },
  {
   "cell_type": "code",
   "execution_count": null,
   "metadata": {},
   "outputs": [],
   "source": [
    "# Xem vài dòng cuối\n"
   ]
  },
  {
   "cell_type": "code",
   "execution_count": null,
   "metadata": {},
   "outputs": [],
   "source": [
    "# Xem vài dòng ngẫu nhiên\n"
   ]
  },
  {
   "cell_type": "code",
   "execution_count": null,
   "metadata": {
    "scrolled": true
   },
   "outputs": [],
   "source": []
  },
  {
   "cell_type": "markdown",
   "metadata": {
    "Collapsed": "false"
   },
   "source": [
    "### Xem các thông tin của dataframe"
   ]
  },
  {
   "cell_type": "code",
   "execution_count": null,
   "metadata": {
    "Collapsed": "false",
    "scrolled": true
   },
   "outputs": [],
   "source": [
    "# Xem số dòng\n"
   ]
  },
  {
   "cell_type": "code",
   "execution_count": null,
   "metadata": {},
   "outputs": [],
   "source": [
    "# Xem số dòng và số cột\n"
   ]
  },
  {
   "cell_type": "code",
   "execution_count": null,
   "metadata": {},
   "outputs": [],
   "source": [
    "# Xem tên của các cột\n"
   ]
  },
  {
   "cell_type": "code",
   "execution_count": null,
   "metadata": {},
   "outputs": [],
   "source": [
    "# Xem tên của các dòng\n"
   ]
  },
  {
   "cell_type": "code",
   "execution_count": null,
   "metadata": {},
   "outputs": [],
   "source": [
    "# Xem kiểu dữ liệu của các cột\n"
   ]
  },
  {
   "cell_type": "code",
   "execution_count": null,
   "metadata": {},
   "outputs": [],
   "source": [
    "# Xem phần dữ liệu của dataframe, kết quả sẽ là một Numpy array\n",
    "# Hiện tại thì ở bên dưới dataframe lưu trữ bằng cách gom các\n",
    "# cột có cùng kiểu dữ liệu vào một Numpy array. Do đó:\n",
    "# - Nếu tất cả các cột của dataframe có cùng kiểu dữ liệu\n",
    "#   thì array được lấy ra chính là array bên dưới của dataframe\n",
    "# - Ngược lại thì array được lấy ra là một array được tạo mới \n",
    "#   với dtype là object (con trỏ trỏ tới một đối tượng Python \n",
    "#   bất kỳ)\n"
   ]
  },
  {
   "cell_type": "code",
   "execution_count": null,
   "metadata": {},
   "outputs": [],
   "source": []
  },
  {
   "cell_type": "code",
   "execution_count": null,
   "metadata": {},
   "outputs": [],
   "source": []
  },
  {
   "cell_type": "code",
   "execution_count": null,
   "metadata": {},
   "outputs": [],
   "source": []
  },
  {
   "cell_type": "code",
   "execution_count": null,
   "metadata": {},
   "outputs": [],
   "source": [
    "# Xem tất cả cùng một lúc!\n"
   ]
  },
  {
   "cell_type": "code",
   "execution_count": null,
   "metadata": {},
   "outputs": [],
   "source": []
  },
  {
   "cell_type": "markdown",
   "metadata": {
    "Collapsed": "false",
    "toc-hr-collapsed": false
   },
   "source": [
    "### Truy xuất dữ liệu ở dataframe"
   ]
  },
  {
   "cell_type": "markdown",
   "metadata": {
    "Collapsed": "false",
    "toc-hr-collapsed": false
   },
   "source": [
    "#### df.iloc[...]: Integer-Based Extraction\n",
    "`df.iloc[r, c]` chọn item bằng cách xác định vị trí dòng và cột (integer position)"
   ]
  },
  {
   "cell_type": "markdown",
   "metadata": {
    "Collapsed": "false"
   },
   "source": [
    "- `r` có thể là:\n",
    "    - Một chỉ số vị trí (0, 1, 2, ...)\n",
    "    - List/array/series các chỉ số vị trí\n",
    "    - Slicing theo chỉ số vị trí\n",
    "    - List/array các giá trị True/False (hiện tại thì `iloc` không chạy được với series True/False)\n",
    "- `c` tương tự như `r`\n",
    "- Dùng một chỉ số vị trí (một con số) thì kết quả sẽ bị giảm chiều\n",
    "    - Nếu hoặc `r` hoặc `c` là một chỉ số vị trí (một con số) thì kết quả là series\n",
    "    - Nếu cả `r` và `c` đều là một chỉ số vị trí (một con số) thì kết quả là một giá trị"
   ]
  },
  {
   "cell_type": "code",
   "execution_count": null,
   "metadata": {
    "Collapsed": "false"
   },
   "outputs": [],
   "source": [
    "# Lấy ra phần tử ở dòng có chỉ số vị trí 2 \n",
    "# và cột có chỉ số vị trí 1 ở movies_df\n"
   ]
  },
  {
   "cell_type": "code",
   "execution_count": null,
   "metadata": {
    "Collapsed": "false"
   },
   "outputs": [],
   "source": [
    "# Lấy ra các phần tử ở dòng có chỉ số vị trí 2 và 4 \n",
    "# và cột có chỉ số vị trí 1 và 2 ở movies_df\n"
   ]
  },
  {
   "cell_type": "code",
   "execution_count": null,
   "metadata": {},
   "outputs": [],
   "source": []
  },
  {
   "cell_type": "code",
   "execution_count": null,
   "metadata": {
    "Collapsed": "false"
   },
   "outputs": [],
   "source": [
    "# Lấy ra các phần tử từ dòng có chỉ số vị trí 2 đến 4 \n",
    "# và từ cột có chỉ số vị trí 1 đến 2 ở movies_df\n"
   ]
  },
  {
   "cell_type": "code",
   "execution_count": null,
   "metadata": {
    "Collapsed": "false"
   },
   "outputs": [],
   "source": [
    "# Lấy ra dòng ở chỉ số vị trí 2 của movies_df\n"
   ]
  },
  {
   "cell_type": "code",
   "execution_count": null,
   "metadata": {
    "Collapsed": "false"
   },
   "outputs": [],
   "source": [
    "# Lấy ra cột ở chỉ số vị trí 1 của movies_df\n"
   ]
  },
  {
   "cell_type": "code",
   "execution_count": null,
   "metadata": {
    "Collapsed": "false"
   },
   "outputs": [],
   "source": [
    "# Lấy ra các dòng của ratings_df mà có rating >= 3 và <= 4\n"
   ]
  },
  {
   "cell_type": "markdown",
   "metadata": {
    "Collapsed": "false"
   },
   "source": [
    "#### df.loc[...]: Label-Based Extraction"
   ]
  },
  {
   "cell_type": "markdown",
   "metadata": {
    "Collapsed": "false"
   },
   "source": [
    "`df.loc[r, c]`\n",
    "Cho phép truy xuất dữ liệu dựa trên `nhãn` của dòng và cột"
   ]
  },
  {
   "cell_type": "markdown",
   "metadata": {
    "Collapsed": "false"
   },
   "source": [
    "- `r` có thể là: \n",
    "    - Một tên\n",
    "    - List/array/series các tên\n",
    "    - Slicing theo tên (khác với slicing theo chỉ số vị trí, slicing theo tên bao gồm cả start **và end**)\n",
    "    - List/array/series các giá trị True/False (lưu ý, nếu dùng series thì index của series sẽ được dùng để căn với index của `df`) \n",
    "- `c` tương tự như `r`\n",
    "- Dùng một tên thì kết quả sẽ bị giảm chiều\n",
    "    - Nếu hoặc `r` hoặc `c` là một tên thì kết quả là series\n",
    "    - Nếu cả `r` và `c` đều là một tên thì kết quả là một giá trị"
   ]
  },
  {
   "cell_type": "code",
   "execution_count": null,
   "metadata": {
    "Collapsed": "false"
   },
   "outputs": [],
   "source": [
    "# Lấy ra phần tử ở dòng có tên 2 và cột có tên 'title' ở movies_df\n"
   ]
  },
  {
   "cell_type": "code",
   "execution_count": null,
   "metadata": {
    "Collapsed": "false"
   },
   "outputs": [],
   "source": [
    "# Lấy ra các phần tử ở dòng có tên 2 và 4 \n",
    "# và cột có tên 'title' và 'genres' ở movies_df\n"
   ]
  },
  {
   "cell_type": "code",
   "execution_count": null,
   "metadata": {},
   "outputs": [],
   "source": []
  },
  {
   "cell_type": "code",
   "execution_count": null,
   "metadata": {
    "Collapsed": "false"
   },
   "outputs": [],
   "source": [
    "# Lấy ra các phần tử từ dòng có tên 2 đến tên 4 \n",
    "# và từ cột có tên 'title' đến tên 'genres' ở movies_df\n"
   ]
  },
  {
   "cell_type": "code",
   "execution_count": null,
   "metadata": {
    "Collapsed": "false"
   },
   "outputs": [],
   "source": [
    "# Lấy ra dòng có tên là 2 của movies_df\n"
   ]
  },
  {
   "cell_type": "code",
   "execution_count": null,
   "metadata": {
    "Collapsed": "false"
   },
   "outputs": [],
   "source": [
    "# Lấy ra cột có tên là 'title' của movies_df\n"
   ]
  },
  {
   "cell_type": "code",
   "execution_count": null,
   "metadata": {
    "Collapsed": "false"
   },
   "outputs": [],
   "source": [
    "# Lấy ra các dòng của ratings_df mà có rating >= 3 và <= 4\n"
   ]
  },
  {
   "cell_type": "markdown",
   "metadata": {},
   "source": [
    "#### df.loc[] vs df.iloc[]\n",
    "- `.loc` truy xuất dựa trên nhãn\n",
    "- `.iloc` truy xuất dựa trên chỉ số nguyên\\\n",
    "Thường sẽ dùng `.loc` do mang tính tổng quát và dễ hiểu hơn \n"
   ]
  },
  {
   "cell_type": "markdown",
   "metadata": {
    "Collapsed": "false"
   },
   "source": [
    "#### df[...]: Context-dependent Extraction\n",
    "- Truy xuất với ý nghĩa dựa vào ngữ cảnh. Tùy vào ngữ cảnh, `[]` tương đương với `.loc` hoặc `.iloc`\n",
    "- Trên thực tế, cách viết này phổ biến hơn `.loc` hoặc `.iloc` do ngắn gọn và dễ hiểu hơn."
   ]
  },
  {
   "cell_type": "markdown",
   "metadata": {
    "Collapsed": "false"
   },
   "source": [
    "- `df[tên hoặc list các tên]` là shortcut của `df.loc[:, tên hoặc list các tên]`\n",
    "- `df[list/array/series các giá trị True/False]` là shortcut của `df.loc[list/array/series các giá trị True/False, :]`\n",
    "- `df[slicing]` là shortcut của `df.iloc[slicing, :]`"
   ]
  },
  {
   "cell_type": "code",
   "execution_count": null,
   "metadata": {
    "Collapsed": "false"
   },
   "outputs": [],
   "source": []
  },
  {
   "cell_type": "code",
   "execution_count": null,
   "metadata": {},
   "outputs": [],
   "source": []
  },
  {
   "cell_type": "code",
   "execution_count": null,
   "metadata": {},
   "outputs": [],
   "source": [
    "# Chọn ra các bộ phim có rating > 4\n"
   ]
  },
  {
   "cell_type": "code",
   "execution_count": null,
   "metadata": {},
   "outputs": [],
   "source": []
  },
  {
   "cell_type": "markdown",
   "metadata": {},
   "source": [
    "### Thay đổi dữ liệu ở dataframe"
   ]
  },
  {
   "cell_type": "markdown",
   "metadata": {},
   "source": [
    "df.iloc[...] =\n",
    "\n",
    "df.loc[...] = \n",
    "\n",
    "df[...] = \n",
    "\n",
    "Các cách làm này sẽ không có vấn đề gì. Bây giờ ta hãy xem một ví dụ mà sẽ xảy ra vấn đề."
   ]
  },
  {
   "cell_type": "code",
   "execution_count": null,
   "metadata": {},
   "outputs": [],
   "source": [
    "# Tạo ra một bản copy (deep copy) của ratings_df để thử nghiệm\n"
   ]
  },
  {
   "cell_type": "code",
   "execution_count": null,
   "metadata": {
    "scrolled": true
   },
   "outputs": [],
   "source": [
    "# Lấy ra một dataframe gồm các dòng có rating bằng 5\n",
    "# rồi sửa lại rating thành 4.9\n"
   ]
  },
  {
   "cell_type": "markdown",
   "metadata": {},
   "source": [
    "Lý do `df` không thay đổi là vì câu lệnh thay đổi rating ở trên gồm 2 bước:\n",
    "\n",
    "1. Truy xuất `df` để lấy ra dataframe gồm các dòng có rating bằng 5. Trong Pandas thường là không biết chắc được kết quả truy xuất là view hay là copy của dataframe ban đầu. Trong ví dụ ở trên, kết quả truy xuất là copy.\n",
    "2. Thay đổi rating trên kết quả truy xuất. Vì kết quả truy xuất là copy của `df` nên `df` sẽ không bị thay đổi.\n",
    "\n",
    "Để thay đổi `df` thì ta đừng cho tách thành 2 bước với kết quả trung gian:"
   ]
  },
  {
   "cell_type": "code",
   "execution_count": null,
   "metadata": {},
   "outputs": [],
   "source": []
  },
  {
   "cell_type": "markdown",
   "metadata": {},
   "source": [
    "### Thay đổi tên dòng/cột ở dataframe"
   ]
  },
  {
   "cell_type": "markdown",
   "metadata": {},
   "source": [
    "Đổi tên một vài dòng/cột"
   ]
  },
  {
   "cell_type": "code",
   "execution_count": null,
   "metadata": {},
   "outputs": [],
   "source": []
  },
  {
   "cell_type": "markdown",
   "metadata": {},
   "source": [
    "Đổi tên tất cả các dòng/cột theo một qui luật nào đó"
   ]
  },
  {
   "cell_type": "code",
   "execution_count": null,
   "metadata": {},
   "outputs": [],
   "source": []
  },
  {
   "cell_type": "code",
   "execution_count": null,
   "metadata": {},
   "outputs": [],
   "source": []
  },
  {
   "cell_type": "markdown",
   "metadata": {},
   "source": [
    "### Thay đổi cột index (cột tên dòng) ở dataframe"
   ]
  },
  {
   "cell_type": "code",
   "execution_count": null,
   "metadata": {},
   "outputs": [],
   "source": [
    "# Cho cột movieId từ cột thường thành cột index\n"
   ]
  },
  {
   "cell_type": "code",
   "execution_count": null,
   "metadata": {},
   "outputs": [],
   "source": [
    "# Cho cột title từ cột thường thành cột index\n",
    "# và cột movieId thì cột index thành cột thường\n"
   ]
  },
  {
   "cell_type": "markdown",
   "metadata": {},
   "source": [
    "## Thay đổi kiểu dữ liệu của cột ở dataframe"
   ]
  },
  {
   "cell_type": "markdown",
   "metadata": {},
   "source": [
    "s.astype dùng để ép kiểu dữ liệu của một series."
   ]
  },
  {
   "cell_type": "code",
   "execution_count": null,
   "metadata": {},
   "outputs": [],
   "source": [
    "ratings_df.info()"
   ]
  },
  {
   "cell_type": "code",
   "execution_count": null,
   "metadata": {},
   "outputs": [],
   "source": [
    "# Thay đổi dữ liệu của cột 'timestamp' sang datetime \n"
   ]
  },
  {
   "cell_type": "markdown",
   "metadata": {},
   "source": [
    "pd.to_datetime chuyên dùng để ép kiểu dữ liệu datetime, có thể xử lý được những trường hợp phức tạp mà s.astype không làm được."
   ]
  },
  {
   "cell_type": "code",
   "execution_count": null,
   "metadata": {},
   "outputs": [],
   "source": [
    "# Thay đổi dữ liệu của cột 'timestamp' sang datetime "
   ]
  },
  {
   "cell_type": "code",
   "execution_count": null,
   "metadata": {},
   "outputs": [],
   "source": []
  },
  {
   "cell_type": "code",
   "execution_count": null,
   "metadata": {},
   "outputs": [],
   "source": [
    "# Trường hợp mà s.astype không làm được\n",
    "s = pd.Series(['1*1*2021', '30*1*2021'])\n"
   ]
  },
  {
   "cell_type": "markdown",
   "metadata": {},
   "source": [
    "## Thực hiện thao tác với cột có kiểu dữ liệu dạng thời gian ở dataframe"
   ]
  },
  {
   "cell_type": "markdown",
   "metadata": {},
   "source": [
    "s.dt.thao-tac-x"
   ]
  },
  {
   "cell_type": "code",
   "execution_count": null,
   "metadata": {},
   "outputs": [],
   "source": []
  },
  {
   "cell_type": "markdown",
   "metadata": {},
   "source": [
    "## Thực hiện thao tác với cột có kiểu dữ liệu dạng chuỗi ở dataframe"
   ]
  },
  {
   "cell_type": "code",
   "execution_count": null,
   "metadata": {},
   "outputs": [],
   "source": []
  },
  {
   "cell_type": "markdown",
   "metadata": {},
   "source": [
    "## Thêm/xóa dòng/cột ở dataframe"
   ]
  },
  {
   "cell_type": "markdown",
   "metadata": {},
   "source": [
    "Thêm dòng/cột\\\n",
    "Để thêm cột, dùng `[]` để tham chiếu đến cột mới, sau đó gán cho nó một Series hay array với chiều dài phù hợp."
   ]
  },
  {
   "cell_type": "code",
   "execution_count": null,
   "metadata": {},
   "outputs": [],
   "source": []
  },
  {
   "cell_type": "code",
   "execution_count": null,
   "metadata": {},
   "outputs": [],
   "source": []
  },
  {
   "cell_type": "code",
   "execution_count": null,
   "metadata": {},
   "outputs": [],
   "source": [
    "# Shortcut để thêm cột (hoặc cập nhật một cột đã có sẵn)\n"
   ]
  },
  {
   "cell_type": "markdown",
   "metadata": {},
   "source": [
    "Xóa dòng/cột"
   ]
  },
  {
   "cell_type": "code",
   "execution_count": null,
   "metadata": {},
   "outputs": [],
   "source": []
  },
  {
   "cell_type": "code",
   "execution_count": null,
   "metadata": {},
   "outputs": [],
   "source": []
  },
  {
   "cell_type": "markdown",
   "metadata": {},
   "source": [
    "## Tính toán trên dữ liệu với Pandas"
   ]
  },
  {
   "cell_type": "markdown",
   "metadata": {},
   "source": [
    "- Nếu thực hiện `phép toán một ngôi` trên một đối tượng pandas, kết quả sẽ là đối tượng pandas với index được giữ nguyên "
   ]
  },
  {
   "cell_type": "code",
   "execution_count": null,
   "metadata": {},
   "outputs": [],
   "source": [
    "ser = pd.Series(np.random.randint(0, 10, 4))\n",
    "ser"
   ]
  },
  {
   "cell_type": "code",
   "execution_count": null,
   "metadata": {},
   "outputs": [],
   "source": [
    "df = pd.DataFrame(np.random.randint(0, 10, (3, 4)),\n",
    "                  columns=['A', 'B', 'C', 'D'])\n",
    "df"
   ]
  },
  {
   "cell_type": "code",
   "execution_count": null,
   "metadata": {},
   "outputs": [],
   "source": [
    "    "
   ]
  },
  {
   "cell_type": "code",
   "execution_count": null,
   "metadata": {},
   "outputs": [],
   "source": []
  },
  {
   "cell_type": "markdown",
   "metadata": {},
   "source": [
    "- Nếu thực hiện `phép toán hai ngôi` trên đối tượng Series hoặc DataFrame, Pandas sẽ căn chỉnh các chỉ mục trong quá trình thực hiện phép toán. Điều này rất thuận tiện khi làm việc với dữ liệu không đầy đủ"
   ]
  },
  {
   "cell_type": "markdown",
   "metadata": {},
   "source": [
    "### Index alignment in Series"
   ]
  },
  {
   "cell_type": "code",
   "execution_count": null,
   "metadata": {},
   "outputs": [],
   "source": [
    "area = pd.Series({'Alaska': 1723337, 'Texas': 695662,\n",
    "                  'California': 423967}, name='area')\n",
    "population = pd.Series({'California': 38332521, 'Texas': 26448193,\n",
    "                        'New York': 19651127}, name='population')"
   ]
  },
  {
   "cell_type": "code",
   "execution_count": null,
   "metadata": {},
   "outputs": [],
   "source": []
  },
  {
   "cell_type": "markdown",
   "metadata": {},
   "source": [
    "Mảng kết quả chứa *union* các index của hai mảng đầu vào, có thể được xác định bằng cách sử dụng:"
   ]
  },
  {
   "cell_type": "code",
   "execution_count": null,
   "metadata": {},
   "outputs": [],
   "source": []
  },
  {
   "cell_type": "code",
   "execution_count": null,
   "metadata": {},
   "outputs": [],
   "source": []
  },
  {
   "cell_type": "code",
   "execution_count": null,
   "metadata": {},
   "outputs": [],
   "source": [
    "# Fill-in values\n"
   ]
  },
  {
   "cell_type": "markdown",
   "metadata": {},
   "source": [
    "### Index alignment in DataFrame"
   ]
  },
  {
   "cell_type": "code",
   "execution_count": null,
   "metadata": {},
   "outputs": [],
   "source": [
    "A = pd.DataFrame(np.random.randint(0, 20, (2, 2)),\n",
    "                 columns=list('AB'))\n",
    "A"
   ]
  },
  {
   "cell_type": "code",
   "execution_count": null,
   "metadata": {},
   "outputs": [],
   "source": [
    "B = pd.DataFrame(np.random.randint(0, 10, (3, 3)),\n",
    "                 columns=list('BAC'))\n",
    "B"
   ]
  },
  {
   "cell_type": "code",
   "execution_count": null,
   "metadata": {},
   "outputs": [],
   "source": []
  },
  {
   "cell_type": "code",
   "execution_count": null,
   "metadata": {},
   "outputs": [],
   "source": []
  },
  {
   "cell_type": "markdown",
   "metadata": {},
   "source": [
    "Operations Between DataFrame and Series"
   ]
  },
  {
   "cell_type": "code",
   "execution_count": null,
   "metadata": {},
   "outputs": [],
   "source": []
  },
  {
   "cell_type": "code",
   "execution_count": null,
   "metadata": {},
   "outputs": [],
   "source": []
  },
  {
   "cell_type": "code",
   "execution_count": null,
   "metadata": {},
   "outputs": [],
   "source": []
  },
  {
   "cell_type": "code",
   "execution_count": null,
   "metadata": {},
   "outputs": [],
   "source": []
  }
 ],
 "metadata": {
  "kernelspec": {
   "display_name": "Python 3 (ipykernel)",
   "language": "python",
   "name": "python3"
  },
  "language_info": {
   "codemirror_mode": {
    "name": "ipython",
    "version": 3
   },
   "file_extension": ".py",
   "mimetype": "text/x-python",
   "name": "python",
   "nbconvert_exporter": "python",
   "pygments_lexer": "ipython3",
   "version": "3.11.6"
  },
  "toc": {
   "base_numbering": 1,
   "nav_menu": {},
   "number_sections": false,
   "sideBar": true,
   "skip_h1_title": false,
   "title_cell": "Table of Contents",
   "title_sidebar": "Contents",
   "toc_cell": false,
   "toc_position": {
    "height": "252px",
    "left": "21px",
    "top": "32.133px",
    "width": "226.104px"
   },
   "toc_section_display": true,
   "toc_window_display": true
  }
 },
 "nbformat": 4,
 "nbformat_minor": 4
}
