{
 "cells": [
  {
   "cell_type": "code",
   "execution_count": null,
   "id": "77b0cd6f",
   "metadata": {},
   "outputs": [],
   "source": [
    "import numpy as np"
   ]
  },
  {
   "cell_type": "markdown",
   "id": "2ff24795",
   "metadata": {},
   "source": [
    "Giả sử chúng ta có ma trận `ratings`, trong đó các phần từ thể hiện điểm số mà user đánh giá anime tương ứng"
   ]
  },
  {
   "cell_type": "code",
   "execution_count": null,
   "id": "b86a5fec",
   "metadata": {},
   "outputs": [],
   "source": [
    "ratings = np.array([[5, 4, np.nan, 1, np.nan], [np.nan, 4, 4, 2, 2],\n",
    "                    [3, np.nan, np.nan, 5, 5],[np.nan, 3, 4, 4, np.nan]])\n",
    "ratings"
   ]
  },
  {
   "cell_type": "code",
   "execution_count": null,
   "id": "92a556e3",
   "metadata": {},
   "outputs": [],
   "source": [
    "np.set_printoptions(suppress = True)"
   ]
  },
  {
   "cell_type": "markdown",
   "id": "a6f6c38f",
   "metadata": {},
   "source": [
    "Ở đây mình chỉ tính trên 1 user thôi :v còn phần tính trên batch (nhiều user) các bạn sẽ cơ hội tự trải nghiệm. Chúng ta sẽ xây dựng một mô hình đơn giản để dự đoán các phim mà user chưa đánh gía, hay nói cách khác là các ô `NaN`. Đầu tiên, chúng ta tưởng tượng mỗi dòng là một vector ứng với một user. Sau đó, chúng ta tính toán độ tương tự giữa các vector thông qua khoảng cách. "
   ]
  },
  {
   "cell_type": "code",
   "execution_count": null,
   "id": "8376384a",
   "metadata": {},
   "outputs": [],
   "source": [
    "# Lấy ra user đầu tiên\n",
    "r0 = ratings[0]\n",
    "\n",
    "# Lấy tất cả các user trừ cho user đầu tiên để tính khoảng cách, \n",
    "# sau đó tính mean của từng dòng để thu được độ tương tự giữa các user đối với user[0]\n",
    "s = np.nanmean(np.abs(ratings - r0), axis = 1)\n",
    "\n",
    "s = 1/(s + 0.001)\n",
    "s"
   ]
  },
  {
   "cell_type": "code",
   "execution_count": null,
   "id": "f05e7956",
   "metadata": {},
   "outputs": [],
   "source": [
    "# Lấy ra các cột mà user[0] chưa đánh giá\n",
    "a = ratings[:, np.isnan(r0)]\n",
    "a"
   ]
  },
  {
   "cell_type": "code",
   "execution_count": null,
   "id": "bc6a9b56",
   "metadata": {},
   "outputs": [],
   "source": [
    "# Tạo ma trận trọng số dựa trên độ tương tự\n",
    "w = ~np.isnan(a)*s.reshape(-1, 1)\n",
    "# Chuẩn hoá trọng số\n",
    "w = w/w.sum(axis = 0)\n",
    "w"
   ]
  },
  {
   "cell_type": "code",
   "execution_count": null,
   "id": "2446d791",
   "metadata": {},
   "outputs": [],
   "source": [
    "# Kết quả dự đoán được\n",
    "np.nansum(a*w, axis = 0)"
   ]
  }
 ],
 "metadata": {
  "kernelspec": {
   "display_name": "Python 3 (ipykernel)",
   "language": "python",
   "name": "python3"
  },
  "language_info": {
   "codemirror_mode": {
    "name": "ipython",
    "version": 3
   },
   "file_extension": ".py",
   "mimetype": "text/x-python",
   "name": "python",
   "nbconvert_exporter": "python",
   "pygments_lexer": "ipython3",
   "version": "3.10.9"
  },
  "varInspector": {
   "cols": {
    "lenName": 16,
    "lenType": 16,
    "lenVar": 40
   },
   "kernels_config": {
    "python": {
     "delete_cmd_postfix": "",
     "delete_cmd_prefix": "del ",
     "library": "var_list.py",
     "varRefreshCmd": "print(var_dic_list())"
    },
    "r": {
     "delete_cmd_postfix": ") ",
     "delete_cmd_prefix": "rm(",
     "library": "var_list.r",
     "varRefreshCmd": "cat(var_dic_list()) "
    }
   },
   "types_to_exclude": [
    "module",
    "function",
    "builtin_function_or_method",
    "instance",
    "_Feature"
   ],
   "window_display": false
  }
 },
 "nbformat": 4,
 "nbformat_minor": 5
}
