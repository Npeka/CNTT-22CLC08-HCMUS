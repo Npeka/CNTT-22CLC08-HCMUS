{
 "cells": [
  {
   "cell_type": "markdown",
   "id": "265a2908-1659-4253-b3da-64639bbdfb65",
   "metadata": {},
   "source": [
    "# Lab 2: Numpy\n",
    "In this Numpy exercise, the general requirement is not to use loops; I will specify where it is allowed\n",
    "\n",
    "(Last update: 12/11/2023)\n",
    "\n",
    "Name: ...  \n",
    "Sdudent ID: ...\n",
    "\n",
    "---\n"
   ]
  },
  {
   "cell_type": "markdown",
   "id": "858de05e",
   "metadata": {
    "editable": false,
    "slideshow": {
     "slide_type": ""
    },
    "tags": []
   },
   "source": [
    "## 0. Instructions for doing and submitting assignment\n",
    "\n",
    "**How to do your assignment**\n",
    "\n",
    "You will do your assignment directly on this notebook file. First, you fill your name and student code at the beginning of the file. In this file, you will write your code when you see the following lines of code:\n",
    "```python\n",
    "# YOUR CODE HERE\n",
    "raise NotImplementedError()\n",
    "```\n",
    "\n",
    "For optional coding parts, there will be:\n",
    "```python\n",
    "# YOUR CODE HERE (OPTION)\n",
    "```\n",
    "\n",
    "For markdown cell, there will be:\n",
    "```markdown\n",
    "YOUR ANSWER HERE\n",
    "```\n",
    "\n",
    "Of course, you have to remove the `raise NotImplementedError()` statement when you finish.\n",
    "\n",
    "For coding parts, there are often cells below to help you check your answers. You will pass the test if there are no errors when you run the test cells. In some cases, the tests are insufficient. That means if you do not pass the test, your answer is definitely wrong somewhere, but if you pass the test, your answer may still be incorrect.\n",
    "\n",
    "While doing the assignment, you should print out the output and create more cells for testing. But you have to remove all of them (comment your print-out codes, delete the cell created by you) when you submit your code. <font color=red>Do not remove or edit my cells</font> (except for the aforementioned cells).\n",
    "\n",
    "Keep your code clean and clear by using meaningful variable names and comments, not write too-long coding lines.\n",
    "Press `Ctrl + S` right after editing.\n",
    "\n",
    "Keep it real: The reason why you are here is to <font color=green>study, really study</font>. I highly recommend that you discuss your idea with your friends and <font color=green>write your own code based on your own knowledge</font>. <font color=red>Copy means zero.</font>\n",
    "\n",
    "**How to submit your assignment**\n",
    "\n",
    "When grading your assignment, I will choose `Kernel` - `Restart & Run All` in order to restart the kernel and run all cells in your notebook. Therefore, you should do that before submitting to ensure that the outputs are all as expected.\n",
    "\n",
    "After that, rename the notebook as `<Student ID>.ipynb`. For example, if your student code is 1234567, then your notebook is `1234567.ipynb`.\n",
    "\n",
    "Finally, submit your notebook file on Moodle. <font color=red>Please strictly follow the submission rules.</font>\n",
    "\n",
    "---"
   ]
  },
  {
   "cell_type": "markdown",
   "id": "ceeaa165",
   "metadata": {
    "editable": false,
    "slideshow": {
     "slide_type": ""
    },
    "tags": []
   },
   "source": [
    "## 1. Programming environment\n",
    "\n",
    "- You will re-use the Linux environment setup in Lab 0 - WarmUp. Don't forget to start your coding environment (`conda activate min_ds-env`) before doing your assignment.\n",
    "- Use Jupyter notebook or Jupyter lab, <font color=red>not Google Colab</font> (I can not grade you well on Google Colab) to edit your `*.ipynb` file."
   ]
  },
  {
   "cell_type": "code",
   "execution_count": null,
   "id": "097d1336",
   "metadata": {},
   "outputs": [],
   "source": [
    "import sys\n",
    "sys.executable"
   ]
  },
  {
   "cell_type": "markdown",
   "id": "1cbf9ded",
   "metadata": {
    "editable": false,
    "slideshow": {
     "slide_type": ""
    },
    "tags": []
   },
   "source": [
    "- If there are no problems, the file to run python will be the file of the \"min_ds-env\" code environment.\n",
    "\n",
    "- In this article, you are not using the Pandas library."
   ]
  },
  {
   "cell_type": "markdown",
   "id": "0e7b4612",
   "metadata": {},
   "source": [
    "---"
   ]
  },
  {
   "cell_type": "markdown",
   "id": "80ce8fea",
   "metadata": {
    "editable": false,
    "slideshow": {
     "slide_type": ""
    },
    "tags": []
   },
   "source": [
    "## 2. Import necessary libraries"
   ]
  },
  {
   "cell_type": "code",
   "execution_count": null,
   "id": "6630d75a",
   "metadata": {},
   "outputs": [],
   "source": [
    "import numpy as np\n",
    "from zlib import adler32\n",
    "# YOUR CODE HERE (OPTION)"
   ]
  },
  {
   "cell_type": "markdown",
   "id": "35b5f965",
   "metadata": {},
   "source": [
    "---"
   ]
  },
  {
   "cell_type": "markdown",
   "id": "116d0050",
   "metadata": {
    "editable": false,
    "slideshow": {
     "slide_type": ""
    },
    "tags": []
   },
   "source": [
    "## 3. Data collection"
   ]
  },
  {
   "cell_type": "markdown",
   "id": "9e283245",
   "metadata": {
    "editable": false,
    "slideshow": {
     "slide_type": ""
    },
    "tags": []
   },
   "source": [
    "Numpy is not a great library for handling operations like data reading and writing, but it's an excellent library for computational tasks. Therefore, in this article, we'll simply use the pre-collected dataset that I've attached in the folder of this lab. This dataset actually contains multiple files and is relatively large, but it has been curated to include relevant information for this lab. You can learn more about this dataset [here](https://files.grouplens.org/datasets/movielens/ml-100k/u.data).\n",
    "\n",
    "Here is a specific description of the dataset:\n",
    "> MovieLens data sets were collected by the GroupLens Research Project\n",
    "at the University of Minnesota.\n",
    "> \n",
    "> This data set consists of:\n",
    "> * 100,000 ratings (1-5) from 943 users on 1682 movies. \n",
    "> * Each user has rated at least 20 movies.  \n",
    "> * Simple demographic info for the users (age, gender, occupation, zip)\n",
    ">\n",
    "> The data was collected through the MovieLens web site\n",
    "(movielens.umn.edu) during the seven-month period from September 19th, \n",
    "1997 through April 22nd, 1998. This data has been cleaned up - users\n",
    "who had less than 20 ratings or did not have complete demographic\n",
    "information were removed from this data set. Detailed descriptions of\n",
    "the data file can be found at the end of this file."
   ]
  },
  {
   "cell_type": "markdown",
   "id": "7c46dd35",
   "metadata": {},
   "source": [
    "---"
   ]
  },
  {
   "cell_type": "markdown",
   "id": "10d0554a",
   "metadata": {
    "editable": false,
    "slideshow": {
     "slide_type": ""
    },
    "tags": []
   },
   "source": [
    "## 4. Data exploring & Data preprocessing"
   ]
  },
  {
   "cell_type": "markdown",
   "id": "d86a5001",
   "metadata": {
    "editable": false,
    "slideshow": {
     "slide_type": ""
    },
    "tags": []
   },
   "source": [
    "### How many rows and columns does the data have?"
   ]
  },
  {
   "cell_type": "markdown",
   "id": "47b82236",
   "metadata": {
    "editable": false,
    "slideshow": {
     "slide_type": ""
    },
    "tags": []
   },
   "source": [
    "Of course, the first thing you need to do is read the data file into the Numpy array and name it `raw_ratings` (use function `np.genfromtxt`). You may encounter some minor problems with this task, it seems that all the data in the Numpy array is not what we want. This happens because the function `np.genfromtxt` has a default data type of `float`, you need to find a way to convert it to `uint64`. You should put the dataset file in the same directory as this notebook file to simplify when passing the file name to the function. Finally, you need to calculate the number of rows and columns for this dataset, these two values are stored in two variables `n_rows` and `n_cols` respectively."
   ]
  },
  {
   "cell_type": "code",
   "execution_count": null,
   "id": "0ab3481b",
   "metadata": {
    "deletable": false,
    "nbgrader": {
     "cell_type": "code",
     "checksum": "e99ad7aa308f4850eeb01f217ac1cfab",
     "grade": false,
     "grade_id": "cell-bc45cdfd9571ab52",
     "locked": false,
     "schema_version": 3,
     "solution": true,
     "task": false
    }
   },
   "outputs": [],
   "source": [
    "# YOUR CODE HERE\n",
    "raise NotImplementedError()"
   ]
  },
  {
   "cell_type": "code",
   "execution_count": null,
   "id": "665c47a1",
   "metadata": {
    "deletable": false,
    "editable": false,
    "nbgrader": {
     "cell_type": "code",
     "checksum": "3c66f5f619ef079af411632064732ed7",
     "grade": true,
     "grade_id": "cell-dfaa826c3a1df79b",
     "locked": true,
     "points": 0.5,
     "schema_version": 3,
     "solution": false,
     "task": false
    },
    "slideshow": {
     "slide_type": ""
    },
    "tags": []
   },
   "outputs": [],
   "source": [
    "# TEST\n",
    "assert raw_ratings.dtype == np.uint64\n",
    "assert adler32(str(raw_ratings.ndim).encode()) == 3342387\n",
    "assert adler32(str(n_rows).encode()) == 66847010\n",
    "assert adler32(str(n_cols).encode()) == 3473461\n",
    "raw_ratings[:5] # Look at the first 5 lines"
   ]
  },
  {
   "cell_type": "markdown",
   "id": "a35b930b",
   "metadata": {
    "editable": false,
    "slideshow": {
     "slide_type": ""
    },
    "tags": []
   },
   "source": [
    "### Rows"
   ]
  },
  {
   "cell_type": "markdown",
   "id": "e554ab90",
   "metadata": {
    "slideshow": {
     "slide_type": ""
    },
    "tags": []
   },
   "source": [
    "#### The meaning of each row\n",
    "\n",
    "Each row in the data set shows some information about a user's score for a movie."
   ]
  },
  {
   "cell_type": "markdown",
   "id": "77bacd8d",
   "metadata": {
    "editable": false,
    "slideshow": {
     "slide_type": ""
    },
    "tags": []
   },
   "source": [
    "#### Does the data have duplicate rows?"
   ]
  },
  {
   "cell_type": "markdown",
   "id": "46fb71b6",
   "metadata": {
    "editable": false,
    "slideshow": {
     "slide_type": ""
    },
    "tags": []
   },
   "source": [
    "You will test this case and save the results to the `have_duplicated_rows` variable. This variable will have the value True if the data has duplicate lines and will have the value False otherwise."
   ]
  },
  {
   "cell_type": "code",
   "execution_count": null,
   "id": "badd6cb0",
   "metadata": {
    "deletable": false,
    "nbgrader": {
     "cell_type": "code",
     "checksum": "4dcf971875e39f31d42ff4291a7a58d4",
     "grade": false,
     "grade_id": "cell-204832200dec58f4",
     "locked": false,
     "schema_version": 3,
     "solution": true,
     "task": false
    }
   },
   "outputs": [],
   "source": [
    "# YOUR CODE HERE\n",
    "raise NotImplementedError()"
   ]
  },
  {
   "cell_type": "code",
   "execution_count": null,
   "id": "4f1bffd9",
   "metadata": {
    "deletable": false,
    "editable": false,
    "nbgrader": {
     "cell_type": "code",
     "checksum": "1afa8e40eb5680c7ce60665d94ff8e66",
     "grade": true,
     "grade_id": "cell-f94a96b9a7fa030a",
     "locked": true,
     "points": 0.5,
     "schema_version": 3,
     "solution": false,
     "task": false
    },
    "slideshow": {
     "slide_type": ""
    },
    "tags": []
   },
   "outputs": [],
   "source": [
    "# TEST\n",
    "assert have_duplicated_rows == False"
   ]
  },
  {
   "cell_type": "markdown",
   "id": "4c19f96d",
   "metadata": {
    "editable": false,
    "slideshow": {
     "slide_type": ""
    },
    "tags": []
   },
   "source": [
    "Great, so there are no duplicate rows. Next we will explore the columns."
   ]
  },
  {
   "cell_type": "markdown",
   "id": "208d9f80",
   "metadata": {
    "editable": false,
    "slideshow": {
     "slide_type": ""
    },
    "tags": []
   },
   "source": [
    "### Columns"
   ]
  },
  {
   "cell_type": "markdown",
   "id": "625b73c3",
   "metadata": {
    "editable": false,
    "slideshow": {
     "slide_type": ""
    },
    "tags": []
   },
   "source": [
    "#### The meaning of each column\n",
    "- The first column shows the user id\n",
    "- The second column shows the movie id\n",
    "- The third column shows the score the user gave for the movie\n",
    "- The fourth column shows the time the user gave the score (expressed in seconds from a benchmark)"
   ]
  },
  {
   "cell_type": "markdown",
   "id": "832ed6ab",
   "metadata": {
    "editable": false,
    "slideshow": {
     "slide_type": ""
    },
    "tags": []
   },
   "source": [
    "#### What data type does each column currently have?"
   ]
  },
  {
   "cell_type": "code",
   "execution_count": null,
   "id": "f877453d",
   "metadata": {},
   "outputs": [],
   "source": [
    "raw_ratings.dtype"
   ]
  },
  {
   "cell_type": "markdown",
   "id": "5a4db741",
   "metadata": {
    "editable": false,
    "slideshow": {
     "slide_type": ""
    },
    "tags": []
   },
   "source": [
    "At first glance, it seems that all columns are numeric. But in my opinion, the two columns `user_id` and `moive_id` should be classified into categorical groups. The reason for this is because both `user_id` and `movie_id` are simply identifiers and do not necessarily have an arithmetic relationship between the columns. Of course, this is just an objective perspective and not true for all cases, but to make it easier to work, in this lab we will agree with the above thought."
   ]
  },
  {
   "cell_type": "markdown",
   "id": "813f3930",
   "metadata": {
    "editable": false,
    "slideshow": {
     "slide_type": ""
    },
    "tags": []
   },
   "source": [
    "#### For each column with numeric datatype, how are the values distributed?"
   ]
  },
  {
   "cell_type": "markdown",
   "id": "34421ec3",
   "metadata": {
    "editable": false,
    "slideshow": {
     "slide_type": ""
    },
    "tags": []
   },
   "source": [
    "First, we need to see how many missing values the numeric columns have. This mission is quite 'difficult' ^^ so I will do it for you."
   ]
  },
  {
   "cell_type": "code",
   "execution_count": null,
   "id": "b1bc561a",
   "metadata": {},
   "outputs": [],
   "source": [
    "np.sum(np.isnan(raw_ratings[:, 2:]), axis=0)"
   ]
  },
  {
   "cell_type": "markdown",
   "id": "c090a7b8",
   "metadata": {
    "editable": false,
    "slideshow": {
     "slide_type": ""
    },
    "tags": []
   },
   "source": [
    "Great, so all numeric columns don't have any missing values.\n",
    "\n",
    "Now, your job is to calculate the min, Q1(25%), median, Q3(75%) and max of these numeric columns. You will need to use the `np.percentile` function to do this. Then, the all values of each column are saved respectively into 3 Numpy arrays namely `rate_col_profile`, `rate_date_col_profile`. These are two Numpy arrays (one-dimensional), where `rate_col_profile` has a `dtype` of float, and `rate_date_col_profile` has a `dtype` of `'datetime64[s]'`."
   ]
  },
  {
   "cell_type": "code",
   "execution_count": null,
   "id": "8a4cfdf8",
   "metadata": {
    "deletable": false,
    "nbgrader": {
     "cell_type": "code",
     "checksum": "6ec0410f98c6da67c4de62ef91e8d84b",
     "grade": false,
     "grade_id": "cell-bf0638c7501e73f1",
     "locked": false,
     "schema_version": 3,
     "solution": true,
     "task": false
    }
   },
   "outputs": [],
   "source": [
    "# YOUR CODE HERE\n",
    "raise NotImplementedError()"
   ]
  },
  {
   "cell_type": "code",
   "execution_count": null,
   "id": "8ccf440b",
   "metadata": {
    "deletable": false,
    "editable": false,
    "nbgrader": {
     "cell_type": "code",
     "checksum": "46a29fac67a9620dd1a9fdcd1354f74c",
     "grade": true,
     "grade_id": "cell-bc39e5f303f573da",
     "locked": true,
     "points": 1,
     "schema_version": 3,
     "solution": false,
     "task": false
    },
    "slideshow": {
     "slide_type": ""
    },
    "tags": []
   },
   "outputs": [],
   "source": [
    "# TEST\n",
    "assert adler32(str(rate_col_profile).encode()) == 444269344\n",
    "assert adler32(str(rate_date_col_profile).encode()) == 4242871962"
   ]
  },
  {
   "cell_type": "markdown",
   "id": "1542f3da",
   "metadata": {
    "editable": false,
    "slideshow": {
     "slide_type": ""
    },
    "tags": []
   },
   "source": [
    "#### For each column with categorical datatype, how are the values distributed?"
   ]
  },
  {
   "cell_type": "markdown",
   "id": "2a708fc2",
   "metadata": {
    "editable": false,
    "slideshow": {
     "slide_type": ""
    },
    "tags": []
   },
   "source": [
    "Just like with numeric columns, we need to see if two categorical columns have missing values? (This is difficult so let me do it for you :v )"
   ]
  },
  {
   "cell_type": "code",
   "execution_count": null,
   "id": "41aeae4b",
   "metadata": {},
   "outputs": [],
   "source": [
    "np.sum(np.isnan(raw_ratings[:, :2]), axis=0)"
   ]
  },
  {
   "cell_type": "markdown",
   "id": "0a7746f1",
   "metadata": {
    "editable": false,
    "slideshow": {
     "slide_type": ""
    },
    "tags": []
   },
   "source": [
    "Your task is to, for each column, calculate a list of 5 numbers: the number of distinct values, the value that appears least with its corresponding count (total of 2 numbers), and the value that appears most with its corresponding count (total of 2 numbers). You should store the 2 lists calculated for 2 columns in two variables, namely `user_col_profile` and `movie_col_profile`. If multiple users rate the least number of movies, we will agree to choose the user with the smallest id. And vice versa, if many users rate the most movies, we will choose the user with the largest id."
   ]
  },
  {
   "cell_type": "code",
   "execution_count": null,
   "id": "464c0ace",
   "metadata": {
    "deletable": false,
    "nbgrader": {
     "cell_type": "code",
     "checksum": "6026b1e5ac5d08e11e193eff35552ed0",
     "grade": false,
     "grade_id": "cell-32713eaf68686a2f",
     "locked": false,
     "schema_version": 3,
     "solution": true,
     "task": false
    }
   },
   "outputs": [],
   "source": [
    "# YOUR CODE HERE\n",
    "raise NotImplementedError()"
   ]
  },
  {
   "cell_type": "code",
   "execution_count": null,
   "id": "742cbc7a",
   "metadata": {
    "deletable": false,
    "editable": false,
    "nbgrader": {
     "cell_type": "code",
     "checksum": "5a647abfae39f81dfa7ba5f47d8daf72",
     "grade": true,
     "grade_id": "cell-909a31870f2070a6",
     "locked": true,
     "points": 1,
     "schema_version": 3,
     "solution": false,
     "task": false
    },
    "slideshow": {
     "slide_type": ""
    },
    "tags": []
   },
   "outputs": [],
   "source": [
    "# assert adler32(str(user_col_profile).encode()) == 1375015361\n",
    "# assert adler32(str(movie_col_profile).encode()) == 1325142473\n",
    "assert user_col_profile == [943, # Có chừng này user\n",
    "                        19,  # Đây là user rate ít movie nhất\n",
    "                        20,  # và đó là chừng này movie\n",
    "                        405, # Đây là user rate nhiều movie nhất\n",
    "                        737] # và đó là chừng này movie\n",
    "assert movie_col_profile == [1682,#Có chừng này movie\n",
    "                         599, #Đây là movie được ít user rate nhất\n",
    "                         1,   #và đó là chừng này user\n",
    "                         50,  #Đây là movie được nhiều user rate nhất\n",
    "                         583] #và đó là chừng này user"
   ]
  },
  {
   "cell_type": "markdown",
   "id": "f02cefe4",
   "metadata": {},
   "source": [
    "Incidentally, we need to check the maximum and minimum values of the two columns `user_id` and `movie_id`:"
   ]
  },
  {
   "cell_type": "code",
   "execution_count": null,
   "id": "be8889db",
   "metadata": {
    "editable": true,
    "slideshow": {
     "slide_type": ""
    },
    "tags": []
   },
   "outputs": [],
   "source": [
    "print('User id  - min & max:', \n",
    "      raw_ratings[:, 0].min(), '&', raw_ratings[:, 0].max()) \n",
    "print('Movie id - min & max:', \n",
    "      raw_ratings[:, 1].min(), '&', raw_ratings[:, 1].max()) "
   ]
  },
  {
   "cell_type": "markdown",
   "id": "b0e0cff7",
   "metadata": {},
   "source": [
    "---"
   ]
  },
  {
   "cell_type": "markdown",
   "id": "e22b5c3a",
   "metadata": {
    "editable": false,
    "slideshow": {
     "slide_type": ""
    },
    "tags": []
   },
   "source": [
    "## 5. Question"
   ]
  },
  {
   "cell_type": "markdown",
   "id": "f00e8647",
   "metadata": {
    "editable": false,
    "slideshow": {
     "slide_type": ""
    },
    "tags": []
   },
   "source": [
    "The previous section was just to warm you up before diving into the main content of this lab. Now, we have a bit better understanding of the dataset. We will attempt to pose meaningful questions and find answers using the data.\n",
    "\n",
    "One interesting question to ask is: *For each different user, is it possible to recommend movies that the user has never watched before?*\n",
    "\n",
    "Finding an answer to this question can be beneficial for both users and movie streaming service providers:\n",
    "- Users: Users may want to watch a movie, but with so many options available, they may not know which one to choose. It would be convenient for users if the system could suggest a list of movies that they are likely to enjoy.\n",
    "- Movie Streaming Service Providers: If the system makes good recommendations, it's more likely that users will watch and enjoy the movies. This, in turn, means users will continue to pay for the service."
   ]
  },
  {
   "cell_type": "markdown",
   "id": "62a76fc7",
   "metadata": {},
   "source": [
    "---"
   ]
  },
  {
   "cell_type": "markdown",
   "id": "6bfd9472",
   "metadata": {
    "editable": false,
    "slideshow": {
     "slide_type": ""
    },
    "tags": []
   },
   "source": [
    "### Preprocessing"
   ]
  },
  {
   "cell_type": "markdown",
   "id": "ece65a3d",
   "metadata": {
    "editable": false,
    "slideshow": {
     "slide_type": ""
    },
    "tags": []
   },
   "source": [
    "First, we need to decide which information to use in building the movie recommendation system. Obviously, the columns `user_id`, `moive_id`, and `rating` are essential to perform this task. As for the column `date`, this column can still have value in practice when building a recommendation model. However, for simplicity, we will temporarily set aside this column here.\n",
    "\n",
    "Based on 3 columns, you need to create a 2D NumPy matrix named `ratings`. In this matrix, the number of rows represents the number of users, while the number of columns represents the number of movie. So, `ratings[i, j]` will represent the rating that `user_i` has given to `movie_j`. \"For movie series that the user has not rated, the value will be 'NaN'.\""
   ]
  },
  {
   "cell_type": "code",
   "execution_count": null,
   "id": "3974d25f",
   "metadata": {
    "deletable": false,
    "nbgrader": {
     "cell_type": "code",
     "checksum": "f30b3c67e3b45817e125d6cb11e1e1b4",
     "grade": false,
     "grade_id": "cell-880a7016c1a5a315",
     "locked": false,
     "schema_version": 3,
     "solution": true,
     "task": false
    }
   },
   "outputs": [],
   "source": [
    "# YOUR CODE HERE\n",
    "raise NotImplementedError()"
   ]
  },
  {
   "cell_type": "code",
   "execution_count": null,
   "id": "6822489c",
   "metadata": {
    "deletable": false,
    "editable": false,
    "nbgrader": {
     "cell_type": "code",
     "checksum": "84130c87d27d2bdfb378ce964dcf0e46",
     "grade": true,
     "grade_id": "cell-28591c055b9636de",
     "locked": true,
     "points": 1,
     "schema_version": 3,
     "solution": false,
     "task": false
    },
    "slideshow": {
     "slide_type": ""
    },
    "tags": []
   },
   "outputs": [],
   "source": [
    "assert ratings.shape == (943, 1682)\n",
    "missing_ratios = np.mean(np.isnan(ratings))\n",
    "assert missing_ratios.round(4) == .9370"
   ]
  },
  {
   "cell_type": "markdown",
   "id": "0e34a223",
   "metadata": {
    "editable": false,
    "slideshow": {
     "slide_type": ""
    },
    "tags": []
   },
   "source": [
    "### Analyze data to answer the question"
   ]
  },
  {
   "cell_type": "markdown",
   "id": "283e379f",
   "metadata": {
    "editable": false,
    "slideshow": {
     "slide_type": ""
    },
    "tags": []
   },
   "source": [
    "It would be much simpler if we used algorithms supported by other libraries. However, the main goal of this lab is to help you practice using the Numpy library. Therefore, you will have the opportunity to build a simple movie recommendation system from scratch using the provided data, utilizing only Numpy library. Please remember that Numpy doesn't favor loops, so you are only allowed to use loops where I explicitly permit.\n",
    "\n",
    "In my opinion, there are two fundamental tasks in a movie recommendation system:\n",
    "\n",
    "- First, you need to predict the ratings for movie that a user hasn't reviewed or watched yet.\n",
    "- Second, you need to provide recommendations to users based on the top-rated movies that have been predicted.\n",
    "\n",
    "It seems that the second task will become much simpler if we can accomplish the first task. One of the simplest ways to tackle task 1 is by computing the similarity between users and using this similarity to make predictions. However, there are some considerations to keep in mind. It's not feasible to compute similarity between all users at once, as it might lead to memory issues (even if you have enough memory, my computer is quite limited in that regard :<). One way to address this issue is to process a group of users at a time, referred to as `a batch`. To keep it simple, let's stick with a `batch_size = 32`, which I believe is a reasonable value. You should try to make your code work with a single batch first and then extend it to process all batches."
   ]
  },
  {
   "cell_type": "code",
   "execution_count": null,
   "id": "60098476-d8f4-4f56-9a73-232ee11ae353",
   "metadata": {},
   "outputs": [],
   "source": [
    "batch_size = 32\n",
    "filled_ratings = np.empty_like(ratings)"
   ]
  },
  {
   "cell_type": "markdown",
   "id": "88b62778",
   "metadata": {},
   "source": [
    "\"First, you will try with a batch corresponding to users with indices from `start` to `end`.\""
   ]
  },
  {
   "cell_type": "code",
   "execution_count": null,
   "id": "701e8fb5",
   "metadata": {},
   "outputs": [],
   "source": [
    "start = 0\n",
    "end = batch_size"
   ]
  },
  {
   "cell_type": "markdown",
   "id": "2fbdc6fd",
   "metadata": {
    "editable": false,
    "slideshow": {
     "slide_type": ""
    },
    "tags": []
   },
   "source": [
    "Step 1: Calculate the `similarities` array to show the similarity between each user in the current batch with all users in the entire dataset. This array will have a size of `batch_size` x `n_users` (`n_users` is the total number of users in the dataset), where `similarities[i, j]` indicates the similarity between `user_i` and `user_j`. In the case where two users have no common rated movies (when running, you may see a warning 'RuntimeWarning: Mean of empty slice'), you set the similarity to 0."
   ]
  },
  {
   "cell_type": "code",
   "execution_count": null,
   "id": "1d751cdf",
   "metadata": {
    "deletable": false,
    "nbgrader": {
     "cell_type": "code",
     "checksum": "25cd1d5c9de790c4987b64682ede220b",
     "grade": false,
     "grade_id": "cell-ed3883d8af0fb097",
     "locked": false,
     "schema_version": 3,
     "solution": true,
     "task": false
    }
   },
   "outputs": [],
   "source": [
    "# YOUR CODE HERE\n",
    "raise NotImplementedError()"
   ]
  },
  {
   "cell_type": "code",
   "execution_count": null,
   "id": "1720a328",
   "metadata": {
    "deletable": false,
    "editable": false,
    "nbgrader": {
     "cell_type": "code",
     "checksum": "3ceb5ffd8ad9a61752ddf956468dc72e",
     "grade": true,
     "grade_id": "cell-45055a8d86566a14",
     "locked": true,
     "points": 1,
     "schema_version": 3,
     "solution": false,
     "task": false
    },
    "slideshow": {
     "slide_type": ""
    },
    "tags": []
   },
   "outputs": [],
   "source": [
    "# TEST\n",
    "assert adler32(str(similarities.shape).encode()) == 136184227\n",
    "assert adler32(str(similarities[:3, :3].round(1)).encode()) == 3499233691"
   ]
  },
  {
   "cell_type": "markdown",
   "id": "2f582808",
   "metadata": {
    "editable": false,
    "slideshow": {
     "slide_type": ""
    },
    "tags": []
   },
   "source": [
    "Step 2: calculate the `weights` matrix. The array `weights` will have the size `batch_size` x `n_users` x `n_movies` (where `n_movies` is the total number of movies). About how to calculate `weights`, you can refer to file `example.ipynb`.\n",
    "\n",
    "When running, you will see the warning \"RuntimeWarning: invalid value encountered in true_divide\"; This is because the users who rate a movie under consideration all have a similarity of 0 with a user under review, resulting in normalization to 0/0 and the result is difficult. This case means there is not enough information to predict the score and in this article, you should leave it as it is."
   ]
  },
  {
   "cell_type": "code",
   "execution_count": null,
   "id": "766f776f",
   "metadata": {
    "deletable": false,
    "nbgrader": {
     "cell_type": "code",
     "checksum": "13bf4bd7270a06726758d3e7594d79ba",
     "grade": false,
     "grade_id": "cell-39cd467a8309e23d",
     "locked": false,
     "schema_version": 3,
     "solution": true,
     "task": false
    }
   },
   "outputs": [],
   "source": [
    "# YOUR CODE HERE\n",
    "raise NotImplementedError()"
   ]
  },
  {
   "cell_type": "code",
   "execution_count": null,
   "id": "0180000d",
   "metadata": {
    "deletable": false,
    "editable": false,
    "nbgrader": {
     "cell_type": "code",
     "checksum": "a8cf41559e4cfc6c4143e11417648385",
     "grade": true,
     "grade_id": "cell-322c70e976509914",
     "locked": true,
     "points": 1,
     "schema_version": 3,
     "solution": false,
     "task": false
    },
    "slideshow": {
     "slide_type": ""
    },
    "tags": []
   },
   "outputs": [],
   "source": [
    "# TEST\n",
    "assert weights.shape == (32, 943, 1682)\n",
    "assert np.sum(np.isnan(weights)) == 31119"
   ]
  },
  {
   "cell_type": "markdown",
   "id": "5249bfb0",
   "metadata": {
    "editable": false,
    "slideshow": {
     "slide_type": ""
    },
    "tags": []
   },
   "source": [
    "Step 3: For each user in the batch under consideration, calculate the score (for all movies) by multiplying the score of all users with the corresponding weight in the `weight` array; then write each user's scores down to one line in the `filled_ratings` array."
   ]
  },
  {
   "cell_type": "code",
   "execution_count": null,
   "id": "5c8a2d70",
   "metadata": {
    "deletable": false,
    "nbgrader": {
     "cell_type": "code",
     "checksum": "9ecaf9a7ce0166befdd8b2637504454a",
     "grade": false,
     "grade_id": "cell-bee0a7ab7e39d6fd",
     "locked": false,
     "schema_version": 3,
     "solution": true,
     "task": false
    }
   },
   "outputs": [],
   "source": [
    "# YOUR CODE HERE\n",
    "raise NotImplementedError()"
   ]
  },
  {
   "cell_type": "code",
   "execution_count": null,
   "id": "c84b5f13",
   "metadata": {
    "deletable": false,
    "editable": false,
    "nbgrader": {
     "cell_type": "code",
     "checksum": "0beeba0866118d2ea808c75e01984851",
     "grade": true,
     "grade_id": "cell-1d89ae1305fcd5db",
     "locked": true,
     "points": 1,
     "schema_version": 3,
     "solution": false,
     "task": false
    }
   },
   "outputs": [],
   "source": [
    "# TEST\n",
    "filled_batch = filled_ratings[start:end]\n",
    "filled_nanvals = filled_batch[np.isnan(ratings[start:end])]\n",
    "assert np.array_equal(filled_nanvals[:13].round(1), np.array([3.6, 3.5, 4. , 3.8, 3.5, 3.2, 3.4, 3.1, 3.2, 3.7, 3.7, 3.2, 4.3]))\n",
    "assert np.array_equal(filled_nanvals[-13:].round(1), np.array([3., 1., 2., 3., 4., 3., 2., 3., 1., 3., 2., 3., 3.]))"
   ]
  },
  {
   "cell_type": "markdown",
   "id": "f7f558f3",
   "metadata": {},
   "source": [
    "Great ! So your code has run on a batch, now it's time for you to use the `for` loop to cycle through all the batches in the data set."
   ]
  },
  {
   "cell_type": "code",
   "execution_count": null,
   "id": "8ea23646",
   "metadata": {
    "deletable": false,
    "editable": true,
    "nbgrader": {
     "cell_type": "code",
     "checksum": "15362b5549771bcff59ac57b91254335",
     "grade": false,
     "grade_id": "cell-965580ca501d6d9c",
     "locked": false,
     "schema_version": 3,
     "solution": true,
     "task": false
    },
    "slideshow": {
     "slide_type": ""
    },
    "tags": []
   },
   "outputs": [],
   "source": [
    "# YOUR CODE HERE\n",
    "raise NotImplementedError()"
   ]
  },
  {
   "cell_type": "code",
   "execution_count": null,
   "id": "063f85c5",
   "metadata": {
    "deletable": false,
    "editable": false,
    "nbgrader": {
     "cell_type": "code",
     "checksum": "c5f4ed820fbf23850893a051883b9fd9",
     "grade": true,
     "grade_id": "cell-a7fb93e0ee5d82f1",
     "locked": true,
     "points": 3,
     "schema_version": 3,
     "solution": false,
     "task": false
    },
    "slideshow": {
     "slide_type": ""
    },
    "tags": []
   },
   "outputs": [],
   "source": [
    "# TEST\n",
    "filled_nanvals = filled_ratings[np.isnan(ratings)]\n",
    "assert np.array_equal(filled_nanvals[:13].round(1), np.array([3.6, 3.5, 4. , 3.8, 3.5, 3.2, 3.4, 3.1, 3.2, 3.7, 3.7, 3.2, 4.3]))\n",
    "assert np.array_equal(filled_nanvals[-13:].round(1), np.array([3., 0., 2., 3., 4., 3., 2., 3., 0., 0., 0., 3., 3.]))"
   ]
  }
 ],
 "metadata": {
  "kernelspec": {
   "display_name": "Python 3 (ipykernel)",
   "language": "python",
   "name": "python3"
  },
  "language_info": {
   "codemirror_mode": {
    "name": "ipython",
    "version": 3
   },
   "file_extension": ".py",
   "mimetype": "text/x-python",
   "name": "python",
   "nbconvert_exporter": "python",
   "pygments_lexer": "ipython3",
   "version": "3.10.14"
  },
  "varInspector": {
   "cols": {
    "lenName": 16,
    "lenType": 16,
    "lenVar": 40
   },
   "kernels_config": {
    "python": {
     "delete_cmd_postfix": "",
     "delete_cmd_prefix": "del ",
     "library": "var_list.py",
     "varRefreshCmd": "print(var_dic_list())"
    },
    "r": {
     "delete_cmd_postfix": ") ",
     "delete_cmd_prefix": "rm(",
     "library": "var_list.r",
     "varRefreshCmd": "cat(var_dic_list()) "
    }
   },
   "types_to_exclude": [
    "module",
    "function",
    "builtin_function_or_method",
    "instance",
    "_Feature"
   ],
   "window_display": false
  }
 },
 "nbformat": 4,
 "nbformat_minor": 5
}
