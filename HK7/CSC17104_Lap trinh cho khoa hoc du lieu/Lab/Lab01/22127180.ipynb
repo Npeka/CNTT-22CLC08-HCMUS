{
 "cells": [
  {
   "cell_type": "markdown",
   "id": "2204e0e2",
   "metadata": {
    "id": "2204e0e2"
   },
   "source": [
    "# Lab 1: Linux commands & Python\n",
    "\n",
    "(Last update: 16/10/2023)\n",
    "\n",
    "Name: Nguyễn Phúc Khang\n",
    "\n",
    "Student ID: 22127180\n",
    "\n",
    "---\n",
    "\n",
    "**Abstract**: This assignment tests your Python and Linux command skills. It also provides a general process for you to start a data project: Collect data $\\to$ Preprocess data $\\to$ Explore the meaning of data $\\to$ Mine insights from data.\n",
    "\n",
    "\n",
    "## 0. Instructions for doing and submitting assignment\n",
    "\n",
    "**How to do your assignment**\n",
    "\n",
    "You will do your assignment directly on this notebook file. First, you fill your name and student code at the beginning of the file. In this file, you will write your code when you see the following lines of code:\n",
    "```python\n",
    "# YOUR CODE HERE\n",
    "raise NotImplementedError()\n",
    "```\n",
    "\n",
    "For optional coding parts, there will be:\n",
    "```python\n",
    "# YOUR CODE HERE (OPTION)\n",
    "```\n",
    "\n",
    "For markdown cell, there will be:\n",
    "```markdown\n",
    "YOUR ANSWER HERE\n",
    "```\n",
    "\n",
    "Of course, you have to remove the `raise NotImplementedError()` statement when you finish.\n",
    "\n",
    "For coding parts, there are often cells below to help you check your answers. You will pass the test if there are no errors when you run the test cells. In some cases, the tests are insufficient. That means if you do not pass the test, your answer is definitely wrong somewhere, but if you pass the test, your answer may still be incorrect.\n",
    "\n",
    "While doing the assignment, you should print out the output and create more cells for testing. But you have to remove all of them (comment your print-out codes, delete the cell created by you) when you submit your code. <font color=red>Do not remove or edit my cells</font> (except for the aforementioned cells).\n",
    "\n",
    "Keep your code clean and clear by using meaningful variable names and comments, not write too-long coding lines.\n",
    "Press `Ctrl + S` right after editing.\n",
    "\n",
    "Keep it real: The reason why you are here is to <font color=green>study, really study</font>. I highly recommend that you discuss your idea with your friends and <font color=green>write your own code based on your own knowledge</font>. <font color=red>Copy means zero.</font>\n",
    "\n",
    "**How to submit your assignment**\n",
    "\n",
    "When grading your assignment, I will choose `Kernel` - `Restart & Run All` in order to restart the kernel and run all cells in your notebook. Therefore, you should do that before submitting to ensure that the outputs are all as expected.\n",
    "\n",
    "After that, rename the notebook as `<Student ID>.ipynb`. For example, if your student code is 1234567, then your notebook is `1234567.ipynb`.\n",
    "\n",
    "Finally, submit your notebook file on Moodle. <font color=red>Please strictly follow the submission rules.</font>\n",
    "\n",
    "---"
   ]
  },
  {
   "cell_type": "markdown",
   "id": "59f40065",
   "metadata": {
    "id": "59f40065"
   },
   "source": [
    "## 1. Programming environment\n",
    "\n",
    "- You will re-use the Linux environment setup in Lab 0 - WarmUp. Don't forget to start your coding environment (`conda activate min_ds-env`) before doing your assignment.\n",
    "- Use Jupyter notebook or Jupyter lab, <font color=red>not Google Colab</font> (I can not grade you well on Google Colab) to edit your `*.ipynb` file."
   ]
  },
  {
   "cell_type": "code",
   "execution_count": 1,
   "id": "b9130eef",
   "metadata": {
    "id": "b9130eef"
   },
   "outputs": [
    {
     "data": {
      "text/plain": [
       "'/home/khang/miniconda3/envs/min_ds-env/bin/python'"
      ]
     },
     "execution_count": 1,
     "metadata": {},
     "output_type": "execute_result"
    }
   ],
   "source": [
    "import sys\n",
    "sys.executable"
   ]
  },
  {
   "cell_type": "markdown",
   "id": "a2529136",
   "metadata": {
    "id": "a2529136"
   },
   "source": [
    "- Import necessary libraries"
   ]
  },
  {
   "cell_type": "code",
   "execution_count": 2,
   "id": "2a8c0627",
   "metadata": {
    "id": "2a8c0627"
   },
   "outputs": [],
   "source": [
    "import datetime\n",
    "# YOUR CODE HERE (OPTION)\n",
    "import numpy as np\n",
    "import pandas as pd"
   ]
  },
  {
   "cell_type": "markdown",
   "id": "706a3de5",
   "metadata": {
    "id": "706a3de5"
   },
   "source": [
    "## 2. Data collection\n",
    "\n",
    "- You are required to do the following tasks using Linux command:\n",
    "    - Create a folder named `./data`\n",
    "    - Collect data from the the links that were specified in `links.txt` and save to `./data` using `wget`\n",
    "    - After collecting data, rename your data as `data_2019.csv`, `data_2018.csv` and `guidance.csv` using `mv`\n",
    "    - List all the file contained in `./data` using `ls`"
   ]
  },
  {
   "cell_type": "code",
   "execution_count": 3,
   "id": "eca2bdf3",
   "metadata": {
    "id": "eca2bdf3",
    "scrolled": true
   },
   "outputs": [
    {
     "name": "stdout",
     "output_type": "stream",
     "text": [
      "mkdir: cannot create directory ‘./data’: File exists\n",
      "--2024-10-15 23:36:46--  https://datamillnorth.org/download/road-traffic-accidents/8e6585f6-e627-4258-b16f-ca3858c0cc67/Traffic%2520accidents_2019_Leeds.csv\n",
      "Resolving datamillnorth.org (datamillnorth.org)... 104.26.4.58, 172.67.68.118, 104.26.5.58, ...\n",
      "Connecting to datamillnorth.org (datamillnorth.org)|104.26.4.58|:443... connected.\n",
      "HTTP request sent, awaiting response... 302 Found\n",
      "Location: /download/2o11d/8e6585f6-e627-4258-b16f-ca3858c0cc67/Traffic%2520accidents_2019_Leeds.csv [following]\n",
      "--2024-10-15 23:36:46--  https://datamillnorth.org/download/2o11d/8e6585f6-e627-4258-b16f-ca3858c0cc67/Traffic%2520accidents_2019_Leeds.csv\n",
      "Reusing existing connection to datamillnorth.org:443.\n",
      "HTTP request sent, awaiting response... 200 OK\n",
      "Length: 143972 (141K) [text/csv]\n",
      "Saving to: ‘./data/Traffic accidents_2019_Leeds.csv’\n",
      "\n",
      "Traffic accidents_2 100%[===================>] 140.60K  --.-KB/s    in 0.08s   \n",
      "\n",
      "Last-modified header invalid -- time-stamp ignored.\n",
      "2024-10-15 23:36:47 (1.76 MB/s) - ‘./data/Traffic accidents_2019_Leeds.csv’ saved [143972/143972]\n",
      "\n",
      "http://: Invalid host name.\n",
      "--2024-10-15 23:36:47--  https://datamillnorth.org/download/road-traffic-accidents/8c100249-09c5-4aac-91c1-9c7c3656892b/RTC%25202018_Leeds.csv\n",
      "Resolving datamillnorth.org (datamillnorth.org)... 104.26.5.58, 104.26.4.58, 172.67.68.118, ...\n",
      "Connecting to datamillnorth.org (datamillnorth.org)|104.26.5.58|:443... connected.\n",
      "HTTP request sent, awaiting response... 302 Found\n",
      "Location: /download/2o11d/8c100249-09c5-4aac-91c1-9c7c3656892b/RTC%25202018_Leeds.csv [following]\n",
      "--2024-10-15 23:36:47--  https://datamillnorth.org/download/2o11d/8c100249-09c5-4aac-91c1-9c7c3656892b/RTC%25202018_Leeds.csv\n",
      "Reusing existing connection to datamillnorth.org:443.\n",
      "HTTP request sent, awaiting response... 200 OK\n",
      "Length: 186602 (182K) [text/csv]\n",
      "Saving to: ‘./data/RTC 2018_Leeds.csv’\n",
      "\n",
      "RTC 2018_Leeds.csv  100%[===================>] 182.23K  --.-KB/s    in 0.1s    \n",
      "\n",
      "Last-modified header invalid -- time-stamp ignored.\n",
      "2024-10-15 23:36:48 (1.50 MB/s) - ‘./data/RTC 2018_Leeds.csv’ saved [186602/186602]\n",
      "\n",
      "http://: Invalid host name.\n",
      "--2024-10-15 23:36:48--  https://datamillnorth.org/download/road-traffic-accidents/ffc7c1f3-923e-457f-a014-5b3fa2d24f1c/accidentsguidance.csv\n",
      "Resolving datamillnorth.org (datamillnorth.org)... 172.67.68.118, 104.26.5.58, 104.26.4.58, ...\n",
      "Connecting to datamillnorth.org (datamillnorth.org)|172.67.68.118|:443... connected.\n",
      "HTTP request sent, awaiting response... 302 Found\n",
      "Location: /download/2o11d/ffc7c1f3-923e-457f-a014-5b3fa2d24f1c/accidentsguidance.csv [following]\n",
      "--2024-10-15 23:36:48--  https://datamillnorth.org/download/2o11d/ffc7c1f3-923e-457f-a014-5b3fa2d24f1c/accidentsguidance.csv\n",
      "Reusing existing connection to datamillnorth.org:443.\n",
      "HTTP request sent, awaiting response... 200 OK\n",
      "Length: 1769 (1.7K) [text/csv]\n",
      "Saving to: ‘./data/accidentsguidance.csv’\n",
      "\n",
      "accidentsguidance.c 100%[===================>]   1.73K  --.-KB/s    in 0s      \n",
      "\n",
      "Last-modified header invalid -- time-stamp ignored.\n",
      "2024-10-15 23:36:48 (5.02 MB/s) - ‘./data/accidentsguidance.csv’ saved [1769/1769]\n",
      "\n",
      "http://: Invalid host name.\n"
     ]
    }
   ],
   "source": [
    "# # YOUR CODE HERE\n",
    "# raise NotImplementedError()\n",
    "!mkdir ./data\n",
    "\n",
    "!while read -r url; do wget -P ./data \"$url\"; done < links.txt"
   ]
  },
  {
   "cell_type": "code",
   "execution_count": 4,
   "id": "9e264f33",
   "metadata": {
    "id": "9e264f33"
   },
   "outputs": [
    {
     "name": "stdout",
     "output_type": "stream",
     "text": [
      "data_2018.csv  data_2019.csv  guidance.csv\n"
     ]
    }
   ],
   "source": [
    "# # YOUR CODE HERE\n",
    "# raise NotImplementedError()\n",
    "!mv ./data/'RTC 2018_Leeds.csv' ./data/data_2018.csv\n",
    "!mv ./data/'Traffic accidents_2019_Leeds.csv' ./data/data_2019.csv\n",
    "!mv ./data/'accidentsguidance.csv' ./data/guidance.csv\n",
    "\n",
    "!ls ./data"
   ]
  },
  {
   "cell_type": "markdown",
   "id": "aa3dd33c",
   "metadata": {
    "id": "aa3dd33c"
   },
   "source": [
    "## 3. Data exploring & Data preprocessing\n",
    "\n",
    "### 3.0. Read data\n",
    "\n",
    "- First, I suggest you check the downloaded data by yourself before handing on the code. What kind of the data that you have just downloaded? What is the meaning of each file?\n",
    "\n",
    "YOUR ANSWER HERE: They are tabular data, which contain information about traffic accidents in UK from 2018 to 2019. Additionally, there is a file that explains the notions in 2 data files.\n",
    "\n",
    "- After checking the data, design a function named `read_data` with the name of data file as parameter, which returns a dictionary. Each element of this dictionary follows:\n",
    "    - Key: Name of the columns\n",
    "    - Value: Lists which contains the data of the coresponding columns"
   ]
  },
  {
   "cell_type": "code",
   "execution_count": 5,
   "id": "49c58962",
   "metadata": {
    "id": "49c58962"
   },
   "outputs": [],
   "source": [
    "def read_data(file_name):\n",
    "    # # YOUR CODE HERE\n",
    "    # raise NotImplementedError()\n",
    "    return pd.read_csv(file_name).to_dict(orient='list')\n",
    "\n",
    "data_2018 = read_data('./data/data_2018.csv')\n",
    "data_2019 = read_data('./data/data_2019.csv')"
   ]
  },
  {
   "cell_type": "code",
   "execution_count": 6,
   "id": "88bcd3c9",
   "metadata": {
    "id": "88bcd3c9"
   },
   "outputs": [],
   "source": [
    "# TEST\n",
    "assert set(data_2018.keys()) == set(['Accident Fields_Reference Number', 'Grid Ref: Easting', 'Grid Ref: Northing', 'Number of Vehicles', 'Accident Date', 'Time (24hr)', '1st Road Class', '1st Road Class & No', 'Road Surface', 'Lighting Conditions', 'Weather Conditions', 'Local Authority', 'Vehicle Fields_Reference Number', 'Vehicle Number', 'Type of Vehicle', 'Casualty Fields_Reference Number', 'Casualty Veh No', 'Casualty Class', 'Casualty Severity', 'Sex of Casualty', 'Age of Casualty'])\n",
    "assert set(data_2019.keys()) == set(['Reference Number', 'Grid Ref: Easting', 'Grid Ref: Northing', 'Number of Vehicles', 'Accident Date', 'Time (24hr)', '1st Road Class', '1st Road Class & No', 'Road Surface', 'Lighting Conditions', 'Weather Conditions', 'Local Authority', 'Vehicle Number', 'Type of Vehicle', 'Casualty Class', 'Casualty Severity', 'Sex of Casualty', 'Age of Casualty'])\n",
    "\n",
    "id_col_len = len(data_2018['Accident Fields_Reference Number'])\n",
    "for col_name in data_2018:\n",
    "    assert len(data_2018[col_name]) == id_col_len\n",
    "\n",
    "id_col_len = len(data_2019['Reference Number'])\n",
    "for col_name in data_2019:\n",
    "    assert len(data_2019[col_name]) == id_col_len"
   ]
  },
  {
   "cell_type": "markdown",
   "id": "d9682b5a",
   "metadata": {
    "id": "d9682b5a"
   },
   "source": [
    "### 3.1. The meaning of each column/row\n",
    "\n",
    "- Please refer to `./data/guidance.csv` in order to get the meaning of each column\n",
    "- Each row corresponds to an accident with a unique reference number\n",
    "- Compute the number of rows and columns and assign to `num_rows_2018`, `num_cols_2018`, `num_rows_2019`, `num_cols_2019`"
   ]
  },
  {
   "cell_type": "code",
   "execution_count": 7,
   "id": "337fe67b",
   "metadata": {
    "id": "337fe67b"
   },
   "outputs": [],
   "source": [
    "# # YOUR CODE HERE\n",
    "# raise NotImplementedError()\n",
    "\n",
    "# Get the column meanings\n",
    "guidance_data = pd.read_csv('./data/guidance.csv', encoding='latin1')\n",
    "\n",
    "# data_2018\n",
    "num_rows_2018 = len(data_2018['Accident Fields_Reference Number'])\n",
    "num_cols_2018 = len(data_2018)\n",
    "\n",
    "# data_2019\n",
    "num_rows_2019 = len(data_2019['Reference Number'])\n",
    "num_cols_2019 = len(data_2019)"
   ]
  },
  {
   "cell_type": "code",
   "execution_count": 8,
   "id": "10d7ccbb",
   "metadata": {
    "id": "10d7ccbb"
   },
   "outputs": [],
   "source": [
    "# TEST\n",
    "assert (num_rows_2018, num_cols_2018, num_rows_2019, num_cols_2019) == (1995, 21, 1907, 18)"
   ]
  },
  {
   "cell_type": "markdown",
   "id": "79445930",
   "metadata": {
    "id": "79445930"
   },
   "source": [
    "### 3.2. Duplicated columns\n",
    "\n",
    "- Observe the data in 2018, you can see that columns `Accident Fields_Reference Number`, `Vehicle Fields_Reference Number` and `Casualty Fields_Reference Number` seem to contain quite similar data.\n",
    "\n",
    "- Additionally, columns `Number of Vehicles` and `Vehicle Number` in `data_2018` and `data_2019` also look quite similar.\n",
    "\n",
    "- In order to make sure of these hypothesises, you have to check these columns. Your mission is to design a function named `check_similarity` in order to check the similarity (in percentage) of 2 given columns.\n",
    "- The percentage of similarity is computed by dividing the number of similar samples to total samples. `check_similarity` return a number illustrating the similarity of 2 columns.\n"
   ]
  },
  {
   "cell_type": "code",
   "execution_count": 9,
   "id": "021bf341",
   "metadata": {
    "id": "021bf341"
   },
   "outputs": [],
   "source": [
    "def check_similarity(data, col_name_1, col_name_2):\n",
    "    # # YOUR CODE HERE\n",
    "    # raise NotImplementedError()\n",
    "    col_1 = data[col_name_1]\n",
    "    col_2 = data[col_name_2]\n",
    "\n",
    "    similarity_data = [val_1 == val_2 for val_1, val_2 in zip(col_1, col_2)]\n",
    "    percentage = sum(similarity_data) / len(similarity_data)\n",
    "\n",
    "    return percentage"
   ]
  },
  {
   "cell_type": "code",
   "execution_count": 10,
   "id": "0151d75e",
   "metadata": {
    "id": "0151d75e"
   },
   "outputs": [],
   "source": [
    "# TEST\n",
    "assert round(check_similarity(data_2018, 'Accident Fields_Reference Number', 'Vehicle Fields_Reference Number'),5) == 1.\n",
    "assert round(check_similarity(data_2018, 'Accident Fields_Reference Number', 'Casualty Fields_Reference Number'),5) == 1.\n",
    "assert round(check_similarity(data_2018, 'Number of Vehicles', 'Vehicle Number'), 5) == 0.65213\n",
    "assert round(check_similarity(data_2019, 'Number of Vehicles', 'Vehicle Number'), 5) == 0.67541"
   ]
  },
  {
   "cell_type": "markdown",
   "id": "3e2f8541",
   "metadata": {
    "id": "3e2f8541"
   },
   "source": [
    "- Therefore, column `Accident Fields_Reference Number`, `Vehicle Fields_Reference Number` and `Casualty Fields_Reference Number` contain the same data. We have to remove 2 of them.\n",
    "- It could be noise for us to analyze 2 columns with more than 65% similarity, so I also decide to remove `Vehicle Number`.\n",
    "- Since removing an element from a dictionary is a really hard task for beginner, I will help you on that."
   ]
  },
  {
   "cell_type": "code",
   "execution_count": 11,
   "id": "ecbda0b2",
   "metadata": {
    "id": "ecbda0b2"
   },
   "outputs": [],
   "source": [
    "del data_2018['Vehicle Fields_Reference Number'], data_2018['Casualty Fields_Reference Number']\n",
    "del data_2019['Vehicle Number'], data_2018['Vehicle Number']"
   ]
  },
  {
   "cell_type": "markdown",
   "id": "e5608af9",
   "metadata": {
    "id": "e5608af9"
   },
   "source": [
    "### 3.3. Data merging & Data checking\n",
    "\n",
    "- In order for us to conveniently analyze the data, we should merge 2 data sets into 1.\n",
    "- Compare the columns of 2 data sets, you can see that there are some unmergeable columns:\n",
    "    - Column `Casualty Veh No` in `data_2018`: `data_2019` does not have one, so we have to remove this column from `data_2018`\n",
    "    - Column `Accident Fields_Reference Number` in `data_2018` should be changed to `Reference Number`\n",
    "- I will help you on these 2 tasks, then you will merge 2 data sets into `data_18_19`"
   ]
  },
  {
   "cell_type": "code",
   "execution_count": 12,
   "id": "2b6890cb",
   "metadata": {
    "id": "2b6890cb"
   },
   "outputs": [],
   "source": [
    "# delete `Casualty Veh No` in data_2018\n",
    "del data_2018['Casualty Veh No']\n",
    "\n",
    "# rename\n",
    "data_2018['Reference Number'] = data_2018.pop('Accident Fields_Reference Number')"
   ]
  },
  {
   "cell_type": "code",
   "execution_count": 13,
   "id": "21686b56",
   "metadata": {
    "id": "21686b56"
   },
   "outputs": [],
   "source": [
    "# TEST\n",
    "assert set(data_2018.keys()) == set(data_2019.keys())"
   ]
  },
  {
   "cell_type": "code",
   "execution_count": 14,
   "id": "5cc2d9e7",
   "metadata": {
    "id": "5cc2d9e7"
   },
   "outputs": [],
   "source": [
    "# # YOUR CODE HERE\n",
    "# raise NotImplementedError()\n",
    "data_18_19 = {key: data_2018[key] + data_2019[key] for key in data_2018.keys()}"
   ]
  },
  {
   "cell_type": "markdown",
   "id": "de119d69",
   "metadata": {
    "id": "de119d69"
   },
   "source": [
    "- After merging 2 data sets, you have to check whether there is any duplicated row based on the ID of each case. If there is, it should be removed from the dataset."
   ]
  },
  {
   "cell_type": "code",
   "execution_count": 15,
   "id": "93463312",
   "metadata": {
    "id": "93463312"
   },
   "outputs": [
    {
     "name": "stdout",
     "output_type": "stream",
     "text": [
      "Duplicated rows: True. Number of duplicated rows: 904\n"
     ]
    }
   ],
   "source": [
    "id_col = data_18_19['Reference Number']\n",
    "num_duplicated = len(id_col) - len(set(id_col))\n",
    "\n",
    "print(f'Duplicated rows: {\"True\" if num_duplicated > 0 else \"False\"}. Number of duplicated rows: {num_duplicated}')"
   ]
  },
  {
   "cell_type": "code",
   "execution_count": 16,
   "id": "91d00743",
   "metadata": {
    "id": "91d00743"
   },
   "outputs": [],
   "source": [
    "# # YOUR CODE HERE\n",
    "# raise NotImplementedError()\n",
    "duplicated_index = [i for i in range(len(id_col)) if id_col[i] in id_col[:i]]\n",
    "\n",
    "for key in data_18_19.keys():\n",
    "    data_18_19[key] = [data_18_19[key][i] for i in range(len(data_18_19[key])) if i not in duplicated_index]"
   ]
  },
  {
   "cell_type": "code",
   "execution_count": 17,
   "id": "36593124",
   "metadata": {
    "id": "36593124"
   },
   "outputs": [],
   "source": [
    "# TEST\n",
    "assert set(data_18_19.keys()) == set(data_2018.keys())\n",
    "assert len(set(data_18_19['Reference Number'])) == len(data_18_19['Reference Number'])\n",
    "assert len(data_18_19['1st Road Class']) == 2998"
   ]
  },
  {
   "cell_type": "markdown",
   "id": "997ba941",
   "metadata": {
    "id": "997ba941"
   },
   "source": [
    "- You also have to check if there is any missing data. For missing data, I suggest you to fill in since there are a lot of methods to handle it. But if the missing data for a column becomes too much (e.g. more than 50%), you should consider to remove the column out of the dataset.\n",
    "\n",
    "- In this assignment, you will check missing data for each column. Result will be stored in a dictionary named `check_missing_data` which the key is column name and the value is `True` (some data is missing), `False` (no missing data)."
   ]
  },
  {
   "cell_type": "code",
   "execution_count": 18,
   "id": "4723c412",
   "metadata": {
    "id": "4723c412"
   },
   "outputs": [],
   "source": [
    "# # YOUR CODE HERE\n",
    "# raise NotImplementedError()\n",
    "check_missing_data = {}\n",
    "\n",
    "for key, vals in data_18_19.items():\n",
    "    check_missing_data[key] = any(val is None or '' for val in vals)\n",
    "    if check_missing_data[key] == True:\n",
    "        del data_18_19[key]"
   ]
  },
  {
   "cell_type": "code",
   "execution_count": 19,
   "id": "7a19f7ee",
   "metadata": {
    "id": "7a19f7ee"
   },
   "outputs": [],
   "source": [
    "# TEST\n",
    "assert set(check_missing_data.keys()) == set(data_18_19.keys())\n",
    "for col in check_missing_data.keys():\n",
    "    assert check_missing_data[col] == False"
   ]
  },
  {
   "cell_type": "markdown",
   "id": "a176b4f5",
   "metadata": {
    "id": "a176b4f5"
   },
   "source": [
    "### 3.4. Data conversion\n",
    "\n",
    "- Obverse the datatype of each column"
   ]
  },
  {
   "cell_type": "code",
   "execution_count": 20,
   "id": "1d1eba91",
   "metadata": {
    "id": "1d1eba91"
   },
   "outputs": [
    {
     "name": "stdout",
     "output_type": "stream",
     "text": [
      "Grid Ref: Easting         <class 'int'>\n",
      "Grid Ref: Northing        <class 'int'>\n",
      "Number of Vehicles        <class 'int'>\n",
      "Accident Date             <class 'str'>\n",
      "Time (24hr)               <class 'int'>\n",
      "1st Road Class            <class 'int'>\n",
      "1st Road Class & No       <class 'str'>\n",
      "Road Surface              <class 'int'>\n",
      "Lighting Conditions       <class 'int'>\n",
      "Weather Conditions        <class 'int'>\n",
      "Local Authority           <class 'str'>\n",
      "Type of Vehicle           <class 'int'>\n",
      "Casualty Class            <class 'int'>\n",
      "Casualty Severity         <class 'int'>\n",
      "Sex of Casualty           <class 'int'>\n",
      "Age of Casualty           <class 'int'>\n",
      "Reference Number          <class 'str'>\n"
     ]
    }
   ],
   "source": [
    "for col in data_18_19.keys():\n",
    "    print(f'{col:25} {type(data_18_19[col][0])}')"
   ]
  },
  {
   "cell_type": "markdown",
   "id": "aa821d4d",
   "metadata": {
    "id": "aa821d4d"
   },
   "source": [
    "- Before moving to analyzing the dataset, the datatype of each column should be correct.\n",
    "- Based on `./data/guidance.csv` and research on the Internet:\n",
    "    - `Grid Ref` values are coordinate location in UK format $\\to$ Datatype: int\n",
    "    - `Number of Vehicles`: int\n",
    "    - `Accident Date`: datetime\n",
    "    - `Time (24hr)`: datetime\n",
    "    - `Age of Casualty`: int\n",
    "    - `1st Road Class`: str\n",
    "    - Rest: str\n",
    "    \n",
    "- In reallife project, you have to convert all columns into their correct datatype before doing anything else. But in this assignment, you are just required to merge `Time (24hr)` and `Accident Date` into column `Full time` with the correct datatype (datetime). After merging, delete `Time (24hr)` and `Accident Date`.\n",
    "    - The format of `Time (24hr)`: `hhmm`\n",
    "    - The format of `Accident Date`: `dd/mm/yyyy`"
   ]
  },
  {
   "cell_type": "code",
   "execution_count": 21,
   "id": "10bb8ea0",
   "metadata": {
    "id": "10bb8ea0"
   },
   "outputs": [],
   "source": [
    "# # YOUR CODE HERE\n",
    "# raise NotImplementedError()\n",
    "\n",
    "def convert_datetime(date_str, time_int):\n",
    "    time_str = f'{time_int:04d}'\n",
    "    datetime_str = f\"{date_str} {time_str[:2]}:{time_str[2:]}\"\n",
    "    return datetime.datetime.strptime(datetime_str, '%d/%m/%Y %H:%M')\n",
    "\n",
    "data_18_19['Full time'] = [convert_datetime(date, time) for date, time in zip(data_18_19['Accident Date'], data_18_19['Time (24hr)'])]\n",
    "\n",
    "del data_18_19['Accident Date']\n",
    "del data_18_19['Time (24hr)']"
   ]
  },
  {
   "cell_type": "code",
   "execution_count": 22,
   "id": "3e16a1b0",
   "metadata": {
    "id": "3e16a1b0"
   },
   "outputs": [],
   "source": [
    "# TEST\n",
    "assert set(data_18_19.keys()) == set(['Grid Ref: Easting', 'Grid Ref: Northing', 'Number of Vehicles', '1st Road Class', '1st Road Class & No', 'Road Surface', 'Lighting Conditions', 'Weather Conditions', 'Local Authority', 'Type of Vehicle', 'Casualty Class', 'Casualty Severity', 'Sex of Casualty', 'Age of Casualty', 'Reference Number', 'Full time'])\n",
    "assert type(data_18_19['Full time'][0]) == datetime.datetime"
   ]
  },
  {
   "cell_type": "markdown",
   "id": "983c1aec",
   "metadata": {
    "id": "983c1aec"
   },
   "source": [
    "- Looks like values in the `Local Authority` column are all the same\n",
    "- You need to count the number of distinct values of the `Local Authority` column\n",
    "- If all values in the `Local Authority` are the same, delete that column"
   ]
  },
  {
   "cell_type": "code",
   "execution_count": 23,
   "id": "e272e144",
   "metadata": {
    "id": "e272e144"
   },
   "outputs": [],
   "source": [
    "# YOUR CODE HERE\n",
    "num_distinct_authority = len(set(data_18_19['Local Authority']))\n",
    "if num_distinct_authority == 1: del data_18_19['Local Authority']"
   ]
  },
  {
   "cell_type": "code",
   "execution_count": 24,
   "id": "35de2a0e",
   "metadata": {
    "id": "35de2a0e"
   },
   "outputs": [],
   "source": [
    "assert num_distinct_authority == 1\n",
    "assert 'Local Authority' not in data_18_19.keys()"
   ]
  },
  {
   "cell_type": "markdown",
   "id": "7f2d692b",
   "metadata": {
    "id": "7f2d692b"
   },
   "source": [
    "## 4. Questions proposing & answering\n",
    "\n",
    "- In this section, we are going to propose 2 questions that can be answered by data. I will propose 1 question. The other one will be your task.\n",
    "- Note that answering these questions should give us some insight or useful information about traffic in UK.\n",
    "\n",
    "### 4.1. Question #1\n",
    "\n",
    "- How many accidents are there in each day of a week (Mon $\\to$ Sun) and in each hour of a day (0 $\\to$ 23)?\n",
    "- Meaning: Warn people to be careful when participating in traffic during those hours\n",
    "- Answer:\n",
    "    - Firstly, you will create a `matrix_` size $7\\times24$ which each element indicates he number of accidents during a certain hour of a certain day of the week. E.g. `matrix_[1][7]` indicates the number of accidents from 7h00m to 7h59m of Tuesday\n",
    "    - Then, you will fill in the matrix based on the column `Full time` that you have just created\n",
    "    - Finally, I will help you visualize the result"
   ]
  },
  {
   "cell_type": "code",
   "execution_count": 25,
   "id": "4ed813b5",
   "metadata": {
    "id": "4ed813b5"
   },
   "outputs": [],
   "source": [
    "# # YOUR CODE HERE\n",
    "# raise NotImplementedError()\n",
    "\n",
    "matrix_ = np.zeros((7, 24))\n",
    "for datetime in data_18_19['Full time']:\n",
    "    matrix_[datetime.weekday()][datetime.hour] += 1"
   ]
  },
  {
   "cell_type": "code",
   "execution_count": 26,
   "id": "51dc1b29",
   "metadata": {
    "id": "51dc1b29"
   },
   "outputs": [
    {
     "data": {
      "text/plain": [
       "Text(0.5, 1.0, 'Thống kê tai nạn tại các khung giờ của các ngày trong tuần')"
      ]
     },
     "execution_count": 26,
     "metadata": {},
     "output_type": "execute_result"
    },
    {
     "data": {
      "image/png": "[encoded data removed]",
      "text/plain": [
       "<Figure size 1000x600 with 2 Axes>"
      ]
     },
     "metadata": {},
     "output_type": "display_data"
    }
   ],
   "source": [
    "# visualize\n",
    "# !pip install seaborn\n",
    "import matplotlib.pyplot as plt\n",
    "import seaborn as sns\n",
    "\n",
    "day_of_week = ['Mon', 'Tue', 'Wed', 'Thu', 'Fri', 'Sat', 'Sun']\n",
    "\n",
    "plt.figure(figsize=(10,6))\n",
    "ax = sns.heatmap(matrix_, linewidths=.5, yticklabels = day_of_week)\n",
    "ax.set_xlabel('Thời gian')\n",
    "ax.set_ylabel('Ngày trong tuần')\n",
    "ax.set_title('Thống kê tai nạn tại các khung giờ của các ngày trong tuần')"
   ]
  },
  {
   "cell_type": "markdown",
   "id": "a88a291e",
   "metadata": {
    "id": "a88a291e"
   },
   "source": [
    "### 4.2. Question #2\n",
    "\n",
    "YOUR ANSWER HERE\n",
    "\n",
    "- Question: What is the relationship between the sex of casualties and the number of traffic accidents?\n",
    "\n",
    "- Meaning: Understanding how the number of traffic accidents varies by the sex of the casualties helps identify potential risk groups and informs targeted interventions for road safety education and policies.\n",
    "\n",
    "- Answer:\n",
    "    - Create a DataFrame `df` from the dictionary\n",
    "    - Count the number of accidents for each 'Sex of Casualty' a and save the result to `weather_counts`\n",
    "    - Visualize the results\n",
    "- Observations:\n",
    "    - Higher incidence for males: The number of fatal accidents involving men is significantly higher (approximately 1800+) than for women (approximately 1100+). This may be because male drivers are more likely to engage in risky driving behaviors such as speeding, not wearing a seatbelt, drinking alcohol, being drowsy (on long-distance drives), having flat tires, or having brake failure.\n",
    "    - Lower Rate for Females: Deaths in women are less likely to be related to traffic accidents. This may indicate that women may exhibit more cautious driving behaviors or engage in less risky behaviors than men such as talking on the phone or texting while driving, missing the accelerator, wearing high heels, or erratically “swerving” the vehicle."
   ]
  },
  {
   "cell_type": "code",
   "execution_count": 27,
   "id": "3ab5676d",
   "metadata": {
    "id": "3ab5676d"
   },
   "outputs": [
    {
     "data": {
      "image/png": "[encoded data removed]",
      "text/plain": [
       "<Figure size 1000x600 with 1 Axes>"
      ]
     },
     "metadata": {},
     "output_type": "display_data"
    }
   ],
   "source": [
    "# YOUR CODE HERE\n",
    "# raise NotImplementedError()\n",
    "\n",
    "# Step 1: Create a DataFrame from the dictionary\n",
    "df = pd.DataFrame(data_18_19)\n",
    "\n",
    "# Step 2: Count the number of accidents for each 'Sex of Casualty'\n",
    "sex_counts = df['Sex of Casualty'].value_counts()\n",
    "\n",
    "# Step 3: Visualize the results\n",
    "plt.figure(figsize=(10, 6))\n",
    "sex_counts.plot(kind='bar', color='skyblue')\n",
    "bars = sex_counts.plot(kind='bar', color='skyblue')\n",
    "plt.title('Number of traffic accidents by Sex of Casualty')\n",
    "plt.xlabel('Sex of Casualty')\n",
    "plt.ylabel('Number of Accidents')\n",
    "plt.xticks(ticks=[0, 1], labels=['Male (1)', 'Female (2)'], rotation=45, ha='right')\n",
    "plt.grid(axis='y')\n",
    "plt.tight_layout()\n",
    "for bar in bars.patches:\n",
    "    count = bar.get_height()\n",
    "    bars.text(\n",
    "        bar.get_x() + bar.get_width() / 2,  \n",
    "        count,  \n",
    "        str(int(count)), \n",
    "        ha='center',  \n",
    "        va='bottom'  \n",
    "    )\n",
    "plt.show()\n"
   ]
  }
 ],
 "metadata": {
  "colab": {
   "provenance": [],
   "toc_visible": true
  },
  "kernelspec": {
   "display_name": "Python 3 (ipykernel)",
   "language": "python",
   "name": "python3"
  },
  "language_info": {
   "codemirror_mode": {
    "name": "ipython",
    "version": 3
   },
   "file_extension": ".py",
   "mimetype": "text/x-python",
   "name": "python",
   "nbconvert_exporter": "python",
   "pygments_lexer": "ipython3",
   "version": "3.13.0"
  },
  "varInspector": {
   "cols": {
    "lenName": 16,
    "lenType": 16,
    "lenVar": 40
   },
   "kernels_config": {
    "python": {
     "delete_cmd_postfix": "",
     "delete_cmd_prefix": "del ",
     "library": "var_list.py",
     "varRefreshCmd": "print(var_dic_list())"
    },
    "r": {
     "delete_cmd_postfix": ") ",
     "delete_cmd_prefix": "rm(",
     "library": "var_list.r",
     "varRefreshCmd": "cat(var_dic_list()) "
    }
   },
   "types_to_exclude": [
    "module",
    "function",
    "builtin_function_or_method",
    "instance",
    "_Feature"
   ],
   "window_display": false
  }
 },
 "nbformat": 4,
 "nbformat_minor": 5
}
