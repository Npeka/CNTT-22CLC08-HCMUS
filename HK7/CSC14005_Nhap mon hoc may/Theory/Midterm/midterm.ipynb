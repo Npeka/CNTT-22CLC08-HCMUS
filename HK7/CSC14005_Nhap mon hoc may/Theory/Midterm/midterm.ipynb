{
 "cells": [
  {
   "cell_type": "markdown",
   "metadata": {
    "collapsed": false
   },
   "source": [
    "# Đề kiểm tra giữa kỳ\n",
    "\n",
    "Họ và tên:\n",
    "\n",
    "MSSV:\n",
    "\n",
    "Lớp:"
   ]
  },
  {
   "cell_type": "markdown",
   "metadata": {
    "collapsed": false
   },
   "source": [
    "## Mô tả dữ liệu\n",
    "\n",
    "Tập Dữ liệu được sử dụng trong bài tập là **Student Performance Factors** được lấy từ [Kaggle](https://www.kaggle.com/datasets/lainguyn123/student-performance-factors). Tập dữ liệu cho biết một số nhân tố ảnh hưởng đến điểm số của học sinh.\n",
    "Tập dữ liệu sau khi được xử lý gồm *6378 dòng* và *20 cột* với ý nghĩa từng cột như sau:\n",
    "\n",
    "\n",
    "| Thuộc tính                 | Mô tả                                                                         |\n",
    "|----------------------------|-------------------------------------------------------------------------------|\n",
    "| Hours_Studied              | Số giờ học mỗi tuần.                                                          |\n",
    "| Attendance                 | Tỷ lệ phần trăm số buổi học đã tham gia.                                      |\n",
    "| Parental_Involvement       | Mức độ tham gia của phụ huynh vào việc học của học sinh (Low, Medium, High).  |\n",
    "| Access_to_Resources        | Mức độ sẵn có của các tài nguyên giáo dục (Low, Medium, High).                |\n",
    "| Extracurricular_Activities | Tham gia vào các hoạt động ngoại khóa (Yes, No).                              |\n",
    "| Sleep_Hours                | Số giờ ngủ trung bình mỗi đêm.                                                |\n",
    "| Previous_Scores            | Điểm số từ các kỳ thi trước.                                                  |\n",
    "| Motivation_Level           | Mức độ động lực học tập của học sinh (Low, Medium, High).                     |\n",
    "| Internet_Access            | Mức độ truy cập Internet (Yes, No).                                           |\n",
    "| Tutoring_Sessions          | Số buổi học phụ đạo tham gia mỗi tháng.                                       |\n",
    "| Family_Income              | Mức thu nhập của gia đình (Low, Medium, High).                                |\n",
    "| Teacher_Quality            | Chất lượng giáo viên (Low, Medium, High).                                     |\n",
    "| School_Type                | Loại hình trường học (Public, Private).                                       |\n",
    "| Peer_Influence             | Ảnh hưởng của bạn bè đến kết quả học tập (Positive, Neutral, Negative).       |\n",
    "| Physical_Activity          | Số giờ hoạt động thể chất trung bình mỗi tuần.                                |\n",
    "| Learning_Disabilities      | Có sự hiện diện của khuyết tật học tập hay không (Yes, No).                   |\n",
    "| Parental_Education_Level   | Trình độ học vấn cao nhất của cha mẹ (High School, College, Postgraduate).    |\n",
    "| Distance_from_Home         | Khoảng cách từ nhà đến trường (Near, Moderate, Far).                          |\n",
    "| Gender                     | Giới tính của học sinh (Male, Female).                                        |\n",
    "| Exam_Score                 | Điểm kỳ thi cuối cùng.                                                        |\n",
    "\n",
    "Tập dữ liệu sẽ được chia thành hai tệp tin là: `train.csv` và `test.csv` với số lượng bản ghi tương ứng là  5102 và 1276."
   ]
  },
  {
   "cell_type": "markdown",
   "metadata": {
    "collapsed": false
   },
   "source": [
    "## Yêu cầu đề bài"
   ]
  },
  {
   "cell_type": "markdown",
   "metadata": {
    "collapsed": false
   },
   "source": [
    "Trong nội dung kiểm tra này các bạn sẽ xây dựng hai mô hình Decision Tree và mô hình Linear Regression để dự đoán cột điểm số `Exam_score` dựa trên các thuộc tính còn lại.\n",
    "\n",
    "**Yêu cầu chung**\n",
    "* Các hành vi gian lận sẽ bị đánh giá **0 điểm** trong phần giữa kỳ.\n",
    "\n",
    "* Chỉ được phép sử dụng các thư viện `pandas` và `numpy`. Các bạn có thể sử dụng thêm các thư viện trực quan như `seaborn` hoặc `matplotlib` để trực quan dữ liệu.\n",
    "\n",
    "* Dữ liệu huấn luyện mô hình sẽ lấy từ file `train.csv`\n",
    "\n",
    "* Dữ liệu kiểm tra mô hình các bạn sẽ lấy từ file `test.csv`\n",
    "\n",
    "* **Đối với mô hình Desion Tree**, dữ liệu chỉ gồm các cột `Parental_Involvement`, `Access_to_Resources`, `Extracurricular_Activities`, `Motivation_Level`, `Internet_Access`, `Family_Income`, `Teacher_Quality`, `School_Type`, `Peer_Influence`, `Learning_Disabilities`, `Parental_Education_Level`, `Distance_from_Home`, `Gender` và cột điểm số `Exam_score`\n",
    "\n",
    "* **Đối với mô hình Linear Regression**, dữ liệu chỉ gồm các cột `Hours_Studied`, `Attendance`, `Sleep_Hours`, `Previous_Scores`, `Tutoring_Sessions`, `Physical_Activity` và cột điểm số `Exam_score`."
   ]
  },
  {
   "cell_type": "markdown",
   "metadata": {
    "collapsed": false
   },
   "source": [
    "### Câu 1 - Decision Tree\n",
    "\n",
    "a. Viết chương trình xây dựng cây quyết định (theo mẫu) trên các tất cả thuộc tính (trừ `Exam_Score`). Xác định độ lỗi MSE (mean square error) của mô hình trên tập test.\n",
    "\n",
    "b. Xây dựng 5 mô hình cây quyết định bằng việc chọn lần lượt 1 thuộc tính, 2 thuộc tính, 3 thuộc tính, 4 thuộc tính, 5 thuộc tính. Giải thích lý do lựa chọn các cột đó và tính toán độ lỗi MSE trên tập test."
   ]
  },
  {
   "cell_type": "code",
   "execution_count": null,
   "metadata": {
    "collapsed": false
   },
   "outputs": [],
   "source": [
    "# Xây dựng cây quyết định\n",
    "class DecisionTree:\n",
    "    def fit(self, X, y):\n",
    "        \"\"\"Fit the decision tree to the data.\"\"\"\n",
    "        pass\n",
    "\n",
    "    def predict(self, X):\n",
    "        \"\"\"Predict the class for each instance in X.\"\"\"\n",
    "        pass\n",
    "\n",
    "    def loss(self, y_pred, y):\n",
    "        \"\"\"Calculate MSE loss between 2 label y_pred and y\"\"\"\n",
    "        pass\n",
    "\n",
    "    def drawTree(self):\n",
    "        pass"
   ]
  },
  {
   "cell_type": "markdown",
   "metadata": {
    "collapsed": false
   },
   "source": [
    "### Câu 2 - Linear Regression\n",
    "\n",
    "a. Xác định mô hình hồi quy tuyến tính $y = w_0 + w_1 * \\text{Attendance} + w_2 * \\text{Hours-Studied} + w_3 * \\text{Previous-Scores}^2$ và độ lỗi mean square error (MSE) của mô hình.\n",
    "\n",
    "b. Xây dựng 5 mô hình hồi quy tuyến tính sử dụng ít nhất 2 thuộc tính và giải thích lý do chọn mô hình hồi quy tuyến tính. Tính độ lỗi MSE của từng mô hình."
   ]
  },
  {
   "cell_type": "code",
   "execution_count": null,
   "metadata": {
    "collapsed": false
   },
   "outputs": [],
   "source": [
    "# YOUR CODE HERE"
   ]
  }
 ],
 "metadata": {
  "kernelspec": {
   "display_name": "Python 3",
   "language": "python",
   "name": "python3"
  },
  "language_info": {
   "codemirror_mode": {
    "name": "ipython",
    "version": 2
   },
   "file_extension": ".py",
   "mimetype": "text/x-python",
   "name": "python",
   "nbconvert_exporter": "python",
   "pygments_lexer": "ipython2",
   "version": "2.7.6"
  }
 },
 "nbformat": 4,
 "nbformat_minor": 0
}
