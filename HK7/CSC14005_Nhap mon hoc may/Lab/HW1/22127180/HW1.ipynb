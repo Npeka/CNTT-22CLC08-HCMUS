{
 "cells": [
  {
   "cell_type": "markdown",
   "id": "c82b9d2f-ef2c-4d83-b6d9-79cad715479b",
   "metadata": {
    "tags": []
   },
   "source": [
    "# HW1: Linear Regression\n",
    "\n",
    "(Cập nhật lần cuối: 14/10/2024)\n",
    "\n",
    "Họ tên: Nguyễn Phúc Khang\n",
    "\n",
    "MSSV: 22127180"
   ]
  },
  {
   "cell_type": "markdown",
   "id": "9b031f42-d6e2-471f-82bb-7e5b84f95065",
   "metadata": {},
   "source": [
    "---"
   ]
  },
  {
   "cell_type": "markdown",
   "id": "d021293f-5ce3-41a7-a2ec-0fe3ffd4af0d",
   "metadata": {},
   "source": [
    "## Nắm cách làm bài và nộp bài"
   ]
  },
  {
   "cell_type": "markdown",
   "id": "1f089d0a-4111-4222-8762-d08d6096acf7",
   "metadata": {},
   "source": [
    "&#9889; Bạn lưu ý là mình sẽ dùng chương trình hỗ trợ chấm bài nên bạn cần phải tuân thủ chính xác qui định mà mình đặt ra, nếu không rõ thì hỏi, chứ không nên tự tiện làm theo ý của cá nhân.\n",
    "\n",
    "**Cách làm bài**\n",
    "\n",
    "Bạn sẽ làm trực tiếp trên file notebook này. Đầu tiên, bạn điền họ tên và MSSV vào phần đầu file ở bên trên. Trong file, bạn làm bài ở những chỗ có ghi là:\n",
    "```python\n",
    "# YOUR CODE HERE\n",
    "raise NotImplementedError()\n",
    "```\n",
    "hoặc đối với những phần code không bắt buộc thì là:\n",
    "```python\n",
    "# YOUR CODE HERE (OPTION)\n",
    "```\n",
    "hoặc đối với markdown cell thì là:\n",
    "```markdown\n",
    "YOUR ANSWER HERE\n",
    "```\n",
    "Tất nhiên, khi làm thì bạn xóa dòng `raise NotImplementedError()` đi.\n",
    "Đối những phần yêu cầu code thì thường ở ngay phía dưới sẽ có một (hoặc một số) cell chứa các bộ test để phần nào giúp bạn biết đã code đúng hay chưa; nếu chạy cell này không có lỗi gì thì có nghĩa là qua được các bộ test. Trong một số trường hợp, các bộ test có thể sẽ không đầy đủ; nghĩa là, nếu không qua được test thì là code sai, nhưng nếu qua được test thì chưa chắc đã đúng hoàn toàn.\n",
    "\n",
    "Trong khi làm bài, bạn có thể cho in ra màn hình, tạo thêm các cell để test. Nhưng khi nộp bài thì bạn xóa các cell mà bạn tự tạo, xóa hoặc comment các câu lệnh in ra màn hình. Bạn lưu ý <font color=red>không được tự tiện xóa các cell hay sửa code của Thầy</font> (trừ những chỗ được phép sửa như đã nói ở trên).\n",
    "\n",
    "Trong khi làm bài, thường xuyên `Ctrl + S` để lưu lại bài làm của bạn, tránh mất mát thông tin.\n",
    "\n",
    "*Nên nhớ mục tiêu chính ở đây là <font color=green>học, học một cách chân thật</font>.  Bạn có thể thảo luận ý tưởng với bạn khác cũng như tham khảo các nguồn trên mạng, nhưng sau cùng <font color=green>code và bài làm phải là của bạn, dựa trên sự hiểu thật sự của bạn</font> (khi tham khảo các nguồn trên mạng thì bạn cần ghi rõ nguồn trong bài làm, và đương nhiên là bạn cũng không được phép đưa code và bài làm cho bạn khác xem). <font color=red>Nếu vi phạm những điều này thì có thể bạn sẽ bị 0 điểm cho toàn bộ môn học.</font>*\n",
    "\n",
    "**Cách nộp bài**\n",
    "\n",
    "Khi chấm bài, đầu tiên mình sẽ chọn `Kernel` - `Restart Kernel & Run All Cells`, để restart và chạy tất cả các cell trong notebook của bạn; do đó, trước khi nộp bài, bạn nên chạy thử `Kernel` - `Restart Kernel & Run All Cells` để đảm bảo mọi chuyện diễn ra đúng như mong đợi.\n",
    "\n",
    "Sau đó, bạn tạo thư mục nộp bài theo cấu trúc sau:\n",
    "- Thư mục `MSSV` (ví dụ, nếu bạn có MSSV là 1234567 thì bạn đặt tên thư mục là `1234567`)\n",
    "    - File `HW1.ipynb` (không cần nộp các file khác)\n",
    "\n",
    "Cuối cùng, bạn nén thư mục `MSSV` này lại với định dạng nén là .zip (chứ không được là .rar hay các định dạng khác) và nộp ở link trên moodle. \\\n",
    "<font color=red>Bạn lưu ý tuân thủ chính xác qui định nộp bài này.</font>"
   ]
  },
  {
   "cell_type": "markdown",
   "id": "ec9ceffa-29ba-4bd8-92af-84f1973fdc78",
   "metadata": {},
   "source": [
    "## Kiểm tra môi trường code"
   ]
  },
  {
   "cell_type": "code",
   "execution_count": 1,
   "id": "77727362-3316-434f-a07f-c3421ee3efc3",
   "metadata": {
    "tags": []
   },
   "outputs": [
    {
     "data": {
      "text/plain": [
       "'/home/khang/miniconda3/envs/ml-env/bin/python'"
      ]
     },
     "execution_count": 1,
     "metadata": {},
     "output_type": "execute_result"
    }
   ],
   "source": [
    "import sys\n",
    "sys.executable"
   ]
  },
  {
   "cell_type": "markdown",
   "id": "98fbff69-dd69-4cb2-bdd3-6439cb51bfbe",
   "metadata": {},
   "source": [
    "Bạn nên thấy kết quả in ra là đường dẫn đến file chạy python của môi trường \"ml-env\" mà mình đã hướng dẫn bạn cài đặt ở HW0."
   ]
  },
  {
   "cell_type": "markdown",
   "id": "fed19c61-0536-421a-9539-ea5f41ae33da",
   "metadata": {},
   "source": [
    "## Nắm bài toán cần giải quyết của bài tập này\n",
    "\n",
    "Cho dữ liệu quan sát được (dữ liệu huấn luyện): \n",
    "$$\\{(\\textbf{x}^{(1)}, y^{(1)}), ..., (\\textbf{x}^{(N_{train})}, y^{(N_{train})})\\}$$\n",
    "\n",
    "Trong đó:\n",
    "\n",
    "- $\\textbf{x}^{(n)} \\in \\mathbb{R}^{d}$ là véc-tơ đầu vào gồm $d$ phần tử (trong bài này, bạn sẽ làm với dữ liệu giả lập, chỉ đơn giản là những con số chứ không có ý nghĩa cụ thể; dữ liệu này có $d=1$, nhưng code của bạn vẫn nên chạy được với trường hợp $d > 1$)\n",
    "- $y^{(n)} \\in \\mathbb{R}$ là đầu ra tương ứng\n",
    "\n",
    "Nhiệm vụ ở đây là tìm ra một mô hình (trong bài này: mô hình Linear Regression) từ dữ liệu này sao cho mô hình này có thể nhận một véc-tơ đầu vào *mới* ($\\in \\mathbb{R}^{d}$) và dự đoán đầu ra tương ứng một cách *chính xác* (việc dự đoán chính xác một cách tuyệt đối là rất khó, ở đây ta chỉ hướng đến là càng chính xác thì càng tốt)."
   ]
  },
  {
   "cell_type": "markdown",
   "id": "fe3c1e8c-d9d8-48ad-9802-a8be7343d2fc",
   "metadata": {},
   "source": [
    "## Import các thư viện cần thiết"
   ]
  },
  {
   "cell_type": "code",
   "execution_count": 2,
   "id": "7073b4c1-98ae-4d25-865a-d9f5a60eefce",
   "metadata": {
    "tags": []
   },
   "outputs": [],
   "source": [
    "import numpy as np\n",
    "import matplotlib.pyplot as plt\n",
    "plt.style.use('ggplot') # Để hình vẽ đẹp hơn một xíu ..."
   ]
  },
  {
   "cell_type": "markdown",
   "id": "bbe8facb-b146-4460-803a-1eb7ff9ca969",
   "metadata": {},
   "source": [
    "Lưu ý: khi tính toán với mảng Numpy, bạn nên dùng các toán-tử/hàm/phương-thức mà Numpy đã cung cấp sẵn. Các toán-tử/hàm/phương-thức này làm trên nguyên mảng và ở bên dưới đã được tối ưu hóa; do đó, code sẽ ngắn gọn và chạy nhanh. Nếu bạn dùng vòng lặp for và làm với từng phần tử của mảng Numpy thì code sẽ dài và chạy chậm $\\to$ bạn sẽ bị trừ điểm."
   ]
  },
  {
   "cell_type": "markdown",
   "id": "4d2758d1-ccb2-4939-ba5f-6dba5d19a863",
   "metadata": {},
   "source": [
    "## Đọc dữ liệu"
   ]
  },
  {
   "cell_type": "markdown",
   "id": "b8973d17-70e8-44d7-a41d-f2e190a0b337",
   "metadata": {},
   "source": [
    "Trong bài này, bạn sẽ làm với dữ liệu do Thầy phát sinh ra bằng một hàm bí ẩn ;-). Dữ liệu ở đây chỉ đơn giản là những con số, chứ không có ý nghĩa cụ thể. Véc-tơ đầu vào chỉ gồm một phần tử, tức $d=1$. File \"train.txt\" chứa dữ liệu quan sát được (dữ liệu huấn luyện). File \"new.txt\" chứa dữ liệu mới, ngoài dữ liệu quan sát được.\n",
    "\n",
    "Ở dưới, mình đã viết cho bạn hàm đọc dữ liệu từ file, và gọi hàm này để: (i) đọc dữ liệu từ file \"train.txt\" và lưu vào 2 mảng là `train_X` và `train_y`, (ii) đọc dữ liệu từ file \"new.txt\" và lưu vào 2 mảng là `new_X` và `new_y`."
   ]
  },
  {
   "cell_type": "code",
   "execution_count": 3,
   "id": "8a4a2927-532b-467d-8391-3de173b891cb",
   "metadata": {
    "tags": []
   },
   "outputs": [
    {
     "name": "stdout",
     "output_type": "stream",
     "text": [
      "Shape of train_X: (100, 1), shape of train_y: (100,)\n",
      "Shape of new_X:   (100, 1), shape of new_y:   (100,)\n"
     ]
    }
   ],
   "source": [
    "def read_data(data_file):\n",
    "    data = np.loadtxt(data_file)\n",
    "    X = data[:, 0:1]\n",
    "    y = data[:, 1]\n",
    "    return X, y\n",
    "\n",
    "train_X, train_y = read_data('train.txt')\n",
    "new_X, new_y = read_data('new.txt')\n",
    "print(f'Shape of train_X: {train_X.shape}, shape of train_y: {train_y.shape}')\n",
    "print(f'Shape of new_X:   {new_X.shape}, shape of new_y:   {new_y.shape}')"
   ]
  },
  {
   "cell_type": "markdown",
   "id": "ace86f28-80c3-40a2-9540-2bc771fb9cb6",
   "metadata": {},
   "source": [
    "## Khám phá dữ liệu quan sát được"
   ]
  },
  {
   "cell_type": "markdown",
   "id": "421c52f9-dee8-4501-b7ed-76b96eaba48b",
   "metadata": {},
   "source": [
    "Đầu tiên, ta hãy xem thử min và max của dữ liệu quan sát được."
   ]
  },
  {
   "cell_type": "code",
   "execution_count": 4,
   "id": "eb4bf6f5-d9ea-4dce-b784-055526e0dd24",
   "metadata": {
    "tags": []
   },
   "outputs": [
    {
     "name": "stdout",
     "output_type": "stream",
     "text": [
      "Min of train_X: -0.994303, max of train_X: 0.991876\n",
      "Min of train_y: -1.0, max of train_y: 0.956107\n"
     ]
    }
   ],
   "source": [
    "print(f'Min of train_X: {train_X.min()}, max of train_X: {train_X.max()}')\n",
    "print(f'Min of train_y: {train_y.min()}, max of train_y: {train_y.max()}')"
   ]
  },
  {
   "cell_type": "markdown",
   "id": "e5116fa8-bb97-41b6-8b19-8ad427004f81",
   "metadata": {},
   "source": [
    "Như vậy, miền giá trị của `train_X` và `train_y` là từ xấp xỉ -1 đến xấp xỉ 1."
   ]
  },
  {
   "cell_type": "markdown",
   "id": "92e5eac2-39c4-462b-a8dc-36af44114cd2",
   "metadata": {},
   "source": [
    "Tiếp theo, ta sẽ trực quan hóa dữ liệu để xem rõ hơn."
   ]
  },
  {
   "cell_type": "code",
   "execution_count": 5,
   "id": "6586bcc0-49c1-419c-9666-485ed5c5d987",
   "metadata": {
    "tags": []
   },
   "outputs": [
    {
     "data": {
      "image/png": "[encoded data removed]",
      "text/plain": [
       "<Figure size 640x480 with 1 Axes>"
      ]
     },
     "metadata": {},
     "output_type": "display_data"
    }
   ],
   "source": [
    "plt.plot(train_X.reshape(-1), train_y, '.')\n",
    "plt.xlabel('x'); plt.ylabel('y')\n",
    "plt.xlim(-1, 1); plt.ylim(-1, 1);"
   ]
  },
  {
   "cell_type": "markdown",
   "id": "c5e4ab25-66b0-41c9-8f2d-cd8d97c8a616",
   "metadata": {},
   "source": [
    "Quan sát dữ liệu trên hình vẽ ta thấy dường như $\\textbf{x}$ và $y$ có mối quan hệ phi tuyến với nhau. Tuy nhiên, để đơn giản, trước mắt ta vẫn sẽ dùng mô hình Linear Regression cho dữ liệu này. Sau đó ta sẽ tìm cách cải tiến. "
   ]
  },
  {
   "cell_type": "markdown",
   "id": "abb6f806-ac87-4866-b78d-4c0f6ceb2fbd",
   "metadata": {},
   "source": [
    "## Tiền xử lý dữ liệu quan sát được"
   ]
  },
  {
   "cell_type": "markdown",
   "id": "269b2047-92bf-4c4d-8f57-61fcd04c94e2",
   "metadata": {},
   "source": [
    "Để có thể tính ra bộ trọng số của mô hình Linear Regression (theo công thức ở trang 13 ở slide lý thuyết \"lect03...\") thì trước tiên ta cần thêm một cột với các giá trị đều bằng 1 vào đầu mảng `train_X`. Mảng `train_X` sau khi được thêm cột 1 chính là ma trận $\\textbf{X}$ trong slide lý thuyết, và ta sẽ sẵn sàng để tính ra bộ trọng số của Linear Regression.\n",
    "\n",
    "Nhiệm vụ của bạn (2đ):\n",
    "\n",
    "- Viết hàm `add_ones`. Hàm này có tham số đầu vào là mảng `X` có shape là `(N, d)` với `N` là số lượng véc-tơ đầu vào và `d` là số lượng phần tử của mỗi véc-tơ đầu vào. Hàm này sẽ trả về mảng `X` sau khi đã được thêm cột 1 ở đầu và mảng này có shape là `(N, d+1)`.\n",
    "- Gọi hàm `add_ones` với tham số đầu vào là `train_X` và lưu kết quả vào biến `train_Z`."
   ]
  },
  {
   "cell_type": "code",
   "execution_count": 6,
   "id": "cd0e8b5d-c8f5-4722-8bd1-2b0524c0ebc9",
   "metadata": {
    "deletable": false,
    "nbgrader": {
     "cell_type": "code",
     "checksum": "1842d8209e1cded7b353ac1c84e55f1c",
     "grade": false,
     "grade_id": "cell-623796af0978e3ec",
     "locked": false,
     "schema_version": 3,
     "solution": true,
     "task": false
    },
    "tags": []
   },
   "outputs": [],
   "source": [
    "def add_ones(X):\n",
    "    # YOUR CODE HERE\n",
    "    # raise NotImplementedError()\n",
    "    return np.hstack((np.ones((X.shape[0], 1)), X))\n",
    "\n",
    "# Gọi hàm add_ones để tiền xử lý train_X\n",
    "# YOUR CODE HERE\n",
    "# raise NotImplementedError()\n",
    "train_Z = add_ones(train_X)"
   ]
  },
  {
   "cell_type": "code",
   "execution_count": 7,
   "id": "b3f61e89-4b8e-4310-a254-58d42071d0c8",
   "metadata": {
    "deletable": false,
    "editable": false,
    "nbgrader": {
     "cell_type": "code",
     "checksum": "891be99660597c1dceec6f4c896cedb1",
     "grade": true,
     "grade_id": "cell-bfb56c020dca8c78",
     "locked": true,
     "points": 2,
     "schema_version": 3,
     "solution": false,
     "task": false
    },
    "tags": []
   },
   "outputs": [],
   "source": [
    "# TEST\n",
    "assert train_Z.shape == (100, 2)\n",
    "assert str(train_Z[0][0].round(4)) == '1.0'\n",
    "assert str(train_Z[0][1].round(4)) == '-0.1868'\n",
    "assert str(train_Z[1][0].round(4)) == '1.0'\n",
    "assert str(train_Z[1][1].round(4)) == '-0.7703'\n",
    "assert str(train_Z[2][0].round(4)) == '1.0'\n",
    "assert str(train_Z[2][1].round(4)) == '0.3794'"
   ]
  },
  {
   "cell_type": "markdown",
   "id": "68f9fec7-a85b-4a6b-8395-31c9cce2d3ec",
   "metadata": {},
   "source": [
    "## Tìm mô hình Linear Regression từ dữ liệu quan sát được"
   ]
  },
  {
   "cell_type": "markdown",
   "id": "5b43ac04-eec7-42fb-a95c-00598ba92a4a",
   "metadata": {},
   "source": [
    "Sau khi đã có được mảng `train_Z` (là `train_X` đã được thêm cột 1) thì ta có thể dễ dàng tìm được bộ trọng số của Linear Regression (theo công thức ở trang 13 ở slide lý thuyết \"lect03...\").\n",
    "\n",
    "Nhiệm vụ của bạn (2đ):\n",
    "\n",
    "- Viết hàm `train_linreg`. Hàm này có tham số đầu vào là mảng `X` và mảng `y`. Mảng `X` chứa các véc-tơ đầu vào của dữ liệu quan sát được, mảng này đã được thêm cột 1 ở đầu, có shape là `(N, d+1)` với `N` là số lượng véc-tơ đầu vào của dữ liệu quan sát được và `d` là số lượng phần tử của mỗi véc-tơ đầu vào khi chưa thêm 1 ở đầu. Mảng `y` chứa các đầu ra tương ứng, có shape là `(N,`). Hàm này trả về mảng chứa các trọng số của mô hình Linear Regression tìm được, có shape là `(d+1,)`. \\\n",
    "Theo công thức ở trang 13 của slide lý thuyết \"lect03...\" thì ta sẽ cần tính nghịch đảo của `X` chuyển vị nhân `X`. Trong đa số trường hợp thì `X` chuyển vị nhân `X` sẽ khả nghịch, nhưng đôi khi xui quá cũng có thể xảy ra trường hợp không khả nghịch. Để chắc ăn, bạn hãy dùng hàm `np.linalg.pinv` (thay vì `np.linalg.inv`) để tích nghịch đảo; trong trường hợp không khả nghịch, hàm này vẫn sẽ tính ra cho bạn một kết quả xấp xỉ.  \n",
    "- Gọi hàm `train_linreg` với tham số đầu vào là `train_Z` và `train_y`, lưu bộ trọng số tìm được vào biến `w`."
   ]
  },
  {
   "cell_type": "code",
   "execution_count": 8,
   "id": "cc0bdaea-f56c-4ee1-953b-d3506c14d8cb",
   "metadata": {
    "deletable": false,
    "nbgrader": {
     "cell_type": "code",
     "checksum": "3b66ea999bf67e1cde38aaddf70e670b",
     "grade": false,
     "grade_id": "cell-fa693a19ef4c6057",
     "locked": false,
     "schema_version": 3,
     "solution": true,
     "task": false
    },
    "tags": []
   },
   "outputs": [],
   "source": [
    "def train_linreg(X, y):\n",
    "    # YOUR CODE HERE\n",
    "    # raise NotImplementedError()\n",
    "    return np.linalg.pinv(X.T @ X) @ X.T @ y\n",
    "\n",
    "# Gọi hàm train_linreg để tìm bộ trọng số của Linear Regression từ train_Z và train_y\n",
    "# YOUR CODE HERE\n",
    "# raise NotImplementedError()\n",
    "w = train_linreg(train_Z, train_y)"
   ]
  },
  {
   "cell_type": "code",
   "execution_count": 9,
   "id": "46ba34ed-111c-4139-bbe9-ebb0440040c2",
   "metadata": {
    "deletable": false,
    "editable": false,
    "nbgrader": {
     "cell_type": "code",
     "checksum": "e392d2f668e47625ba5fe8545e05e2a8",
     "grade": true,
     "grade_id": "cell-c87b909528b6bde1",
     "locked": true,
     "points": 2,
     "schema_version": 3,
     "solution": false,
     "task": false
    },
    "tags": []
   },
   "outputs": [],
   "source": [
    "# TEST\n",
    "assert w.shape == (2,)\n",
    "assert str(w[0].round(4)) == '-0.0699'\n",
    "assert str(w[1].round(4)) == '0.1295'"
   ]
  },
  {
   "cell_type": "markdown",
   "id": "fad130a5-8136-4ca7-b921-99b018cfcb1d",
   "metadata": {},
   "source": [
    "## Dùng mô hình Linear Regression tìm được để dự đoán với dữ liệu quan sát được và đánh giá kết quả"
   ]
  },
  {
   "cell_type": "markdown",
   "id": "e09fbd88-1ef0-46fe-abc3-dcd46d50867d",
   "metadata": {},
   "source": [
    "Sau khi tìm được bộ trọng số của Linear Regression thì ta sẽ thử dùng bộ trọng số này để dự đoán với các véc-tơ đầu vào của dữ liệu quan sát được và so sánh với các đầu ra đúng để xem sai lệch là bao nhiêu.\n",
    "\n",
    "Nhiệm vụ 1 của bạn (2đ):\n",
    "\n",
    "- Viết hàm `compute_linreg_output`. Hàm này có tham số đầu vào là mảng `w` và mảng `X`. Mảng `w` chứa bộ trọng số của Linear Regresssion, có shape là `(d+1,)` với `d` là số lượng phần tử của véc-tơ đầu vào khi chưa thêm 1 ở đầu. Mảng `X` chứa các véc-tơ đầu vào cần dự đoán, mảng này đã được thêm cột 1 ở đầu, có shape là `(N, d+1)` với `N` là số lượng véc-tơ đầu vào. Hàm này trả về mảng chứa các đầu ra dự đoán, có shape là `(N,)`.\n",
    "- Gọi hàm `compute_linreg_output` với tham số đầu vào là mảng `w` và mảng `train_Z`, lưu kết quả vào biến `predicted_train_y`."
   ]
  },
  {
   "cell_type": "code",
   "execution_count": 10,
   "id": "1fb2c5a4-ec61-4ef8-8e6a-c1aac258ea7e",
   "metadata": {
    "deletable": false,
    "nbgrader": {
     "cell_type": "code",
     "checksum": "e73c7ee267ceb5332a2a12e513790f49",
     "grade": false,
     "grade_id": "cell-4871d7e329ece947",
     "locked": false,
     "schema_version": 3,
     "solution": true,
     "task": false
    },
    "tags": []
   },
   "outputs": [],
   "source": [
    "def compute_linreg_output(w, X):\n",
    "    # YOUR CODE HERE\n",
    "    # raise NotImplementedError()\n",
    "    return X @ w\n",
    "\n",
    "# Gọi hàm compute_linreg_output để dự đoán với train_Z\n",
    "# YOUR CODE HERE\n",
    "# raise NotImplementedError()\n",
    "predicted_train_y = compute_linreg_output(w, train_Z)"
   ]
  },
  {
   "cell_type": "code",
   "execution_count": 11,
   "id": "51ab4eaa-95b2-41a5-8b83-ff9408003761",
   "metadata": {
    "deletable": false,
    "editable": false,
    "nbgrader": {
     "cell_type": "code",
     "checksum": "c4e74264a3be0c330207c9ee67cca29a",
     "grade": true,
     "grade_id": "cell-a2b5aec889837078",
     "locked": true,
     "points": 2,
     "schema_version": 3,
     "solution": false,
     "task": false
    },
    "tags": []
   },
   "outputs": [],
   "source": [
    "# TEST\n",
    "assert predicted_train_y.shape == (100,)\n",
    "assert str(predicted_train_y[0].round(4)) == '-0.0941'\n",
    "assert str(predicted_train_y[1].round(4)) == '-0.1696'\n",
    "assert str(predicted_train_y[2].round(4)) == '-0.0208'"
   ]
  },
  {
   "cell_type": "markdown",
   "id": "8c6d4826-0b0a-4514-a8bb-8bbdd96a7ba8",
   "metadata": {},
   "source": [
    "Nhiệm vụ 2 của bạn (2đ):\n",
    "\n",
    "- Viết hàm `compute_mae`. Hàm này có tham số đầu vào là mảng `predicted_y` và mảng `y`. Mảng `predicted_y` chứa các đầu ra dự đoán, có shape là `(N,)`. Mảng `y` chứa các đầu ra đúng, cũng có shape là `(N,)`. Hàm này trả về một số thực cho biết độ lỗi MAE (Mean Absolute Error) giữa 2 mảng `predicted_y` và `y`. Công thức tính MAE thì tương tự như MSE (Mean Square Error) nhưng thay bình phương bằng trị tuyệt đối. Ở đây, ta dùng MAE vì MAE dễ cảm nhận hơn so với MSE.\n",
    "- Gọi hàm `compute_mae` với tham số đầu vào là mảng `predicted_train_y` và `train_y`, lưu kết quả vào biến `train_mae`."
   ]
  },
  {
   "cell_type": "code",
   "execution_count": 12,
   "id": "896331f9-1ded-4809-b191-394f0b54e755",
   "metadata": {
    "deletable": false,
    "nbgrader": {
     "cell_type": "code",
     "checksum": "252de443ebad00934819c4ef4046e40e",
     "grade": false,
     "grade_id": "cell-0db101b4f37e16a7",
     "locked": false,
     "schema_version": 3,
     "solution": true,
     "task": false
    },
    "tags": []
   },
   "outputs": [],
   "source": [
    "def compute_mae(predicted_y, y):\n",
    "    # YOUR CODE HERE\n",
    "    # raise NotImplementedError()\n",
    "    return np.mean(np.abs(predicted_y - y))\n",
    "\n",
    "# Gọi hàm compute_mae để tính độ lỗi giữa predicted_train_y và train_y\n",
    "# YOUR CODE HERE\n",
    "# raise NotImplementedError()\n",
    "train_mae = compute_mae(predicted_train_y, train_y)"
   ]
  },
  {
   "cell_type": "code",
   "execution_count": 13,
   "id": "ede66cb2-ec8b-4e37-bba4-52f794b5b98c",
   "metadata": {
    "deletable": false,
    "editable": false,
    "nbgrader": {
     "cell_type": "code",
     "checksum": "4e76113973ba882322f6edb3f00385b6",
     "grade": true,
     "grade_id": "cell-18aa7cf8fbcb9247",
     "locked": true,
     "points": 2,
     "schema_version": 3,
     "solution": false,
     "task": false
    },
    "tags": []
   },
   "outputs": [],
   "source": [
    "# TEST\n",
    "assert str(np.round(train_mae, 4)) == '0.3579'"
   ]
  },
  {
   "cell_type": "markdown",
   "id": "bb43cc52-5a4b-43fb-b44a-de09ec946faa",
   "metadata": {},
   "source": [
    "Hmm .... Với `train_y` có miền giá trị từ xấp xỉ -1 đến xấp xỉ 1 thì có thể nói độ lỗi `train_mae` này là khá lớn."
   ]
  },
  {
   "cell_type": "markdown",
   "id": "f001d10a-9a29-440f-b699-dcb72ceff74d",
   "metadata": {},
   "source": [
    "Trong trường hợp dữ liệu đơn giản của ta (véc-tơ đầu vào chỉ có một chiều), một cách khác để đánh giá mô hình Linear Regression tìm được là trực quan hóa."
   ]
  },
  {
   "cell_type": "code",
   "execution_count": 14,
   "id": "69963d28-e7ba-42c0-9186-75aa8e471d37",
   "metadata": {
    "tags": []
   },
   "outputs": [
    {
     "data": {
      "image/png": "[encoded data removed]",
      "text/plain": [
       "<Figure size 640x480 with 1 Axes>"
      ]
     },
     "metadata": {},
     "output_type": "display_data"
    }
   ],
   "source": [
    "plt.plot(train_X.reshape(-1), train_y, '.')\n",
    "plt.xlabel('x'); plt.ylabel('y')\n",
    "plt.xlim(-1, 1); plt.ylim(-1, 1)\n",
    "\n",
    "xx = np.array([-1, 1])\n",
    "yy = w[0] + w[1] * xx\n",
    "plt.plot(xx, yy, '-');"
   ]
  },
  {
   "cell_type": "markdown",
   "id": "bb5ca1a9-2124-4cef-95c7-5cd02376060a",
   "metadata": {},
   "source": [
    "Hmm ..."
   ]
  },
  {
   "cell_type": "markdown",
   "id": "79bb3ce7-856c-437a-8188-e90c272d9473",
   "metadata": {},
   "source": [
    "Như vậy, ta thấy mô hình Linear Regression tìm được không khớp tốt vào dữ liệu quan sát được và điều này được thể hiện bởi độ lỗi MAE lớn trên dữ liệu quan sát được. Nhưng cái ta quan tâm sau cùng là độ lỗi của mô hình Linear Regression tìm được trên dữ liệu mới ngoài dữ liệu quan sát được. Biết đâu ... Ở phần kế, ta sẽ xem thử vận may của ta thế nào ;-)."
   ]
  },
  {
   "cell_type": "markdown",
   "id": "c99250d0-1c9f-4789-b632-6449b3baad33",
   "metadata": {},
   "source": [
    "## Tiền xử lý dữ liệu mới, dùng mô hình Linear Regression tìm được để dự đoán với dữ liệu mới và đánh giá kết quả"
   ]
  },
  {
   "cell_type": "code",
   "execution_count": 15,
   "id": "01a7a007-186b-472b-9724-09d1417ac849",
   "metadata": {
    "tags": []
   },
   "outputs": [],
   "source": [
    "new_Z = add_ones(new_X)\n",
    "predicted_new_y = compute_linreg_output(w, new_Z)\n",
    "new_mae = compute_mae(predicted_new_y, new_y)\n",
    "assert str(np.round(new_mae, 4)) == '0.3673'"
   ]
  },
  {
   "cell_type": "markdown",
   "id": "d2812a1e-95f5-4c41-aa5c-4cd5884d5365",
   "metadata": {},
   "source": [
    "Vận may đã không xảy ra :-(. Độ lỗi `new_mae` vẫn lớn không kém gì `train_mae`, thậm chí `new_mae` còn lớn hơn `train_mae` một xíu. \n",
    "\n",
    "Nếu muốn `new_mae` nhỏ thì ta phải suy nghĩ cách cải tiến, chứ không thể dựa vào vận may."
   ]
  },
  {
   "cell_type": "markdown",
   "id": "a298e9fd-a9bd-4593-a937-45ce22b257e3",
   "metadata": {},
   "source": [
    "## Đưa ra ý tưởng cải tiến"
   ]
  },
  {
   "cell_type": "markdown",
   "id": "8d307129-7c35-4cd1-927d-e90c89d59cd9",
   "metadata": {},
   "source": [
    "Ưu điểm của mô hình Linear Regression là đơn giản, huấn luyện nhanh. Nhưng đơn giản cũng là nhược điểm của mô hình Linear Regression. Ta thấy dữ liệu quan sát được của ta thể hiện mối quan hệ phi tuyến giữa véc-tơ đầu vào $\\textbf{x}$ và đầu ra $y$. Mô hình Linear Regression là mô hình tuyến tính nên sẽ không thể khớp tốt vào dữ liệu quan sát được này, dẫn tới độ lỗi lớn trên dữ liệu quan sát được. Nếu trên dữ liệu quan sát được mà có độ lỗi lớn thì trên dữ liệu mới thường cũng sẽ có độ lỗi lớn.\n",
    "\n",
    "Nếu ta có thể cải thiện độ lỗi của mô hình Linear Regression trên dữ liệu quan sát được thì độ lỗi trên dữ liệu mới có khả năng sẽ được cải thiện theo. Một cách để cải thiện độ lỗi của mô hình Linear Regression trên dữ liệu quan sát được là ta sẽ suy nghĩ để thiết kế ra véc-tơ đầu vào $\\textbf{z}$ thay cho véc-tơ đầu vào $\\textbf{x}$ sao cho $\\textbf{z}$ sẽ có mối quan hệ tuyến tính (hoặc xấp xỉ tuyến tính) với $y$ trên dữ liệu quan sát được; sau đó thì ta có thể áp dụng Linear Regression một cách bình thường nhưng thay $\\textbf{x}$ bằng $\\textbf{z}$. Với dữ liệu quan sát được của ta, có thể thấy là dùng một đường cong (bậc 2, bậc 3, ...) thì sẽ khớp tốt hơn so với đường thẳng (bậc 1); cụ thể ở đây, dùng đường cong bậc 3 thì sẽ khớp tốt với dữ liệu. Do đó, ta có thể thiết kế véc-tơ đầu vào $\\textbf{z}$ là véc-tơ đầu vào $\\textbf{x}$ ($\\textbf{x}$ chỉ có một phần tử là $x_{1}$) được bổ sung thêm các phần tử nữa là $x_{1}^{2}, x_{1}^{3}$."
   ]
  },
  {
   "cell_type": "markdown",
   "id": "28e0cb9c-4777-4cbe-bff3-56b4ddf4ff22",
   "metadata": {},
   "source": [
    "## Tiền xử lý dữ liệu quan sát được"
   ]
  },
  {
   "cell_type": "markdown",
   "id": "bd16a5a2-6c26-40f8-9a99-350ddbb6a86f",
   "metadata": {},
   "source": [
    "Từ mảng `train_X`, ta sẽ tạo ra mảng `train_Z` bằng cách: thêm các cột bình phương và lập phương vào cuối `train_X`, rồi thêm cột 1 vào đầu `train_X`.\n",
    "\n",
    "Nhiệm vụ của bạn (2đ):\n",
    "\n",
    "- Viết hàm `add_polynomial_features`. Hàm này có tham số đầu vào là mảng `X` và số nguyên `degree`. Mảng `X` chứa các véc-tơ đầu vào (chưa thêm 1 ở đầu), có shape là `(N, d)` với `N` là số lượng véc-tơ đầu vào và `d` là số lượng phần tử của mỗi véc-tơ đầu vào. Số nguyên `degree` (>= 2) cho biết bậc đa thức mong muốn (ví dụ, nếu `degree=3` thì ta sẽ thêm các cột bình phương và lập phương của mảng`X` ban đầu). Hàm này trả về mảng `X` sau khi đã được thêm các cột vào cuối mảng, và mảng này có shape là `(N, d * degree)` (ví dụ, với `X` ban đầu có `d=2` cột là `x_1` và `x_2`, và `degree=3` thì mảng kết quả sẽ có 2 * 3 = 6 cột: `x_1`, `x_2`, `x_1` bình phương, `x_2` bình phương, `x_1` lập phương, `x_2` lập phương). \\\n",
    "Trong hàm `add_polynomial_features`, bạn được phép dùng vòng lặp để duyệt qua các bậc (2, ..., `degree`); đây cũng là chỗ duy nhất trong HW1 mà bạn được phép dùng vòng lặp. Ngoài ra, để đơn giản, trong hàm `add_polynomial_features`, bạn cũng được phép giả định là người dùng sẽ nhập vào giá trị `degree` hợp lệ (số nguyên >= 2).\n",
    "- Gọi hàm `add_polynomial_features` với tham số đầu vào là `X=train_X` và `degree=3`, rồi gọi tiếp hàm `add_ones` với tham số đầu vào là kết quả sau khi gọi hàm `add_polynomial_features`. Lưu kết quả sau cùng vào biến `train_Z`."
   ]
  },
  {
   "cell_type": "code",
   "execution_count": 16,
   "id": "c6ea2fb1-e99d-4f5c-8ed1-85a037013d21",
   "metadata": {
    "deletable": false,
    "nbgrader": {
     "cell_type": "code",
     "checksum": "290c553387e7970ecb395006cdcc514c",
     "grade": false,
     "grade_id": "cell-3ad36330bbe4eeba",
     "locked": false,
     "schema_version": 3,
     "solution": true,
     "task": false
    },
    "tags": []
   },
   "outputs": [],
   "source": [
    "def add_polynomial_features(X, degree):\n",
    "    # YOUR CODE HERE\n",
    "    # raise NotImplementedError()\n",
    "    polynomial_features = [X]\n",
    "    for d in range(2, degree + 1):\n",
    "        polynomial_features.append(X**d)\n",
    "\n",
    "    return np.hstack(polynomial_features)\n",
    "# Gọi hàm add_polynomial_features rồi add_ones để tiền xử lý train_X\n",
    "# YOUR CODE HERE\n",
    "# raise NotImplementedError()\n",
    "train_Z = add_polynomial_features(train_X, 3)\n",
    "train_Z = add_ones(train_Z)"
   ]
  },
  {
   "cell_type": "code",
   "execution_count": 17,
   "id": "445d0b64-93d1-4bc6-8085-170b9e947158",
   "metadata": {
    "deletable": false,
    "editable": false,
    "nbgrader": {
     "cell_type": "code",
     "checksum": "43946bce6d973fbc38dabd793cac4c79",
     "grade": true,
     "grade_id": "cell-cb13aaae72dc9884",
     "locked": true,
     "points": 2,
     "schema_version": 3,
     "solution": false,
     "task": false
    },
    "tags": []
   },
   "outputs": [],
   "source": [
    "# TEST 1\n",
    "assert train_Z.shape == (100, 4)\n",
    "assert str(train_Z[0][0].round(4)) == '1.0'\n",
    "assert str(train_Z[0][1].round(4)) == '-0.1868'\n",
    "assert str(train_Z[0][2].round(4)) == '0.0349'\n",
    "assert str(train_Z[0][3].round(4)) == '-0.0065'\n",
    "assert str(train_Z[1][0].round(4)) == '1.0'\n",
    "assert str(train_Z[1][1].round(4)) == '-0.7703'\n",
    "assert str(train_Z[1][2].round(4)) == '0.5934'\n",
    "assert str(train_Z[1][3].round(4)) == '-0.4571'\n",
    "\n",
    "# TEST 2\n",
    "X = np.arange(4).reshape(2, 2)\n",
    "Z = add_polynomial_features(X, 2)\n",
    "assert Z.shape == (2, 4)\n",
    "assert Z[0][0] == 0\n",
    "assert Z[0][1] == 1\n",
    "assert Z[0][2] == 0\n",
    "assert Z[0][3] == 1\n",
    "assert Z[1][0] == 2\n",
    "assert Z[1][1] == 3\n",
    "assert Z[1][2] == 4\n",
    "assert Z[1][3] == 9"
   ]
  },
  {
   "cell_type": "markdown",
   "id": "0dce70a9-8d06-4235-8d52-898d11cfc288",
   "metadata": {},
   "source": [
    "## Tìm mô hình Linear Regression từ dữ liệu quan sát được"
   ]
  },
  {
   "cell_type": "code",
   "execution_count": 18,
   "id": "2cecda33-c108-45e9-b0ea-81afa1fa1c98",
   "metadata": {},
   "outputs": [],
   "source": [
    "w = train_linreg(train_Z, train_y)"
   ]
  },
  {
   "cell_type": "markdown",
   "id": "d3dac548-342e-43cf-9e34-717f7cb43698",
   "metadata": {},
   "source": [
    "## Dùng mô hình Linear Regression tìm được để dự đoán với dữ liệu quan sát được và đánh giá kết quả"
   ]
  },
  {
   "cell_type": "code",
   "execution_count": 19,
   "id": "b14a7efd-e536-4a56-831a-6893a41edb79",
   "metadata": {},
   "outputs": [],
   "source": [
    "predicted_train_y = compute_linreg_output(w, train_Z)\n",
    "train_mae = compute_mae(predicted_train_y, train_y)\n",
    "assert str(np.round(train_mae, 4)) == '0.0798'"
   ]
  },
  {
   "cell_type": "markdown",
   "id": "9d84d935-a6a5-4524-a181-8163492c4a59",
   "metadata": {},
   "source": [
    "Woohoo!\n",
    "\n",
    "Khoan khoan, cái ta quan tâm là độ lỗi trên dữ liệu mới ngoài dữ liệu quan sát được."
   ]
  },
  {
   "cell_type": "markdown",
   "id": "c74ef03b-82a7-48a0-bd8b-4abacd1c22d9",
   "metadata": {},
   "source": [
    "## Tiền xử lý dữ liệu mới, dùng mô hình Linear Regression tìm được để dự đoán với dữ liệu mới và đánh giá kết quả"
   ]
  },
  {
   "cell_type": "code",
   "execution_count": 20,
   "id": "07fb74a7-aec8-4669-8c5e-55943f885f61",
   "metadata": {},
   "outputs": [],
   "source": [
    "new_Z = add_ones(add_polynomial_features(new_X, degree=3))\n",
    "predicted_new_y = compute_linreg_output(w, new_Z)\n",
    "new_mae = compute_mae(predicted_new_y, new_y)\n",
    "assert str(np.round(new_mae, 4)) == '0.0779'"
   ]
  },
  {
   "cell_type": "markdown",
   "id": "29745f03-d129-46fd-9499-96d3dcf630f8",
   "metadata": {},
   "source": [
    "Woohoo!"
   ]
  },
  {
   "cell_type": "markdown",
   "id": "5a84a16f-502f-4836-ba7a-ae5d9cd84429",
   "metadata": {},
   "source": [
    "Như vậy là độ lỗi MAE trên cả dữ liệu quan sát được lẫn dữ liệu mới đều giảm xuống một cách đáng kể. Happy ending :-)."
   ]
  }
 ],
 "metadata": {
  "kernelspec": {
   "display_name": "Python 3 (ipykernel)",
   "language": "python",
   "name": "python3"
  },
  "language_info": {
   "codemirror_mode": {
    "name": "ipython",
    "version": 3
   },
   "file_extension": ".py",
   "mimetype": "text/x-python",
   "name": "python",
   "nbconvert_exporter": "python",
   "pygments_lexer": "ipython3",
   "version": "3.11.7"
  }
 },
 "nbformat": 4,
 "nbformat_minor": 5
}
