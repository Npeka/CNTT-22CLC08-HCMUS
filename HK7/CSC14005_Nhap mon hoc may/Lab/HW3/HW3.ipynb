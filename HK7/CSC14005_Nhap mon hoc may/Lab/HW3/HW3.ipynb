{
 "cells": [
  {
   "cell_type": "markdown",
   "id": "c82b9d2f-ef2c-4d83-b6d9-79cad715479b",
   "metadata": {},
   "source": [
    "# HW3: Softmax Regression (phần 2)\n",
    "\n",
    "(Cập nhật lần cuối: 09/11/2024)\n",
    "\n",
    "Họ tên: ...\n",
    "\n",
    "MSSV: ..."
   ]
  },
  {
   "cell_type": "markdown",
   "id": "9b031f42-d6e2-471f-82bb-7e5b84f95065",
   "metadata": {},
   "source": [
    "---"
   ]
  },
  {
   "cell_type": "markdown",
   "id": "d021293f-5ce3-41a7-a2ec-0fe3ffd4af0d",
   "metadata": {},
   "source": [
    "## Nắm cách làm bài và nộp bài"
   ]
  },
  {
   "cell_type": "markdown",
   "id": "1f089d0a-4111-4222-8762-d08d6096acf7",
   "metadata": {},
   "source": [
    "&#9889; Bạn lưu ý là mình sẽ dùng chương trình hỗ trợ chấm bài nên bạn cần phải tuân thủ chính xác qui định mà mình đặt ra, nếu không rõ thì hỏi, chứ không nên tự tiện làm theo ý của cá nhân.\n",
    "\n",
    "**Cách làm bài**\n",
    "\n",
    "Bạn sẽ làm trực tiếp trên file notebook này. Đầu tiên, bạn điền họ tên và MSSV vào phần đầu file ở bên trên. Trong file, bạn làm bài ở những chỗ có ghi là:\n",
    "```python\n",
    "# YOUR CODE HERE\n",
    "raise NotImplementedError()\n",
    "```\n",
    "hoặc đối với những phần code không bắt buộc thì là:\n",
    "```python\n",
    "# YOUR CODE HERE (OPTION)\n",
    "```\n",
    "hoặc đối với markdown cell thì là:\n",
    "```markdown\n",
    "YOUR ANSWER HERE\n",
    "```\n",
    "Tất nhiên, khi làm thì bạn xóa dòng `raise NotImplementedError()` đi.\n",
    "Đối những phần yêu cầu code thì thường ở ngay phía dưới sẽ có một (hoặc một số) cell chứa các bộ test để phần nào giúp bạn biết đã code đúng hay chưa; nếu chạy cell này không có lỗi gì thì có nghĩa là qua được các bộ test. Trong một số trường hợp, các bộ test có thể sẽ không đầy đủ; nghĩa là, nếu không qua được test thì là code sai, nhưng nếu qua được test thì chưa chắc đã đúng hoàn toàn.\n",
    "\n",
    "Trong khi làm bài, bạn có thể cho in ra màn hình, tạo thêm các cell để test. Nhưng khi nộp bài thì bạn xóa các cell mà bạn tự tạo, xóa hoặc comment các câu lệnh in ra màn hình. Bạn lưu ý <font color=red>không được tự tiện xóa các cell hay sửa code của Thầy</font> (trừ những chỗ được phép sửa như đã nói ở trên).\n",
    "\n",
    "Trong khi làm bài, thường xuyên `Ctrl + S` để lưu lại bài làm của bạn, tránh mất mát thông tin.\n",
    "\n",
    "*Nên nhớ mục tiêu chính ở đây là <font color=green>học, học một cách chân thật</font>.  Bạn có thể thảo luận ý tưởng với bạn khác cũng như tham khảo các nguồn trên mạng, nhưng sau cùng <font color=green>code và bài làm phải là của bạn, dựa trên sự hiểu thật sự của bạn</font> (khi tham khảo các nguồn trên mạng thì bạn cần ghi rõ nguồn trong bài làm, và đương nhiên là bạn cũng không được phép đưa code và bài làm cho bạn khác xem). <font color=red>Nếu vi phạm những điều này thì có thể bạn sẽ bị 0 điểm cho toàn bộ môn học.</font>*\n",
    "\n",
    "**Cách nộp bài**\n",
    "\n",
    "Khi chấm bài, đầu tiên mình sẽ chọn `Kernel` - `Restart Kernel & Run All Cells` để restart và chạy tất cả các cell trong notebook của bạn; do đó, trước khi nộp bài, bạn nên chạy thử `Kernel` - `Restart Kernel & Run All Cells` để đảm bảo mọi chuyện diễn ra đúng như mong đợi.\n",
    "\n",
    "Sau đó, bạn tạo thư mục nộp bài theo cấu trúc sau:\n",
    "- Thư mục `MSSV` (ví dụ, nếu bạn có MSSV là 1234567 thì bạn đặt tên thư mục là `1234567`)\n",
    "    - File `HW3.ipynb` (không cần nộp các file khác)\n",
    "\n",
    "Cuối cùng, bạn nén thư mục `MSSV` này lại với định dạng nén là .zip (chứ không được là .rar hay các định dạng khác) và nộp ở link trên moodle. \\\n",
    "<font color=red>Bạn lưu ý tuân thủ chính xác qui định nộp bài này.</font>"
   ]
  },
  {
   "cell_type": "markdown",
   "id": "ec9ceffa-29ba-4bd8-92af-84f1973fdc78",
   "metadata": {},
   "source": [
    "## Kiểm tra môi trường code"
   ]
  },
  {
   "cell_type": "code",
   "execution_count": null,
   "id": "77727362-3316-434f-a07f-c3421ee3efc3",
   "metadata": {
    "tags": []
   },
   "outputs": [],
   "source": [
    "import sys\n",
    "sys.executable"
   ]
  },
  {
   "cell_type": "markdown",
   "id": "98fbff69-dd69-4cb2-bdd3-6439cb51bfbe",
   "metadata": {},
   "source": [
    "Bạn nên thấy kết quả in ra là đường dẫn đến file chạy python của môi trường \"ml-env\" mà mình đã hướng dẫn bạn cài đặt ở HW0."
   ]
  },
  {
   "cell_type": "markdown",
   "id": "fed19c61-0536-421a-9539-ea5f41ae33da",
   "metadata": {},
   "source": [
    "## Nắm bài toán cần giải quyết của bài tập này\n",
    "\n",
    "Cho dữ liệu quan sát được (đây là dữ liệu huấn luyện gốc, dữ liệu này thường sẽ được tách ra một phần làm dữ liệu validation): \n",
    "$$\\{(\\textbf{x}^{(1)}, y^{(1)}), ..., (\\textbf{x}^{(N_{train})}, y^{(N_{train})})\\}$$\n",
    "\n",
    "Trong đó:\n",
    "\n",
    "- $\\textbf{x}^{(n)} \\in \\mathbb{R}^{784}$ là véc-tơ đầu vào chứa các giá trị pixel của một ảnh xám $28\\times28$, ảnh này là ảnh một chữ số viết tay nào đó (véc-tơ $784$ chiều được tạo từ ảnh xám $28\\times28$ bằng cách nối các dòng của ảnh xám lại với nhau)\n",
    "- $y^{(n)} \\in \\{0, 1, ..., 9\\}$ là đầu ra tương ứng, cho biết đây là chữ số nào\n",
    "\n",
    "Nhiệm vụ ở đây là tìm ra một (cách tiền xử lý và) mô hình từ dữ liệu này sao cho (cách tiền xử lý và) mô hình này có thể nhận đầu vào là một ảnh-chữ-số-viết-tay *mới* (là một véc-tơ $\\in \\mathbb{R}^{784}$) và dự đoán đầu ra tương ứng (chữ số nào trong $\\{0, 1, 2, ..., 9\\}$) một cách *chính xác*.\n",
    "\n",
    "Bài này sẽ là phần tiếp tục của HW2. Trong bài này, ta sẽ cố gắng cải tiến hơn nữa cách tiền xử lý + mô hình Softmax Regression."
   ]
  },
  {
   "cell_type": "markdown",
   "id": "fe3c1e8c-d9d8-48ad-9802-a8be7343d2fc",
   "metadata": {},
   "source": [
    "## Import các thư viện cần thiết"
   ]
  },
  {
   "cell_type": "code",
   "execution_count": null,
   "id": "7073b4c1-98ae-4d25-865a-d9f5a60eefce",
   "metadata": {
    "tags": []
   },
   "outputs": [],
   "source": [
    "import numpy as np\n",
    "import os\n",
    "import pickle\n",
    "import gzip\n",
    "import matplotlib.pyplot as plt\n",
    "plt.style.use('ggplot') # Để hình vẽ đẹp hơn một xíu ..."
   ]
  },
  {
   "cell_type": "markdown",
   "id": "bbe8facb-b146-4460-803a-1eb7ff9ca969",
   "metadata": {},
   "source": [
    "Lưu ý: khi tính toán với mảng Numpy, bạn nên dùng các toán-tử/hàm/phương-thức mà Numpy đã cung cấp sẵn. Các toán-tử/hàm/phương-thức này làm trên nguyên mảng và ở bên dưới đã được tối ưu hóa; do đó, code sẽ ngắn gọn và chạy nhanh. Nếu bạn dùng vòng lặp for và làm với từng phần tử của mảng Numpy thì code sẽ dài và chạy chậm $\\to$ bạn sẽ bị trừ điểm."
   ]
  },
  {
   "cell_type": "markdown",
   "id": "4d2758d1-ccb2-4939-ba5f-6dba5d19a863",
   "metadata": {},
   "source": [
    "## Đọc dữ liệu (giống HW2)"
   ]
  },
  {
   "cell_type": "markdown",
   "id": "1b2d7d29-48d7-40fd-9a75-b29f8963b5a4",
   "metadata": {},
   "source": [
    "Bộ dữ liệu mà ta sẽ dùng trong bài này là MNIST - bộ dữ liệu chữ số viết tay \"nổi tiếng\" trong cộng đồng làm Machine Learning. [Bộ MNIST gốc](http://yann.lecun.com/exdb/mnist/) gồm có: dữ liệu huấn luyện (60000 ảnh) và dữ liệu kiểm tra (10000 ảnh). Bộ MNIST mà ta sẽ dùng trong bài này (file \"mnist.pkl.gz\") gồm có: dữ liệu huấn luyện (50000 ảnh), dữ liệu validation (10000 ảnh), và dữ liệu kiểm tra (10000 ảnh); dữ liệu huấn luyện và validation ở đây được tạo ra bằng cách tách ngẫu nhiên dữ luyện huấn luyện gốc ra thành 2 phần theo tỉ lệ 5:1. \n",
    "\n",
    "Về mặt ý nghĩa thì dữ liệu validation và dữ liệu kiểm tra đều là dữ liệu mới ngoài dữ liệu huấn luyện. Dữ liệu validation giống như đề thi thử, có thể được thi một vài lần; còn dữ liệu kiểm tra giống như đề thi thật, để đảm bảo kết quả được khách quan thì chỉ được thi một lần duy nhất! Khi làm Machine Learning, ta thường muốn thử một số cách tiền xử lý + mô hình để chọn ra cách tiền xử lý + mô hình tốt nhất. Với mỗi cách tiền xử lý + mô hình, ta sẽ huấn luyện trên dữ liệu huấn luyện và đo độ lỗi dự đoán trên dữ liệu validation; cuối cùng ta sẽ chọn cách tiền xử lý + mô hình mà có độ lỗi dự đoán thấp nhất trên dữ liệu validation (ta không chọn dựa vào độ lỗi dự đoán trên dữ liệu huấn luyện vì có thể xảy ra trường hợp \"học vẹt\": cách tiền xử lý + mô hình có độ lỗi rất thấp trên dữ liệu huấn luyện nhưng lại có độ lỗi cao với dữ liệu mới ngoài dữ liệu huấn luyện). Khi đã chọn xong cách tiền xử lý + mô hình rồi thì ta sẽ đo một lần duy nhất độ lỗi dự đoán trên dữ liệu kiểm tra để có một ước lượng khách quan về độ lỗi thật sự! Nếu bạn nhìn vào độ lỗi dự đoán trên dữ liệu kiểm tra và quay lại điều chỉnh cách tiền xử lý + mô hình thì kết quả trên dữ liệu kiểm tra sẽ không còn sự khách quan nữa!\n",
    "\n",
    "Đoạn code dưới đây sẽ đọc dữ liệu từ file \"mnist.pkl.gz\" và lưu kết quả vào 6 mảng:\n",
    "\n",
    "- `train_X`, `train_y`\n",
    "- `val_X`, `val_y`\n",
    "- `test_X`, `test_y`"
   ]
  },
  {
   "cell_type": "code",
   "execution_count": null,
   "id": "85445e3b-6dce-4d17-8c75-2cdf31902f57",
   "metadata": {
    "tags": []
   },
   "outputs": [],
   "source": [
    "def read_mnist(mnist_file):\n",
    "    if os.path.isfile(mnist_file) == False:\n",
    "        mnist_file = os.path.join(os.path.expanduser('~'), 'data', 'mnist.pkl.gz')\n",
    "    \n",
    "    f = gzip.open(mnist_file, 'rb')\n",
    "    train_data, val_data, test_data = pickle.load(f, encoding='latin1')\n",
    "    f.close()\n",
    "    \n",
    "    train_X, train_Y = train_data\n",
    "    val_X, val_Y = val_data\n",
    "    test_X, test_Y = test_data    \n",
    "    \n",
    "    return train_X, train_Y, val_X, val_Y, test_X, test_Y\n",
    "\n",
    "# Bạn cần đặt file \"mnist.pkl.gz\" vào cùng thư mục với file notebook này,\n",
    "# hoặc bạn cũng có thể đặt ở thư mục tương ứng với câu lệnh này:\n",
    "# os.path.join(os.path.expanduser('~'), 'data')\n",
    "train_X, train_y, val_X, val_y, test_X, test_y = read_mnist('mnist.pkl.gz')\n",
    "print(f'Shape of train_X: {train_X.shape}, shape of train_y: {train_y.shape}')\n",
    "print(f'Shape of val_X:   {val_X.shape}, shape of val_y:   {val_y.shape}')\n",
    "print(f'Shape of test_X:  {test_X.shape}, shape of test_y:  {test_y.shape}')"
   ]
  },
  {
   "cell_type": "markdown",
   "id": "ace86f28-80c3-40a2-9540-2bc771fb9cb6",
   "metadata": {},
   "source": [
    "## Khám phá dữ liệu huấn luyện (giống HW2)"
   ]
  },
  {
   "cell_type": "markdown",
   "id": "099fcbee-ef4c-4e25-981f-6d496c2d69c6",
   "metadata": {},
   "source": [
    "Đầu tiên, ta hãy xem thử min và max của `train_X`."
   ]
  },
  {
   "cell_type": "code",
   "execution_count": null,
   "id": "394d7905-7d70-4940-b845-261f55c33fda",
   "metadata": {
    "tags": []
   },
   "outputs": [],
   "source": [
    "print(f'Min of train_X: {train_X.min()}, max of train_X: {train_X.max()}')"
   ]
  },
  {
   "cell_type": "markdown",
   "id": "d2eadedd-8a35-4e8d-8586-4888358f7440",
   "metadata": {},
   "source": [
    "Với ảnh xám thì giá trị của mỗi pixel thường sẽ nằm trong đoạn [0, 255] (với 0 là màu đen và 255 là màu trắng), hoặc đôi khi được chuẩn hóa về đoạn [0, 1] (với 0 là màu đen và 1 là màu trắng). Ở đây có vẻ giá trị pixel của ảnh xám của ta nằm trong đoạn [0, 1]."
   ]
  },
  {
   "cell_type": "markdown",
   "id": "46549653-485d-41b5-b91c-5cf252fb7124",
   "metadata": {},
   "source": [
    "Tiếp theo, ta hãy thử xem mặt mũi của vài ảnh trong `train_X`."
   ]
  },
  {
   "cell_type": "code",
   "execution_count": null,
   "id": "9a94fc50-4ade-4eaf-81f5-79c4ada1d743",
   "metadata": {
    "tags": []
   },
   "outputs": [],
   "source": [
    "# Bạn có thể chạy cell này nhiều lần để xem các ảnh ngẫu nhiên khác nhau\n",
    "n_rimages = 10; n_cimages = 10 \n",
    "padding = 2 \n",
    "canvas = 0.5 * np.ones((n_rimages * (28 + 2 * padding), n_cimages * (28 + 2 * padding)))\n",
    "rand_idxs = np.random.permutation(np.arange(len(train_X))[:n_rimages * n_cimages])\n",
    "for r in range(n_rimages):\n",
    "    for c in range(n_cimages):\n",
    "        i = r * n_cimages + c\n",
    "        image = train_X[rand_idxs[i]].reshape(28, 28)\n",
    "        temp1 = r * (28 + 2 * padding) + padding \n",
    "        temp2 = c * (28 + 2 * padding) + padding \n",
    "        canvas[temp1:temp1 + 28, temp2:temp2 + 28] = image\n",
    "plt.imshow(canvas, cmap='gray', vmin=0, vmax=1)\n",
    "plt.axis('off');"
   ]
  },
  {
   "cell_type": "markdown",
   "id": "08685f3c-9d7b-4375-841d-487869da1a6c",
   "metadata": {},
   "source": [
    "Tiếp theo, ta hãy xem các giá trị có thể có của `train_y` và số lượng của mỗi giá trị này."
   ]
  },
  {
   "cell_type": "code",
   "execution_count": null,
   "id": "007764a3-a643-40ac-be6c-ae733092e08c",
   "metadata": {
    "tags": []
   },
   "outputs": [],
   "source": [
    "values, counts = np.unique(train_y, return_counts=True)\n",
    "for value, count in zip(values, counts):\n",
    "    print(f'Value: {value}, count: {count}')"
   ]
  },
  {
   "cell_type": "markdown",
   "id": "a020ebd9-3e89-42d8-b3cc-0b40fba13091",
   "metadata": {},
   "source": [
    "Như vậy là `train_y` có 10 giá trị có thể có ứng với 10 chữ số từ 0 đến 9. Và số lượng ảnh của mỗi chữ số cũng khá tương đương nhau. Tốt ..."
   ]
  },
  {
   "cell_type": "markdown",
   "id": "dd28fe4c-8ef2-41d7-a197-4b4e16349006",
   "metadata": {},
   "source": [
    "## Đưa ra ý tưởng cải tiến"
   ]
  },
  {
   "cell_type": "markdown",
   "id": "a1b018a4-5ff3-4ea8-a67b-08a3235ea1f7",
   "metadata": {},
   "source": [
    "Ở phần cải tiến của HW2, mình đã có nói về 2 ý tưởng mà có thể giúp làm giảm độ lỗi trên dữ liệu huấn luyện với hy vọng là khi độ lỗi trên dữ liệu huấn luyện giảm xuống thì độ lỗi trên dữ liệu mới ngoài dữ liệu huấn luyện cũng sẽ giảm theo.\n",
    "\n",
    "- Ý tưởng 1 (liên quan đến việc huấn luyện mô hình Softmax Regression): Thực hiện tốt hơn nữa việc cực tiểu hóa độ lỗi trên dữ liệu huấn luyện của mô hình Softmax Regression\n",
    "- Ý tưởng 2 (liên quan đến việc tiền xử lý): Suy nghĩ để đưa ra véc-tơ đầu vào $\\textbf{z}$ thay cho véc-tơ đầu vào $\\textbf{x}$ sao cho $\\textbf{z}$ sẽ giúp mô hình Softmax Regression --- một mô hình có \"đầu óc đơn giản\" --- dự đoán đầu ra $y$ dễ hơn so với $\\textbf{x}$\n",
    "\n",
    "Ở HW2, với ý tưởng 1 thì mình mới chỉ nói một cách là nói máy tính cố chịu đựng và tăng thêm số lượng vòng lặp của thuật toán Gradient Descent :-(. Với ý tưởng 2 thì mình đã đưa ra một cách đơn giản: $\\textbf{z}$ sẽ là $\\textbf{x}$ (chứa các giá trị pixel) được bổ sung thêm 2 đặc trưng là \"intensity\" và \"symmetry\"; bạn cũng đã cài đặt cách đơn giản này và kết quả cho thấy độ lỗi được cải thiện, dù không ấn tượng gì mấy.\n",
    "\n",
    "Trong bài này thì ta sẽ tiếp tục theo đuổi 2 ý tưởng ở trên. Dưới đây thì đầu tiên ta sẽ làm với ý tưởng 1. Cụ thể thì ta sẽ thử cài đặt một cải tiến đơn giản của thuật toán Gradient Descent (GD) gọi là Stochastic Gradient Descent (SGD) mà có thể giúp tăng tốc một cách đáng kể; từ đó, với cùng một khoảng thời gian, SGD có thể giúp đạt được độ lỗi trên dữ liệu huấn luyện nhỏ hơn nhiều so với GD. Độ lỗi trên dữ liệu huấn luyện mà cần cực tiểu hóa của một mô hình Machine Learning thường có dạng trung bình của độ lỗi của một mẫu dữ liệu huấn luyện $(\\textbf{x}, y)$. Do đó, gradient (các đạo hàm riêng) của độ lỗi trên dữ liệu huấn luyện theo bộ trọng số sẽ có dạng trung bình của gradient của độ lỗi của một mẫu dữ liệu huấn luyện. Nghĩa là, ở mỗi lần cập nhật trọng số, để tính gradient của độ lỗi trên dữ liệu huấn luyện, GD sẽ phải duyệt qua tất cả các mẫu dữ liệu huấn luyện, với mỗi mẫu tính gradient, rồi cuối cùng lấy trung bình lại (ở HW2, khi cài đặt bằng Numpy, bạn dùng các toán-tử/hàm/phương-thức của Numpy chứ không cài đặt việc duyệt qua các mẫu dữ liệu huấn luyện một cách tường minh, nhưng bên dưới vẫn sẽ xảy ra việc duyệt này). Do đó, nếu có nhiều mẫu dữ liệu huấn luyện thì GD sẽ chạy chậm. SGD tăng tốc bằng cách: dùng gradient trung bình trên một mini-batch --- một tập con ngẫu nhiên các mẫu dữ liệu huấn luyện --- để xấp xỉ gradient trung bình trên toàn bộ các mẫu dữ liệu huấn luyện. \n",
    "\n",
    "Cụ thể, SGD thường được cài đặt như sau:\n",
    "\n",
    "===\n",
    "\n",
    "Với mỗi epoch (một epoch ám chỉ một lần duyệt qua toàn bộ các mẫu dữ liệu huấn luyện):\n",
    "- Xáo trộn ngẫu nhiên các mẫu dữ liệu huấn luyện\n",
    "- Chia các mẫu dữ liệu huấn luyện ra thành các mini-batch có kích thước bằng nhau (kích thước này do người dùng chỉ định). Với mỗi mini-batch:\n",
    "    - Tính gradient trung bình trên mini-batch\n",
    "    - Cập nhật trọng số: trọng số mới = trọng số cũ - learning rate * gradient\n",
    "\n",
    "===\n",
    "\n",
    "Giả sử ta có 100 mẫu dữ liệu huấn luyện và kích thước của mini-batch là 20. Với một epoch (một lần duyệt qua toàn bộ các mẫu dữ liệu huấn luyện), GD chỉ đi được một bước (tức một lần cập nhật trọng số), còn SGD sẽ đi được 100/20 = 5 bước. Mặc dù chất lượng một bước đi của SGD không bằng GD nhưng khi chạy SGD và GD trong thực tế thì người ta thấy số lượng hơn chất lượng: sau một epoch, độ lỗi của SGD thường thấp hơn nhiều so với độ lỗi của GD! \n",
    "\n",
    "Dưới đây, khi làm với ý tưởng 1 (thay GD bằng SGD) thì ta sẽ giữ nguyên véc-tơ đầu vào $\\textbf{x}$, chỉ tiền xử lý là thêm 1 ở đầu."
   ]
  },
  {
   "cell_type": "markdown",
   "id": "abb6f806-ac87-4866-b78d-4c0f6ceb2fbd",
   "metadata": {},
   "source": [
    "## Tiền xử lý dữ liệu huấn luyện"
   ]
  },
  {
   "cell_type": "code",
   "execution_count": null,
   "id": "cd0e8b5d-c8f5-4722-8bd1-2b0524c0ebc9",
   "metadata": {
    "tags": []
   },
   "outputs": [],
   "source": [
    "def add_ones(X):\n",
    "    return np.hstack((np.ones((len(X), 1)), X))\n",
    "\n",
    "# Gọi hàm add_ones để tiền xử lý train_X\n",
    "train_Z = add_ones(train_X)\n",
    "train_Z.shape"
   ]
  },
  {
   "cell_type": "markdown",
   "id": "68f9fec7-a85b-4a6b-8395-31c9cce2d3ec",
   "metadata": {},
   "source": [
    "## Tìm mô hình Softmax Regression từ dữ liệu huấn luyện"
   ]
  },
  {
   "cell_type": "markdown",
   "id": "39d6b780-52f1-4999-8612-f31a5cba2e0d",
   "metadata": {},
   "source": [
    "***Nhiệm vụ 1 của bạn (không có điểm nhưng cần làm để có thể sang nhiệm vụ 2):*** viết các hàm phụ trợ cho hàm `train_smreg`, trong đó có 2 hàm bắt buộc là hàm `compute_smreg_output` và `compute_mbe` (ta không chỉ dùng 2 hàm này bên trong hàm `train_smreg` mà lúc sau cũng sẽ dùng bên ngoài hàm `train_smreg`). Bạn đã viết hai hàm này ở HW2, giờ chỉ cần chép và dán qua là xong."
   ]
  },
  {
   "cell_type": "code",
   "execution_count": null,
   "id": "2210e4f0-5115-4188-b7a8-e31f90cdb566",
   "metadata": {
    "deletable": false,
    "nbgrader": {
     "cell_type": "code",
     "checksum": "12ad45ede106bcaa1e7d0e82e1ad750b",
     "grade": false,
     "grade_id": "cell-be9eb872639cf264",
     "locked": false,
     "schema_version": 3,
     "solution": true,
     "task": false
    },
    "tags": []
   },
   "outputs": [],
   "source": [
    "def compute_smreg_output(W, X, return_prob=True):\n",
    "    # YOUR CODE HERE\n",
    "    raise NotImplementedError()\n",
    "\n",
    "def compute_mbe(predicted_y, y):\n",
    "    # YOUR CODE HERE\n",
    "    raise NotImplementedError()"
   ]
  },
  {
   "cell_type": "code",
   "execution_count": null,
   "id": "187a88ee-1c1f-4791-9d81-2d4b6f4fc21d",
   "metadata": {
    "tags": []
   },
   "outputs": [],
   "source": [
    "# Ngoài hàm compute_smreg_output và compute_mbe, nếu muốn thì bạn có thể viết \n",
    "# thêm các hàm phụ trợ khác cho hàm train_smreg\n",
    "# YOUR CODE HERE (OPTION)"
   ]
  },
  {
   "cell_type": "markdown",
   "id": "ed153ed0-87cf-48a8-819b-a066b83850a1",
   "metadata": {},
   "source": [
    "***Sau khi xong nhiệm vụ 1 thì bây giờ bạn sẽ sang nhiệm vụ 2 và cũng là nhiệm vụ chính của bạn (3đ):*** viết hàm `train_smreg` để huấn luyện mô hình Softmax Regression bằng thuật toán SGD (mình đã mô tả mã giả của thuật toán SGD ở bên trên, bạn được phép dùng vòng lặp để duyệt từng epoch cũng như để duyệt từng mini-batch).\n",
    "\n",
    "Hàm `train_smreg` có các tham số đầu vào:\n",
    "- `X`, `y`, `lr`, `max_epoch`, `initial_W`: giống như ở HW2, mình sẽ không nhắc lại nữa\n",
    "- `mb_size`: số nguyên thuộc đoạn [1, số-lượng-mẫu-dữ-liệu-huấn-luyện] cho biết kích thước của mini-batch; nếu `mb_size` bằng số lượng mẫu dữ liệu huấn luyện thì SGD sẽ trở thành GD!\n",
    "- `wanted_mbe`: số thực thuộc đoạn [0, 100] cho biết độ lỗi MBE trên dữ liệu huấn luyện mà ta muốn đạt tới; ta sẽ dừng SGD khi số lượng epoch bằng `max_epoch` hoặc độ lỗi MBE trên dữ liệu huấn luyện (được tính sau mỗi epoch) nhỏ hơn hoặc bằng `wanted_mbe`; ở bài này, ta dùng tham số này để so sánh GD và SGD: với cùng một giá trị `wanted_mbe`, ta sẽ so sánh thời gian chạy của GD và SGD (còn nếu ta so sánh GD và SGD bằng cách so sánh độ lỗi của GD và SGD với cùng `max_epoch` thì có thể sẽ không được công bằng cho lắm, vì một epoch của SGD có vẻ sẽ tốn nhiều thời gian hơn so với một epoch của GD)\n",
    "\n",
    "Hàm `train_smreg` trả về 2 thứ như ở HW2: mảng chứa các trọng số tìm được của mô hình Softmax Regression, và list chứa độ lỗi cross-entropy trên dữ liệu huấn luyện sau mỗi epoch.\n",
    "\n",
    "Một số thống nhất khi cài đặt hàm `train_smreg`:\n",
    "\n",
    "- Bạn cài đặt bước \"xáo trộn ngẫu nhiên các mẫu dữ liệu huấn luyện\" như sau: trước khi đi vào các epoch thì bạn tạo một mảng chứa các chỉ số 0, 1, ..., số-lượng-mẫu-dữ-liệu-huấn-luyện - 1; ở mỗi epoch thì bạn xáo trộn ngẫu nhiên mảng các chỉ số này bằng hàm `np.random.shuffle(mảng-các-chỉ-số)`, và dùng `mb_size` chỉ số đầu tiên để lấy ra mini-batch thứ nhất, dùng `mb_size` chỉ số tiếp theo để lấy ra mini-batch thứ hai, ...\n",
    "- Trong trường hợp số-lượng-mẫu-dữ liệu-huấn-luyện chia cho `mb_size` bị lẻ thì bạn sẽ không dùng phần dữ liệu bị lẻ ở cuối"
   ]
  },
  {
   "cell_type": "code",
   "execution_count": null,
   "id": "e4825687-a695-4d46-8697-120f9aa1e974",
   "metadata": {
    "deletable": false,
    "nbgrader": {
     "cell_type": "code",
     "checksum": "3b748e36afc960f6560f8f8dde610b17",
     "grade": false,
     "grade_id": "cell-9c3a725a751bd322",
     "locked": false,
     "schema_version": 3,
     "solution": true,
     "task": false
    },
    "tags": []
   },
   "outputs": [],
   "source": [
    "def train_smreg(X, y, initial_W, mb_size, lr, max_epoch, wanted_mbe):\n",
    "    np.random.seed(0) # Cố định sự ngẫu nhiên để mình và bạn sẽ ra cùng kết quả\n",
    "    # YOUR CODE HERE\n",
    "    raise NotImplementedError()"
   ]
  },
  {
   "cell_type": "code",
   "execution_count": null,
   "id": "8a3baec5-ece6-4226-888a-89517c63b92c",
   "metadata": {
    "deletable": false,
    "editable": false,
    "nbgrader": {
     "cell_type": "code",
     "checksum": "e7158c306a3fbbac2ff1abc1e55f0115",
     "grade": true,
     "grade_id": "cell-e7ea99194141207c",
     "locked": true,
     "points": 3,
     "schema_version": 3,
     "solution": false,
     "task": false
    },
    "tags": []
   },
   "outputs": [],
   "source": [
    "# TEST\n",
    "W, ces = train_smreg(\n",
    "    train_Z, train_y, \n",
    "    initial_W=None, mb_size=32, lr=0.03, max_epoch=1, wanted_mbe=0)\n",
    "assert W.shape == (785, 10)\n",
    "assert str(W[0, 0].round(4)) == '-0.0997'\n",
    "assert len(ces) == 1\n",
    "assert str(np.round(ces[0], 4)) == '0.4044'\n",
    "\n",
    "W, ces = train_smreg(\n",
    "    train_Z, train_y, \n",
    "    initial_W=W, mb_size=32, lr=0.03, max_epoch=1000, wanted_mbe=20)\n",
    "assert W.shape == (785, 10)\n",
    "assert str(W[0, 0].round(4)) == '-0.1398'\n",
    "assert len(ces) == 1\n",
    "assert str(np.round(ces[0], 4)) == '0.3556'"
   ]
  },
  {
   "cell_type": "markdown",
   "id": "9b485861-8b30-4504-bf76-02b00e011532",
   "metadata": {},
   "source": [
    "Ở trên, ta chỉ test nhỏ nhỏ để có thể nhanh chóng kiểm tra tính đúng đắn của hàm `train_smreg`. Bây giờ ta mới làm thật. Đầu tiên, ta sẽ so sánh GD và SGD bằng cách: cho `wanted_mbe` bằng 10 (còn `max_epoch` thì thật lớn) và so sánh thời gian chạy của hàm `train_smreg` với `mb_size` bằng `len(train_Z)` (GD) và thời gian chạy của hàm `train_smreg` với `mb_size` bằng 32 (SGD). Với GD thì ta dùng `lr` bằng 0.3 (`lr` tốt nhất trong 3 giá trị [0.03, 0.3, 3] mà ta đã thử ở HW2), với SGD thì ta sẽ dùng `lr` bằng 0.03 (mình có thử `lr` bằng 0.3 thì thấy độ lỗi của SGD lúc lên lúc xuống nên mình hạ xuống 0.03 và thấy mọi chuyện diễn ra tốt đẹp, mình nghĩ việc SGD có `lr`-phù-hợp thấp hơn `GD` cũng hợp lý, vì chất lượng một bước đi của SGD không bằng GD). Ngoài ra, để nhanh chóng đo thời gian chạy của một cell thì ta sẽ dùng câu lệnh magic `%%time` của Jupyter Notebook ở đầu cell. "
   ]
  },
  {
   "cell_type": "code",
   "execution_count": null,
   "id": "61b50b27-c4b1-44f0-84fc-7e3d1533656c",
   "metadata": {
    "tags": []
   },
   "outputs": [],
   "source": [
    "%%time\n",
    "W_3a, train_ces = train_smreg(\n",
    "    train_Z, train_y, \n",
    "    initial_W=None, mb_size=len(train_Z), lr=0.3, max_epoch=1000, wanted_mbe=10)\n",
    "\n",
    "plt.plot(np.log(train_ces))\n",
    "plt.xlabel('Epoch')\n",
    "plt.ylabel('Log (for clarity) of training cross-entropy');"
   ]
  },
  {
   "cell_type": "markdown",
   "id": "ae608285-86bf-4d69-9a37-d8dd392ca10b",
   "metadata": {},
   "source": [
    "Chắc đi uống coffee cái đã ...\n",
    "\n",
    "Phù, cuối cùng GD cũng chạy xong, gần 300 epoch ... Bên máy mình mất gần 1 phút.\n",
    "\n",
    "Bây giờ ta hãy xem SGD."
   ]
  },
  {
   "cell_type": "code",
   "execution_count": null,
   "id": "7f3bb2a1-3330-4a41-8952-0d1f1f780d7e",
   "metadata": {
    "tags": []
   },
   "outputs": [],
   "source": [
    "%%time\n",
    "W_3b, train_ces = train_smreg(\n",
    "    train_Z, train_y, \n",
    "    initial_W=None, mb_size=32, lr=0.03, max_epoch=1000, wanted_mbe=10)\n",
    "\n",
    "plt.plot(np.log(train_ces))\n",
    "plt.xlabel('Epoch')\n",
    "plt.ylabel('Log (for clarity) of training cross-entropy');"
   ]
  },
  {
   "cell_type": "markdown",
   "id": "32fe42b2-c799-47a5-9325-e71eaf538e45",
   "metadata": {},
   "source": [
    "Bùm, xong! SGD chỉ tốn 2 epoch! Bên máy mình chạy chưa đến 1 giây!\n",
    "\n",
    "Bây giờ ta đã hoàn toàn bị thuyết phục là SGD tốt hơn nhiều so với GD (ít nhất là với dữ liệu mà ta đang làm, khi mà số lượng mẫu dữ liệu huấn luyện tương đối lớn). Tiếp theo, ta sẽ chạy tiếp SGD từ bộ trọng số đã tìm được trước đó với `max_epoch` bằng 98 (kết hợp với 2 epoch trước đó thì tổng cộng sẽ là 100 epoch), còn `wanted_mbe` thì ta sẽ cho bằng 0 để SGD sẽ bị ngắt bởi `max_epoch` trước."
   ]
  },
  {
   "cell_type": "code",
   "execution_count": null,
   "id": "cc82a27f-7f55-44d3-897c-084839cea0bb",
   "metadata": {
    "tags": []
   },
   "outputs": [],
   "source": [
    "W_3, train_ces = train_smreg(\n",
    "    train_Z, train_y, \n",
    "    initial_W=W_3b, mb_size=32, lr=0.03, max_epoch=98, wanted_mbe=0)\n",
    "\n",
    "plt.plot(np.log(train_ces))\n",
    "plt.xlabel('Epoch')\n",
    "plt.ylabel('Log (for clarity) of training cross-entropy');"
   ]
  },
  {
   "cell_type": "markdown",
   "id": "d129aef7-76c2-47cd-ac24-927be96ee7ee",
   "metadata": {},
   "source": [
    "Mình có chạy thử thêm mấy trăm epoch nữa thì thấy độ lỗi vẫn tiếp tục giảm nhưng không nhiều. Do đó, mình nghĩ trong bài này thì có thể dừng ở đây và cho rằng việc cực tiểu hóa độ lỗi trên dữ liệu huấn luyện của mô hình Softmax Regression đã khá ổn."
   ]
  },
  {
   "cell_type": "markdown",
   "id": "fad130a5-8136-4ca7-b921-99b018cfcb1d",
   "metadata": {},
   "source": [
    "## Dùng mô hình Softmax Regression tìm được để dự đoán với dữ liệu huấn luyện và đánh giá kết quả"
   ]
  },
  {
   "cell_type": "code",
   "execution_count": null,
   "id": "7623d81b-2f3e-4677-ac09-bdb76c913e23",
   "metadata": {
    "tags": []
   },
   "outputs": [],
   "source": [
    "predicted_train_y = compute_smreg_output(W_3, train_Z, return_prob=False)\n",
    "train_mbe = compute_mbe(predicted_train_y, train_y)\n",
    "assert str(np.round(train_mbe, 4)) == '6.744'"
   ]
  },
  {
   "cell_type": "markdown",
   "id": "d0a40465-1c8e-4ee8-ab65-9537dc2fe9fd",
   "metadata": {},
   "source": [
    "Ở HW2, khi dùng GD, độ lỗi MBE trên dữ liệu huấn luyện chỉ được 9.x% (mặc dù máy tính của ta cũng đã phải chạy khá vật vả với 500 epoch). Với SGD, chỉ với 100 epoch, ta đã đạt được độ lỗi 6.x%!"
   ]
  },
  {
   "cell_type": "markdown",
   "id": "c99250d0-1c9f-4789-b632-6449b3baad33",
   "metadata": {},
   "source": [
    "## Tiền xử lý dữ liệu validation, dùng mô hình Softmax Regression tìm được để dự đoán với dữ liệu validation và đánh giá kết quả"
   ]
  },
  {
   "cell_type": "code",
   "execution_count": null,
   "id": "01a7a007-186b-472b-9724-09d1417ac849",
   "metadata": {
    "tags": []
   },
   "outputs": [],
   "source": [
    "val_Z = add_ones(val_X)\n",
    "predicted_val_y = compute_smreg_output(W_3, val_Z, return_prob=False)\n",
    "val_mbe = compute_mbe(predicted_val_y, val_y)\n",
    "assert str(np.round(val_mbe, 4)) == '7.03'"
   ]
  },
  {
   "cell_type": "markdown",
   "id": "904bab7a-1333-4b95-8c8c-0cbdf9a75fad",
   "metadata": {},
   "source": [
    "Độ lỗi MBE trên dữ liệu validation cũng giảm theo: từ 8.x% ở HW2 xuống 7.x%!"
   ]
  },
  {
   "cell_type": "markdown",
   "id": "a298e9fd-a9bd-4593-a937-45ce22b257e3",
   "metadata": {},
   "source": [
    "## Đưa ra ý tưởng cải tiến"
   ]
  },
  {
   "cell_type": "markdown",
   "id": "3d7f977f-838e-483f-b207-58101d7b9079",
   "metadata": {},
   "source": [
    "Đến đây, ta đã khai thác khá triệt để ý tưởng 1: việc cực tiểu hóa độ lỗi trên dữ liệu huấn luyện của mô hình Softmax Regression đã khá ổn. Để có thể cải tiến hơn nữa thì ta sẽ qua ý tưởng 2: suy nghĩ để đưa ra véc-tơ đầu vào $\\textbf{z}$ thay cho véc-tơ đầu vào $\\textbf{x}$ sao cho $\\textbf{z}$ sẽ giúp mô hình Softmax Regression --- một mô hình có \"đầu óc đơn giản\" --- dự đoán đầu ra $y$ dễ hơn so với $\\textbf{x}$. Có thể nói là ý tưởng 2 này gần như là không có giới hạn, ta luôn luôn có thể khai thác hơn nữa ý tưởng 2 này, và khi khai thác tốt thì ta sẽ có một mô hình nhẹ, đơn giản, nhưng lại có độ chính xác dự đoán cao!\n",
    "\n",
    "Đầu tiên, ta hãy quan sát các ảnh của một chữ số nào đó, chẳng hạn chữ số 8.\n"
   ]
  },
  {
   "cell_type": "code",
   "execution_count": null,
   "id": "8d459592-54e2-4290-9a02-55d3f141b36b",
   "metadata": {
    "tags": []
   },
   "outputs": [],
   "source": [
    "X = train_X[train_y == 8] \n",
    "\n",
    "n_rimages = 10; n_cimages = 10 \n",
    "padding = 2 \n",
    "canvas = 0.5 * np.ones((n_rimages * (28 + 2 * padding), n_cimages * (28 + 2 * padding)))\n",
    "rand_idxs = np.random.permutation(np.arange(len(train_X))[:n_rimages * n_cimages])\n",
    "for r in range(n_rimages):\n",
    "    for c in range(n_cimages):\n",
    "        i = r * n_cimages + c\n",
    "        image = X[rand_idxs[i]].reshape(28, 28)\n",
    "        temp1 = r * (28 + 2 * padding) + padding \n",
    "        temp2 = c * (28 + 2 * padding) + padding \n",
    "        canvas[temp1:temp1 + 28, temp2:temp2 + 28] = image\n",
    "plt.imshow(canvas, cmap='gray', vmin=0, vmax=1)\n",
    "plt.axis('off');"
   ]
  },
  {
   "cell_type": "markdown",
   "id": "f9799b1a-de50-49e8-84a5-7a0b34d470f3",
   "metadata": {},
   "source": [
    "Ta thấy một yếu tố làm cho các ảnh chữ số 8 khác nhau là độ nghiêng (khi viết, có người theo phong cách viết đứng, có người viết nghiêng ít, có người viết nghiêng nhiều, ...). Điều này cũng đúng cho các ảnh của các chữ số khác. Nếu ta dùng véc-tơ đầu vào $\\textbf{z}$ là ảnh đã được loại bỏ độ nghiêng (tức viết đứng) thay cho véc-tơ đầu vào $\\textbf{x}$ là ảnh ban đầu thì có thể sẽ giúp mô hình Softmax Regression dễ dàng hơn trong việc dự đoán đây là chữ số nào.\n",
    "\n",
    "Từ ảnh ban đầu, làm sao để tạo ra ảnh được loại bỏ độ nghiêng? Ý tưởng thực hiện được phác họa ở hình bên dưới. "
   ]
  },
  {
   "cell_type": "markdown",
   "id": "e1add611",
   "metadata": {},
   "source": [
    "![deslant_idea.png](data:image/png;base64,iVBORw0KGgoAAAANSUhEUgAAAykAAAGyCAIAAABvNhyUAAAABGdBTUEAALGPC/xhBQAAACBjSFJNAAB6JgAAgIQAAPoAAACA6AAAdTAAAOpgAAA6mAAAF3CculE8AAAABmJLR0QA/wD/AP+gvaeTAAAACXBIWXMAAABgAAAAYADwa0LPAAAAB3RJTUUH6AMQBhswqhiZhAAAABBjYU52AAADwAAAAhwAAAAAAAAAAHyx15MAAIAASURBVHja7d1nWBRXGwbgZxu9o4IFAXvH3k3A3o0x0VhjSzXNmC/daGKqiemJKfYajRqNUWPXWGNvEHsBCyhNOrvLzvdjYFkUcJYdmF147ssfc2bOzL6z7g7vnnPmjEoQBBARERFRmVArHYD1jBmIPwZjptJxEBFZL/4YshKUDoKIlORouZcxA3/3w5pWmOeGf99QOhoiImuc+BRrWmFRJaxpCUOa0tEQkTJUDtbnePwjHH4XLadC44yw/yF2P27/C40zqneFXzOlgyMiKlryf1jZCLUeg3c91BsLlQbRG2BIRaWWqN4daq3S8RFRGXG0b7tnCADU6AXvOtjQA7f+yd9Ubwy6/AyNi9IhEhEVxqMmVGp41ETrGTj8Nk5+ASEnd5NvY/RYDZ/6SodIRGXB0focfZsgeAD8muLv/rj1D9yqoVo4nHwA4Pwi7BytdHxEREXQuiOgExo+i6PTceIzqLWo+jC86gBAUiT+6oqMWKVDJKKy4Gh9jiYDIODsHOydBP/mGLgHOg/o72L7E4j5GwD6bUX17kpHSURUGGM6shLxWy1AjUH7ULk1AJz6Agf/BwCNnkPnH5UOkYhKnSO0e52ciVOzcPprAFDroHbCtfUAUH8sdB4A4OSN7r/DqxaA3E1ERPYgdi+OfYg9z+Temq11x/W/YTIioH1u4gWg2Wto+AwARP+ldLhEVBbsPvc69iH+fQMHX8OZb2FMz10p3h9092J+NZ0HggcBQHaS0hETEQEAbv+LTX1wZCrOzcPtf3NX6lMBIOUyBFN+zbqjAF6+iCoKu8+9BGPugiEFyedzlyu1AoCzc3DnSH7NlIsAOFiViOyFxgWGdAAwGZF4Mnel2NyVfh3HP8yvefcCAHjz8kVUIWimT5+udAxFi96I/S/CvTpMeuhTcGUVqveAW1V418XZOcjJxMVlUGlgMuL017iwCFp3PDwXTl5Kx01EFV7GLWzuD/1deIYgOwkxf8PZF1XawzMYMZuRfh03dyH1CrRuuLkT/76OnEy0+QiVWigdNxGVOnseay/gzy7IuIX+O5F8DlsGwZgJF3/03YpKLXBlNXaMQk5WfnWtK7ouhz4JtZ/gTBNEpLBTX+DQ2+j2GwI746+uSIoEgI5fo8nLSLuGDT1y27rMGj6DOiPgUgm+jZQOnYhKlz3nXkB2ElKv4PRXuPYn9Cm5K83pV/wxHJmKGzug1qJaV7T+AJdX4vjHqNETvdYx/SIihSWcxPXNiPwRadfyV4rplz4ZR6bj4hJkJ8G/BZpNhnsNbOoHnQf672D6RVS+2ffcqjoP7B6PhJMIHoDQx5BwHJHfIysBG3ug71ZUaoneG/IrCyZEfgcA+hTk6Jl7EZHCLv+O4x/BMxRdfkZOJk58hoxb2P8KADR5GR2/Rsev8ytfWQOTHjlZMKQqHTcRlS77bve69Bu2D4d7DQy/BLUTAERvxJZBMBnzW78sCSac/ByNnuOQLyJSmD4Fi6sgJxsD9yCwMwBk3MKfD+XeFSS2ft3j6h9wq4Yq7ZQOnYhKl33f55h8FgCcvHITLwA1+yLsdQC5rV/xxwvUV6nR/A0mXkSkvNQryMkGAJfKuWvcqqLb8tzl/a/gzDf37hIymIkXUUVg37mXZygAJEUhemP+ypr9AMClMjQuuXOrEhHZG4+g3Mdjn/o8f2Xl1nALhEtlqDRw8lU6RCJShn3nXqFD4FYVAHaMwM2duStv7QGAXmvRfye86yodIhFRYZz9UHs4AJydiyPvAQIAJEUiKx4t30G/bag3RukQiUgZ9j3eC8CN7djUFyY9VGoE9YFKjegNcA/CiKtKR0ZEVKzsRKzriORzAOAfBr+miN6I7EQ8eiR3gmgiqpDsPvcCcH0rdgxHVkJuUeOMHmtQs6/SYRERPUjGLWx5FLcP5q9p9Dw6/6B0WESkJEfIvQBkJeDCYiSchIs/6o+Db2OlAyIikkbIwZXVuLkTgoAaPRH6qNIBEZHC7CP3MhlwcTlSryB0MPyaKR0NEZE1Yvfhxjb4NkStoUqHQkQOwA5yr4xYbB6Q+1RsjTMiFqPW40q/LUREEggmHHg1f7aI+uPx0C9QaZQOi4jsmtL3OervYkM33DkCrzpw9kNONnaMwKUVSr8tREQS7H8ZZ76Bkw+86wHAuXnYNQ6CSemwiMiuKf1MoUNvISkKdUYgfCFu7sTGnjAZsXMUVBrUekzpN4fIgV27cuXQ6tWnz55NzMpKNJn8dbpKfn5hnTvXce5cySdAnGidbHJjGyK/h2cIBu6BaxUsqZY7MlWlwcNzoVL6ly3JQfwenTh5Nik7K1lr8jHp/L38WvXq3KFz54CAAKWjI0clc5+jSqWyqv61T1DTDy0+xIkYbJuMptVxNxN1q8BownNLMWev0m8P3Se8Hh6ul7u86zx2n7du964N0KUOEtKRmoVj0Th9Q+nzKY8qeXgMat7cyd//4StXWty8WSkjwy8jI8HNLc7DY3+NGgeDG/re6HDuZOyG7E9MyFE62Acrs3ER1l6+vh6Kl7thxga89ycmheP74dh3CZ1qA8CKIxi3AJmGMn+zSD7Ff4/+CQ6+cuPG4ZMns7OzlY6U7FeRly9BVtaGdWIqrn6MegEY3wnCzxjXEcH+SP0Wws8QfsbSCUq/bXSf9wfk/u8IP+O9/lbv/tmj+bu/3kvpkymPOlStOnHw4PUNG+rVagG4/1+6Tje/ReeJg55+yXe1WvGWbwnkvUbJePma1h/ZP+DJDqjph5Rv8OckaNTYPjn34335IwTy8WYOS8r36OcWLYYOGuTry+cTUJGKutoofOV9ZQWORcMkYOYQHLmGBQcgCIi8iSBfCMD09Uq/bXQfy6YBk/XDWrQWo5ANDtDm4mDCq1Zt0K7dlD176sTHF1XHzWAYe3xvw/ib34eneu/yTEpKUjpqR7XwAP44gVPXsWwiXJ3wygrkmLAlCi1rQqPG9PWITVE6RCoRid+jp48fbxIfrwoP37JrF79HZBUFcq8Qf4T4I9OAo9ew6zwAPN4K/u44fBWCgCbV0CIITy3GyqPIYou9/VFb5F4l6ArSWeReRuZesqrl4VGvffvi/2CYtYu5nAlDZpcuf23ezE4T6Tyc0SoYKuDEdVxNAABXHR5rCUMOkjPhosPjrbD7Ap74lZcvR2XV96hjTIweMPJ7RFYq09yrkgfmjMGgsNzizWQ8vwzrTuZepHo3xsUPUdUb2UZsPMMrl52yzL1M1idfOrZ7lZoBzZt3P3tWyh8MUXhMzL5KlaKbNTt8+LDSsTsAlQpv9ca7/eCqAwC9EV9tx7trkSPAkAM3J5yfgWwDqvlg1lZevhwYv0dUBsruThx3Z+x4FYPCkG1EfBoAVPPBmucwrDX+jsQ/FwCgdmWoVRgzP7cC2SFb+xwtPnHMvWQU5uNj8vfvde6cVXtNPnMmtEYNT09PpcN3AJ8PwUePwFWHG8kA4KTFG72waDz0xtzREf7uqOaDX/ZgOf8EOyx+j6hslF2711u90bQ6Dl5G/++RkI6+TbBgLCp7YvZI/B2Jnl9jRFtU8sCa47h0R+l3hYomZ58jZ0GST8egoI5Xr+qsTIfdDIYa167VrFkzMjJS6TOwa62CMaUHUrPQ6xscuIwQfywej851MLwNVh7B51tw6CrC6+GfC9hp3V9tsi/8HlHZKLt2rxFtAeD9v5CQDgAbz+DRn5Bjgq8b+jRBthHz9+PzLUy87J2KfY52ySkwsMXNmyXYsceNG1WrVlU6fHsnXr6WH8aBywBwNQF9v8P5OAAY3gYAdp/H+38x8XJ4/B5R2SiV3EutwriO964M9AYAD+f8NXsv4t8rAFDdR+m3gSQr0O5lfe7FPsdSkunuXiWtJF31TVJSPDw8lA7fvoxqB+eCXQLibBGeLvlrUrPw614AqM4ZBsoRfo+obJRK7tWiJuaOwQsR0KjxSjc4aQHgbCwAvNWnwEXN3RkArvPmXMchY7sX+xxllOns7Fmi26wCs7OdnZ1LsGM59tEj+OM5OGvxeCvUrQLkXb4eaY6wGvnV3J0AXr7KF36PqGyUSu4VXg8qFb4dhgNv4Kuh+GYYAPy0GwBa1sSOV9EqGH7u+HAQwmogPg2bzij9NpBkNrZ7sc+xlLhmZ6eW6NJ/3dmZ98ZbqlUJNf3Qpwn2v4HlE7H1FbjosGA/Mg1w1WHbZAxtDV839G+Gyd0BYPFBpSMm+fB7RGWjVHKvpf/ibCxUKrQJwZ1UzNwMAL/uxcojANCxNo68jYQv8U5fGHIwdgHq8aFYjoNzTNgnp/T02yXq8jjp4ZGenq50+HbkSkLu08zEKVLf+xNZBsQk4enFyDGhkgdWPIXEr7B+Erxd8dM/uJ5U4FNNDo3fIyobpZJ7xaXiTN5oxUoe6NcUAAQBw+fgnbVIzsjddPQaHv4CHWvj37cwoZPS7wRJY2OfI+e1LyVpsbHHq1UrwY5bq1WLjY1VOnw7Igi5cz6LnmiTO0xiyb/o/S3+u5W7/nYqXvoNvx3Gvtex4immX+UEv0dUNkol9xIEnIjBtYTc1q9vh+GFCAAwCfh4E2q8ibAZqPEGWn+Ms7EY0RZqFcZ3gqbs7rmkkpOxz5Hz2stod0zMvpAQg9q6b1GmWh0bEhITE6N0+Pbl0h0kpmP7WQDo0yR37BeAbf+h8fuoOxVN30e11/HdToztAHdndG2QOyyMHB2/R1Q2Sivf+WgjwmYgYlZ++vViBABM7g6dBqeu585PmJSBiFlYcQR9vkUOR147AovUi32OduRKcnJ2QsLm+vWt2uuj+vXjEhKSk5OVDt++HLyMWu+gx9e5nY9i+uWiQ/9maB2Mi7dx5mbu9WriYszdh17fIOqWbS9J9oHfIyobpdjWdDcTsSkW6dcTOPI2vnwcyyYUqHY1AU/8ipQspd8JksbyByHnmLArq0+cWNugwcVKlSTW316p0n8NGpw4cULpwO3R3UwIAp5ekp9+nZyKZROw+zX4uedXyzFh4qLcuXKofOD3iMpAqffziemX+KOwVTCMJny+RemTJhvY2O41dx+mr8dP/2DBftxOVfpkypfEtDTVwQZfdA6X8mdjb6VKP3XufODgwbQSzWZUQYjp1697AKBeADxd8NNuJHJEdbmWmJZ24ODBmZ0783tEpacsnikUm4Iun+PLxxHohc+3cOpnx2bjM4V+/kfpEyi/wjCw9a2PUv7997Mu2kFnT/Y6d67QR6MY1Orv69ff16DB/oMHb91iV9kDiOnX2Vg80hx/ncYX/OlYAUTdupX177+GLl2GnD3L7xGVBpVQgn6je+Rk4fQ3uLEVGpdH397wx3Glz4lK05wx+TelTlyEufuUDogAAD6o/h5OusMfQKZH3NXmM1P9L0VcudLm5s1KGRl+GRmJbm6xbm5/Vqt2IjT0RkLCiRMnHOWXugzXqOJdXYfz86FPef+XnR9u4JS/lMvDw6N78+b+/v73fI/i3DzWVQt0uO8RKaKoy5fN7V6Zt7GpD+KPiSUrn0BKjsfGPkcqDSqox2OxmHgB0KX5rt27J9nnwvGgoNCWLXWurio3t5yMjNTMzOu3bsXs3s1Bwfn2v4Qz34mLoZWYeFG+tLS0tXv3+vj4HA8KCmvZR+OqS3fLdMtwT8vMjrp1gt8jsoWE3MuQBrUWGpfCt25/AvHHUPVh1BmO7OR1z7yp9BlR6bKxz5FKQx+8VR8R5uI6vHsVh5GMY8nJx06fVjo6pWXdgUvlwjed+Q5nvoNbVTR/A+k3Xnz5c6VjJbuTnJx8LDm59ulx3TFZXPM7Xj2NCv+1Its8aKy9IQ2b+iArofCtt//FzZ1wC0SfjWj4DJq/AUCtwlt98Hovpc+MSofKtvm9SHa10GEAppuLUdiyFV8oHZTdOPYBLv5W5NaTnwFAxGI0eRntZop3W0fUx9rnlQ6b7JjAX51kswflXvteQOxe5BTxmKrk/wDArSq0buZ17/XHx49gPOepL6dsfKYQycsV3hOwVJ3XgJ2K2/PxJP825Lq6DkemwVTE5Ut/F+k3AMCrtnldiyBsm4xBYWhckrnNqdxSFRhtwe8X2epBuVeVtgCgT8btg9DfvXerW3UAiD+B6I3mdf9cAIBq3kqfGZUOG58pRPIahZ8rIVRcFiAswNgU8MEmeSq3gkoDkxG3DyH9+r1bdZ5w8gKA4x+Z1x2PQUomAFTlFYwKUNl+CCKzB+VetYahycs4OAVrO2CBD/YWbIuvFg7PUEDA9mGI2SSu694AAA5dVfrMqHTY+EwhklEnjG+NYebidnx9BpuUDsqeuNdA2OvITsLadlgahN8bIzsxf6tKjXpPAsDZOTj4GoQcAG1D4O0KvREnr5fwNancY7sy2e5BY+1d/OFRA2e+Qavp0Lqi6Su4vhVx+6HWoXpXVGmPiIXY0AOGNGzqixo99r2OjrWhN+KdtUqfGZUOtnvZiQDUH4ZvzcVoHPsDvNPlPg0m4Lc6qDUUvo1QZwQy7+DcPBjS4dsIIYPQegZu7EBSJE7NQvRffzyH3o2hUmHmFtzhxL9kwbLPkbkX2U7CfY6etQAgsDP8muCvbojdm7v+MBAyGBGL0HsDdoxA5m1c39qxNtKyMXoeH7JRbrHdyx5o4fwUljsj9+k22Uibg+FG6JWOy/54BEGtg2tltJyKQ2/i1Jdi+xYAeNVCjzXovx1bhyB2H5LPPdIcAH7YhWl/Kh022RkV+xxJVhKeKeTbGMEDUKUt/h6A2L1wr4HQIXALBICrf2Db46jeFcPOofOPaPjMa6tQbyrWnlD6tKjUcKy9PXgUnwahhbn4G16Kw3mlg7JLaidUC0eTl3HsA5z8HGodQgbDrykApFzGhu7IycbAPei5Fk1f+fRvdPgMLyznB5uKx88H2UpCu5d3HfRYhfMLcecw/Jph0D7oPGBMx66xuLwKMX/j2noED0Sj5wDM2vqz0mdEpcuWOSZ0GrzdBwBuJCPLgCX/Kn0yjqkJ+nbFy+biYfy2H/OVDsqO9VwHfRKOfwy1DgP3oHJrAPjvZ+x9HlnxOPIewhcgZBBCBr31x9dKx0p2i32OJCcJuZdKA5UG1/4CgLojofMAAK07IhYjMRLJ/+HaXwgeqPSJUBmxpd3LRYfpA3KXU7OYe5WEFwLHYr65ByQeV5biWaWDsm9aV1xeCZMBVdrlJl4AGj6DuxdwahaiNygdHzkA9jmSvIroc9Sn3NusaswAgGSL52BrXBDyCIBC5p6g8suWZwrpNPnLhhzr9iUAKqjGY5EnqojFHBjmYkQm+AUsSMiBMb3AGrGYchkmY/7K2k8AvHxRCbDdi2xVMPcSTIj8ActDscAbc1ywdQhysnI3VW4DABcW49bu/PrJZwHAt6HSZ0FlR23xkbG2z1FrsS9zrxLoif81RA9zcT2mX8ZBpYOyJ7F7sT4cv+owzwNrWiL+aO568fKVdQeHLG4FFaeG9uHli6RgnyPJyaLP0ZiBbUPzW+BNejh55z/GsdFziPoB+hRs7IWwNxDYCdfW4+of0Lqj/gSlz4LKjlztXnxosbVC0GYgZpiL57Dzb3yqdFD25Mw3OPAqhLwPVlYCvOrmLldug+rdcGM7Ts1C6hXUH4/UqzgyFQCavKh03OQA2OdI8jLnXgJ2PYnoDVBpUGcEvOsiLRrtZwHA+YVwq4YaPdBtBbY9DkMajn2Qt7crui6FR5DSZ0Flx5ZnabPPscRc4DkBy7RwEotpiJ+HUQKYwOa5uBT7XwGAKu1Qsx+y4hHyCJy8kHwOl1eg5XuIWIKNPZF4GlfW4Mqa3L0aPYsGE5UOnRwM273Idnm514UluLwKai16/oGa/fO3n1+A3ROgcUbPdQjqjcGHcPhd3NgBlQrVItDqffg1UfoUqExZ9jmarPzTr2XuVVIj8GMV1BGXBQgLMT4ZN5UOym5k3sY/zwBAw2fQ+Ueo8j6jyefwVwQybiE7GR2+xKD9OP4xLi5FRiwqNUfTV1F7mA2vShUIn+dI8srLvU5/BQD1JxSSeAkmGDOxZRB6rkONHuixWumYSUm2XIEK9Dky95KsPUa3wyhzcRd+OIX1SgdlT/77BcZ0uNdAp28LSbyQd33r8CXafoy2HysdLjki9jmSnNQAYDIg4SQA1OiZv8WceAX1hlqbm37FHVA6YFKYLXNMsM+xBKqgznD8YC5ex6nV+J/SQdmZO4cBoOrDUOf2yeYnXn5N4BkCAKe/wpH3lA6UHBWfKUTyUgOAkJM7QNXyQbOmHABo9Dz6bET7LwHAmIn0G0oHTAor8DxHa/sceZ+jlTTQTcAyF3iKRT0y5uAJA7JsO2q5YzIAgD7JYpUACPBriv470H8n1FoASLmodKBUPjD3IlupAUDjAq/aAHB2Tv5dQg0mYMA/6Pw9oMqdAketQ7VwpQMmhck11p73OUrxCD4KQRtzcSUm38J/Sgdlf3wbA8D1bUi5nLvGpwH670L/7XCpDGN67rRelu36RNZhuxfJKa8hou4oALj9Lw6/k78xsBOggjEDZ38BgNpPwKWS0gGTwlTscywrDdGjB6aYi8eweg9+UToou1R3JKCCSY/tw2BIy13pUx8ulQHg9NcA4BqAWo8rHSg5Ks4xQfLKy72avgqPmgBw4lPsfS53FnsAxgzsGIG0GOg80WZGyV6DyhO1Dc9zZJ+jdJ6oMh6LVHnf0EREL8ZTSgdlr/ybo/5YALhzBOsfKtC3GPUjzs4FgDYfQeuudKBUHrDdi2yXd5+jkxd6rsWGbshOQtRPuLIG1XtApcKN7ci4BZUGXZfAI1jpaEl5crV7sc+xGCqoxmKBFwLFogk5czEyA0m2HbVc6/Q97p5H7D7EH8fKxgjqBWd/JJ7Ondq+wQQ04BTQVHKcY4LkZTGvfaUWGLgX24cj8RQyb+Pi0tz1Lv4IX4ia/ZQOleyCLe1e7HOUqBteaYI+5uIGzLiIvUoHZd+0bui7BXsn4fwCmPS4ljcHh0qNZq+h7SdKx0eOjn2OJCdtgZJvIww5hksrEbMJqVfh5I3Ajmj4DJz9lI6T7AWfpV3aaqLlYOTnChewZyM+VDooR6B1Q/h8NH4eF5Yi8SSghl9TNBgPv2ZKR0blCvscyXbae1eoNKgzHHWGKx0Y2akC89pbeQk6fxvT10OlQrAfjkYrfSZ2yRnuE7FMC2exmIGkuRhpAhNVySq3yX1yNpF82OdI8tLafgiqUGzpc/zvFt7/S+kTsG9P4LsA1DcXF2FiEmKUDoqI2OdIclLbfgiqUGzpc6TitcETHTHOXPwHPx/HGhuOR0TyY58j2Y65F1nHss/R2nYvKkYlhI7ET+biTUSuxGSlgyIigM8UIrkx9yLrsN2rNKihnYBlrvAWiwZkzcFwAzKVjouIAM6tSnJj7kXWseWZQlSUgXi/Ftqbi6vw2g2cVjooIioUr3xkK+ZeZB1bnqVNhaqPiN5401w8iXW78IPSQRGRJfY5kpyYe5F11DbMa0/380Cl8VhsfnZQMm4sBGdgJ7Iv7HMkeTH3Iuuwz1FeT2KeD6qLyybkzMWodCQoHRQRFYNXPrIVcy+yDvscZRSBF5phgLn4Nz49j11KB0VE92OfI8mJuRdZh+1ecqmBZkPwubl4CfvXY7rSQRFRIdjnSPJi7kXWUXG8lxx0cJ2I5Tq4iMUMJM/FSBOMSsdFRA/Adi+yHZ8pRNax5ZlCPRuhQy0YTbiehCPXEHlT6ZNRzjB8XRWNzMWleDYBV5UOiogKx+c5kryYe5F1bGn36tsEL3fLXX5lZcXNvVpiSBc8bS7uw7wjWKF0UERUDI73Ijmxz5GsY8scEzpN/rIhR+kzUYgfao7Gr+ZiLM6uwEtKB0VExeF4L5IXcy+yji19jtoKn3upoZmApW7wFYtGZM/B8GykKx0XEUnHdi+yFXMvso4tfY5s9+qHqXXQ2VxcgzdicELpoIjogdjnSHJi7kXWsaXdyzL3Mla83KsuuvTFu+biGWzcgW+VDoqIHox9jiQv5l5kHcsrkLXtXlqLj1tFa/dyg+8ELFUjN/28i1sLMJY/oIkcDr+2ZDvmXmQdtcVHxqZ2rwo2J/4YzPFFkLgswDQfY1JxR+mgiEgSzjFB8mLuRdaxpd2rwo73egjPtMCj5uIWfP4ftikdFBFJxz5HkhNzL7KOLc8Uqpi5V1U0GoqvzMWrOLQOU5UOiohKiH2OZDvmXmQdW56lXQHnmNDB5Sn8poOrWMxCyhyMyIFB6biIyArscyR5Mfci68g1t2oFuc/xMXxRHU3NxWV4/g4uKR0UEVmLfY4kJ+ZeZB32OUoXhkHhmGQuHsSif7FU6aCIyCbscyTbMfci69jU51iR5pjwQfUnMddcvI2Ly/GC0kERUUmoOLcqyYq5F1lHrnav8j3HhArqCVjiDv/ck4V+DoZnIVXpuIioJDi3KsmLuRdZh88UkqIP3qqHcHNxHd65hiNKB0VEsmC7F9lKq3QA5GBseabQT/+gsgdcnRDgiYTy+/zoWugwANPNxShs2YpZSgdFRLZgnyPJqUxyr35A66K3zgeiS+2lOwI9gM+ArLw1TsDngAvwOnBX8nGaAYOB74GEvDVvA3WBaaUZvF2ypd3rx11KR1/6XOE9EcvUed+sFMTNx5O8WBM5NPY5krzKJPfqDzxb9NbtpZC+tAQGAAA6Aj0BF2AucBEAMAt4AogGlgIDAYmjjpoB04HfLHKvNcABIAMW97FVCLbMMVERjMLP/ggRlwUICzA2BbFKB0VENuL8XiSnMhnv9Rygyvs3HQBQ12LN3lJ4RQ8gBAgBfAEANZE7t2VzoAnwLPAk4A4MsuElzgJPALXyjlxh2NLnWO51wvjWGGYubsdXkfhb6aCISE5sxibb2dN4LxXQHPAGooHL9231BpoDKiAGD5icUgukA3OAQ8BLQBtgEpAMADgB9AOaA5WAwXkri6IGmgFewKHCtjoDycBngCeQabG+GpAJJAENgQDgEhBTcEcd0AxwA44AAhAI3IADzXNuS59j+RaA+sPwrbkYjWN/4C2lgyIiGXCOCZKX3dzn2Ak4DxwDdgKXgC1AYN4mV2ABkADsAnYCF4FdgE8Rx+kIXAKOAHuBi0DzgltfAG4B+4CdwG1gVtHJZxMgCjgO7AauAQ8V3DoSuA4cBHYCt4A5Fq1ffwOfAJuAKGAncA34oeBpiuH9A1wHpgFXgNpKv/nWYLtXobRwfgrLneEuFrORNgfDjdArHRcRyYDjvUhe9pF7hQCbgHigAaAC+gDNgQ2AOCXBe8AIYCSgA9yAl4CHUfgslZWAv4DrQAjgAnwDjLTYOhz4DlgG+AFuwJvAK8DHhR3HDdgAGICGgA54ExhnsbUHsAjYDgQCzsBTwGhgtkWFCUACUBuoBqwAngciAACVgfXAdaA24Ay8C/xP6XfeepZXILZ7mT2KT4PQwlz8DS/G4bzSQRFRaeCFj2xlH32OLwAuwGPADQDA38BkYAnQF1gP3AHeBVYAAIzAd8BUoE5hxxkN+ABjgWsAgC+BLsAjeVvfAo4Dz+d9cb4EwoCXgA+BlILHeQSoCXQGzgIA5gPtgGfytr4OxABjkNuoMQ9oAEwBpuW9bgIwFjACAN4BngCaAzuBcYA3MDyv2mygBfCU0m++ldQW6XoZtHu5ukoaTyexGoDExETZg2yCvl3xsrl4GMv3Y0GpvzVE9kSn00mpJvGrmp2dLWM1ObDPkeRkH+1ebYHTeYmXaBMAoD0A4EtgJlAL6A28CCwEvIpIGtsAt4ALFmu25C24AU2AzQV/sWwEnGHRWmERTzZwsLDjAGgHbEeB3qRNgBpom1c8k5d4AbgNAHDOO53LeYnX/Yd1EGz3uoc3qo7FfHOXRDyuLCnutl4icjzscyR52Ue7lzcQX3BNMgDAAwDQClgINAaygShgb8Gx7fcc554WLPOUEF6A6r7B9eL8Xp6FHScdsJx43dxWogY8HnScLItNltmJD3DPhKIO+IwZzjFhSQX1OCzyRBWxmAPDXIzIuvdTSETlSYW/8JHN7KPdKx4IKLimKgAgAdACfwAuQCfAHWgJvIQif4HcRt4fwTz+eQtJgLGIV4m/7zhxgBfgYrHGL2/BBCRa3AcgCsyLtng3gOoFg69RZm+xbMz3OXKgPYCeeK0hupuL6zHtcoH2UiIqH9jnSHKyj9xrN9AIaGqxRpwjaQ9QAwgClgP78xqiWgHeRTTYbQf8gK4WawbkLWQD/wKP5HX/mV8lBThR2HG0wGCLNQMLRtsL8C54HANw4EGn+RdQyeJQamCsUu94CbHRy1II2g7Ch+biWez4G58pHRQRyY99jiQv++hz/BF4GvgTeBU4A/QDPgLWAzsBJyAeGA5sAGKBNsCXQFZhHYUAVgBTgCXAi0AU8CzQzWLre8AW4E9gOpAOvAT0Al4q2EUo2gZsB34AdMBBYCTwhMXWGUBf4G/gTSAeGAuMAT7MG9pVjN+B54ElwJdADPAE0AqAIzVgF5hgwsp9XXR4oxcApGXjZjKWH1b6ZGzjAs+JWKZB7vjiNMTPx2hB6nMSiMhRsd2LbFfmuVcycPW+qUTjgYeA74CVgBZIzruZEYAeeByYm9eqdAp4EegMPAxoCg7JAmAAegCzgZWAGjgA/A+YnPfgoB1AP2AmsB8AcBEYCywsLEgBeAT4DpgD6IBTwEvAW3lhnwC6AV8CuwAA14GXgO/y9r1ZMAkzAVfzBoSZgP7ANGAYoAE2ApuBmXCgSaAKTKxqZZrh4Yzpec2Qd1IdPvcagR8r583MJkBYiPHJuKl0UERUKlR8phDJqsxzr2+AbwpbfxnoBwQCwcCxgsnZLqA2UBVIzxtKv7bo48cDjwNOgDuQBAAWM40Dm4HNQENADUQWG2caMA6YCPjmDQj7xWLrfqA94A44WwzDF/UuWMwEQvOW6wDewP+A1/LWTANMQFxZ/yeUmC3tXjpN/rLRwZuH2mNMO4wyF3fh+1NYr3RQRFR62OdIcrKP8V5mbwEHgbqFbboFK+4e0+clXoX6I28OiwfKKWwkvln6fYlX8doBRyySs6rAeGAPkCHLe1cWbHmgkGXuZcixbl+7UgV1huN7c/E6Tq5yxElyiahE2OdItrOP8V5mh4AFD3rMou3+AJyUOLvVwCTgL+AgoAfaAnHA00pEUlK2PFBIa5HnO27upYXTRCx3yRtvqEfGHAw3oswmeCQiBbDPkeRlZ7nXUmBp6b+KUg84zgK6AL2B1gCAH4H1hY30t2NytXs5bp/jIHwUnPv/BwAr8cot/Kd0UERU2tjnSHKys9yr3MsBNgAblA6jpGyZY6Ic9Dk2Qs8eeNVcPIZVe/Cr0kERUalTcX4vkpWdjfcqM1OAKOAviwnASAKb+hwdPPfyRJVxWKjK+8ok4Npih3sYJxHZjLkX2a6itnvNAn4AfgEWAz5KB+M4pPQ5FvVIXVdnwfycyxyTauTIEVJecfLkyVKq1a5dW+IpdOrUSUq1qKioAicO1Vgs8Mp7oIEJOXMxMqPURyaWEW9vbynVWrRoIaUagF27dil9TiQPrVbq34iIiAgp1SZNmiSlWps2baRUmzJlisTw1q1bJ6VaRkbhtz451tyqHh4eUqo1aNBASrULFy5IqXb37l2lz9uR2EfuVQXoAxiBPUB0Wb3ok4AWCFf63B2KLe1eDt3n2A2Tm6CPubgBH1zCPqWDIiJFsN2LbGUffY4qIAToDlwAOsh0zF7ATqA6AGAosDPvydyiGsBjgL+sc2vVVOj2SUvOQFDBNUHAVuDvvIdX2sbyp5+1470c9z7Hmmg5GB+bixfwzwaLRwkRUQXgSO1eZP/sI/eKAz7Je9y1jXfAdQJ2AjuBr4FwYDXQAwgCwi3a+JyAlYA3oAHWFHzCY4n1AaIANwXfRMAfOANYNvybz1QHrJYhNVRbfF5safdyoPscneExEcu1eZ+SdCTOxSg+O4ioQuFYe5KXfeReAHSAGggA/rXtONHAAmABsBcAsAa4BMwCVBbThj0MnAPGAU8BZws+87HEGgHuSr13efyAOgXXPAycBcYCTwHnZDhTW9q9HLTP8Ql8F4B65uJiTExCjNJBEVEZ4/xeJKcyHO+lBroBzQA98BdwBQDgBbQETgGJwCsAgCCgNrDH4lmNnYDmgC9wDthW7IT1AUAvwBPYBAjAROAP4HLeMffmDfXeCtwBugI64Ne8xzuKxLRMAAYCbsA2IBLQAX2A5sBRYFNhLXN1kftkv07ABeA80Am4BgQADwO7gaMAAF+gN1APOAtssTiRkLyksyvQGogDNhScT98VGAiEAieAzUAnIPq+gXG+QFsAQAOgQ97jL7cBeqAr4A38hQIjlB4CzgMCMADwALYBZwAd0BtoDhwHNhZyprbMMaEt0O7lGA34bTC8I8aai//gp+P4Q+mgiEhJbPci25VV7lUD2Ag0Ao4BNYFZwLPAPKAJsBPoa/GQnyeAmYA3kAL4AuuBDsA5IBtoCqQAEcDJwl7iUWAJkA1cBj4FdltsGgp8AfgCyYAG+AUYD/wHZAGzgDXACOTOTL4NWAQMyXv1L4DhwKtAQ0APVAHmAhPve+lRwDAAwI/AYuBdYD2wCRgCOAP/AA8D/YClgAY4B/wPMABPAJsBAOOB0cBhYCBwC6gJ3AW65D1xshGwBfAHooB3gT1AZ+BD4LOCMTQGPgUAPAV0A9oBVYBNQDPgPGAAmgLxQBfgPABgC7AMeDTvTD8HRgAvA43zznQBMO7eE7Wlz1Grzt/B6AjtXpUQOhKzzcWbiFxpMbkXEVUcjnWfI9m/supznANUA1oCbYEgYB3wo4TR328BbYB2QCOgBdAccANeKqxmILAA2A5UA1oBnYB2RRzzVWAcMApoBLQEIoD+wDSLCk8Cw4GaQCiQCKwA9gOVgEBgBTAO8L/vmNOQOxQ7DHg3b+Vw4AWgDvA8EAT8DhwBagCtgRrACWCVxbj4EMANqAqEAh0AD+B1AIAKWApkAvWAVkAw4FfwpgGzvUBXAMCUvHN/H6gPNAcaA82B9oA/8LzFLmOAkUBNIASIB34DDuWd6XLgSaDyvS9Scfoc1dBOwDJX5E6+YEDmr3jCgEyl4yIiBXC8F8mrTHKvQKAH8DVwCgBgAN4EPgB0D9pxMzAGOJJXPAOcLyJjGwJ4AlOQ+8fxCPBDEcd8Hths8eSiXcBK4BmLtGJLXiNcPLAX0APvADmAAPwFqPPunXygQ8Ac4BIQCYwBXIGnAHEClGTgGcADFt1ZwFt5vZCHgONALQBAG6A58B5yhxglAC9KftvXAU/mNZ4BOAzEFHz3tufNsJ8A7AEMFme6HlAVcqYF5piQHIjobKxqxkbNjI2a73aqd5639x+RA/FBLbQ3F1fhtZs4o3RQRGQPmHuRrcqkz7ERoLZIoQBcymsoqlHsjtsBL2AwUA+oC7QCmgI3C6vZBEjL600THSysmg8QAqQD8wuG5wfUyMtvLllsygBuI/9ByWJiJzFfjbRYbgrcyhviJjoP3AGaWqy5aLGcgtyHNTcDUPCtO2KeoPRB/gZ8gSFAvbxms5D7/hcszzQe+c064oLm3kMWmFvVylv9ztxUnbmZv//QodbtXpaC0tv1xhvm4kms24UflQ6KiBRk7z8XybGUSbuX2EdWzEOjLT/VlhH1Aq4BvwFDATXwQ8H0xZKLRYYkSi+smmthkZwCFgCGvOI9W0s8mYBl95RLYaefVXDSB8uMyvyzSgzYsofOJDmkwcA1YAkwBDACXwKx9wVg5Zna0u7lKFxzfHve+NT87KAkXF+I8UoHRURKYp8jyatM2r1uASjYxOUKTAVW5v29t+x89MtbUAHzgRggAkjIW/leET8/ogFfwDuvUw9F9AwmANnAYeA5i5U+gBpILM134DrQG3C2SBDdgEDgxoN2FJum6gOX89aESpumywmYC0QBvS0m1/jS1h9vUp4p5Oh63PzQw1gl9xyRMw+j0kv3w0FEjqWcXvuoDJVJu9cJIBYYbbFmEPAW4JeX8TTJW+8M9M9bFseeH7JIvDoBQUWMEvsTUFvcgagCniysmh7YDgy1GPakA7YDkYX0r1nn/iTS0kbAGZhgseZpQAf8/aDD7gDigNcskuS3iq4sNo+JmZk/4AscsEi8egO+tibbtjxTyCGEJY4MTQ03F//GJ+cL3DFLRBUT+xxJTmXS7mUAJgNLgfXAH0AwMBnYCOwAAEQC7wI+efmZ+ROeDuwDRgDngbNAK+AF4IZFw5ilo8BPwGdANeA08HjeSKn7vQ7sA/YD3wKpwCigBTC6YL9eCYhte8uB34Gf79u6CVgLfAPUBU4ArYDngRXA+gcdNgt4GlgDnAAOAQ3ymg8LzXvuAEbgdaAN8AxwChgPXAcuAO2BZ4DYwm7StEb5bveqlFWvc1z+o3kvYf96vK90UESkPPY5krzKan6v34DbwOvAVCAN+Ar4JG9TX+BD4DEgE1gAHATezxv89BjwKfAMAOAgEAG0AkYCXkDKfS/xPBAJjAMeBXYAI4G3APGZ9DHArrxjRgKtgbeB5wAdcB7okzfPFoDdBUeg/1fwHYoHdgFphZ3gGuAHoCPQCACwF7B89LsAPA68BIwAHgGuA5OAX/O2XgV2FRxuddJilvw/gTbAeCAA2AL8DpxB4XMdpAJPAU8BzQBPoD/wKTAJMAF7gc5AV2BA3uCzfwqe6dm8sWWWZ5pa4PC1a9cO8TOYJ3XVaHW1a9e8P4pp06ZBghEjRkj/+DzQ7NmzJdbU6/WFrtcJrr2vf6EVcp8dlIHkuRhpknpfQ1mrXbu2lGrvvPOOlGoPP/ywlGrBwcESw9Nqy3DSZipNNWrUkFhzyJAhUqp1795dSjVnZ0nPeouIiJBSDcDp06elVIuKiip8g8X1WaVWKfVQsZCQECnV/ve//0mp1q2bpEedhIaGSqkWGBgo8SySkpIk1izHyvASuSOvoese0cCYgmvM36bYgrMwADhV8BZFSwLwPfC9xZoteQsrgZUW6y+iyMHT91wWPi5Y3F3waYmW9MALFsWB91UQR7uvBOrkzeNvNg+YV7Cy+YvjC4wD1llMLfEQAOBaEWEsABbkLacCIwtu/c9i6o2eBTd9WrC4t/AzLcd9jhF33vHX5yc0S/FMAq4qHRQR2QXOrUryspvnOVYQjwM7i5739X5ZwHTgO8AXAFAd+AyIA3YqdQKCxVL5uRjVS+sdljLMXDzt9fuRAtk6EVVwfJ4jyYm5V9k6CEwvOJVX8TKBiUAnIBGIB64DVYBB9/YGlply2e7lZazW6/aH5mKi0+XtlWYoHRQR2SmO9yLbcVhG2TqQ95Rr6VYCfwEdgErAVeCQkj+6bHmmkH1SQ9MvdpaLKffZQTkq/fqAVwxqPjuIiPKxz5HkxdzLEWQA25WOAYBtz9K2Tx0SX6iR1dpc3O0/87bzf0oHRUT2hn2OJCfmXmSFgpcf634IVs856W+6DCBb5Rmraaz0qQBAjcw27RPzp9m97L7rmM8ipYMiIrvDOSZIXsy9yAoqi4uOtX2ONUzH6xlz73T9VzVO6VOBi8m7f9wsdd6kuunaO5uqvMGrKhEVj1cJsh3H2pMVbOlzVFtMX2uy9TECMugV97GnMff5BgJMG6q8lqHhs4OIqBAc70XyYu5FVrBlrH2B3EtQ+IMXdnd4vfT8Kc4O+8655rZf2ZCIyI5xvBfJibkXWaHAHBNW7qsS7KXdq5K+btf4t83FWJdTe/y+UjAeInIg7HMk2zH3IqtYzK0qWNcIb9nuJagUy720gvOA2K+1gotY1KvT/gx4xaSy02cHEZE9YJ8jyYu5F1nBlnYvOxnvFR7/ViV9PXNxa+Vpd3UxSgVDRA6CfY4kJ97nWNFVrVpVYs1du3Y5JR3BgcFisXGTprt2rbm/mk6nK3R3n4OLEJe73Lxlm6+//lrKi3788cdSqiUmShomH4ZBz2OtuXgQi/6M+9IcVQm4ublJqfbmm29KqVanTh2Jrzts2DAp1XJycqRU+/bbb6VUu3TpkpRq5BDUakk/vD08PCQesG/fvlKqxcVJ+r4tXLhQSrVvvvlGYnjJyclWvkNFyjHlqFSSmsEqV64spdrLL78s8aUbNmwopdrAgQOlVEtNlfSAlK++kjQkQ+KLQvJ/bvnGdi+ygsqGPkfL8V6CSoGk3xc1nsRcc/E2LizDpLIPg4gcDvscSV7Mvcgagil/Wdovv3wmQ/6yuqxzLxXU47HYHf5i0Qj9HIzIRloZh0FEjohzq5K8mHuRVSwuOiorPzwFci+ddfvarA/erodwc3Ed3rmGI2UcAxGVC8y9yFbMvcgalu1eVjbCq6BYn2NtdByAaeZiJDZvxayyDICIHBz7HElOzL3IKjK1e5Vh7uUK7wlYqs67rSQFcQvwJHsNiEg69jmSvJh7kTVsafcS8ufQKst2r1H4xR8hua8LYQHGpthyZyMRVXTMvchWzL3ICgWnuLF2rL3F/KVlNd6rEya0xlBzcTu+isTfZfPSRFSOsM+R5MTci6wiV7tXWcytGogGw5A//c81HP0Db5XB6xJROcM+R5IX51YlaxSYY8K6xD0jdJxKnwxAk31bcPIp7Ui1cJ6I5c5wF4vZSJuLEUboy+69IqLyiLkX2Y65F1lDsBxrb127V0atiWUZ6aP4LAjNzcXleCEO58syACIqN1R8phDJin2OZBXLPkf7/fA0Rb+ueMlcPIzlB8CnWBBRiXG8F8nJfv98kj2yaPeyeqx9WfFG1Scx3/w7NR6Xl+BZpYMiIgfG8V4kL/Y5VnTjx4+XWLNq1aoqvY+56OLqWuhzuD/44AMpR5NYzVoqqMdhkSdyH2GbA8McjMhCirlCUFCQlONERERIqfbKK69IqdasWTNJwUvuxt21a5eUauvWrZNSTeKztKk8MZlMUqqlpUl97taWLVukVOvSpYuUahIf3C7jE7JFzs7Oha5X6fMfZuvkpGvaoKmUo0l8vPTjjz8uMbxatWpJqZaUlCSl2rZt26RUO3jwoJRqa9eulXgWBLZ7kZUsf/DZ44enJ/7XEN3NxfWYdgX/Kh0UETk6O23mJwdlj38+yX7Z8izt0heCtoMww1w8i+1/4zOlgyIih8c+R5IXcy+yhg1zTEikQQmnXXWB10QsM++ehvj5GCNAUscKEZFEzL3IdhzvRVaxvOjI2e7VCD374t266AIgBifmYXQj9AhD7miJ6zi1Ai8Xf4QR+LEyaudFKSzEuGTcVPrtIqLyQMU+R5IVcy+yRum0e3XDy0PxtbicijtBaP4UfruDi/UQLq6MxObij9AeY9phpLm4E9+dwl9Kv1lEVG5wfi+SE/scySqWc6vK8+Gph/DH8aW4fBkH/4fAPfilGhqHor25zjGsLuYIVVB3OL43F6/j5Gq8rvQbRUTlE/scyXbMvcgaQsmf51iUx/CFKu9zeBxrBJgOYBEALwSIK6/j5G1cKGp3LZwmYpkLPMWiHhlzMNyIbKXfKSIqP9jnSPJinyNZpYTtXk4qfUePA+JyYo7/qYwm4nIgGgSjlbnaHVwEEIdzlvsW3+g1CB8Fo7W5uAIv38J/Sr9LRFTOsM+R5MTci6xR0nYvF3VWhNducTklx8uce9VAgUlHM3EXQAYKTAx4DKuKOmxj9OqBV83Fo/h9L+Yo/R4RUXnGPkeyHfscyRolHWuvtpjrIUfI31ELF8tqOTACEGAyX91uIaqodiwvBIzFAnN/ZQKuLcHTSr9BRFQOsc+R5MXci6xSwjkmNKr83Mtk8alLQSwKHFEFwAnu5ivd0SIavVRQjcUCLwTmHdM4FyMzkKz0+0NE5RDnViV5MfciawglHO+lRo552QSNefkqDuXAYC46wwOAH2pavqQamjdx8EVssDxgN0xujN7m4l/44BL2Kf3uEFFFwNyLbMXxXhVd9+7dragt4ZlCbdq0uX+ll/EqbucuO7t6tGnTRnxmbQ4yTxjWtDINEzdV1zY6r9nWIOdhGCFAuKO60Fd4p6X60Wqmpsc1q1ydXMVqQaYWg7M/MR/8knpvzy8r91R9I+UMxowZI6Wap6enjG+yxEfbSn+++OzZs6VUMxqNMp4FVUBXr16VWHPTpk1Sqkl8lvb06dOlVPPw8JAY3vz5820Jz2mPs/nm6Xbt2r0wdZyUo3Xo0EFKNVdXV4lnkZmZKaWaxKdf//TTT1Kq7dmzR2J4JB3bvcgqlmPtrfjwqIT8JECwaPcCsE77djoSxeVOOU81MvXunvMagGPq36PUW9TQVjM1BXBB/Y9Yxxkeo/ULtHASixmqpMVO46DiL1EiKi3scyR5Mfcia8jd5wggWXVjtlP/BNVVAFWEus8a1lYSal1XnVyle+WUep1YJ1V1+5h2pbj8qH5WFaGuefflumeTVTeUfl+IqOJg7kW2Yp8jWUNCn2OhVEJ+7iWo7v3URauOfeQU1sw0oIapuSeqXFEdPKxZZkDWRfWepU4Tg01t92p/zkIKgJY5Q9vljDbvuE/762nNeqXfFCIq93ifI8mJuRdZxfIHX0n7HFWa+ysYkX1MveqY+t67Gg9rlh3WLBOX/YXQoYZvzZti1f+t1b2h9BtCROUf+xxJXuxzJGuUtN2rmD5HyUfQjtEvcBG8xKIBmQt0ow3IUvodIaIKoISz6xAVjrkXWaWE472K73OUoo9harAp/w7Ktbo3Y9VRSr8bRFQBsd2LbMXci6xR0mcKFWz3svpTV88U3t04xVw8rVm/T/ur0u8FEVUcbOwiOTH3ImuU9JlCBcd7Wdfu5S74j9TPNT87KFl1Y7nuWaXfCCKqQDjei+TF3IusIv8cEw80wvCLt1A1b9+cJU7jM1SSpiolIioFzL3IVsy9yBol7XNUoYTjvboYn2uc08dc3KqdeVHNSZaJqIyxz5HkxDkmyColbPdK0Qaf9xwhHiFTU1niXtWFZgMNH5mLV9QHNus+VvodIKKKh/c5kqyYe5E1StrulaKrlaKrZdVLOcHtScMiHVzEYqbq7mKncSaL9jMiorLH8V5kO/Y5kjVK+kyhEhhinBUoNDAXV+gmJaqilT5/IqqIVGzsIlmpBEHOFF5lzXybZA+6desmsebKlStdz33tenqGWMys/0pm06n3V/P29pZytAMHDhSzNWVXpetT8xOvSo/EB797rZj6LVq0kHgWEj/w165dk1Ltl19+kVJt9uzZUqqlpKRIPIsKRd5rVDF4+SoDDRo0kFLtgw8+kFKtf//+El/3+vXrUqolJiYWuv5Mz1Y5KbndRE22HK0TFiTlaP7+/lKqJSQkSDyLjRs3Sqn2008/Sal27NgxKdUMBoPE8Oh+RV2+2O5F1ijpHBNWMcQ63/ysjrnoEpIV9FqM0mdORASA471IBhzvRYXzc9H3r33Dco1r1Eztnf3mojb+oGvUzEL2bDgKPg1L/sIm1Y0P6pvScj+Zaich9OPLahdTyQ9IRGQjDvEiWTH3osLdzdYNqhPj7WzR2hz1mWUFXfx+Xfz+e/YSNC6mlq/Z8rq35wdlnPYyF6u/dN2tXqbSbwYRVXCWjV1MxMhW7HOkwuUIqn03pE4GYWaoPgDOviV+0YyT3vGL8gdSeHRMrPLEbaXfCSIiC+xzJJsx96Ii/XM9wNpdskNHlfjlclK019+vB1PuhU1bSV/9rQtKvwdERGzqIpkx96IiHY/zvZutk17f5BFqqNypxC9387O6xjvO4rJKjervntf48P4aIrIDnFuVZMXci4pkbbdjdsjIEl+WktZWTf0n/35s/xHX3VslK/0GEBHdi1ORkO2Ye1FxrOh2VGuzQ4aX7FWyr7jFfR9qLro2Sq08QdL0WkREZUBguxfJivc5UnHEbscCdzsWwRDQzeQSWNRWVfRfiD8GAGqdEPoYvOuaNwl69Y3pDUzZuT8DNO451aedU2k5vIKI7AYvSCQr5l5UHLHbsW+tmw+smR06upitqqt/qC4sFJdN7tUEi9wr9rvQrMtu5mLglItO1bKUPm8iIkucY4LkxD5HegAp3Y4mlyr6wB7F1RCM+cvq/PH7qXv8k9ZWNRd9+tz27nFH6TMmIioa+xzJZsy96AGk3O2oDxkOdbFtqCaLXktVbk3jHeebn+Y3gDnVyAycfEnp0yUiug+bukhW7HOs6LZv3/7AOr9XxcTOxWxXncxqlXHypFh46KGHCqlimXupdQDat+uwsbs6JyX3J6TaCX3XOPu3bFva57tu3Top1V555RUp1WJi+KBJIiucPXtWSrWhQ4dKqfbdd99JfN2RI0dKqVarVq1C10eq1ObnmrVs1VLrKud7EhkZKbHm3LlzpVQ7fvy4lGp8SLaC2O5FD/b70eK2Jrs2zdDVeMAh7su9Tnysiv0nv+2+9Ycm/5b8aUlE9o5zTJDtmHvRg+04i/i0Irfe8ur74EOYCoz3un1AdeLD/M9e9Z5C08lMvIjITgm8PpGs2OdID2Y0Ye2JwrsdjWr32x4PF7VjdHT0tsPbjp45mnHb3ZgyXOuZ4eGe3kZz2Ph5K8GYO4TfNQAPzzdx+CoR2aEr0Vf+OPzHseHnTKYsjd4kaHVRM307hXXq1L5TQIDVT10jEjH3Ikl+P1p47hXn2c2kdi5kfVzc9799f/HyxXNdzt0cdTOjUkaGX4ZbgptHnMe/RxJrd/rPp26zZltfcDZ4PTzf5MorGBHZmei46E9/+/TO5TuXuly6+eY9F7F//5zxZ/uW7Uc8NsLLy0vpSMnxMPciSXachUHjrcu5e8/6W96FdDgeP3X8q5+/Ot7/+LkXz5l05iGqyPDPyPDPuN3o9unHTjf543yK/9nhPtOr9wxW+uSIiApYf3r90p+WRvaPLOoidvSxo1f/uHpq2qk3J79Zs2ZNpeMlB8PciyQxmhDv0bnq3Q2WK9Oc66Q617un5rGTx2bNmbX9te3xdeKLOprBzXB85PH4evGque80if4wpGaI0udHRJTr91O/r/x15Z7X9hR/Eds7cu/NejcNnxmmvjGV6RdZhWPtSar7x3Xd3+iVkpLyza/fbH+1uMTLLKZNzL4J+97/6v2UlBSlT46ICADOxJ1Z9cuqPa/ukXIRu9zm8oEJB2Z+NZMXMbIKcy+SKsm1hUHjbS6a1M6xHt3uqbP96Pbj/Y5LuWaJYtrERLaL/HXVr0qfHBERAMxcMTOqX5T0i9jZNmfj2sWtWrVK6cDJkTD3IqkElSbeI3+8/R33LkaNp2WFhISE2MTYs70kzZ1odnrw6RPHTsTFxSl9fkRU0e2J3pN+Jf1cr3NW7fXX4L8OHjvIixhJx9yLrGDZ7Xh/h+O5a+cudL5gOS5VCoOb4VKHS3v/3av0yRFRRbfm8JqrHa+W4CImdBD+/fdfpcMnh8Hci6xg7nbM1FVLcg27Z+ulW5dutLhRgsNea31t/8n9Sp8cEVV0N8/cvNniZgl2PNP6zIkTJ5QOnxwGcy+ygrnb8ZZXH9w3Hao+VZ9WJa0Eh00JTLkbf7cEOxIRyUiVoCrZRexy4OWEhASlwyeHwTkmHI+bm5uUagMGDJBS7Z133pH4uo0bNwaguqHH5s0hvaaHuFW7p8KcBXOyPbNLcEbZXtmGVIOqsMek/fPPP1KO8OKLL0p8rTNnzpQgQiKShcTLV69evaRUa9++vcTX9fDwkFJNm6Yt2UUsySspNTX1novYvn37pOz7+uuvS3yVY8eOSalmMlnXZ0plj+1eZB2haoRQeyTuS7wA6Dx0zqnO1h8SzqnOTh5OSp8ZEVV0Rg9jyS5iVVKrSEzviMDci6ym1godvi50i7e/t8ftklx9PG57ePt7l2BHIiIZqfxVJbuI1b1d19/fX+nwyWEw9yLrORX+/LL2TdqHHA8pwfHqHK/TvonUvgMiolJSq2mtaserlWDHZsebNWnSROnwyWEw9yLZtG/Tvt7+emqDdR8qtUFde3/ttm3aKh0+EVV0Q1sPDd0fau1FzMnglLM/p02bNkqHTw6DuRfJJjg4uGFIwyabrfvxF7Y5rHFI4+BgPlGbiBTWPLh55dDK9TfXt2qvEX+PqBtSlxcxko65F8lp/PDxzVa3qHSxksT6lS9WDtsQ9uTwJ5UOnIgIAN554p2mG5pKv4i1utjKaaPT8OHDlQ6cHAlzL5KT8WRg4y2vdH+/j5QrV+WLlft82eelp18KCAhQOnAiIgAICgh6+umnw78Ml3IRa3KxScsvWz779LO8iJFVOL8XySYzDrvGqvzimodtn6LKUUc9evr0oBOFPp1DbVC33NyyyV9NXn725WbNmikdOBFRvoiwCNenXbVfaE/2P3mu17miLmL9/+4fsCHg+Wef50WMrMXci2QiYNdYVWYcAPjdCuuw8bMGtRc03dXoWpdr/7X4L6NSRoZfhluim1u8W6PjjYL3BDep1WT0tNH8sUhEdqh9s/ah00K/X/79pb8vXehyIbpFtPki5hXv1fZ428p7Kjeq1Wj4tOG8iFEJMPcieZz+SnVjS/6czh1frdLi3f9du3bt8OHDh5YcSk5MzkjMcPNz8/XzbdOkTZspbTgulYjsWUBAwIxXZly7dm3fwf3b3j5i0KUIqkxNjnvN+lXCmoTxIka2YO5FMog/isPv5CdeVR9G87cFAMHBwcHBwY8N7K46823uNreqQoPHlI6XiEiS4ODgGoHBGSNGikWNM8Zl8Ik9ZCvmXmQrQxp2jlSb9LlFZz+ELzKpLO/iyEpQHXs/d9mrttDgKaVDJiKSTLBYVpX4KET5mHvZEfFh1Q80ffp0KdUGDx4spVqhT7AulCAIha7f/6L67oX8YpdfTW7VC9bN0ecvq3VFHadQEh99zSdkEylLq5X010TisPTx48dLqdaiRQt5z6LQq5PlOpUK0q9gTZs2lVJt4MCBEg945MgRec+XlMI5Jsgml5arLizKz94aPisED7r3wqQScszLgorpPhE5Emt+LRJJwtyLSi7lMvZPyv8I+TYW2n1R2EgIkyF/Wc3ci4gcCvscSW7MvaiETAbsGqXWp+QWta7oulzQuBRR1UytUzpwIqKSYu5FcmDuRSV0bLr6zqH861Dbz00+jYpomheM+cvMvYjIsbDPkeTG3ItK4uYO1anP8xOv4EeEhs8WfX2ybPfieC8icij3jLUnsh1zL7Ja1h3sHqsW8kZ2uddAl1+KnfCGfY5EVD4w9yI5MPciq/0zUZ1xM3dZpUH4YpOzX7E7mNjnSEQOi+1eJDfmXmSdyO9UMRvyLz/N3xYCuzxoNATvcyQih8U5Jkh2zL3IComnVIffzP/MBHQUWrwr4fEa7HMkIsfFOSZIbsy9SCpjBnaOUOdk5xadfBC+2KTSSNiTuRcRlQ/MvUgOzL1IqoOT1cln84udfzZ5BEvbk3NMEJHjYp8jyY25F0lyZZXq3Nz8X3z1JwihQyRfkDjHBBE5LM4xQbLjH8JS17p1a4k1N27cKKWan5+flGoSnTt37oF1sm/qjk4MBXL7FzO8b85Ne/fXJ/WFVr7/8bFhzod6u+Uunzrz39+HvgDw2muvSQmvTZs2Mp4sEZUSNzc3KdXCwsKkVOvcubO84aWnp0up9s8//9y/0pSmA3qJywajYdOmzX/99ZeUo0VEREipNmnSJIln4enpKaXa5MmTbX7DqHQx96IHEHJw7vXqOam5iZdJY/iv0/cmrV76EeKM1fZmdheXb+dUVfqEiIiswT5HkhtzL3qA6B8r3z3mai5ebrE83TfaqiPE5tSIzamh9HkQEZWMZUcjEzGSAcd7UXHuHnaL+aWSuZhQ/fjN+luUDoqISCEc70VyYO5FRTLe1Zx9vZqQk1vMdk063+EXpYMiIipbbOoiuTH3oiKdf7eqPi53SgiVGuc6zjY4pyodFBFR2eLcqiQ35l5UuFu/+SZsz7+npsbEhOTAKKWDIiJSFhvBSAbMvagQ6Recr8wMMBc9m2UGv3hH6aCIiBTBxi6SGXMvupcpW3V2SvWcrNzLjdbTVP/zGyoNf+0RUYXEPkeSG3MvutflzwIyLjqbi7Xfu+UaZLDheERE5QTntSdZMPeiAhK2e976zddcDBh8t0q/FKWDIiJSjMBGf5Ibcy/Kp4/TnX83f9551xB97XdilQ6KiEhR7HMkuTH3olyCCWf/V814N/fZQSqd0ODzGxo3k9JxEREpSWWRcAm8z5HkwGcKUa6YnyvdPZL/NNyQybc9GmfJcuR6TpGV1bfE5fOGJndyApU+VyKikuB4L5IFc6+Sc3Nzk1Ltl1+kzgXv5+cnpVpycrKUakuXLpVS7eWXXwZQG51ewy5zK2gk/n52Zl9hZkl+4U2bNu2eNXVcjjd1PSMux2V5R2d6Sz9a69atSxADEZWxjIwMKdWMRqOUaqmpkqZx1mql/gk7efKklGpz5sy5f6VLln9XdBeX09PT58yZs27dOhlf1Ntb6iXxxRdflFJNr9dLqfbGG29IfF2SHfscCW7wmYCl6rxEPAWxCzBWxqZ1jSq/4zJH4EeOiBwKx3uR3PiHkDAKv/gjWFwWYFqAsSmIk/H4auSYl03QKH26REQlxvFeJAPmXhVdZ0xshcfNxa34MhKb5X0JNdjuRUSOi41dJDP+IazQ1HF+w/CNuXgNR9bhHdlfxbLP0cSPHBE5FN7nSLLjWPsKzKjRLeytQu4dA1lInYMRRkgapGkV9jkSUTnBJjCSAxshKi7dn51VNyqZi8vxwm1cKI0XYp8jETkwNnWR3PiHsILSRIZq/gkzF//F0oNYVFqvxT5HInJglo1dTMRIBvxDWBGp7rprl3Y3X0Pu4NIyPF96L8c+RyIqHzjei2TB3KviEVS6JT1V6a5iKQeGORiRhVJ8YLaa83sRkcNScZAXyY1/CCsc7bZW6vNB5uI6TL2KQ6X6igX6HJl7EZFDESyauvhMIZIF/xBWLOprgdpN7c1FU/2YLfi81F+UfY5EVC6wz5FkwdyrIsly0i3shZzc/3TBI9MwaotgcRNiKeF9jkTkuNjnSLLj/F4lJ/Fh1c2aNZP3dSU+n1V8SLaliVjWBrkPbRUg/JD2+OmpGyZNmiTxdQcOHCilWlhY2D1rvDb/gqxkcXnUmLE5LlWln+zUqVPlffeIqDRIfEi2q6tr2R8NgK+vr5RqWVlZ96/UZufPemgSTFlZWREREVKONmLECCnVgoODJZ5FZmamlGqhoaFSqjVp0kRKtTNnzkgMj6RjI0RF0QFPtsFwc3EHvj2NDWXz0ioh/zIqqJjuE5HjYp8jyYB/CCuEANQbju/NxRicWIM3yuzVM+o8C2PuzzVB66H0m0FEZBX2OZLMmHuVf1o4TcAyZ+QmPdlIn4PhRmSXWQDpdaR2axIR2R3Lpi6mYSQH9jmWf4PxSTBamYsr8HIsziodFBGRI2KfI8mAuVc51xi9u2GyuXgEK/dhrtJBERE5kPzGLs4xQbJg7lWeeSFgLBaYb5BOwNUleFrpoIiIHAnnmCDZMfcqt1RQjcVCLwSIRROMczEyE3eVjouIyJGo2O5FcmPuVW71wJTG6GUursf7l7Bf6aCIiBwYnylEsmDuVT5lnfMchI/MxfPYtQkfKx0UEZHjEdjURXJj7lUOmTI1cR811sJJLKYjYR5Gl8Gzg4iIyh/2OZLsmHuVQ/Hf1jfccDMXF2JCEq4rHRQRUTnA3ItkwNyrvEnbHpiyJdBc3IUfT2Kd0kERETkuDvIimakEWbuyVRVpIKLJJKkXT953uHgpl7G2lVqfklv0a4JB/5o0LsXtolZLzb8lnm9OTo6UakuWLJFSbfz48aX1ZpGDKLNvUIW6fNm5gwcPSqnWpk2bMggm8TTWNM+9Tvo1xaMnpI7fkPiJkv4Jl3h13bRpk5RqL7/8spRqV69eteLNooKK+s/lM4XKD5MBu0bmJ15aV0Qse0DiVRayEtT//Zi77OJvavi80gEREZUU83OSA3Ov8uPoe6rbh/KL7WYJvo2VjglQZd3WnJghLgs+jZh7EZGD4RAvkhvHe5UTN7erTn2R/4ss+BGh4TP2ccEwGfKX1cz1icjBWPYasV+aZMHcqzzIuoNdT6qEvEEIHkF4aI59JF64J/fSKR0NEZENmHuRHJh7OT4Bu8erMm7lllQaPLzI5OyrdFT54Rnzl5l7EZHDsZtfslRuMPdyeJHfqWI25v8Wa/62UPUhpWOyZNnupWKfIxE5GPY5kuyYezm2hBM49Gb+xSCwM1pOtbPfaOxzJKJyg7kXyYG5lwMzpmPnSHVOdm7R2Rfhi00qjdJh3cPEPkcicmR29nuWygHmXg7swCuq5LP5xc4/Cx41lY7pfrzPkYgcmmXuxXYvkgNzL0d15XfVuXn5l4H6E4XQIfb460xlMdZe4HgvInI0HO9FsmPu5ZBSr2LPs/nXAJ+G6PCVPSZeAMd7EVE5wtyL5MDcy/GYjNg1Wq1Pzi1qXNB1mUnrpnRYxYRrxtyLiByOvf6wJcfFPqCS27x5s5RqPXr0kPd1j3+gjtufX2zzqcm3ackfN5ycnCzv+f7888+WxZ4hsW+2z13etmPXpx/3Epd37twp79tCROVG+/btpVT7448/JB6wb9++UqppNIXcrCQIqgIlyVdbiTVTU1MlHnDr1q1Sqs2ZM0dKtejoaImvS7Jju5eDif1HdeLT/AtBzf5C4xfs+keZRp0fntHE9noicmS8hpEcmHs5kuxE7BqjFnJyi27V0GWOyaYjlj6tRe6VI/DzRkSOxq5/3pJD4t9CR7Jnojr9eu6ySo3whSaXSkrH9CAaVX52mMN2LyJyOJxjguTG8V4O47/Zqmt/5n/vm70uVI1wgJ9j55O8Fp4JFZejEryUDoeIqOQ4xwTJgrmXY0iKVB16Pb+RsnI7oeV0e+9tFEXFe0XFM+UiIkdV4juZiIrCPkcHYMzEjuEqY2Zu0ckbEUtMnCKeiKgssM+R5MbcywEcek2dHJX/je/4g8kzVOmYiIgqHvY5kiyYe9m7a2tV//2c/3Wv+6RQ+wm2gBMRlRH2OZLsmHvZtbQY7Hk6///Iux46fOMYw7yIiMoJ9jmS3Jh72S/BhN1j1NmJuUWNMyKWmnQeSodFRFRhMfciOTD3sl8nPlLF7sn/orf60OTfgm3fRERli9ddkhtzLzsVt191/MP8/50avYWmr/ACQERU1izHe3GsPclCVfKHMBd6uIr0wdRqJU3z4OPjY+2RXQXvSUk7fU1BYjFNfftbn4fT1fGlcRY5OTkSayYlJZVGAETFk/caVYwKdfmqaJycnKRU8/IqZDLCUEPHiXfXictXdPvneA9S6iz0er2UaikpKUpFSPco6vLFdi97NDjtK3PiJcC0yvOFUkq8iIjIGux/IBkw97I7bbJGN84eYC7udZ19QbdT6aCIiCosNoiSzDg5un2pklOvX/pH5uIN7Ylt7h8rHZRNHm+FRlVzl38/iqhbSgdERFRSAtu9SA7MveyIRnAalvqLTnAVi9mqtBWeTxshqYPfbg1vg8EtcpdP3WDuRUQORsV2L5Ib+xztSN+M9wONjc3F9R5vJmiuKB2UrbSa/GWD1GH9RET2wjL3YrsXyYK5l71ooO/VLnOCuXjC+ffjziuUDkoGOovcy8jci4gcG3MvkgFzL7vgZQockvat+ddVoubqnx6vKx2UPHRs9yIix8Z2L5IZcy/lqaB+LPVHN5OfWMyBYYXnM9mqNKXjkofW4iPG3IuIHA7He5HsmHsp7+HMl2obupiL29w/ua49pnRQsinQ58jngBORY2O7F8mAuZfCahpbd03P7168qNu9x/UHpYOSE/scicjBsc+RZMbcS0nOgufQ1J810InFdHX8Ks9JAspV6xDvcyQih8Y+R5Idcy8lPZL2hW9OTXFZgLDK48VUdZzSQcmM9zkSUfnBNIzkwNxLMS2znmiW/ai5eMD1l/NO25QOSn7scyQixyYUWSAqGc5rX3JGo1FKtfj4Qh6DHYB6/fGJuRiD40szXzZmZit9TvLjfY5EpDi9XtIDQoq4XKdaHqfQOkRWYbuXArRwmojlzvAQi9lI/xXDjSiHiRd4nyMRlSMca0+yYO6lgMH4pCZamosr8FIczikdVGlhnyMRObSCY+2Ze5EMmHuVtcbo3Q2TzcUjWLEP85QOqhSxz5GIHBwH2JPMmHuVKS8EjsUC86+oBFxdgmeUDqp0sc+RiMoN9jmSLDjWvuyooBqHhV4IEIsmGOdgRCbuKh1X6Zq5BU556VeGpNGuRER2RMW5VUluzL3KTg9MaYSe5uJ6TL+MA0oHVeo+2aR0BERENuDcqiQ79jmWkWC0HoSPzMXz2LXJYo4JIiKyVxxrTzJj7lUWXOA5Ecu1cBKL6UiYi1Hl7NlBRETlHvscSRbMvcrCcHxfBXXMxYWYkIwbSgdFREQPxjkmSHbMvUpdO4xsjzHm4i78cBLrlA6KiIgk4ngvkhlzr9JVGbVH4Edz8QZOr8JrSgdFREQlwT5HkgVzr1KkgW4ilrnASywakPkrnjAgS+m4iIhIKs4xQbJj7lWKBmFGCNqaiysx+RailA6KiIiswDkmSHbMvUpLQ3Tvif+Zi8ex5h/8rHRQRERkC7Z7kQyYe5UKT1Qeh0WqvLc3CTGLMFHpoIiIqATY50gyY+4lPxVUY7HAG1XFogk5czEyA0lKx0VERFZjnyPJjs8Ukl9XvNQEfc3FjfjwAvYoHZQyArzw7EO5y3Ep+OkfpQMiIrIJ271IBsy9ZBaE5o/iM3PxIvZuwAylg1JMdR9MH5C7fCyauRcROSL2OZLM2OcoJ2e4T8RyLZzFYgaS5mKkCTlKx6UYrcXny1Bx3wYicmDscyTZMfeS0zB8G4gG5uJiPJWIaKWDUpJOk79s5OMricjBsd2LZMHcSzatMawTxpuLe/DLMaxWOiiFWeZebPciIkfE5zmS7Jh7ycMfISPxk7l4C1Er8IrSQSlPy9yLiBwe+xxJZsy9ZKCGdgKWusFHLBqQNQfDDchUOi7lFehzZO5FRA6OfY4kC+ZeMhiA6bXR0Vxcjf9dxymlg7IL7HMkIkfHPkeSHXMvW9VDeG+8aS6ewvqd+F7poOwFcy8icnycY4JkxtzLJu7wn4AlauSmGMm4sdBiuD1xjgkicnScY4Jkx9zLJk9irg+qi8sCTPMwOg3xSgdlRzjHBBGVJ2z3Ilkw9yq5cEwKwyBz8W98eg47lQ7KvvA+RyJydBzvRbJj7lVC1dH0MXxhLl7GwT8xTemg7A7HexGR42OfI8mMuVdJ6OA6Ect1cBGLmbg7FyNMMCodl93hHBNEVJ6wz5FkwdyrJIbiq2pobC4uxbPxuKJ0UPaI7V5E5OjY50iyY+5ltRZ49CE8Yy7ux/zD+E3poOwU73MkIsfHPkeSmVbpAByML4LGYI65GIdzv+FFpYOyXwcvY/r63OV9l5SOhojINuxzJFkw97KCGpoJWOoGX7FoRPYcjMhGutJx2a99l5hyEZFjU3FuVZIb+xyt0Bfv1kUXc/EPvBWNY0oHRUREpYhzq5LsmHtJVQed+2GquXgGm7bja6WDIiKissR2L5IBcy9J3OA7AUvNzw5KQewCjGXjMxFRBcA+R5IZcy9JRuNXP9QUlwWY5mFMKm4rHRQREZU69jmS7Jh7PVgXPN0SQ8zFrZj1H7YqHRQREZU9tnuRDJh7PUBVNByKr8zFqzi8Fu8oHRQREZUZ9jmSzJh7FUcHl4n4zQluYjELqXMxIgcGpeMiIqIywj5Hkh1zr+IMwec10MxcXI5Jt3FR6aCIiEgZbPciWTD3KlIzDAjHJHPxXyw5iMVKB0VERGWKz3Mk2TH3KpwPqj2Jeeav3G1cXIbnlQ6KiIjKHvscSWZ8plAhVFCPxxIPVBKLRujnYkQWUpWOy/EMb4N6AbnLvx3GuTilAyIishKfKUSyY+5ViN54sz4izMU/MfUqDisdlEMa1R59m+QuH77K3IuIHB1zL5IB+xzvVQvtB2C6ufgftm7B50oH5ah0mvxlQ47S0RARlQTbvUhmzL0KcIX3BCzTQCcWU3F7Hsbwy1ZiWovPF3MvInJEnGOCZMfcq4CR+KkSQsVlAcICjEtBrNJBOTDLdi+jSeloiIhsw5/iJAvmXvk6YlwbPGEu7sA3Z7BR6aAcG/scicjRcY4Jkh1zr1wBqPcEvjUXY3B8Dd5UOiiHxz5HInJ87HMkmTH3AgAtnCZiuTM8xGI20n/FcCOylY7L4bHPkYjKE/Y5kiyYewHAYHxaEy3NxRV4KQ7nlA6qPGCfIxE5OvY5kuyYe6EJ+nTDK+biEazYh3lKB1VOaJl7EZHDY58jyayi515eCByLBeafNfG4sgTPKB1U+VGgz5G5FxE5OPY5kiwqdO6lgmocFnqiilg0wTgXIzNxV+m4yg/2ORKRo+MzhUh2FTr36oHXGqGnubge0y/jgNJBlSu8z5GIHB3nViXZVdzcKwRtBuFDc/Ecdm7CJ0oHVd7wPkciKl/Y7kUyqKC5lws8J2CZFk5iMR0J8zBaALMDmbHPkYgcH/scSWZapQModT4+PjWDQ4KC67i4ODtpTAZBl2UQvGMbe5zyRCoACBAWYnwybigdaTnE3IuIHJqvn59HY83+gHeNmiSTOkmT494nY0jMtQtXr1xOS0tTOjpyVOU59/Lw8GjZqk2VwBrGSp1yfMOydX6ZOm+1IVmVHZ9Z9fS/oe95prRoun34gfQlJ/Gn0sGWTx9vgjrvF6PeqHQ0RESSefv4t48Y4O3hZPBtlOjVSND5mXTeakOyNju+TtDRho0Ox0RfPX7scHY2Z+Emq6kEQc4WVJXKXsYkVq1atWOnLobAXsbAXlAXkmKqcjKdb291Tjqxd+/BmKvHlI6XiAon7zWqGPZz+SLF1WrUtk2LJvqAHtl+XYr6C6K9sVZ9Z/+uHduSkpKUjpfsVFGXr/KZe1WtWrVDp4cM9V/Oca9VfE1dyimX6yv3HTx2/SLTLyJ7xNyLylidpp1bhTXKDJ1gdA0uvqY26ZjuysId27cw/aJCFXX5Kodj7T08PDp07Jxd5/kHJl4ADF7NsmoM7di+jadPgNKBExGRwvwCQlqFNZCSeAEw+rbMrjn8oYcjnJ2dlQ6cHEk5zL2aN2+e4dVa8Kovsb7Bq5nRt1WH7o8pHTgRESmsQ3g/fZVuUhIvkalSe71no2bNmikdODmS8pZ7+fj4VA6orq490qq9sqv08HXVV6r24HYyIiIqr6qGNPV0EbL9uli1l7rehJrBoZ6enkqHTw6jvOVeQUFBadoahQ6NLIagcTV4t2wQZt33jYiIypO6TdrqvVuW4C/IXVSpWbOm0uGTwyhvuVdgYKC6angJdjR6N63k66Z0+EREpBh/bxejZ6MS7KgK6FK1alWlwyeHUd5yL3d3d61P3RLsmONUyUltUDp8IiJSjJMqO8fJvwQ7anzqeXh4KB0+OYzylns5OzsLupJ0ugtaT42JU+QREVVcalO2oC1JCqV2q8JbHUm68pZ7ZWdnQ59cgh1VxrQclZPS4RMRkWJyVM4qY0meFJSTdosT3JN05S33Sk9P18dHlWBHjT5Bn6MpwY5ERFQ+6AWdRp9Qgh0NiVHp6elKh08Oo7w9zzE2Nray5y5Ut/qORW1qVGxCstLhlyvVfTCxc+7yjWTM2at0QERExYpPTK1SKcooYV7ue5hi996JjVU6fHIY5S33iomJqVM3LitHr9JY04FoMuqSj5w7uU/p8MuVmn6YPiB3+cBl5l5EZO/OndxTvYpnVpXeVk0zIRizfNQJJ2JilA6fHEZ563NMTk6+czvWNXKdVXs5J+5JvpuRcPuG0uGXKzqLLlxDjtLREBE9yJ1b1+6mZTkn7rFqr6xT38ffiUtOTlY6fHIY5S33AnDqxGlX/QmPOKk/QbSZ13SxW/bvtC5dowfSMvciIkezf/taXewWbeY1ifX1N/f5mC6fOHFC6cDJkZTD3Csl7e7OA3+rYr5zjX9w+qXNvOZy+ecD+/akptxVOvDyxrLdy8jci4gcQcrdpIMHD7pc/kVK+pVz+7DnzWUHDxxISyvJ3ZFUYZW38V6im7du/HNgayfo1YkdTHWGFN5zbzI6J+7R3ty0b9/uGzFSf+KQdOxzJCJHFH35P5Mxu4PJoKnaJ9uvS1F/QYznF3ikHT9wYP+tW7eUDpkcjEoQBKVjKC1xcXHLli3779xFdeW2sar6OVo/k85bbbirMiS6pEe53D1Sp07tZ8aPCggIUDrScurqH9jyaO5yyGD0XKN0QEREUsXFxf00d8mlS5cyPFrrvRoJuty/IFpjYiDO5dw+1LB+nREjRvAvCJVAec69RNeuXTt06NDJk6fvJCSk3k3y8PL19vFr1aJZh/Ztg4ODlY6uXLv8O7YNzV2uNRTdVygdEBGRda5du7bmi0OR107pnRONuiRXrW/Vmv5hYU3btuVfECq58p97ERERldjNXbi1O3e56sOoFq50QOT4mHsRERERlZ1yeJ8jERERkd1i7kVERERUdph7EREREZUd5l5EREREZYe5FxEREVHZYe5FREREVHaYexERERGVHeZeRERERGWHuVf58ffff4eGhrZo0eK9994zGo1Kh1OKZs6cGRERcfToUaUDIZLft99+Gxoa2qFDh59++knpWIioVHBe+3JFr9cvWrToqaeeOnLkSKtWrZQOp7SkpKR06NChbt26a9euVToWIvmlp6e///77X331VVJSkoeHh9LhEJHM2O5Vrpw/f37p0qU7d+4sx4kXAC8vrz///LNly5ZZWVlKx0Ikv82bN1+9evXIkSNMvMqfS5cu/fjjj0uWLLl+/brSsZBimHuVK3PnzgWg1Wqt2isiIuLXX3+VUnP27Nm9e/cu45NKSkqKiIj4448/LFd+8skn8+fPnz17dokP+8knn0RERLDdl+yNIAhLliy5c+eOv7+/9L2uXLkSERGxbds2pcPP1bdv3x9++OH+9fv374+IiIiMjCx0rxkzZowcOVLK8Y8ePRoREXHy5EmxaDKZfv7553feeScqKuru3bvjxo3T6/WF7tivX7/vvvvOxrN74YUXXn311fvXx8bGRkREbNy4sZh99Xr9nTt31q9f36BBg6tXr0p8RfF9O3v2rHlNZmZmREREaGjo1q1bbTydQk2bNm306NGFbjIajREREYsWLbJc+cwzz4SGhn7++eelEYzIZDItWrSoW7du1apVc3NzCwsLmzZtWmJiYum9YikSqLy4efOmVqv19vYeMmSI9L1MJhOAt956S0rlKVOmuLq6ls3p6PX68PDw8PDwjh07Aqhbt+6HH34obvruu++0Wu0HH3yg0Wg2b95csuOPGTMGQE5OTtmcDpFEO3bsUKlUXl5e7733nvS9Tp8+DWDJkiVKh5/Lw8PjlVdeuX/9n3/+CWDfvn2F7jV8+PDatWsXc9izZ8+Kl4WwsDAAzZs3X7ZsmSAI8+fPDwoKGjt2rIuLi7+/f6dOnYo6gpeX10svvWTj2XXs2LFr1673r79y5QqAOXPmFL97TEzMkCFDatSocevWreJrnjx5Ujzfpk2bAmjVqtXq1avFTWPHjq1Spcorr7zi5+d38eJFG8/ofkOGDKlbt26hm7KzswF88MEH5jWzZ8/WaDQzZszQaDQbNmyQPRhBENLS0nr27AmgZcuWb7311vTp0/v376/RaAIDA48cOVIar1iqrGsgIXu2aNEiFxeXN954Y9q0aTdv3qxWrZrSEdlEo9GMHTsWwN27d/fv39+uXbuHHnoIgF6vT0lJWbx48RNPPBEQEHD27FnxC0lUPsyfP7958+bNmzefM2fO1KlTrW3GdmjLli0rvoK/v794WYiMjDx58mTv3r3FpKRJkyarVq1q27btzJkzIyMj27RpU6px7tu3z8Yj9OrVa9WqVQ+sFhAQIJ7v8ePHT58+3a9fv4YNGwK4efNmSEjIypUrO3bsWLly5aNHj9auXbtUT9mSk5OTYNFjYDAYkpKSFi1aNGLEiMDAwPPnz/fp00elUsn7os8+++y2bdtmz5797LPPmleKn4H+/ftHRkb6+fmV2Ttguwr0rS735s2bFxERMWbMmKlTp86ZM+e9994zb9qzZ09mZmZ4ePiKFSsuX74cEBAwdOjQez6p169fX7FiRVpaWosWLfr3769WF9kfrdfrly5dGh0dXbt27aFDhzo5OZk33blzZ8OGDdeuXQPQokWLPn366HQ6ADdv3ty6devQoUNPnjy5detWrVbbt29f8ZdrodLS0n7//ffo6OjGjRv36tXr5ZdfbteuXZcuXQA4OTkNGTJk48aN77//vrOzc0REhHmvf//99/Lly8OHDzev+fPPP93d3bt166b0fw6RJHfv3l29evVLL73UrVu3+fPn//nnn48++qh56/r16wMCAurWrbtixYq4uLjQ0NBhw4Y5OztbHuHMmTPr1683GAzdunXr1KlTUS908uTJLVu2ZGRk1KxZc9CgQZZXg+jo6A0bNty+fVuj0bRv37579+7i+sjIyCNHjgwfPtz8ld+5c2dKSsqgQYOKP6mcnJwVK1YIgjBs2DDzyoMHD27dulWj0fTr1898Kfjnn3/i4+MtT9lSbGzs77//npiYGB4eXr169c8//7x3795NmjQB0Lp164MHD86cOTMzM9PT07NatWr16tWT8oYnJCSsXr361q1bYo9BUFCQ5dZ//vln//792dnZ3t7ejzzySEhIiLh+48aNGo2mV69eRR32yJEjmzZtcnZ2fvTRR+vUqWO56dChQzt27MjOzl6zZs2AAQPEK2Shbt68+fvvvycnJ/fo0cPPz++bb74x517VqlUbPHjw5s2bd+3aVbdu3YEDBxZ1kKVLl7Zq1crLy2vFihUpKSlhYWEDBw60vLwfPnx4x44dJpNp4MCBzs7O+/btGzVqlEajEbdmZ2evWLHiypUrAQEBw4YN8/X1BWAymRYvXty8eXPxP06n040fP3716tXvv/9+QEDAqFGjzInXkSNHbty40b9//zVr1kRFRfn6+g4bNiwgIOD+979Ro0ZDhgxZunRp69atxXO0dOrUqaVLlz733HOWiReAsLCwX3/9dcCAAV9++eWHH34o5X/cXijd8Eby2LNnD4BFixYJgtCzZ8+goCCj0WjeOmrUqLZt27Zs2bJy5cphYWFqtTogICAmJkbI63Ps0KGDu7t7w4YNa9SoAWDYsGGFvsqUKVOcnJxat24dHBzcpUsXZ2fnhg0b3rx5U9y6fv16d3f3KlWqhIeHN2rUCEDbtm31er0gCJs3bwbw7LPPurq6hoWFeXp6qlSquXPnFvoqkZGR1apV8/DwCA8Pr1y5sphyfffdd+LWN998U6VS1a9fPzw8vGrVqgDeeOMNcdOkSZN8fX0tDxUWFjZgwIBCX4V9jmSHxHkljh49mpOTExQU1L17d8utLVq0GDBgQPXq1YOCgho0aACgWbNmmZmZQl6fY3h4uJOTU1hYmDhWzLJXyNJXX30l/t0KDw/38fHx8/M7efKkuOmHH37Q6XTBwcHh4eGhoaEAHn/8cXHTrFmzACQmJpqPM3jw4MaNGxf6EuY+x5ycnNGjRzs7O69du1bI63Ps1q2bs7NzWFiYt7e3RqNZuHChuFcxfY5///23m5tbQEDAww8/7O7uLl4Wdu3aJQiCwWAQ879WrVqFh4d7enqq1WrxYng/yz7HLVu2eHt7+/j4hIeHV6tWzcnJyXxRyszM7N69u1qtbtOmzUMPPeTu7q7VasVTEB7U59i+fXsXF5fOnTsHBwfrdLp58+aJW3Nycp588kkAjRs37tChg5OTU5MmTcTr8P3WrVvn4uJSrVq1hx56yNXVVTzff//9V9w6ZcoUAHXr1u3cubOLi0toaOjZs2cLPY6np+eIESO8vLzq1asXHBwMoF+/fuatkydPBtCwYcO2bds6OTn16NEDgPiJGjJkSGBgYJMmTSpVqtSsWTONRlO9enWxk/SePsc///zTw8MjICBAvCZ7e3tv377dHGe9evW6du3q5+cXFhYmjoqJjIwUtx44cMDHx0d8/319fbt3767T6b799tv7z2L69OkAjh07dv8mk8kkptqCQ2HuVU6MGzfOy8srPT1dEASx3d58mRAEYdSoUQBefPFFMRPasmULgHfeeUfIy72cnJy2bt0qCEJOTs5TTz0FoNBvsviFf/zxx8XjnDp1ysvLS0zUjEZjYGDgQw89JG4SBOGzzz4DsGXLFiEv92rUqNG1a9cEQUhOThYvBIWeS9u2bUNDQ8WULjU1tXPnzubc69ixYwCmTZsm1jQYDL1793Z2ds7OzhaYe5Hja9u2bVhYmLj8zjvvqFSq8+fPm7e2aNECwPfffy8Wv/zySwDigCcx9woICBD/sInt3O7u7uJXw5Jer3d3d588ebJYjIuLq1y58tChQ8VlZ2fnMWPGmEwmcat4Nbh8+bJQotxLzDZcXV03bdokrhdzr0aNGl2/fl0QhMTExPr165v/cBaVe6WkpIg/6sRLXHR0tJhGiLnXwoULAaxatUqsfPfu3Tp16jRr1qzQwMy51507d7y8vDp37pycnCwIQnZ29vDhwzUajfgH/ptvvgGwbds2ca87d+5Ur179oYceEovF514+Pj6nT58W3+ohQ4a4uLhER0eb38Cff/5ZrHz69Gl/f3/zMS0lJib6+vr27NlTTIMuX74sjiERc68lS5ZYpj6XL1+uWbNmo0aNLH9vm3l6emq12vXr14vFSZMmATh06JAgCJs2bQJgHke7detWsRHOnHsBmDx5ssFgEARBvIHgo48+EgrmXjdu3PDw8Bg4cKC4V2ZmZt++ff39/cV3VfyTMXLkyIyMDEEQjhw5otVqJ06cKL45tWvXbtGiRUJCgiAIycnJ7dq1A1Bo7vXoo49qNJpCT1AQhEGDBqlUKvElHAVzr/IgJSXFw8ND/EALgpCZmenj49OrVy9zhVGjRmm12tTUVPMasWVYyMu9LIfn79q1C0Ch4yWnTJmiVqstx4dOmTJFp9OlpqZmZmauXr3aMmM7deoU8gb/irnXL7/8YrmjSqUyX+LNzp07B+CHH34wrxGHVoi5140bN5YuXZqSkmLe+sUXXwC4ffu2wNyLHJyYP3311Vdi8cKFCyqV6tVXXzVXaNGiRa1atczFO3fuAPjkk0/M+1oOzxdvM7x69eo9r5KVleXk5NSzZ8/Y2FhxTWxsrJiiJSYmrlix4saNG+bKa9asAXDw4EHB+tzrpZdeGj9+vLu7u7kVRMjLvRYsWGBe89prr2m1WvFSUFTu9fvvvwPYs2ePeY3YQCjmXufOnVu8eLFl/TFjxgQGBhYamDn3+vHHH8UmRvOmxMREJyen5557ThCEM2fOiP2kZoMGDWrQoIG4XHzuNXXq1HvWfPHFF4IgNGrUqGPHjpb1P/30UwDmdiAz8RZCyyHkX3/9tTn3Cg8Pv2cU/Lx58wDs2LHj/pA8PT179uxpLh44cADA77//LgjC0KFDg4KCLC/C4lXRnHu5uLiIy6LKlSuPGzdOKJh7zZw5E8ClS5fM1Y4fPw5AbO0Tcy/LD2HTpk179OghCIJ4T67lHxqx96bQ3Ktbt25eXl5CEcaNGwcgLi5OcBwc71UerFy5Mi0tLSUl5f333xfXBAYGbt269dKlS+YBmJUqVbKcK8jT09Ny7nuxc0Hk5uYGoKips4KCggIDA83FFi1aGAyGCxcutGjR4tFHHz169Og333xz+fLlc+fOHTx4EICY293/Kp6enoIgGI3Ge4Y7REVFAbAcCtamTRvz6IFq1aoNHTp027ZtJ06cuHz58okTJ8SbzHNycpT+TyCylfgX9NKlS+Yvsq+v78KFCz/66CMXFxdxzT1fIgBFfZHd3d0BZGZm3vMqzs7Ob7zxxowZMwIDA1u3bt27d+/HH39cHILj6+s7dOjQXbt2LV++/NKlS+IAL5T0+zV//vzU1FQfHx+xe9TSPRcco9FoMBgsR47e47///gPQrFkz8xrL0fT16tWrUaPGqlWroqKizp07Jw7Dr1KlSvHhRUVFOTs7i02J5ne7Xr164iWocePGQUFBK1euPHPmzIULF06fPh0ZGVm3bl0pJ966dWvzckhIiK+vb1RUlMlkOnv27Msvv2xZU2zpiYqKEgdpWJ6vSqWyPF/LY0ZFRYmdg2bt27cX11uOfy303bb8zERGRjZr1sxyUHzr1q0tZ44IDAw0f/DE/6n7/y6cPn1apVJNmDDBvEb8tJinEVGr1TVr1jRv9fLyEl/9zJkzAJo3b17o/+k9KlWqlJGRkZOTYx6IZikpKUmtVnt5eUn537ETnN+rPJg3b56rq+uhQ4cW5MnIyBAnvDHXKf5uqWLGe97jnuujuKP4y2ns2LGtW7eeNWtWdHR0+/bt75/oxTKGou6CEWflsXwVnU5n3vH27dutWrXq06fP8uXLMzMzhw8f/swzzxQTrWXmR2TP9Hr9kiVLvLy8/vrrL/MX2dnZOSEhYeXKleZqsnyRP/jgg4MHD06ZMiUrK+vDDz8MCwt75513AGRlZXXr1i0iIuKXX36Jj4/v27fvW2+9Vcxxis/JVCrVkiVLjEaj2HFpydqbN++/LIg/EUWnTp2qU6fOiBEj1q9f7+npOWnSpH79+kk5plarvedC5OTkZDAYABw8eLBWrVpjxozZsmWLn5/flClTwsPDJUZ7z90POp3OZDIZjUaTyXT/JgDiK94Tm0qlsnyXLM9Xr9cXeh2+/zjFv9vZ2dn3nP49mY2Uj1NWVpY4NtesW7du06dP79q1q/mYhV7txcYzy03F3OAVFhZmNBrFMSf3MJlMhw8fbtCggWWaaP/Y7uXwzp49e+DAgbfeeuujjz6yXN+oUaMFCxbMmDHjnm+7jW7dumX54+PixYsqlSokJGTLli0LFy6cPn36tGnTxE27d+8GIFg5eak4jOPSpUvm30C3bt0yX1M+++yzM2fO7Nu3T5z0C4D4N0OkVqvvmVAxPj7efGsSkT1bv379nTt3li5dOmLECPPK1NTUqlWrzp49W+wMkoXRaDx//nzDhg2/+OKLL7744vr166NHj/7ss89ee+21pUuX7tixY8mSJeYJTufMmWPeUfzTaPkVS0hIKOaFxo0bN3LkyMTExJdeemnBggXiXAklY74sNG7cWFwTHR1t3jplyhS9Xn/x4kVz+8qff/75wCtPUFBQenr6rVu3xFt2AOTk5Fy+fFmcs+all15ydXU9c+aMuZl//vz5Eq9mMTEx5uXk5GTxKuTk5BQQEHDhwgXLmmLxnpsrxfM1mUxXrlypVavW/ecbFBR08eJFKccpXt26dcUGRTOxzc8qNWrUyMzMnDx5srnZyWAwnDt3TvwvK4Z4I2pUVJT5/b8nGEtPPPHE1KlTv/jiixUrVtyzSewlv+f+R/vHdi+HJ3ari6PpLU2YMOHOnTtSppCxSlpamvnTn5aWNm/evM6dO/v7+4uXBnFcvGjBggUo+qdYUdq0aRMUFDR79mzzT+pffvnFvDU6Olq80dIcgHiC4qtUqlQpPT39/Pnz4tZdu3bdunWrFN96IvnMmzfP09PzkUcesVzp6en5+OOPHzx48MSJE3K9UGRkZOPGjc3PhKhRo0a7du0EQVCpVPd8i41G49KlS5H3/RLvnRRH8wA4f/682CNZFLFJY9KkSR07dpw8efKNGzdKHHO/fv2cnZ2///578xrLy0JMTEyNGjXMidfVq1d37979wCtP//79AYjjqEQLFixITk4eMGAAAHEOHXPiFRUVdejQIcvu3WIsWLDA3OL+ww8/mEwm8TbM/v37b9y40XyB0uv1P/74Y0BAwP19beLcE+bzFQTB8tEjAwYM2Ldv36FDh8SiyWT69ttv3d3dC+1wLMaoUaMuXbokjtwHcPHiRfOydP379zcajeKds6Kff/65adOm4hjfYvTq1aty5cqffPKJ+D9lMpk++OCDoiqHhoa+8MILK1eunDp1quX/wvbt25977rmQkJB7OnPtH9u9HJvRaFy8eHGrVq3unxBl9OjRb7/99uzZsyU+o0Mib2/vF1544ejRo7Vq1fr5559v374tZj/du3d3dXV9/vnnxfH44uxcKpUqPj7equOr1eqffvrpkUce6dq164gRIw4fPrxp0yZzu3T//v1XrVr16KOPPv7440lJST/99JPYAhcfHx8UFDR48OAZM2b06tVr1KhR4qjh+weaENmhGzdubN68edSoUZZdS6IJEyYsWLBg9uzZlkMIbBEWFta3b9+pU6devXq1WbNmkZGRc+bMmThxoo+PT79+/WbNmvXEE0889dRTer1+7ty56enpAMRvce/evb28vEaPHj1x4kS9Xr948eIGDRo8MB1Rq9Vz5sxp0aLFU089VfzDdopRtWrVjz/+eMqUKQkJCd27d//rr78s077+/fvPmjXr2Wef7dChw/Xr17/77rvq1atfuHAhOzu7mFb/5s2bT548eebMmdeuXevevfvhw4fnzZs3aNAg8YLZv3//efPmvfrqq2FhYVeuXPnhhx+Cg4PFuxMeOGvopUuXunbtOmzYsKNHj86fP/+VV14RRzXNmDFj69atnTt3fuGFF/z8/BYuXHjq1KnVq1ffH2RISMi0adPefffduLi4hx9++I8//jA/PQnA66+/vnbt2p49ez7//PNBQUErVqzYu3fvvHnzrJ1cdPjw4atWrRozZsyyZcu8vLw2btxYpUqVu3fvFtP3d7+uXbuOGTNm+vTp58+ff/jhh48dOzZ37tzu3bsXNUmbmaur69y5cx999NFGjRp17tz50KFD9/dCWvriiy/u3r374YcfLlmypFu3bh4eHidOnNi9e3fdunXFvmYrP1MK04jTZpCDunjxYmxs7NNPP31/kuHu7i7OPhweHp6WlhYQEGA5E+CNGzeaN2/eunVrlUp17dq1hx9+2DzYU6/X3717t2fPnvfPjJ+YmFijRo0ZM2asXbt206ZNzZs3X7JkiTi3oa+vb3h4+NmzZ1evXh0TE9OrV6+5c+fq9Xp/f/927dplZmZmZmb27t27UqVK4qGSk5NdXFwGDRp0//e8bt26PXr0OHHixF9//eXt7b1gwYK0tLSuXbvWqlWrefPmNWrUOHDgwKZNm9LS0l599dX33nsvPj6+bt26tWrVCggIeOihhy5fvrx79253d/fZs2fXrFkzODhYHIh6j/j4eH9//0ceeUT2+ZeJrHX06FEAkyZNql69+j2batasmZiYqNFo+vTpI05Bae5wBxATExMeHl6/fn2DwZCYmNi9e3dzx1NaWpogCP369bv/z9LgwYOdnJz27NmzefNmtVr98ssvT506Va1Wh4SEhIWFHT9+fN26dYmJiaNGjfrxxx9jY2NDQkKaNGni7u7et2/f69ev79y502QyffbZZ+3bt/fx8TGP7LEUHR3dqVMncdL5ypUrV69ePSEhoX79+uK0F3369DEnCsnJya6uro888oharb5z507VqlXvGUgu6tChQ4sWLfbv37958+aGDRt+/fXX2dnZ4iUlIiJCq9Vu37599+7darV61qxZQ4cOzc7OFuemuuc4MTExHTp0EIex9+rVq169ekePHl23bp1arf7f//732WefiVekHj16mEymLVu27N27V2xy69OnT1ZWVqtWrby9vWNjY+vVq3f/1LVGo/HOnTszZ85MTk7+7bffsrKy3nnnnbffflvc6unpOWrUqPT09C1bthw9erRJkybz588XJ+6630MPPdS4ceO9e/du3bq1WbNmX3zxhV6v79u3r6+vr4uLi9jRsXXr1gMHDtSuXfunn34Sm/EK/Y/o0KGD+e4l8XPSo0ePGjVqqFSqxx9/vF69evHx8e7u7h999JFGozl06ND06dNVKpU4rYZ5Zl0A169fb9GihdjtEB0dLX7wAAwaNCgoKOjEiRPr1q1LT0+fNGnSt99+K44VS0xM9PT0tJz6NTY2VpyWDED9+vUHDx6clZUllmrtnAAAAYBJREFUzkzx5ptv/vTTT4899pjlDRBmarX6kUce6dKlS2Ji4qFDh86cOVOtWrVXX331l19+sbz9y1GorB2OQ0REVEHs2LEjJiZm5MiRdvhwp+3bt1+/ft1yGnqrrF279ubNm88//7x5zaBBgyIjI+8ZTFZKrl+/Pn/+/FGjRplvw9ywYUP//v23b99eaDZfznC8FxERUeG+/fbbsWPHit1h9uabb74ZO3bsPTcYSRcXFzdp0qRff/3VZDLl5OTMmTNnw4YNo0ePLpvgfXx8Pvvss+eee06cpi4qKuqNN94IDQ0t5kFY5QnbvYiIiApXjtu99Hr9008/LT58CYCTk9Mzzzwza9Ys6VMO2Wj16tXPPPOM+W7Zli1bLl68+J6pzsor5l5EREQVVFxcnDiVa/Pmzb29vcv41bOzs0+ePJmRkREYGFihbo1i7kVERERUdjjei4iIiKjsMPciIiIiKjvMvYiIiIjKDnMvIiIiorLD3IuIiIio7DD3IiIiIio7/wcZDwWR8R1nLgAAACV0RVh0ZGF0ZTpjcmVhdGUAMjAyNC0wMy0xNlQwNjoyNjoxMiswMDowMIn+1hAAAAAldEVYdGRhdGU6bW9kaWZ5ADIwMjQtMDMtMTZUMDY6MjY6MTIrMDA6MDD4o26sAAAAAElFTkSuQmCC)"
   ]
  },
  {
   "cell_type": "markdown",
   "id": "28de4c7f-9629-4e43-b456-110da7250e08",
   "metadata": {},
   "source": [
    "Đầu tiên, từ ảnh ban đầu, ta sẽ tìm đường thẳng thể hiện cho độ nghiêng của chữ số (đường màu tím) và điểm trọng tâm của chữ số (điểm màu xanh lá). Kế tiếp, ta sẽ thay đổi tọa độ cột của các pixel (còn tọa độ dòng thì giữ nguyên) sao cho: đường thẳng thể hiện độ nghiêng của chữ số sẽ không còn nghiêng nữa, còn tọa độ của điểm trọng tâm của chữ số thì vẫn sẽ được giữ nguyên (để bạn dễ hình dung sự thay đổi, ngoài điểm trọng tâm màu xanh lá, mình có vẽ thêm điểm màu đỏ và điểm màu xanh dương). Nếu gọi `O` là ma trận pixel của ảnh sau khi đã loại bỏ độ nghiêng và `I` là ma trận pixel của ảnh ban đầu thì câu hỏi đặt ra là: `O[r, c] = I[r, ?]` (ở đây `r` và `c` là tọa độ dòng và cột của một pixel trong ảnh sau khi đã loại bỏ độ nghiêng). Quan sát sự thay đổi của 3 điểm màu đỏ, xanh lá cây, xanh dương thì ta có thể thấy rằng: \\\n",
    "`O[r, c] = I[r, ic]` \\\n",
    "với `ic = c + (tọa-độ-dòng-của-điểm-trọng-tâm - r)*tan-của-alpha` \\\n",
    "(alpha là góc hợp bởi đường thẳng thể hiện độ nghiêng với phương thẳng đứng)\\\n",
    "Nếu bạn chưa hiểu công thức này thì bạn nên dành chút thời gian để nghiền ngẫm ...\n",
    "\n",
    "Ở trên là ý tưởng chính để có thể tạo ra ảnh được loại bỏ độ nghiêng từ ảnh ban đầu. Bây giờ, ta sẽ nói về các chi tiết. Đầu tiên, ta sẽ nói về công thức tính `O[r, c]` ở trên. Với công thức tính `ic` ở trên thì `ic` có thể ra số không nguyên. Trong trường hợp này, ta sẽ tính `O[r, c]` như sau: \\\n",
    "`O[r, c] = con*I[r, ic-được-làm-tròn-xuống] + (1 - con)*I[r, ic-được-làm-tròn-lên]` \\\n",
    "với `con` (contribution) là trọng số thuộc đoạn [0, 1] cho biết mức độ đóng góp của `I[r, ic-được-làm-tròn-xuống]`, cụ thể thì `con = ic-được-làm-tròn-lên - ic`. \\\n",
    "Công thức tính `O[r,c]` này cũng sẽ vẫn đúng với trường hợp `ic` là số nguyên nên ta có thể xem đây là một công thức tổng quát. Tuy nhiên, vẫn còn một vấn đề nữa là `ic` có thể bị văng ra ngoài miền giá trị hợp lệ của chỉ số cột (ở đây, miền giá trị hợp lệ là đoạn [0, 27]), và do đó `ic`-được-làm-tròn-lên/xuống cũng có thể bị văng ra ngoài miền giá trị hợp lệ. Nếu vấn đề này xảy ra thì ta sẽ tinh chỉnh lại `ic`-được-làm-tròn-lên/xuống bằng cách lấy giá trị hợp lệ gần nhất (nếu < 0 thì lấy 0, nếu > 27 thì lấy 27).\n",
    "\n",
    "Một chi tiết cuối cùng mà ta cần nói là cách tìm đường thẳng thể hiện độ nghiêng của chữ số và điểm trọng tâm của chữ số, để từ đó có thể tính `ic` (thật ra là ta chỉ cần tìm tan của góc alpha và tọa độ dòng của điểm trọng tâm). Cách tìm 2 thứ này được phác họa ở hình bên dưới."
   ]
  },
  {
   "cell_type": "markdown",
   "id": "45a0951f",
   "metadata": {},
   "source": [
    "![deslant_detail.png](data:image/png;base64,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)"
   ]
  },
  {
   "cell_type": "markdown",
   "id": "6e368ed9-01cc-4f03-bcae-360183b4f7bf",
   "metadata": {},
   "source": [
    "Trong hệ trục tọa độ dòng & cột (gốc tọa độ là ở góc trái trên), ta sẽ có các điểm dữ liệu màu trắng là tọa độ dòng và cột của các pixel của chữ số (chứ không phải của background). Ở đây, ta thống nhất: nếu giá trị pixel > 0.5 thì ta sẽ xem đây là pixel của chữ số. Tọa độ dòng và cột của điểm trọng tâm màu xanh chính là trung bình tọa độ dòng và cột của các điểm dữ liệu màu trắng! Còn đường thẳng màu tím thể hiện cho độ nghiêng chính là đường thẳng hồi qui có phương trình tọa-độ-cột = a * tọa-độ-dòng + b mà khớp nhất với các điểm dữ liệu màu trắng! (Nói thêm: mình có thử dùng đường thẳng có phương trình tọa-độ-dòng = a * tọa-độ-cột + b thì thấy đường tìm được không tốt bằng so với đường có phương trình tọa-độ-cột = a * tọa-độ-dòng + b). Tan của góc alpha mà ta cần tìm sẽ bằng -a (bạn suy nghĩ xem có đúng không). Trong trường hợp hồi qui đơn giản như này (tìm đường thẳng) thì người ta đã có công thức để có thể nhanh chóng tính a (còn nếu làm như HW1 thì sẽ phức tạp hơn):  \\\n",
    "a <font color=blue>=</font> hệ-số-tương-quan <font color=blue>*</font> độ-lệch-chuẩn-của-tọa-độ-cột-của-tất-cả-điểm-dữ-liệu <font color=blue>/</font> độ-lệch-chuẩn-của-tọa-độ-dòng-của-tất-cả-điểm-dữ-liệu \\\n",
    "với: \\\n",
    "hệ-số-tương-quan <font color=blue>=</font> trung bình của <font color=blue>(</font>tọa-độ-dòng-sau-khi-đã-chuẩn-hóa-của-điểm-dữ-liệu <font color=blue>\\*</font> tọa-độ-cột-sau-khi-đã-chuẩn-hóa-của-điểm-dữ-liệu<font color=blue>)</font> \\\n",
    "với: \\\n",
    "tọa-độ-dòng-sau-khi-đã-chuẩn-hóa-của-điểm-dữ-liệu <font color=blue>=</font> <font color=blue>(</font>tọa-độ-dòng-ban-đầu-của-điểm-dữ-liệu <font color=blue>-</font> trung-bình-của-tọa-độ-dòng-của-tất-cả-điểm-dữ-liệu<font color=blue>)</font> <font color=blue>/</font> độ-lệch-chuẩn-của-tọa-độ-dòng-của-tất-cả-điểm-dữ-liệu \\\n",
    "tọa-độ-cột-sau-khi-đã-chuẩn-hóa-của-điểm-dữ-liệu <font color=blue>=</font> <font color=blue>(</font>tọa-độ-cột-ban-đầu-của-điểm-dữ-liệu <font color=blue>-</font> trung-bình-của-tọa-độ-cột-của-tất-cả-điểm-dữ-liệu<font color=blue>)</font> <font color=blue>/</font> độ-lệch-chuẩn-của-tọa-độ-cột-của-tất-cả-điểm-dữ-liệu"
   ]
  },
  {
   "cell_type": "code",
   "execution_count": null,
   "id": "f27b113e-84ed-4aaa-880b-ba76f14d5ca3",
   "metadata": {
    "tags": []
   },
   "outputs": [],
   "source": [
    "# Ví dụ ta có 3 điểm dữ liệu\n",
    "rr = np.array([1, 3, 5]) # Tọa độ dòng của 3 điểm dữ liệu\n",
    "cc = np.array([2, 4, 6]) # Tọa độ cột của 3 điểm dữ liệu\n",
    "\n",
    "# Chuẩn hóa tọa độ dòng & cột của 3 điểm dữ liệu \n",
    "# bằng cách trừ cho trung bình và chia cho độ lệch chuẩn\n",
    "s_rr = (rr - rr.mean()) / rr.std()\n",
    "s_cc = (cc - cc.mean()) / cc.std()\n",
    "\n",
    "# Tính hệ số tương quan \n",
    "# (mình không dùng các hàm/toán-tử/phương-thức của Numpy để tránh tiết lộ code ;-) )\n",
    "corr_coef = (s_rr[0] * s_cc[0] + s_rr[1] * s_cc[1] + s_rr[2] * s_cc[2]) / 3\n",
    "corr_coef"
   ]
  },
  {
   "cell_type": "markdown",
   "id": "087fe295-45f4-4b24-80ad-551661bd41a0",
   "metadata": {},
   "source": [
    "Đến đây, mình nghĩ mình đã mô tả đủ để bạn có thể cài đặt cách thiết kế $\\textbf{z}$ mà có thể nói là \"rất trí tuệ\" này ;-). Hãy bắt đầu cài đặt thôi!"
   ]
  },
  {
   "cell_type": "markdown",
   "id": "28e0cb9c-4777-4cbe-bff3-56b4ddf4ff22",
   "metadata": {},
   "source": [
    "## Tiền xử lý dữ liệu huấn luyện"
   ]
  },
  {
   "cell_type": "markdown",
   "id": "71108f71-6880-4e89-a1ec-6f3035c9b4a3",
   "metadata": {},
   "source": [
    "***Nhiệm vụ của bạn (7đ):*** viết hàm `deslant` để tạo ra các ảnh đã được loại bỏ độ nghiêng. Hàm `deslant` có tham số đầu vào là `X` --- mảng chứa các véc-tơ đầu vào (chưa thêm 1 ở đầu) ứng với các ảnh, mảng này có shape là `(N, d)` với `N` là số lượng các véc-tơ đầu vào (số lượng các ảnh) và `d` là số lượng phần tử của mỗi véc-tơ đầu vào (số lượng pixel của mỗi ảnh). Hàm `deslant` trả về mảng chứa các véc-tơ đầu vào ứng với các ảnh đã được loại bỏ độ nghiêng, mảng này có cùng shape với `X`.\n",
    "\n",
    "Để đơn giản khi cài đặt thì mình cho phép bạn dùng vòng lặp để duyệt qua các ảnh trong `X`. Trước khi cài đặt hàm `deslant`, bạn nên code nháp trước với một ảnh và kiểm tra kết quả bằng mắt. Dưới đây là ảnh số 8 mà mình dùng trong các hình minh họa ở trên, bạn có thể làm nháp với ảnh này."
   ]
  },
  {
   "cell_type": "code",
   "execution_count": null,
   "id": "4ccd6b9b-9cc9-46e1-8610-1c15dce5702f",
   "metadata": {
    "tags": []
   },
   "outputs": [],
   "source": [
    "I = train_X[41495].reshape(28, 28)\n",
    "plt.imshow(I, cmap='gray', vmin=0, vmax=1)\n",
    "plt.axis('off');"
   ]
  },
  {
   "cell_type": "code",
   "execution_count": null,
   "id": "3a9c72ab-45c2-486a-81d3-dd288fa70444",
   "metadata": {},
   "outputs": [],
   "source": []
  },
  {
   "cell_type": "code",
   "execution_count": null,
   "id": "7ead2a69-e578-4970-b5a5-455f50e5c9cf",
   "metadata": {
    "deletable": false,
    "nbgrader": {
     "cell_type": "code",
     "checksum": "41368681def6a1c2ad557ed15eebdd86",
     "grade": false,
     "grade_id": "cell-4975eeab68089d2e",
     "locked": false,
     "schema_version": 3,
     "solution": true,
     "task": false
    },
    "tags": []
   },
   "outputs": [],
   "source": [
    "def deslant(X):\n",
    "    # YOUR CODE HERE\n",
    "    raise NotImplementedError()"
   ]
  },
  {
   "cell_type": "code",
   "execution_count": null,
   "id": "986d0979-adcc-46ec-837a-ac9ee60a3c5b",
   "metadata": {
    "deletable": false,
    "editable": false,
    "nbgrader": {
     "cell_type": "code",
     "checksum": "2a8e2ce30288323aecb43ea1c17de8bc",
     "grade": true,
     "grade_id": "cell-e54b386e855827b1",
     "locked": true,
     "points": 7,
     "schema_version": 3,
     "solution": false,
     "task": false
    },
    "tags": []
   },
   "outputs": [],
   "source": [
    "# TEST\n",
    "X = train_X[[3, 41495]] \n",
    "Z = deslant(X)\n",
    "\n",
    "canvas1 = 0.5 * np.ones((28, 28 + 2 + 28))\n",
    "canvas1[0:28, 0:28] = X[0].reshape(28, 28)\n",
    "canvas1[0:28, 28 + 2:28 + 2 + 28] = X[1].reshape(28, 28)\n",
    "canvas2 = 0.5 * np.ones((28, 28 + 2 + 28))\n",
    "canvas2[0:28, 0:28] = Z[0].reshape(28, 28)\n",
    "canvas2[0:28, 28 + 2:28 + 2 + 28] = Z[1].reshape(28, 28)\n",
    "plt.figure()\n",
    "plt.imshow(canvas1, cmap='gray', vmin=0, vmax=1)\n",
    "plt.title('Before deslant')\n",
    "plt.axis('off')\n",
    "plt.figure()\n",
    "plt.imshow(canvas2, cmap='gray', vmin=0, vmax=1)\n",
    "plt.title('After deslant')\n",
    "plt.axis('off')\n",
    "\n",
    "assert Z.shape == (2, 784)\n",
    "assert str(np.round(Z[0, 152], 4)) == '0.2447'\n",
    "assert str(np.round(Z[1, 605], 4)) == '0.0578'"
   ]
  },
  {
   "cell_type": "markdown",
   "id": "d8cfc366-4250-4bed-af19-c42c809aa3a8",
   "metadata": {},
   "source": [
    "Ở trên là ta test nhỏ nhỏ để có thể nhanh chóng kiếm tra tính đúng đắn của hàm `deslant`. Bây giờ, ta mới làm thật: gọi hàm `deslant` rồi gọi tiếp hàm `add_ones` để tiền xử lý `train_X`."
   ]
  },
  {
   "cell_type": "code",
   "execution_count": null,
   "id": "c129db1e-5a15-4b2c-a489-8186d26ff091",
   "metadata": {
    "tags": []
   },
   "outputs": [],
   "source": [
    "train_Z = add_ones(deslant(train_X))\n",
    "train_Z.shape"
   ]
  },
  {
   "cell_type": "markdown",
   "id": "0dce70a9-8d06-4235-8d52-898d11cfc288",
   "metadata": {},
   "source": [
    "## Tìm mô hình Softmax Regression từ dữ liệu huấn luyện"
   ]
  },
  {
   "cell_type": "code",
   "execution_count": null,
   "id": "ab3d5672-c6e5-49c9-99ee-b2d51052ddd9",
   "metadata": {
    "tags": []
   },
   "outputs": [],
   "source": [
    "W_4, train_ces = train_smreg(\n",
    "    train_Z, train_y, \n",
    "    initial_W=None, mb_size=32, lr=0.03, max_epoch=100, wanted_mbe=0)\n",
    "\n",
    "plt.plot(np.log(train_ces), color='green')\n",
    "plt.xlabel('Epoch')\n",
    "plt.ylabel('Log (for clarity) of training cross-entropy');"
   ]
  },
  {
   "cell_type": "markdown",
   "id": "d3dac548-342e-43cf-9e34-717f7cb43698",
   "metadata": {},
   "source": [
    "## Dùng mô hình Softmax Regression tìm được để dự đoán với dữ liệu huấn luyện và đánh giá kết quả"
   ]
  },
  {
   "cell_type": "code",
   "execution_count": null,
   "id": "484edd1f-ad2c-477f-9568-624a5bdaeeb2",
   "metadata": {
    "tags": []
   },
   "outputs": [],
   "source": [
    "predicted_train_y = compute_smreg_output(W_4, train_Z, return_prob=False)\n",
    "train_mbe = compute_mbe(predicted_train_y, train_y)\n",
    "assert str(np.round(train_mbe, 4)) == '4.7'"
   ]
  },
  {
   "cell_type": "markdown",
   "id": "da4c3d2e-ebd4-40a1-9275-49efd3dc5849",
   "metadata": {},
   "source": [
    "Độ lỗi MBE trên dữ liệu huấn luyện giảm từ 6.x% xuống 4.x%! Xuất sắc!"
   ]
  },
  {
   "cell_type": "markdown",
   "id": "c74ef03b-82a7-48a0-bd8b-4abacd1c22d9",
   "metadata": {},
   "source": [
    "## Tiền xử lý dữ liệu validation, dùng mô hình Softmax Regression tìm được để dự đoán với dữ liệu validation và đánh giá kết quả"
   ]
  },
  {
   "cell_type": "code",
   "execution_count": null,
   "id": "5c764d43-8e61-47af-8043-570d3f62556b",
   "metadata": {
    "tags": []
   },
   "outputs": [],
   "source": [
    "val_Z = add_ones(deslant(val_X))\n",
    "predicted_val_y = compute_smreg_output(W_4, val_Z, return_prob=False)\n",
    "val_mbe = compute_mbe(predicted_val_y, val_y)\n",
    "assert str(np.round(val_mbe, 4)) == '4.7'"
   ]
  },
  {
   "cell_type": "markdown",
   "id": "925aa142-e331-41f5-a514-a9631e402c0e",
   "metadata": {},
   "source": [
    "Độ lỗi MBE trên dữ liệu validation cũng giảm theo: từ 7.x% xuống 4.x%! Thật sự xuất sắc!"
   ]
  },
  {
   "cell_type": "markdown",
   "id": "931ca838-76da-4449-b6d3-4973b2049deb",
   "metadata": {},
   "source": [
    "## Chọn ra cách tiền xử lý + mô hình Softmax Regression sau cùng là cách tiền xử lý + mô hình Softmax Regression mà có độ lỗi dự đoán thấp nhất trên dữ liệu validation\n",
    "\n",
    "Như vậy, ta sẽ chọn cách tiền xử lý `add_ones(deslant(...))` và mô hình SoftmaxRegression có bộ trọng số `W_4`."
   ]
  },
  {
   "cell_type": "markdown",
   "id": "e83b9be2-a1dc-4961-b0ce-ec0f922b8e6b",
   "metadata": {},
   "source": [
    "## Dùng cách tiền xử lý + mô hình Softmax Regression sau cùng để đi thi thật!"
   ]
  },
  {
   "cell_type": "code",
   "execution_count": null,
   "id": "f3e224b8-197e-49de-ad53-78dd8a18a3fe",
   "metadata": {
    "tags": []
   },
   "outputs": [],
   "source": [
    "test_Z = add_ones(deslant(test_X))\n",
    "predicted_test_y = compute_smreg_output(W_4, test_Z, return_prob=False)\n",
    "test_mbe = compute_mbe(predicted_test_y, test_y)\n",
    "assert str(np.round(test_mbe, 4)) == '5.13'"
   ]
  }
 ],
 "metadata": {
  "kernelspec": {
   "display_name": "Python 3 (ipykernel)",
   "language": "python",
   "name": "python3"
  },
  "language_info": {
   "codemirror_mode": {
    "name": "ipython",
    "version": 3
   },
   "file_extension": ".py",
   "mimetype": "text/x-python",
   "name": "python",
   "nbconvert_exporter": "python",
   "pygments_lexer": "ipython3",
   "version": "3.11.7"
  }
 },
 "nbformat": 4,
 "nbformat_minor": 5
}
